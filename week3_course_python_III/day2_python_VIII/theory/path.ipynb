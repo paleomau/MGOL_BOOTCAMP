{
 "metadata": {
  "language_info": {
   "codemirror_mode": {
    "name": "ipython",
    "version": 3
   },
   "file_extension": ".py",
   "mimetype": "text/x-python",
   "name": "python",
   "nbconvert_exporter": "python",
   "pygments_lexer": "ipython3",
   "version": "3.7.4"
  },
  "orig_nbformat": 2,
  "kernelspec": {
   "name": "python374jvsc74a57bd0021d9f4f6a0c9e23e32c4246ac82593951ffad9baab3e58c0c69e8a8c06b339b",
   "display_name": "Python 3.7.4 64-bit"
  },
  "metadata": {
   "interpreter": {
    "hash": "021d9f4f6a0c9e23e32c4246ac82593951ffad9baab3e58c0c69e8a8c06b339b"
   }
  }
 },
 "nbformat": 4,
 "nbformat_minor": 2,
 "cells": [
  {
   "cell_type": "code",
   "execution_count": 1,
   "metadata": {},
   "outputs": [],
   "source": [
    "import os"
   ]
  },
  {
   "cell_type": "code",
   "execution_count": 2,
   "metadata": {},
   "outputs": [
    {
     "output_type": "stream",
     "name": "stdout",
     "text": [
      "d:\\MAURO\\CURSOS\\Master_The_Bridge\\Bridge_Python\\MGOL_BOOTCAMP\\week3_course_python_III\\day2_python_VIII\\theory\nd:\\MAURO\\CURSOS\\Master_The_Bridge\\Bridge_Python\\MGOL_BOOTCAMP\\week3_course_python_III\\day2_python_VIII\nd:\\MAURO\\CURSOS\\Master_The_Bridge\\Bridge_Python\\MGOL_BOOTCAMP\\week3_course_python_III\nd:\\MAURO\\CURSOS\\Master_The_Bridge\\Bridge_Python\\MGOL_BOOTCAMP\nd:\\MAURO\\CURSOS\\Master_The_Bridge\\Bridge_Python\nd:\\MAURO\\CURSOS\\Master_The_Bridge\n"
     ]
    },
    {
     "output_type": "execute_result",
     "data": {
      "text/plain": [
       "['d:\\\\MAURO\\\\CURSOS\\\\Master_The_Bridge\\\\Bridge_Python\\\\MGOL_BOOTCAMP\\\\week3_course_python_III\\\\day2_python_VIII\\\\theory',\n",
       " 'c:\\\\Users\\\\MAUCRO\\\\.vscode\\\\extensions\\\\ms-toolsai.jupyter-2021.5.745244803\\\\pythonFiles',\n",
       " 'c:\\\\Users\\\\MAUCRO\\\\.vscode\\\\extensions\\\\ms-toolsai.jupyter-2021.5.745244803\\\\pythonFiles',\n",
       " 'c:\\\\Users\\\\MAUCRO\\\\.vscode\\\\extensions\\\\ms-toolsai.jupyter-2021.5.745244803\\\\pythonFiles\\\\lib\\\\python',\n",
       " 'C:\\\\Users\\\\MAUCRO\\\\AppData\\\\Local\\\\Programs\\\\Python\\\\Python37\\\\python37.zip',\n",
       " 'C:\\\\Users\\\\MAUCRO\\\\AppData\\\\Local\\\\Programs\\\\Python\\\\Python37\\\\DLLs',\n",
       " 'C:\\\\Users\\\\MAUCRO\\\\AppData\\\\Local\\\\Programs\\\\Python\\\\Python37\\\\lib',\n",
       " 'C:\\\\Users\\\\MAUCRO\\\\AppData\\\\Local\\\\Programs\\\\Python\\\\Python37',\n",
       " '',\n",
       " 'C:\\\\Users\\\\MAUCRO\\\\AppData\\\\Roaming\\\\Python\\\\Python37\\\\site-packages',\n",
       " 'C:\\\\Users\\\\MAUCRO\\\\AppData\\\\Roaming\\\\Python\\\\Python37\\\\site-packages\\\\win32',\n",
       " 'C:\\\\Users\\\\MAUCRO\\\\AppData\\\\Roaming\\\\Python\\\\Python37\\\\site-packages\\\\win32\\\\lib',\n",
       " 'C:\\\\Users\\\\MAUCRO\\\\AppData\\\\Roaming\\\\Python\\\\Python37\\\\site-packages\\\\Pythonwin',\n",
       " 'C:\\\\Users\\\\MAUCRO\\\\AppData\\\\Local\\\\Programs\\\\Python\\\\Python37\\\\lib\\\\site-packages',\n",
       " 'C:\\\\Users\\\\MAUCRO\\\\AppData\\\\Roaming\\\\Python\\\\Python37\\\\site-packages\\\\IPython\\\\extensions',\n",
       " 'C:\\\\Users\\\\MAUCRO\\\\.ipython',\n",
       " 'd:\\\\MAURO\\\\CURSOS\\\\Master_The_Bridge']"
      ]
     },
     "metadata": {},
     "execution_count": 2
    }
   ],
   "source": [
    "ruta = os.getcwd()\n",
    "print(ruta)\n",
    "for i in range(5):\n",
    "    ruta = os.path.dirname(ruta)\n",
    "    print(ruta)\n",
    "sys.path.append(ruta)\n",
    "sys.path"
   ]
  },
  {
   "cell_type": "code",
   "execution_count": null,
   "metadata": {},
   "outputs": [],
   "source": []
  }
 ]
}