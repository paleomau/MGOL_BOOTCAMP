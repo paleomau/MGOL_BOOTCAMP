{
 "metadata": {
  "language_info": {
   "codemirror_mode": {
    "name": "ipython",
    "version": 3
   },
   "file_extension": ".py",
   "mimetype": "text/x-python",
   "name": "python",
   "nbconvert_exporter": "python",
   "pygments_lexer": "ipython3",
   "version": "3.7.4"
  },
  "orig_nbformat": 2,
  "kernelspec": {
   "name": "python374jvsc74a57bd0021d9f4f6a0c9e23e32c4246ac82593951ffad9baab3e58c0c69e8a8c06b339b",
   "display_name": "Python 3.7.4 64-bit"
  },
  "metadata": {
   "interpreter": {
    "hash": "021d9f4f6a0c9e23e32c4246ac82593951ffad9baab3e58c0c69e8a8c06b339b"
   }
  }
 },
 "nbformat": 4,
 "nbformat_minor": 2,
 "cells": [
  {
   "source": [
    "## 1\n",
    "\n",
    "Crea un archivo 'ClaseHumano.py' en la carpeta 'objects' que contenga una clase:\n",
    "\n",
    "* 'Humano' que tiene:\n",
    "    - Un atributo 'ojos' que por defecto es 2\n",
    "    - Un atributo 'piernas' que por defecto es 2\n",
    "    - Un atributo 'dientes' que por defecto es 32\n",
    "    - Un atributo 'nombre'\n",
    "    - Un atributo 'armadura' \n",
    "    - Un atributo 'nivel' \n",
    "    - Un atributo 'ataque'\n",
    "    - Un atributo 'salud' que por defecto es 100\n",
    "    - Una función  llamada 'atacar' que recibe un argumento 'orco' que representa otra clase ('Orco'). Esta función resta a la vida del 'Orco' el ataque de 'Humano' menos la armadura de 'Orco'. Al final, muestra por pantalla la vida del 'Orco'\n",
    "    - Una función no_vivo que retorna True si la vida del 'Humano' es igual o inferior a 0, False en otro caso.\n",
    "    - Una función que muestre por pantalla todos los atributos actuales de 'Humano' concatenados con un String representando el nombre del atributo que se muestra. Ejemplo: \"Nombre: Ataulfo | dientes: 32 | salud: 100 | ...\"\n",
    "\n",
    "Crea un archivo 'ClaseOrco.py' en la carpeta 'objects' que contenga una clase:\n",
    "\n",
    "* 'Orco' que tiene:\n",
    "    - Un atributo 'ojos' que por defecto es 2\n",
    "    - Un atributo 'piernas' que por defecto es 2\n",
    "    - Un atributo 'dientes' que por defecto es 56\n",
    "    - Un atributo 'nombre'\n",
    "    - Un atributo 'armadura' \n",
    "    - Un atributo 'nivel' \n",
    "    - Un atributo 'ataque'\n",
    "    - Un atributo 'salud' que por defecto es 100\n",
    "    - Una función  llamada 'atacar' que recibe un argumento 'humano' que representa otra clase ('Humano'). Esta función resta a la vida del 'Humano' el ataque de 'Orco' menos la armadura de 'Humano'. Al final, muestra por pantalla la vida del 'Humano'\n",
    "    - Una función no_vivo que retorna True si la vida del 'Humano' es igual o inferior a 0, False en otro caso.\n",
    "    - Una función que muestre por pantalla todos los atributos actuales de 'Orco' concatenados con un String representando el nombre del atributo que se muestra. Ejemplo: \"Nombre: Graug | dientes: 56 | salud: 100 | ...\"   "
   ],
   "cell_type": "markdown",
   "metadata": {}
  },
  {
   "source": [
    "## 2\n",
    "\n",
    "Desde aquí, importa las clases del ejercicio 1 (tendrás que utilizar sys.path para poder importar los archivos/módulos/librerías/ficheros). Crea una instancia de Humano/a y otra de Orco/a:\n",
    "\n",
    "* La clase Humano/a ha de inicializarse con los siguientes valores:\n",
    "    - nombre: tu nombre\n",
    "    - nivel: tu edad\n",
    "    - armadura: un número Entero que sea un décimo de tu nivel redondeado hacia abajo\n",
    "    - ataque: un número Entero que sea un quinto de tu nivel redondeado hacia abajo\n",
    "    - Todo lo demás por defecto.\n",
    "\n",
    "* La clase Orco/a ha de inicializarse con los siguientes valores:\n",
    "    - nombre: el nombre de tu compañero/a\n",
    "    - nivel: su edad\n",
    "    - armadura: un número Entero que sea un quinceavo de su nivel redondeado hacia arriba\n",
    "    - ataque: un número Entero que sea un sexto de su nivel redondeado hacia arriba\n",
    "    - Todo lo demás por defecto.\n"
   ],
   "cell_type": "markdown",
   "metadata": {}
  },
  {
   "cell_type": "code",
   "execution_count": 19,
   "metadata": {},
   "outputs": [
    {
     "output_type": "stream",
     "name": "stdout",
     "text": [
      "d:\\MAURO\\CURSOS\\Master_The_Bridge\\Bridge_Python\\MGOL_BOOTCAMP\\week3_course_python_III\\day2_python_VIII\\exercises\\classes_import\n"
     ]
    }
   ],
   "source": [
    "# Tu código aquí\n",
    "import sys, os, math\n",
    "\n",
    "ruta = os.getcwd()\n",
    "\n",
    "ruta = os.path.dirname(ruta)\n",
    "print(ruta)\n",
    "sys.path.append(ruta)\n",
    "\n",
    "from objects.ClaseOrco import Orco\n",
    "from objects.ClaseHumano import Humano\n",
    "\n",
    "\n",
    "Instancia_Humano = Humano(nombre = 'Mauro', armadura = 45//10, nivel = 45, ataque = 45//5)\n",
    "\n",
    "Instancia_Orco = Orco(nombre =\"José\", nivel=28, armadura=math.ceil(28/15), ataque=math.ceil(28/6))"
   ]
  },
  {
   "source": [
    "## 3\n",
    "\n",
    "Crea un bucle infinito que espere en cada turno(Iteración) 1 segundo. Para ello has de utilizar la función 'sleep(1)' de la librería time. En cada uno de los turnos debe ocurrir lo siguiente:\n",
    "\n",
    "- Que se muestre por pantalla el número del turno que se lleva empezando desde 1.  \n",
    "- Que se ataquen las instancias. Para ello, has de llamar a la función 'atacar' de cada una de las instancias.\n",
    "- Comprobar si una instancia no está viva con la función correspondiente. Si una instancia no está viva, mostrar por pantalla que una de ellas ha perdido y la otra ha ganado. Terminar el juego aquí.\n",
    "- Mostrar al finalizar el turno una barra divisoria para diferenciar un turno del siguiente.\n",
    "\n",
    "Hay que tener en cuenta: \n",
    "\n",
    "- Una instancia no puede atacar a la otra si no está viva.\n",
    "- Empieza primero la instancia que tiene menos nivel."
   ],
   "cell_type": "markdown",
   "metadata": {}
  },
  {
   "cell_type": "code",
   "execution_count": 20,
   "metadata": {},
   "outputs": [
    {
     "output_type": "stream",
     "name": "stdout",
     "text": [
      "Turno 1\n100\n---------\n93\n-------------\nTurno 2\n99\n---------\n86\n-------------\nTurno 3\n98\n---------\n79\n-------------\nTurno 4\n97\n---------\n72\n-------------\nTurno 5\n96\n---------\n65\n-------------\nTurno 6\n95\n---------\n58\n-------------\nTurno 7\n94\n---------\n51\n-------------\nTurno 8\n93\n---------\n44\n-------------\nTurno 9\n92\n---------\n37\n-------------\nTurno 10\n91\n---------\n30\n-------------\nTurno 11\n90\n---------\n23\n-------------\nTurno 12\n89\n---------\n16\n-------------\nTurno 13\n88\n---------\n9\n-------------\nTurno 14\n87\n---------\n2\n-------------\nTurno 15\n86\n---------\nJose ha perecido\n"
     ]
    }
   ],
   "source": [
    "# Tu código aquí\n",
    "import time\n",
    "turno = 1\n",
    "b = True\n",
    "while b:\n",
    "    print('Turno', turno)\n",
    "    if Instancia_Humano.salud >0:\n",
    "        Instancia_Humano.f_atacar(Orco = Instancia_Orco)\n",
    "        print(Instancia_Humano.salud)\n",
    "        print('---------')\n",
    "        \n",
    "    else:\n",
    "        print('Mauro ha perecido')\n",
    "        b = False\n",
    "    if Instancia_Orco.salud > 0:\n",
    "        Instancia_Orco.f_atacar(Humano= Instancia_Humano)\n",
    "        print(Instancia_Orco.salud)\n",
    "        print('-------------')\n",
    "        \n",
    "    else:\n",
    "        print('Jose ha perecido')\n",
    "        b = False\n",
    "    \n",
    "    turno = turno +1    \n",
    "\n",
    "\n"
   ]
  },
  {
   "cell_type": "code",
   "execution_count": null,
   "metadata": {},
   "outputs": [],
   "source": []
  }
 ]
}