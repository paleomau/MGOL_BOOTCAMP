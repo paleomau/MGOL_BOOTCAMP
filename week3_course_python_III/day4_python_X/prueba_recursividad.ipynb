{
 "metadata": {
  "language_info": {
   "codemirror_mode": {
    "name": "ipython",
    "version": 3
   },
   "file_extension": ".py",
   "mimetype": "text/x-python",
   "name": "python",
   "nbconvert_exporter": "python",
   "pygments_lexer": "ipython3",
   "version": "3.7.4"
  },
  "orig_nbformat": 2,
  "kernelspec": {
   "name": "python374jvsc74a57bd0021d9f4f6a0c9e23e32c4246ac82593951ffad9baab3e58c0c69e8a8c06b339b",
   "display_name": "Python 3.7.4 64-bit"
  },
  "metadata": {
   "interpreter": {
    "hash": "021d9f4f6a0c9e23e32c4246ac82593951ffad9baab3e58c0c69e8a8c06b339b"
   }
  }
 },
 "nbformat": 4,
 "nbformat_minor": 2,
 "cells": [
  {
   "cell_type": "code",
   "execution_count": null,
   "metadata": {},
   "outputs": [],
   "source": [
    "def factorial(x):\n",
    "    f = x*(x-1)\n",
    "    factorial(f)\n",
    "    return(f)\n",
    "    if f <1:\n",
    "        return(f)\n",
    "factorial(5)"
   ]
  },
  {
   "cell_type": "code",
   "execution_count": null,
   "metadata": {},
   "outputs": [],
   "source": [
    "class Humano:\n",
    "\n",
    "    # función constructor\n",
    "    def __init__(self, ojos = 2, piernas = 2, dientes = 32, nombre, armadura, nivel, ataque, salud = 100):\n",
    "        # nombre del atributo de la clase Humano <-- --> valor\n",
    "        self.ojos = ojos\n",
    "        self.piernas = piernas\n",
    "        self.dientes = dientes\n",
    "        self.nombre = nombre\n",
    "        self.armadura = armadura\n",
    "        self.nivel = nivel\n",
    "        self.ataque = ataque\n",
    "        self.salud = salud\n",
    "\n",
    "    def f_atacar(self, Orco=jose):\n",
    "        Orco.salud -= self.ataque - Orco.armadura\n",
    "\n",
    "\n",
    "    def f_no_vivo(self):\n",
    "        if self.salud <= 0:\n",
    "            return True\n",
    "        else:\n",
    "            return False\n",
    "\n",
    "    def f_atributos(self):\n",
    "        print(Mauro.nombre)\n",
    "        print(Mauro.salud) \n",
    "        print(Mauro.armadura)\n",
    "       \n",
    "\n",
    "Mauro = Humano(nombre = \"Mauro\", nivel=20, armadura=25, ataque=20)\n",
    "\n",
    "jose = Orco(nombre='José', nivel=28, armadura=math.ceil(28/15), ataque=math.ceil(28/6))"
   ]
  },
  {
   "cell_type": "code",
   "execution_count": null,
   "metadata": {},
   "outputs": [],
   "source": []
  }
 ]
}