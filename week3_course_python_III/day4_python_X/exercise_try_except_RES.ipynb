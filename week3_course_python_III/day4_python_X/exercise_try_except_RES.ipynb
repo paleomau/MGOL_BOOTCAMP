{
 "cells": [
  {
   "cell_type": "markdown",
   "metadata": {},
   "source": [
    "# Python | try&except"
   ]
  },
  {
   "cell_type": "markdown",
   "metadata": {},
   "source": [
    "Python uses try and except to handle errors gracefully. A graceful exit (or graceful handling) of errors is a simple programming idiom - a program detects a serious error condition and \"exits gracefully\", in a controlled manner as a result. Often the program prints a descriptive error message to a terminal or log as part of the graceful exit, this makes our application more robust. The cause of an exception is often external to the program itself. An example of exceptions could be an incorrect input, wrong file name, unable to find a file, a malfunctioning IO device. Graceful handling of errors prevents our applications from crashing."
   ]
  },
  {
   "cell_type": "markdown",
   "metadata": {},
   "source": [
    "```python\n",
    "try:\n",
    "    code in this block if things go well\n",
    "except:\n",
    "    code in this block run if things go wrong\n",
    "```"
   ]
  },
  {
   "cell_type": "markdown",
   "metadata": {},
   "source": [
    "### Exercise 1. \n"
   ]
  },
  {
   "cell_type": "markdown",
   "metadata": {},
   "source": [
    "1. In the 4 cells below, modify the code to catch the error and print a meaningful message that will alert the user what went wrong. You may catch the error using a general except or a specific except for the error caused by the code."
   ]
  },
  {
   "cell_type": "code",
   "execution_count": 12,
   "metadata": {},
   "outputs": [
    {
     "name": "stdout",
     "output_type": "stream",
     "text": [
      "name 'some_string' is not defined: No has definido la función\n"
     ]
    }
   ],
   "source": [
    "# Modify the code below:\n",
    "\n",
    "try:\n",
    "    print(some_string)\n",
    "except NameError as e:\n",
    "    print(f\"{e}: No has definido la función\")"
   ]
  },
  {
   "cell_type": "code",
   "execution_count": 13,
   "metadata": {},
   "outputs": [
    {
     "name": "stdout",
     "output_type": "stream",
     "text": [
      "unsupported operand type(s) for ** or pow(): 'str' and 'int': Tienes que usar Str y Int\n"
     ]
    }
   ],
   "source": [
    "# Modify the code below:\n",
    "\n",
    "try:\n",
    "    for i in ['a','b','c']:\n",
    "        print (i**2)\n",
    "except TypeError as e:\n",
    "    print(f\"{e}: Tienes que usar Str y Int\")"
   ]
  },
  {
   "cell_type": "code",
   "execution_count": 14,
   "metadata": {},
   "outputs": [
    {
     "name": "stdout",
     "output_type": "stream",
     "text": [
      "division by zero: No se puede dividir entre cero\n"
     ]
    }
   ],
   "source": [
    "# Modify the code below:\n",
    "\n",
    "try:\n",
    "    x = 5\n",
    "    y = 0\n",
    "\n",
    "    z = x/y\n",
    "except ZeroDivisionError as e:\n",
    "    print(f\"{e}: No se puede dividir entre cero\")"
   ]
  },
  {
   "cell_type": "code",
   "execution_count": 15,
   "metadata": {},
   "outputs": [
    {
     "name": "stdout",
     "output_type": "stream",
     "text": [
      "list index out of range: Te has pasado con los índices, no hay tanto elementos en la lista\n"
     ]
    }
   ],
   "source": [
    "# Modify the code below:\n",
    "\n",
    "try:\n",
    "    abc=[10,20,20]\n",
    "    print(abc[3])\n",
    "except IndexError as e:\n",
    "    print(f\"{e}: Te has pasado con los índices, no hay tanto elementos en la lista\")"
   ]
  },
  {
   "cell_type": "markdown",
   "metadata": {},
   "source": [
    "### Exercise 2. "
   ]
  },
  {
   "cell_type": "markdown",
   "metadata": {},
   "source": [
    "In the 3 cells below, add an if statement that will handle both types of input allowed in the functions."
   ]
  },
  {
   "cell_type": "code",
   "execution_count": 19,
   "metadata": {},
   "outputs": [
    {
     "data": {
      "text/plain": [
       "2.0"
      ]
     },
     "execution_count": 19,
     "metadata": {},
     "output_type": "execute_result"
    }
   ],
   "source": [
    "import math # import a library called math with functions, like sqrt() \n",
    "# Modify the code below to handle positive and negative numbers by adding an if statement and performing a transformation:\n",
    "\n",
    "def sqrt_for_all(x):\n",
    "    '''\n",
    "    This function will take any real number and return the square root of its magnitude\n",
    "    Input: real number\n",
    "    Output: real number\n",
    "    \n",
    "    Sample Input: -4\n",
    "    Sample Output: 2.0\n",
    "    '''\n",
    "    if x >= 0:\n",
    "        return math.sqrt(x)\n",
    "    else:\n",
    "        return math.sqrt(abs(x))\n",
    "    \n",
    "sqrt_for_all(-4)"
   ]
  },
  {
   "cell_type": "code",
   "execution_count": 20,
   "metadata": {},
   "outputs": [
    {
     "data": {
      "text/plain": [
       "5.0"
      ]
     },
     "execution_count": 20,
     "metadata": {},
     "output_type": "execute_result"
    }
   ],
   "source": [
    "# Modify the code below to handle zero as well. In the case of zero, return zero\n",
    "\n",
    "def divide(x, y):\n",
    "    '''\n",
    "    This function will take any two real numbers and return their quotient. If the denominator is zero, we return zero\n",
    "    Input: real number\n",
    "    Output: real number\n",
    "    \n",
    "    Sample Input: 5, 1\n",
    "    Sample Output: 5.0\n",
    "    '''\n",
    "    if y != 0:\n",
    "        return x / y \n",
    "    else:\n",
    "        return 0\n",
    "\n",
    "    \n",
    "divide(5, 1)"
   ]
  },
  {
   "cell_type": "code",
   "execution_count": 21,
   "metadata": {},
   "outputs": [
    {
     "data": {
      "text/plain": [
       "11"
      ]
     },
     "execution_count": 21,
     "metadata": {},
     "output_type": "execute_result"
    }
   ],
   "source": [
    "# Modify the function below that it will take either an number and a list or two numbers. \n",
    "# If we take two numbers, add them together and return a list of length 1. \n",
    "# Otherwise, add the number to every element of the list and return the resulting list\n",
    "\n",
    "def add_elements(a, l):\n",
    "    '''\n",
    "    This function takes either two numbers or a list and a number and adds the number to all elements of the list\n",
    "    If the function only takes two numbers, it returns a list of length one that is the sum of the numbers\n",
    "\n",
    "    Input: number and list or two numbers\n",
    "    Output: list\n",
    "    \n",
    "    Sample Input: 5, 6\n",
    "    Sample Output: [11]\n",
    "    '''\n",
    "    if type(l)==int:\n",
    "        return (a+l)\n",
    "    else:\n",
    "        return [a + element for element in l] \n",
    "\n",
    "add_elements(5, 6)"
   ]
  },
  {
   "cell_type": "markdown",
   "metadata": {},
   "source": [
    "### Exercise 3. \n",
    "\n",
    "Write a function that asks for an integer and prints the square of it. Keep checking while the function gets an integer.\n",
    "\n",
    "Use a `while` loop with a `try/except` block to account for incorrect inputs."
   ]
  },
  {
   "cell_type": "code",
   "execution_count": 4,
   "metadata": {},
   "outputs": [
    {
     "name": "stdout",
     "output_type": "stream",
     "text": [
      "Type your number! Gus\n",
      "What?! Gus ain't a number!!\n",
      "Where is my number? I want my number!\n",
      "I've asked you 1 times already!!\n",
      "\n",
      "Type your number! Gary\n",
      "What?! Gary ain't a number!!\n",
      "Where is my number? I want my number!\n",
      "I've asked you 2 times already!!\n",
      "\n",
      "Type your number! Ber\n",
      "What?! Ber ain't a number!!\n",
      "Where is my number? I want my number!\n",
      "I've asked you 3 times already!!\n",
      "\n",
      "Type your number! 5\n",
      "25\n"
     ]
    }
   ],
   "source": [
    "def while_ask ():\n",
    "\n",
    "    choice = input('Type your number! ')\n",
    "    a = 1                               # This is just for giggles\n",
    "    while type(choice) != int:\n",
    "        try:\n",
    "            choice = int(choice)\n",
    "        \n",
    "        except:\n",
    "            a += 1\n",
    "            print(f\"What?! {choice} ain't a number!!\")\n",
    "            print('Where is my number? I want my number!')\n",
    "            print(f\"I've asked you {a - 1} times already!!\\n\")\n",
    "            choice = input('Type your number! ')\n",
    "            \n",
    "    print(choice ** 2)\n",
    "\n",
    "while_ask()"
   ]
  },
  {
   "cell_type": "markdown",
   "metadata": {},
   "source": [
    "### Bonus track.\n",
    "\n",
    "1. Solve this kata in **codewars**.\n",
    "\n",
    "https://www.codewars.com/kata/560fbc2d636966b21e00009e"
   ]
  },
  {
   "cell_type": "code",
   "execution_count": null,
   "metadata": {},
   "outputs": [],
   "source": [
    "# si te diera la solución sería trampa"
   ]
  },
  {
   "cell_type": "markdown",
   "metadata": {},
   "source": [
    "2. Make a program using `while` that generates a **deck of cards** of 4 different suits. The deck must have 40 cards.\n",
    "\n",
    "   Develop the program in a `.py` file that will be run through the terminal. \n",
    "\n",
    "   Then, import the module to this notebook and show the deck you've generated below"
   ]
  },
  {
   "cell_type": "code",
   "execution_count": 5,
   "metadata": {},
   "outputs": [],
   "source": [
    "def deck_generator ():\n",
    "    \"\"\"\n",
    "    This function generates a 40 card deck of 4 suits and 2 colors. Then returns it in list form.\n",
    "    \"\"\"\n",
    "    colors = ['red', 'black']\n",
    "    types = ['A', 'K', 'Q', 'J', 7, 6, 5, 4, 3, 2]\n",
    "    suits = ['Spades', 'Hearts', 'Diamonds', 'Clovers']\n",
    "\n",
    "    deck = []\n",
    "    \n",
    "    while len(deck) < 40:\n",
    "        for c in colors:\n",
    "            for t in types:\n",
    "                for s in suits:\n",
    "                    card = f'{c} {str(t)} of {s}'\n",
    "                    deck.append(card)\n",
    "\n",
    "    print(f'Generated deck of {len(colors)} colors, {len(types)} types of cards and {len(suits)} suits.')               \n",
    "    return deck"
   ]
  },
  {
   "cell_type": "code",
   "execution_count": 6,
   "metadata": {
    "tags": []
   },
   "outputs": [
    {
     "name": "stdout",
     "output_type": "stream",
     "text": [
      "Generated deck of 2 colors, 10 types of cards and 4 suits.\n"
     ]
    }
   ],
   "source": [
    "deck = deck_generator()"
   ]
  },
  {
   "cell_type": "code",
   "execution_count": 7,
   "metadata": {},
   "outputs": [
    {
     "data": {
      "text/plain": [
       "['red A of Spades',\n",
       " 'red A of Hearts',\n",
       " 'red A of Diamonds',\n",
       " 'red A of Clovers',\n",
       " 'red K of Spades',\n",
       " 'red K of Hearts',\n",
       " 'red K of Diamonds',\n",
       " 'red K of Clovers',\n",
       " 'red Q of Spades',\n",
       " 'red Q of Hearts',\n",
       " 'red Q of Diamonds',\n",
       " 'red Q of Clovers',\n",
       " 'red J of Spades',\n",
       " 'red J of Hearts',\n",
       " 'red J of Diamonds',\n",
       " 'red J of Clovers',\n",
       " 'red 7 of Spades',\n",
       " 'red 7 of Hearts',\n",
       " 'red 7 of Diamonds',\n",
       " 'red 7 of Clovers',\n",
       " 'red 6 of Spades',\n",
       " 'red 6 of Hearts',\n",
       " 'red 6 of Diamonds',\n",
       " 'red 6 of Clovers',\n",
       " 'red 5 of Spades',\n",
       " 'red 5 of Hearts',\n",
       " 'red 5 of Diamonds',\n",
       " 'red 5 of Clovers',\n",
       " 'red 4 of Spades',\n",
       " 'red 4 of Hearts',\n",
       " 'red 4 of Diamonds',\n",
       " 'red 4 of Clovers',\n",
       " 'red 3 of Spades',\n",
       " 'red 3 of Hearts',\n",
       " 'red 3 of Diamonds',\n",
       " 'red 3 of Clovers',\n",
       " 'red 2 of Spades',\n",
       " 'red 2 of Hearts',\n",
       " 'red 2 of Diamonds',\n",
       " 'red 2 of Clovers',\n",
       " 'black A of Spades',\n",
       " 'black A of Hearts',\n",
       " 'black A of Diamonds',\n",
       " 'black A of Clovers',\n",
       " 'black K of Spades',\n",
       " 'black K of Hearts',\n",
       " 'black K of Diamonds',\n",
       " 'black K of Clovers',\n",
       " 'black Q of Spades',\n",
       " 'black Q of Hearts',\n",
       " 'black Q of Diamonds',\n",
       " 'black Q of Clovers',\n",
       " 'black J of Spades',\n",
       " 'black J of Hearts',\n",
       " 'black J of Diamonds',\n",
       " 'black J of Clovers',\n",
       " 'black 7 of Spades',\n",
       " 'black 7 of Hearts',\n",
       " 'black 7 of Diamonds',\n",
       " 'black 7 of Clovers',\n",
       " 'black 6 of Spades',\n",
       " 'black 6 of Hearts',\n",
       " 'black 6 of Diamonds',\n",
       " 'black 6 of Clovers',\n",
       " 'black 5 of Spades',\n",
       " 'black 5 of Hearts',\n",
       " 'black 5 of Diamonds',\n",
       " 'black 5 of Clovers',\n",
       " 'black 4 of Spades',\n",
       " 'black 4 of Hearts',\n",
       " 'black 4 of Diamonds',\n",
       " 'black 4 of Clovers',\n",
       " 'black 3 of Spades',\n",
       " 'black 3 of Hearts',\n",
       " 'black 3 of Diamonds',\n",
       " 'black 3 of Clovers',\n",
       " 'black 2 of Spades',\n",
       " 'black 2 of Hearts',\n",
       " 'black 2 of Diamonds',\n",
       " 'black 2 of Clovers']"
      ]
     },
     "execution_count": 7,
     "metadata": {},
     "output_type": "execute_result"
    }
   ],
   "source": [
    "deck"
   ]
  },
  {
   "cell_type": "markdown",
   "metadata": {},
   "source": [
    "![\"lol\"](https://i.pinimg.com/originals/34/b2/ad/34b2ad1c370539fba5ed9422711cad7b.png)"
   ]
  },
  {
   "cell_type": "code",
   "execution_count": null,
   "metadata": {},
   "outputs": [],
   "source": []
  }
 ],
 "metadata": {
  "kernelspec": {
   "display_name": "Python 3",
   "language": "python",
   "name": "python3"
  },
  "language_info": {
   "codemirror_mode": {
    "name": "ipython",
    "version": 3
   },
   "file_extension": ".py",
   "mimetype": "text/x-python",
   "name": "python",
   "nbconvert_exporter": "python",
   "pygments_lexer": "ipython3",
   "version": "3.8.3"
  }
 },
 "nbformat": 4,
 "nbformat_minor": 4
}
