{
 "metadata": {
  "language_info": {
   "codemirror_mode": {
    "name": "ipython",
    "version": 3
   },
   "file_extension": ".py",
   "mimetype": "text/x-python",
   "name": "python",
   "nbconvert_exporter": "python",
   "pygments_lexer": "ipython3",
   "version": "3.7.4"
  },
  "orig_nbformat": 2,
  "kernelspec": {
   "name": "python374jvsc74a57bd0021d9f4f6a0c9e23e32c4246ac82593951ffad9baab3e58c0c69e8a8c06b339b",
   "display_name": "Python 3.7.4 64-bit"
  },
  "metadata": {
   "interpreter": {
    "hash": "021d9f4f6a0c9e23e32c4246ac82593951ffad9baab3e58c0c69e8a8c06b339b"
   }
  }
 },
 "nbformat": 4,
 "nbformat_minor": 2,
 "cells": [
  {
   "source": [
    "#### Para escribir a un archivo un json"
   ],
   "cell_type": "markdown",
   "metadata": {}
  },
  {
   "cell_type": "code",
   "execution_count": 7,
   "metadata": {},
   "outputs": [],
   "source": [
    "import requests\n",
    "import json\n",
    "import pandas as pd"
   ]
  },
  {
   "cell_type": "code",
   "execution_count": 8,
   "metadata": {},
   "outputs": [],
   "source": [
    "nombre_archivo = \"pepito_ataulfo.json\"\n",
    "\n",
    "mi_diccionario = {\"clave\": 2, \n",
    "                  \"otra_clave\": 3, \n",
    "                  515:[1,3,4,5,6,7,8,2], \n",
    "                  \"DICT\":{\"clave_pequena\": \"valor_pequeño\"}}\n",
    "\n",
    "with open(nombre_archivo, 'w+') as outfile:\n",
    "    json.dump(mi_diccionario, outfile, indent=4)"
   ]
  },
  {
   "source": [
    "#### Para sobreescribir un archivo  (si se requiere)"
   ],
   "cell_type": "markdown",
   "metadata": {}
  },
  {
   "cell_type": "code",
   "execution_count": 9,
   "metadata": {},
   "outputs": [],
   "source": [
    "with open(nombre_archivo, 'a+', encoding='latin1') as outfile:\n",
    "    json.dump(mi_diccionario, outfile, indent=4)"
   ]
  },
  {
   "source": [
    "#### Para leer un archivo json\n"
   ],
   "cell_type": "markdown",
   "metadata": {}
  },
  {
   "cell_type": "code",
   "execution_count": 10,
   "metadata": {},
   "outputs": [
    {
     "output_type": "stream",
     "name": "stdout",
     "text": [
      "<class 'dict'>\n"
     ]
    },
    {
     "output_type": "execute_result",
     "data": {
      "text/plain": [
       "{'squadName': 'Super Hero Squad',\n",
       " 'homeTown': 'Metro City',\n",
       " 'formed': 2016,\n",
       " 'secretBase': 'Super tower',\n",
       " 'active': True,\n",
       " 'members': [{'name': 'Molecule Man',\n",
       "   'age': 29,\n",
       "   'secretIdentity': 'Dan Jukes',\n",
       "   'powers': ['Radiation resistance', 'Turning tiny', 'Radiation blast']},\n",
       "  {'name': 'Madame Uppercut',\n",
       "   'age': 39,\n",
       "   'secretIdentity': 'Jane Wilson',\n",
       "   'powers': ['Million tonne punch',\n",
       "    'Damage resistance',\n",
       "    'Superhuman reflexes']},\n",
       "  {'name': 'Eternal Flame',\n",
       "   'age': 1000000,\n",
       "   'secretIdentity': 'Unknown',\n",
       "   'powers': ['Immortality',\n",
       "    'Heat Immunity',\n",
       "    'Inferno',\n",
       "    'Teleportation',\n",
       "    'Interdimensional travel']}]}"
      ]
     },
     "metadata": {},
     "execution_count": 10
    }
   ],
   "source": [
    "import json\n",
    "with open('data_indented.json', 'r+') as outfile:\n",
    "    json_data_indented_readed = json.load(outfile)\n",
    "\n",
    "print(type(json_data_indented_readed))\n",
    "json_data_indented_readed"
   ]
  },
  {
   "cell_type": "code",
   "execution_count": 11,
   "metadata": {},
   "outputs": [
    {
     "output_type": "execute_result",
     "data": {
      "text/plain": [
       "[{'name': 'Molecule Man',\n",
       "  'age': 29,\n",
       "  'secretIdentity': 'Dan Jukes',\n",
       "  'powers': ['Radiation resistance', 'Turning tiny', 'Radiation blast']},\n",
       " {'name': 'Madame Uppercut',\n",
       "  'age': 39,\n",
       "  'secretIdentity': 'Jane Wilson',\n",
       "  'powers': ['Million tonne punch',\n",
       "   'Damage resistance',\n",
       "   'Superhuman reflexes']},\n",
       " {'name': 'Eternal Flame',\n",
       "  'age': 1000000,\n",
       "  'secretIdentity': 'Unknown',\n",
       "  'powers': ['Immortality',\n",
       "   'Heat Immunity',\n",
       "   'Inferno',\n",
       "   'Teleportation',\n",
       "   'Interdimensional travel']}]"
      ]
     },
     "metadata": {},
     "execution_count": 11
    }
   ],
   "source": [
    "json_data_indented_readed[\"members\"]"
   ]
  },
  {
   "cell_type": "code",
   "execution_count": 13,
   "metadata": {},
   "outputs": [
    {
     "output_type": "stream",
     "name": "stdout",
     "text": [
      "{\"name\": \"Molecule Man\", \"age\": 29, \"secretIdentity\": \"Dan Jukes\", \"powers\": [\"Radiation resistance\", \"Turning tiny\", \"Radiation blast\"]}\n-----------\n{'name': 'Molecule Man', 'age': 29, 'secretIdentity': 'Dan Jukes', 'powers': ['Radiation resistance', 'Turning tiny', 'Radiation blast']}\n\n##############################\n\n{\"name\": \"Madame Uppercut\", \"age\": 39, \"secretIdentity\": \"Jane Wilson\", \"powers\": [\"Million tonne punch\", \"Damage resistance\", \"Superhuman reflexes\"]}\n-----------\n{'name': 'Madame Uppercut', 'age': 39, 'secretIdentity': 'Jane Wilson', 'powers': ['Million tonne punch', 'Damage resistance', 'Superhuman reflexes']}\n\n##############################\n\n{\"name\": \"Eternal Flame\", \"age\": 1000000, \"secretIdentity\": \"Unknown\", \"powers\": [\"Immortality\", \"Heat Immunity\", \"Inferno\", \"Teleportation\", \"Interdimensional travel\"]}\n-----------\n{'name': 'Eternal Flame', 'age': 1000000, 'secretIdentity': 'Unknown', 'powers': ['Immortality', 'Heat Immunity', 'Inferno', 'Teleportation', 'Interdimensional travel']}\n\n##############################\n\n"
     ]
    },
    {
     "output_type": "error",
     "ename": "NameError",
     "evalue": "name 'mini_json_readed' is not defined",
     "traceback": [
      "\u001b[1;31m---------------------------------------------------------------------------\u001b[0m",
      "\u001b[1;31mNameError\u001b[0m                                 Traceback (most recent call last)",
      "\u001b[1;32m<ipython-input-13-435da0ef39b8>\u001b[0m in \u001b[0;36m<module>\u001b[1;34m\u001b[0m\n\u001b[0;32m     10\u001b[0m     \u001b[0mprint\u001b[0m\u001b[1;33m(\u001b[0m\u001b[1;34m\"\\n##############################\\n\"\u001b[0m\u001b[1;33m)\u001b[0m\u001b[1;33m\u001b[0m\u001b[1;33m\u001b[0m\u001b[0m\n\u001b[0;32m     11\u001b[0m \u001b[1;33m\u001b[0m\u001b[0m\n\u001b[1;32m---> 12\u001b[1;33m \u001b[0mprint\u001b[0m\u001b[1;33m(\u001b[0m\u001b[0mtype\u001b[0m\u001b[1;33m(\u001b[0m\u001b[0mmini_json_readed\u001b[0m\u001b[1;33m)\u001b[0m\u001b[1;33m)\u001b[0m\u001b[1;33m\u001b[0m\u001b[1;33m\u001b[0m\u001b[0m\n\u001b[0m\u001b[0;32m     13\u001b[0m \u001b[0mprint\u001b[0m\u001b[1;33m(\u001b[0m\u001b[0mtype\u001b[0m\u001b[1;33m(\u001b[0m\u001b[0mstring_to_json\u001b[0m\u001b[1;33m)\u001b[0m\u001b[1;33m)\u001b[0m\u001b[1;33m\u001b[0m\u001b[1;33m\u001b[0m\u001b[0m\n",
      "\u001b[1;31mNameError\u001b[0m: name 'mini_json_readed' is not defined"
     ]
    }
   ],
   "source": [
    "jsons_dicts = []\n",
    "\n",
    "for mini_json in json_data_indented_readed[\"members\"]:\n",
    "    mini_json_readed_string = json.dumps(mini_json)\n",
    "    string_to_json = json.loads(mini_json_readed_string)\n",
    "    print(mini_json_readed_string)\n",
    "    print(\"-----------\")\n",
    "    print(string_to_json)\n",
    "    jsons_dicts.append(string_to_json)\n",
    "    print(\"\\n##############################\\n\")\n",
    "\n",
    "print(type(mini_json_readed))\n",
    "print(type(string_to_json))"
   ]
  },
  {
   "cell_type": "code",
   "execution_count": 12,
   "metadata": {},
   "outputs": [],
   "source": [
    "# escribimos cada mini_json en archivos diferentes\n",
    "for i, jsn in enumerate(jsons_dicts):\n",
    "    nombre_archivo = str(i) + '_final_data.json'\n",
    "    with open(nombre_archivo, 'w+') as outfile:\n",
    "        json.dump(jsn, outfile, indent=4) "
   ]
  },
  {
   "cell_type": "code",
   "execution_count": null,
   "metadata": {},
   "outputs": [],
   "source": []
  }
 ]
}