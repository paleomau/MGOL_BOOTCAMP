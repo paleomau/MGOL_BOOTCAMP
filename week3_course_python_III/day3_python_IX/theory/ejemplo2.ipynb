my_list = ['1', '5', '4', '6', '8', '11', '3', '12']
list(map(lambda x : int(x), my_lyst)

my_list = ['1', '5', '4', '6', '8', '11', '3', '12']
list(map(int, my_lyst)

#es lo mismo, el int funciona directamente sobre la lista como se ve en el segundo caso

min_no_floats = (1,4.,5,3.,9.)
list(filter(lambda x : x=type(float), min_no_floats)
list(filter(lambda x : isinstance(x, float), min_no_floats)