mult = lambda x, y, z : x*y*z
mult(2,4,6)
print(mult)

lambda w: w*1/2
