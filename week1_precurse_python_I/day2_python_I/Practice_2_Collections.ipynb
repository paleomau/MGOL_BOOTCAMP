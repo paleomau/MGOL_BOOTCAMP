{
 "cells": [
  {
   "cell_type": "markdown",
   "metadata": {},
   "source": [
    "# Python | day 1 | collections"
   ]
  },
  {
   "cell_type": "markdown",
   "metadata": {},
   "source": [
    "Lists, tuples & sets"
   ]
  },
  {
   "cell_type": "markdown",
   "metadata": {},
   "source": [
    "May help you https://www.w3schools.com/python/python_ref_list.asp"
   ]
  },
  {
   "cell_type": "markdown",
   "metadata": {},
   "source": [
    "### Exercise 1. "
   ]
  },
  {
   "cell_type": "markdown",
   "metadata": {},
   "source": [
    "1. Create:\n",
    "    - a list type variable called **student_list** which contains the name of your classmates. \n",
    "\n",
    "Print the created list. "
   ]
  },
  {
   "cell_type": "code",
   "execution_count": 28,
   "metadata": {},
   "outputs": [
    {
     "output_type": "error",
     "ename": "SyntaxError",
     "evalue": "invalid syntax (<ipython-input-28-f1b2327661d0>, line 57)",
     "traceback": [
      "\u001b[1;36m  File \u001b[1;32m\"<ipython-input-28-f1b2327661d0>\"\u001b[1;36m, line \u001b[1;32m57\u001b[0m\n\u001b[1;33m    ]\u001b[0m\n\u001b[1;37m    ^\u001b[0m\n\u001b[1;31mSyntaxError\u001b[0m\u001b[1;31m:\u001b[0m invalid syntax\n"
     ]
    }
   ],
   "source": [
    "student_list = ['Adrià', 'Borja', 'Clara', 'Daniel', 'DanielWalker', 'Gina', 'Isabel', 'Javier', 'Jonathan', 'Jorge', 'José Carlos', 'Juanz', 'Karina', 'Leonardo', 'María', 'Marina', 'Mary Cruz', 'Maryam', 'Mauro', 'Mike', 'Mónica', 'Nacho', 'Noya', 'Pablo', 'Pablo Eduardo', 'Sonia', 'Susana', 'Xinru']\n",
    "print(type(student_list))\n",
    "\n",
    "\n",
    "\n",
    "\n",
    "\n",
    "\n",
    "\n",
    "\n",
    "\n",
    "\n",
    "\n",
    "\n",
    "\n",
    "\n",
    "\n",
    "\n",
    "\n",
    "\n",
    "\n",
    "\n",
    "\n",
    "\n",
    "\n",
    "\n",
    "\n",
    "\n",
    "\n",
    "\n",
    "\n",
    "\n",
    "\n",
    "\n",
    "\n",
    "\n",
    "\n",
    "\n",
    "\n",
    "\n",
    "\n",
    "\n",
    "\n",
    "\n",
    "\n",
    "\n",
    "\n",
    "\n",
    "\n",
    "\n",
    "\n",
    "\n",
    "\n",
    "\n",
    "\n",
    "\n",
    "]"
   ]
  },
  {
   "cell_type": "code",
   "execution_count": 4,
   "metadata": {},
   "outputs": [
    {
     "output_type": "error",
     "ename": "SyntaxError",
     "evalue": "invalid syntax (<ipython-input-4-d4f51238da61>, line 1)",
     "traceback": [
      "\u001b[1;36m  File \u001b[1;32m\"<ipython-input-4-d4f51238da61>\"\u001b[1;36m, line \u001b[1;32m1\u001b[0m\n\u001b[1;33m    student_list = [Adrià, Borja, Clara, Daniel, DanielWalker, Gina, Isabel, Javier, Jonathan, Jorge, José Carlos, Juanz, Karina, Leonardo, María, Marina, Mary Cruz, Maryam Ghaderi, Mauro, MikeBarker, Mónica, Nacho, Noya, Pablo, Pablo Eduardo, Sonia, Susana, Xinru]\u001b[0m\n\u001b[1;37m                                                                                                                ^\u001b[0m\n\u001b[1;31mSyntaxError\u001b[0m\u001b[1;31m:\u001b[0m invalid syntax\n"
     ]
    }
   ],
   "source": [
    "student_list = [Adrià, Borja, Clara, Daniel, DanielWalker, Gina, Isabel, Javier, Jonathan, Jorge, José Carlos, Juanz, Karina, Leonardo, María, Marina, Mary Cruz, Maryam Ghaderi, Mauro, MikeBarker, Mónica, Nacho, Noya, Pablo, Pablo Eduardo, Sonia, Susana, Xinru]\n",
    "print(type(student_list))\n",
    "\n",
    "#no entiendo muy bien por qu'e esto no funciona. En principio no deber'ia ser muy complicado."
   ]
  },
  {
   "cell_type": "code",
   "execution_count": 30,
   "metadata": {},
   "outputs": [
    {
     "output_type": "stream",
     "name": "stdout",
     "text": [
      "<class 'list'>\n['Adrià', 'Borja', 'Clara', 'Daniel', 'DanielWalker', 'Gina', 'Isabel', 'Javier', 'Jonathan', 'Jorge', 'José Carlos', 'Juanz', 'Karina', 'Leonardo', 'María', 'Marina', 'Mary Cruz', 'Maryam', 'Mauro', 'Mike', 'Mónica', 'Nacho', 'Noya', 'Pablo', 'Pablo Eduardo', 'Sonia', 'Susana', 'Xinru']\n"
     ]
    }
   ],
   "source": [
    "student_list = ['Adrià', 'Borja', 'Clara', 'Daniel', 'DanielWalker', 'Gina', 'Isabel', 'Javier', 'Jonathan', 'Jorge', 'José Carlos', 'Juanz', 'Karina', 'Leonardo', 'María', 'Marina', 'Mary Cruz', 'Maryam', 'Mauro', 'Mike', 'Mónica', 'Nacho', 'Noya', 'Pablo', 'Pablo Eduardo', 'Sonia', 'Susana', 'Xinru']\n",
    "print(type(student_list))\n",
    "print(student_list)"
   ]
  },
  {
   "cell_type": "code",
   "execution_count": null,
   "metadata": {},
   "outputs": [],
   "source": [
    "#vale, no hab'ia puesto las ccomillas a los nombres... Necesito comer ya !!\n"
   ]
  },
  {
   "cell_type": "markdown",
   "metadata": {},
   "source": [
    "### Exercise 2"
   ]
  },
  {
   "cell_type": "code",
   "execution_count": null,
   "metadata": {},
   "outputs": [],
   "source": []
  },
  {
   "cell_type": "markdown",
   "metadata": {},
   "source": [
    "1. Create an empty list, call it **empty_list**"
   ]
  },
  {
   "cell_type": "code",
   "execution_count": null,
   "metadata": {},
   "outputs": [],
   "source": [
    "empty_list = []\n"
   ]
  },
  {
   "cell_type": "markdown",
   "metadata": {},
   "source": [
    "2. Create a list with 5 items, call it **my_list**"
   ]
  },
  {
   "cell_type": "code",
   "execution_count": 6,
   "metadata": {},
   "outputs": [],
   "source": [
    "my_list = [\"Mauro\", 44, \"Asturias\", 1976, \"Madrid\"]\n"
   ]
  },
  {
   "cell_type": "markdown",
   "metadata": {},
   "source": [
    "3. Find the length of **my_list**\n",
    "\n"
   ]
  },
  {
   "cell_type": "code",
   "execution_count": 7,
   "metadata": {},
   "outputs": [
    {
     "output_type": "stream",
     "name": "stdout",
     "text": [
      "5\n"
     ]
    }
   ],
   "source": [
    "print(len(my_list))"
   ]
  },
  {
   "cell_type": "markdown",
   "metadata": {},
   "source": [
    "4. Get the first item, the middle item and the last item of **my_list**\n",
    "\n"
   ]
  },
  {
   "cell_type": "code",
   "execution_count": 8,
   "metadata": {},
   "outputs": [
    {
     "output_type": "stream",
     "name": "stdout",
     "text": [
      "Mauro\nAsturias\nMadrid\n"
     ]
    }
   ],
   "source": [
    "print(my_list[0])\n",
    "print(my_list[2])\n",
    "print(my_list[4])"
   ]
  },
  {
   "cell_type": "markdown",
   "metadata": {},
   "source": [
    "5. Declare:\n",
    "    - a **name** variable and assign a value to it\n",
    "    - a **age** variable and assign a value to it\n",
    "    - a **height** variable and assign a value to it\n",
    "    - a **country** variable and assign a value to it\n",
    "    - a **python_version** variable and assign a value to it\n"
   ]
  },
  {
   "cell_type": "code",
   "execution_count": 9,
   "metadata": {},
   "outputs": [],
   "source": [
    "name = \"Mauro\"\n",
    "age = 44\n",
    "height = 177\n",
    "country = \"spain\"\n",
    "python_version = \"3.7.4\""
   ]
  },
  {
   "cell_type": "markdown",
   "metadata": {},
   "source": [
    "6. Create a list called **mixed_data_types** with your name, age, height, country and python_version.\n",
    "\n"
   ]
  },
  {
   "cell_type": "code",
   "execution_count": 14,
   "metadata": {},
   "outputs": [
    {
     "output_type": "stream",
     "name": "stdout",
     "text": [
      "5\n"
     ]
    }
   ],
   "source": [
    "mixed_data_types = [\"Mauro\", 44, 177, \"spain\", \"3.7.4\"]\n",
    "print(len(mixed_data_types))"
   ]
  },
  {
   "cell_type": "code",
   "execution_count": 13,
   "metadata": {},
   "outputs": [
    {
     "output_type": "stream",
     "name": "stdout",
     "text": [
      "5\n"
     ]
    }
   ],
   "source": [
    "mixed_data_types = [\"Mauro\", 44, 177, \"spain\", \"3.7.4\"]\n",
    "print(len(mixed_data_types))"
   ]
  },
  {
   "cell_type": "code",
   "execution_count": null,
   "metadata": {},
   "outputs": [],
   "source": [
    "#no entiendo muy bien qu'e sucede aqu'i. En la parte superior cre'e la lista desde cero y hay un error. En la de abajo copie una del profesor y sustitui los valores y en este caso sale bien aunque al menos a simple vista a m'i me parece que son iguales. Vale, hab'ia cerrado mal el corchete arriba. Todo ok."
   ]
  },
  {
   "cell_type": "markdown",
   "metadata": {},
   "source": [
    "7. Declare a list variable named **it_companies** and assign initial values Facebook, Google, Microsoft, Apple, IBM, Oracle and Amazon.\n"
   ]
  },
  {
   "cell_type": "code",
   "execution_count": 16,
   "metadata": {},
   "outputs": [
    {
     "output_type": "stream",
     "name": "stdout",
     "text": [
      "['Facebook', 'Google', 'Microsoft', 'Apple', 'IBM', 'Oracle', 'Amazon']\n"
     ]
    }
   ],
   "source": [
    "it_companies = ['Facebook', 'Google', 'Microsoft', 'Apple', 'IBM', 'Oracle', 'Amazon']\n",
    "print(it_companies)"
   ]
  },
  {
   "cell_type": "markdown",
   "metadata": {},
   "source": [
    "\n",
    "8. Print **it_companies** using print()\n",
    "\n"
   ]
  },
  {
   "cell_type": "code",
   "execution_count": 19,
   "metadata": {},
   "outputs": [
    {
     "output_type": "stream",
     "name": "stdout",
     "text": [
      "['Facebook', 'Google', 'Microsoft', 'Apple', 'IBM', 'Oracle', 'Amazon']\n"
     ]
    }
   ],
   "source": [
    "it_companies = ['Facebook', 'Google', 'Microsoft', 'Apple', 'IBM', 'Oracle', 'Amazon']\n",
    "print(it_companies)"
   ]
  },
  {
   "cell_type": "markdown",
   "metadata": {},
   "source": [
    "9. Print the number of companies in the list"
   ]
  },
  {
   "cell_type": "code",
   "execution_count": 20,
   "metadata": {},
   "outputs": [
    {
     "output_type": "stream",
     "name": "stdout",
     "text": [
      "7\n"
     ]
    }
   ],
   "source": [
    "print(len(it_companies))"
   ]
  },
  {
   "cell_type": "markdown",
   "metadata": {},
   "source": [
    "11. Print *Google*"
   ]
  },
  {
   "cell_type": "code",
   "execution_count": 21,
   "metadata": {},
   "outputs": [
    {
     "output_type": "stream",
     "name": "stdout",
     "text": [
      "Google\n"
     ]
    }
   ],
   "source": [
    "print(it_companies[1])"
   ]
  },
  {
   "cell_type": "markdown",
   "metadata": {},
   "source": [
    "10. Print the first, middle and last company"
   ]
  },
  {
   "cell_type": "code",
   "execution_count": 22,
   "metadata": {},
   "outputs": [
    {
     "output_type": "stream",
     "name": "stdout",
     "text": [
      "Facebook\nApple\nAmazon\n"
     ]
    }
   ],
   "source": [
    "print(it_companies[0])\n",
    "print(it_companies[3])\n",
    "print(it_companies[-1])"
   ]
  },
  {
   "cell_type": "markdown",
   "metadata": {},
   "source": [
    "11. Assign a new value to the last element of the list "
   ]
  },
  {
   "cell_type": "code",
   "execution_count": 24,
   "metadata": {},
   "outputs": [],
   "source": [
    "it_companies[-1] = \"Spiderman\""
   ]
  },
  {
   "cell_type": "markdown",
   "metadata": {},
   "source": [
    "12. Print the list after modifying one of the companies"
   ]
  },
  {
   "cell_type": "code",
   "execution_count": 25,
   "metadata": {},
   "outputs": [
    {
     "output_type": "stream",
     "name": "stdout",
     "text": [
      "['Facebook', 'Google', 'Microsoft', 'Apple', 'IBM', 'Oracle', 'Spiderman']\n"
     ]
    }
   ],
   "source": [
    "print(it_companies)"
   ]
  },
  {
   "cell_type": "markdown",
   "metadata": {},
   "source": [
    "## Bonus track."
   ]
  },
  {
   "cell_type": "markdown",
   "metadata": {},
   "source": [
    "13. Add an IT company to **it_companies**\n",
    "\n"
   ]
  },
  {
   "cell_type": "code",
   "execution_count": 27,
   "metadata": {},
   "outputs": [
    {
     "output_type": "stream",
     "name": "stdout",
     "text": [
      "['Facebook', 'Google', 'Microsoft', 'Apple', 'IBM', 'Oracle', 'Spiderman', 'Techsa']\n"
     ]
    }
   ],
   "source": [
    "it_companies.append(\"Techsa\")\n",
    "print(it_companies)"
   ]
  },
  {
   "cell_type": "markdown",
   "metadata": {},
   "source": [
    "14. Check if *Apple* exists in the **it_companies** list."
   ]
  },
  {
   "cell_type": "code",
   "execution_count": null,
   "metadata": {},
   "outputs": [],
   "source": []
  },
  {
   "cell_type": "markdown",
   "metadata": {},
   "source": [
    "15. Sort the list using `sort()` method\n",
    "\n"
   ]
  },
  {
   "cell_type": "code",
   "execution_count": null,
   "metadata": {},
   "outputs": [],
   "source": []
  },
  {
   "cell_type": "markdown",
   "metadata": {},
   "source": [
    "16. Reverse the list in descending order using `reverse()` method\n",
    "\n"
   ]
  },
  {
   "cell_type": "code",
   "execution_count": null,
   "metadata": {},
   "outputs": [],
   "source": []
  },
  {
   "cell_type": "markdown",
   "metadata": {},
   "source": [
    "17. Slice out the first 3 companies from the list\n",
    "\n"
   ]
  },
  {
   "cell_type": "code",
   "execution_count": null,
   "metadata": {},
   "outputs": [],
   "source": []
  },
  {
   "cell_type": "markdown",
   "metadata": {},
   "source": [
    "18. Remove the last IT company from the list\n"
   ]
  },
  {
   "cell_type": "code",
   "execution_count": null,
   "metadata": {},
   "outputs": [],
   "source": []
  },
  {
   "cell_type": "markdown",
   "metadata": {},
   "source": [
    "19. Remove all IT companies from the list"
   ]
  },
  {
   "cell_type": "code",
   "execution_count": null,
   "metadata": {},
   "outputs": [],
   "source": []
  },
  {
   "cell_type": "markdown",
   "metadata": {},
   "source": [
    "20. Join the following lists, and call the list **end**:\n",
    "\n",
    "```python\n",
    "front_end = [['HTML', 'CSS'], 'JS', 'React', 'Redux']\n",
    "back_end = ['Node','Express', 'MongoDB']\n",
    "```"
   ]
  },
  {
   "cell_type": "code",
   "execution_count": null,
   "metadata": {},
   "outputs": [],
   "source": []
  },
  {
   "cell_type": "markdown",
   "metadata": {},
   "source": [
    "21. From the **end** list print 'HTML'"
   ]
  },
  {
   "cell_type": "code",
   "execution_count": null,
   "metadata": {},
   "outputs": [],
   "source": []
  },
  {
   "cell_type": "markdown",
   "metadata": {},
   "source": [
    "22. From the end list print the 'C' from the word 'CSS'"
   ]
  },
  {
   "cell_type": "code",
   "execution_count": null,
   "metadata": {},
   "outputs": [],
   "source": []
  },
  {
   "cell_type": "markdown",
   "metadata": {},
   "source": [
    "### Exercise 3. "
   ]
  },
  {
   "cell_type": "markdown",
   "metadata": {},
   "source": [
    "Do you know you can create tuples with only one element?\n",
    "\n",
    "1. In the cell below, define a variable **tup** with a single element \"T\".\n",
    "\n",
    "Hint: you need to add a comma (,) after the single element."
   ]
  },
  {
   "cell_type": "code",
   "execution_count": null,
   "metadata": {},
   "outputs": [],
   "source": []
  },
  {
   "cell_type": "markdown",
   "metadata": {},
   "source": [
    "2. Print the type of tup.\n",
    "Make sure its type is correct (i.e. tuple instead of str)."
   ]
  },
  {
   "cell_type": "code",
   "execution_count": null,
   "metadata": {},
   "outputs": [],
   "source": []
  },
  {
   "cell_type": "markdown",
   "metadata": {},
   "source": [
    "3. Now try to append the following elements to **tup**.\n",
    "Are you able to do it? Explain.\n",
    "\n",
    "`\"H\", \"E\", \" \", \"B\", \"R\", \"I\", \"D\", \"G\", \"E\",`"
   ]
  },
  {
   "cell_type": "code",
   "execution_count": null,
   "metadata": {},
   "outputs": [],
   "source": []
  },
  {
   "cell_type": "markdown",
   "metadata": {},
   "source": [
    "4. How about re-assign a new value to an existing tuple?\n",
    "\n",
    "Re-assign the following elements to **tup**. \n",
    "\n",
    "Are you able to do it? Explain.\n",
    "\n",
    "\n",
    "`\"T\", \"H\", \"E\", \" \", \"B\", \"R\", \"I\", \"D\", \"G\", \"E\",`"
   ]
  },
  {
   "cell_type": "code",
   "execution_count": null,
   "metadata": {},
   "outputs": [],
   "source": []
  },
  {
   "cell_type": "markdown",
   "metadata": {},
   "source": [
    "### Exercise 4. \n",
    "\n",
    "1. Turn **lista_repes** into a *set* in order to get only the uniques values in the list, assing it to a variable called **my_set**"
   ]
  },
  {
   "cell_type": "code",
   "execution_count": 14,
   "metadata": {},
   "outputs": [],
   "source": [
    "lista_repes = [\"data\", \"data\", \"data\", \"science\", \"science\", \"python\", \"python\", \"diomedes\", \"diomedes\", \"diomedes\", \"diomedes\", \"clara\", \"gabriel\", \"gabriel\", \"gabriel\"]"
   ]
  },
  {
   "cell_type": "code",
   "execution_count": null,
   "metadata": {},
   "outputs": [],
   "source": []
  },
  {
   "cell_type": "markdown",
   "metadata": {},
   "source": [
    "2. Try to print the first element of **my_set**\n",
    "\n",
    "You did good if you get *TypeError: 'set' object is not subscriptable*."
   ]
  },
  {
   "cell_type": "code",
   "execution_count": null,
   "metadata": {},
   "outputs": [],
   "source": []
  },
  {
   "cell_type": "markdown",
   "metadata": {},
   "source": [
    "3. Turn **my_set** into a list, using the function `list()`. \n",
    "\n",
    "Can you print the first element now?"
   ]
  },
  {
   "cell_type": "code",
   "execution_count": null,
   "metadata": {},
   "outputs": [],
   "source": []
  }
 ],
 "metadata": {
  "kernelspec": {
   "name": "python374jvsc74a57bd0021d9f4f6a0c9e23e32c4246ac82593951ffad9baab3e58c0c69e8a8c06b339b",
   "display_name": "Python 3.7.4 64-bit"
  },
  "language_info": {
   "codemirror_mode": {
    "name": "ipython",
    "version": 3
   },
   "file_extension": ".py",
   "mimetype": "text/x-python",
   "name": "python",
   "nbconvert_exporter": "python",
   "pygments_lexer": "ipython3",
   "version": "3.7.4-final"
  },
  "metadata": {
   "interpreter": {
    "hash": "021d9f4f6a0c9e23e32c4246ac82593951ffad9baab3e58c0c69e8a8c06b339b"
   }
  }
 },
 "nbformat": 4,
 "nbformat_minor": 4
}