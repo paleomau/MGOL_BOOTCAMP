def nombres_concatenados(lista):
    lista = lista_nombres_alturas = [("Gabriel Vázquez", 1.75),("Jonathan Abbondanza",  1.70),("Nacho Fontal", 1.82),("Javier Araiz", 1.80),('Jonathan Suarez', 1.86),('Sonia Cobo', 1.73), ('Jorge García', 1.79), ("Mary Meza", 1.52), ('Leonardo Frazzetto', 1.75), ("Nacho Astorga",1.78),("José Carlos Batista",1.70), ("Isabel Palomares", 1.78),("Marina Serrano", 1.54), ("Daniel Walker", 1.87), ("Clara Piniella", 1.66), ("Gina Garrido", 1.63), ("Adrià Gallardo", 1.70), ("María García-Maroto", 1.64), ("Susana Vázquez",1.80), ("Mauro Garcia-Oliva", 1.77), ("Juan Bayon", 1.64), ("Miguel Barquero", 1.85), ("Borja Puig", 1.82), ("Pablo Martínez", 1.81), ("Xinru Yang", 1.60),("Pablo Díez", 1.84),("Karina Inche",1.61)]
    for i in lista 

