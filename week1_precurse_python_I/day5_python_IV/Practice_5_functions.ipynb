{
 "cells": [
  {
   "cell_type": "markdown",
   "metadata": {},
   "source": [
    "# Python | day 5 | functions"
   ]
  },
  {
   "cell_type": "markdown",
   "metadata": {},
   "source": [
    "In Python, a function is a group of related statements that performs a specific task."
   ]
  },
  {
   "cell_type": "markdown",
   "metadata": {},
   "source": [
    "https://www.programiz.com/python-programming/function"
   ]
  },
  {
   "cell_type": "markdown",
   "metadata": {},
   "source": [
    "#### Difference between `return` and `print`.\n",
    "\n",
    "Take some minutes to understand the difference between `return` and `print`, it seems to be the same, but they are not and it's important you understand the difference. "
   ]
  },
  {
   "cell_type": "code",
   "execution_count": 1,
   "metadata": {},
   "outputs": [
    {
     "output_type": "stream",
     "name": "stdout",
     "text": [
      "2\n4\n8\n"
     ]
    }
   ],
   "source": [
    "def suma(a,b):\n",
    "    print(a)\n",
    "    return a+b\n",
    "\n",
    "print(suma(suma(2,2),4))"
   ]
  },
  {
   "cell_type": "markdown",
   "metadata": {},
   "source": [
    "#### Comments in a function."
   ]
  },
  {
   "cell_type": "code",
   "execution_count": 4,
   "metadata": {},
   "outputs": [],
   "source": [
    "def say_hello(name):\n",
    "    \"\"\"\n",
    "    Given a name as an argument, \n",
    "    the function return a string greeting\n",
    "    the name given. \n",
    "    \"\"\"\n",
    "    return f\"hello {name}\""
   ]
  },
  {
   "cell_type": "code",
   "execution_count": 5,
   "metadata": {},
   "outputs": [
    {
     "output_type": "stream",
     "name": "stdout",
     "text": [
      "hello Clara\n"
     ]
    }
   ],
   "source": [
    "print(say_hello(\"Clara\"))"
   ]
  },
  {
   "cell_type": "code",
   "execution_count": 6,
   "metadata": {},
   "outputs": [
    {
     "output_type": "stream",
     "name": "stdout",
     "text": [
      "Help on function say_hello in module __main__:\n\nsay_hello(name)\n    Given a name as an argument, \n    the function return a string greeting\n    the name given.\n\n"
     ]
    }
   ],
   "source": [
    "help(say_hello)"
   ]
  },
  {
   "cell_type": "markdown",
   "metadata": {},
   "source": [
    "### Exercise 1. "
   ]
  },
  {
   "cell_type": "markdown",
   "metadata": {},
   "source": [
    "To solve the following exercises it will be necessary to define a function for each section. You choose the name of those functions unless specified, but make sure you define a single parameter `whichever_list`, when calling the function it will correspond to the variable `info_list`.\n",
    "```python\n",
    "def funtion_bla(whichever_list):\n",
    "    return whichever_list\n",
    "\n",
    "function_bla(info_list)\n",
    "```\n",
    "\n",
    "**In the case of not being able to solve a question containing the code in a function, try to do it without defining one.**"
   ]
  },
  {
   "cell_type": "code",
   "execution_count": 17,
   "metadata": {},
   "outputs": [
    {
     "output_type": "stream",
     "name": "stdout",
     "text": [
      "<class 'list'>\n"
     ]
    }
   ],
   "source": [
    "#define a function which takes a single parameter `whichever_list`\n",
    "def funcion1(whichever_list):\n",
    "    if isinstance(whichever_list,(int, float)):\n",
    "        print(\"esto es un numero\")\n",
    "    elif (len(whichever_list)) > 1:\n",
    "        print(\"Single parameter required. Please, kindly add a single parameter.\")\n",
    "    else:\n",
    "        print(type(whichever_list))\n",
    "\n",
    "funcion1(whichever_list=[[\"hola mundo\"]])\n",
    "\n"
   ]
  },
  {
   "cell_type": "code",
   "execution_count": 18,
   "metadata": {},
   "outputs": [
    {
     "output_type": "stream",
     "name": "stdout",
     "text": [
      "Single parameter required. Please, kindly add a single parameter.\n"
     ]
    }
   ],
   "source": [
    "# you can use this list or take yours from Practice 3\n",
    "info_list = [15, 'Recoletos', True, ['Recoletos', 15],  None, '8'] \n",
    "\n",
    "def funcion1(whichever_list):\n",
    "    if isinstance(whichever_list,(int, float)):\n",
    "        print(\"esto es un numero\")\n",
    "    elif (len(whichever_list)) > 1:\n",
    "        print(\"Single parameter required. Please, kindly add a single parameter.\")\n",
    "    else:\n",
    "        print(type(whichever_list))\n",
    "\n",
    "funcion1(whichever_list= info_list)\n",
    "#no se si estoy entendiendo bien el enunciado. Escribí una función que solamente te permita correr un parámetro single. Por eso si hay mas de un elemento imprimo el mensaje pidiendo un unico elemento... Si pide otra cosa siento el malentendido!! En cualquier caso estoy contento porque al menos he logrado que lo que quería hacer medio funcionara jaja. \n"
   ]
  },
  {
   "cell_type": "markdown",
   "metadata": {},
   "source": [
    "1. Display on the screen `\"I like the tranquility\"` if you like the mountains more and `\"I'd love to live in Malaga\"` if you like the beach more.\n",
    "\n"
   ]
  },
  {
   "cell_type": "code",
   "execution_count": 39,
   "metadata": {},
   "outputs": [
    {
     "output_type": "stream",
     "name": "stdout",
     "text": [
      "I'd love to live in Malaga\n"
     ]
    }
   ],
   "source": [
    "#call the function with the variable `info_list`\n",
    "#define a function which takes a single parameter `whichever_list`\n",
    "info_list = [15, 'Recoletos', True, ['Recoletos', 15],  None, '8']\n",
    "info_list2 = [15, 'Recoletos', False, ['Recoletos', 15],  None, '8'] \n",
    "def funcion1(whichever_list):\n",
    "    for i, element in enumerate(whichever_list):\n",
    "        whichever_list[i]=str(element)\n",
    "        if whichever_list[2] == \"True\":\n",
    "            print(\"I'd love to live in Malaga\")\n",
    "            break\n",
    "        elif whichever_list[2] == \"False\":\n",
    "            print(\"I like the tranquility\")\n",
    "            break\n",
    "\n",
    "funcion1(whichever_list=info_list)\n",
    "#A ver, entiendo que el fallo es que busco en la posición 2 por cada i. Lo que no entiendo entonces es, si tengo 6 elementos, por qué no lo hace 6 veces y me da la respuesta solo 4 veces. Añado un break al final para que no se repita esas 4 veces... Creo una mejor opción sería tratar de usar el If In a ver qué tal. Lo pruebo a continuacion. La idea es que si en la lista hay un elemento True imprima X y si hay un elemento False imprima Y.\n"
   ]
  },
  {
   "cell_type": "code",
   "execution_count": 43,
   "metadata": {},
   "outputs": [
    {
     "output_type": "stream",
     "name": "stdout",
     "text": [
      "I'd love to live in Malaga\n"
     ]
    }
   ],
   "source": [
    "#call the function with the variable `info_list`\n",
    "#define a function which takes a single parameter `whichever_list`\n",
    "\n",
    "info_list = [15, 'Recoletos', True, ['Recoletos', 15],  None, '8']\n",
    "\n",
    "def funcion1(whichever_list):\n",
    "    if True in whichever_list:\n",
    "        print(\"I'd love to live in Malaga\")\n",
    "    elif False in whichever_list:\n",
    "        print(\"I like the tranquility\")\n",
    "\n",
    "funcion1(whichever_list=info_list)\n",
    "#se me había olvidado quitar las comillas de haber convertido a str en el bloque anterior !!\n"
   ]
  },
  {
   "cell_type": "markdown",
   "metadata": {},
   "source": [
    "2. Print `\"Today I am tired\"` if you have slept less than 7 hours or `\"Today I conquer the world\"` if you have slept more than 7 hours."
   ]
  },
  {
   "cell_type": "code",
   "execution_count": null,
   "metadata": {},
   "outputs": [],
   "source": [
    "#define a function which takes a single parameter `whichever_list`\n"
   ]
  },
  {
   "cell_type": "code",
   "execution_count": 44,
   "metadata": {},
   "outputs": [
    {
     "output_type": "stream",
     "name": "stdout",
     "text": [
      "Today I conquer the world\n"
     ]
    }
   ],
   "source": [
    "#call the function with the variable `info_list`\n",
    "info_list = [15, 'Recoletos', True, ['Recoletos', 15],  None, '8']\n",
    "\n",
    "def funcion1(whichever_list):\n",
    "    for i, element in enumerate(whichever_list):\n",
    "        whichever_list[-1]=int(element)\n",
    "        if whichever_list[-1] < 7:\n",
    "            print(\"Today I am tired\")\n",
    "            break\n",
    "        elif whichever_list[-1] > 7:\n",
    "            print(\"Today I conquer the world\")\n",
    "            break\n",
    "\n",
    "funcion1(whichever_list=info_list)\n"
   ]
  },
  {
   "cell_type": "markdown",
   "metadata": {},
   "source": [
    "3. Loop through `whichever_list` to print all the elements it contains. This function should return the list turned into a tuple. "
   ]
  },
  {
   "cell_type": "code",
   "execution_count": null,
   "metadata": {},
   "outputs": [],
   "source": [
    "#define a function which takes a single parameter `whichever_list`\n"
   ]
  },
  {
   "cell_type": "code",
   "execution_count": 23,
   "metadata": {},
   "outputs": [
    {
     "output_type": "stream",
     "name": "stdout",
     "text": [
      "15\nRecoletos\nTrue\n['Recoletos', 15]\nNone\n8\n"
     ]
    },
    {
     "output_type": "execute_result",
     "data": {
      "text/plain": [
       "(15, 'Recoletos', True, ['Recoletos', 15], None, '8')"
      ]
     },
     "metadata": {},
     "execution_count": 23
    }
   ],
   "source": [
    "#call the function with the variable `info_list`\n",
    "\n",
    "info_list = [15, 'Recoletos', True, ['Recoletos', 15],  None, '8']\n",
    "\n",
    "def funcion1(whichever_list):\n",
    "    for i, element in enumerate(whichever_list):\n",
    "        element=str(element)\n",
    "        print(whichever_list[i])\n",
    "    x = tuple(whichever_list)\n",
    "    return x\n",
    "            \n",
    "funcion1(whichever_list=info_list)\n",
    "#vale entiendo el primer problema tras verlo en Python Tutor. Transform'e 15 en str y cuando pongo print element i creo que hace a la posicion interna dentro del elemento no al de la lista. "
   ]
  },
  {
   "cell_type": "code",
   "execution_count": 56,
   "metadata": {},
   "outputs": [
    {
     "output_type": "error",
     "ename": "SyntaxError",
     "evalue": "invalid syntax (<ipython-input-56-718f0825e127>, line 9)",
     "traceback": [
      "\u001b[1;36m  File \u001b[1;32m\"<ipython-input-56-718f0825e127>\"\u001b[1;36m, line \u001b[1;32m9\u001b[0m\n\u001b[1;33m    p = \"everything will be ok\"\u001b[0m\n\u001b[1;37m    ^\u001b[0m\n\u001b[1;31mSyntaxError\u001b[0m\u001b[1;31m:\u001b[0m invalid syntax\n"
     ]
    }
   ],
   "source": [
    "#call the function with the variable `info_list`\n",
    "\n",
    "info_list = [15, 'Recoletos', True, ['Recoletos', 15],  None, '8']\n",
    "\n",
    "def funcion1(whichever_list):\n",
    "    for i, element in enumerate(whichever_list):\n",
    "        element=str(element)\n",
    "        print((whichever_list[i], \"--> OK\")\n",
    "    p = \"everything will be ok\"\n",
    "    return p\n",
    "            \n",
    "funcion1(whichever_list=info_list)\n",
    "\n",
    "#esto no se me ocurre como hacerlo"
   ]
  },
  {
   "cell_type": "markdown",
   "metadata": {},
   "source": [
    "4. Loop through `whichever_list` to print all the elements it contains concatenated with the string` \"--> OK\" `. This function should return a message saying, `\"everything will be ok\"`. \n"
   ]
  },
  {
   "cell_type": "code",
   "execution_count": 34,
   "metadata": {},
   "outputs": [
    {
     "output_type": "stream",
     "name": "stdout",
     "text": [
      "15\nRecoletos\nTrue\n['Recoletos', 15]\nNone\n8\n"
     ]
    },
    {
     "output_type": "execute_result",
     "data": {
      "text/plain": [
       "'everything will be ok'"
      ]
     },
     "metadata": {},
     "execution_count": 34
    }
   ],
   "source": [
    "#define a function which takes a single parameter `whichever_list`\n",
    "#call the function with the variable `info_list`\n",
    "\n",
    "info_list = [15, 'Recoletos', True, ['Recoletos', 15],  None, '8']\n",
    "\n",
    "def funcion1(whichever_list):\n",
    "    for i, element in enumerate(whichever_list):\n",
    "        element=str(element)\n",
    "        print((whichever_list[i]))\n",
    "\n",
    "    y = \"everything will be ok\"\n",
    "    return y\n",
    "            \n",
    "funcion1(whichever_list=info_list)\n",
    "\n",
    "#esto no se me ocurre como hacerlo"
   ]
  },
  {
   "cell_type": "markdown",
   "metadata": {},
   "source": [
    "5. Loop through `whichever_list` to display all items it contains except the first one. This function should return the first element of the list. "
   ]
  },
  {
   "cell_type": "code",
   "execution_count": null,
   "metadata": {},
   "outputs": [],
   "source": [
    "#define a function which takes a single parameter `whichever_list`\n"
   ]
  },
  {
   "cell_type": "code",
   "execution_count": 44,
   "metadata": {},
   "outputs": [
    {
     "output_type": "stream",
     "name": "stdout",
     "text": [
      "Recoletos\nTrue\n['Recoletos', 15]\nNone\n8\n"
     ]
    },
    {
     "output_type": "execute_result",
     "data": {
      "text/plain": [
       "15"
      ]
     },
     "metadata": {},
     "execution_count": 44
    }
   ],
   "source": [
    "#call the function with the variable `info_list`\n",
    "info_list = [15, 'Recoletos', True, ['Recoletos', 15],  None, '8']\n",
    "\n",
    "def funcion1(whichever_list):\n",
    "    \n",
    "    for i, element in enumerate(whichever_list):\n",
    "        if int(i) == 0:\n",
    "            pass\n",
    "        else:\n",
    "            element=str(element)\n",
    "            print((whichever_list[i]))\n",
    "\n",
    "    w = whichever_list[0]\n",
    "    return w\n",
    "            \n",
    "funcion1(whichever_list=info_list)\n"
   ]
  },
  {
   "cell_type": "markdown",
   "metadata": {},
   "source": [
    "6. Loop through `whichever_list` to display all the items it contains except the last one. This function should return the last element of the list. "
   ]
  },
  {
   "cell_type": "code",
   "execution_count": null,
   "metadata": {},
   "outputs": [],
   "source": [
    "#define a function which takes a single parameter `whichever_list`\n"
   ]
  },
  {
   "cell_type": "code",
   "execution_count": 42,
   "metadata": {},
   "outputs": [
    {
     "output_type": "stream",
     "name": "stdout",
     "text": [
      "15\nRecoletos\nTrue\n['Recoletos', 15]\nNone\n"
     ]
    },
    {
     "output_type": "execute_result",
     "data": {
      "text/plain": [
       "'8'"
      ]
     },
     "metadata": {},
     "execution_count": 42
    }
   ],
   "source": [
    "#call the function with the variable `info_list`\n",
    "info_list = [15, 'Recoletos', True, ['Recoletos', 15],  None, '8']\n",
    "\n",
    "def funcion1(whichever_list):\n",
    "    \n",
    "    for i, element in enumerate(whichever_list):\n",
    "        if int(i) == 5:\n",
    "            pass\n",
    "        else:\n",
    "            element=str(element)\n",
    "            print((whichever_list[i]))\n",
    "\n",
    "    z = whichever_list[-1]\n",
    "    return z\n",
    "            \n",
    "funcion1(whichever_list=info_list)\n",
    "\n",
    "#estoy intentando decirle que al llegar a la posicion i=5 que pase, pero no me sale. Intent'e pasar i a int i por si eso es el problema pero no sale tampoco. Ok, ten'ia errores de sintaxis que no hab'ia visto por las prisas !!!"
   ]
  },
  {
   "cell_type": "markdown",
   "metadata": {},
   "source": [
    "7. Loop through `whichever_list` to show all the elements it contains except the street number and the hours you've slept."
   ]
  },
  {
   "cell_type": "code",
   "execution_count": null,
   "metadata": {},
   "outputs": [],
   "source": [
    "#define a function which takes a single parameter `whichever_list`\n"
   ]
  },
  {
   "cell_type": "code",
   "execution_count": 49,
   "metadata": {},
   "outputs": [
    {
     "output_type": "stream",
     "name": "stdout",
     "text": [
      "15\nRecoletos\nTrue\nNone\n8\n"
     ]
    }
   ],
   "source": [
    "#call the function with the variable `info_list`\n",
    "info_list = [15, 'Recoletos', True, ['Recoletos', 15],  None, '8']\n",
    "\n",
    "def funcion1(whichever_list):\n",
    "    \n",
    "    for i, element in enumerate(whichever_list):\n",
    "        if int(i) == 5:\n",
    "            pass\n",
    "        if int(i) == 3:\n",
    "            for element in whichever_list:\n",
    "                if element(i) == 1:\n",
    "                    pass\n",
    "        else:\n",
    "            element=str(element)\n",
    "            print((whichever_list[i]))\n",
    "            \n",
    "funcion1(whichever_list=info_list)\n",
    "\n",
    "#me falta saber como imprimer solo el primer elemento dentro de la lista en la posici'on 3 dentro de la lista general"
   ]
  },
  {
   "cell_type": "markdown",
   "metadata": {},
   "source": [
    "8. Loop through `whichever_list` to print all the elements it contains except the first element of the list which is in fourth position (`'Recoletos'`). This function should return the lenght of that element. "
   ]
  },
  {
   "cell_type": "code",
   "execution_count": null,
   "metadata": {},
   "outputs": [],
   "source": [
    "#define a function which takes a single parameter `whichever_list`\n"
   ]
  },
  {
   "cell_type": "code",
   "execution_count": 53,
   "metadata": {},
   "outputs": [
    {
     "output_type": "stream",
     "name": "stdout",
     "text": [
      "15\n"
     ]
    },
    {
     "output_type": "execute_result",
     "data": {
      "text/plain": [
       "9"
      ]
     },
     "metadata": {},
     "execution_count": 53
    }
   ],
   "source": [
    "#call the function with the variable `info_list`\n",
    "info_list = [15, 'Recoletos', True, ['Recoletos', 15],  None, '8']\n",
    "\n",
    "def funcion1(whichever_list):\n",
    "    \n",
    "    for i, element in enumerate(whichever_list):\n",
    "        \n",
    "        if int(i) == 3:\n",
    "            for element in whichever_list:\n",
    "                if int(i) == 1:\n",
    "                    pass\n",
    "\n",
    "        elif int(i) == 5:\n",
    "            pass\n",
    "        else:\n",
    "            element=str(element)\n",
    "            print((whichever_list[i]))\n",
    "\n",
    "        h = len(whichever_list[3][0])\n",
    "        return h    \n",
    "funcion1(whichever_list=info_list)\n",
    "#claro tengo el mismo problema que en el caso anterior, pero en la otra posici'on... \"recoletos\" en lugar del 15."
   ]
  },
  {
   "cell_type": "markdown",
   "metadata": {},
   "source": [
    "9. Loop through `whichever_list` to show all the elements it contains except the one that contains the information about whether you like the mountains or the beach. The function should return a message saying `\"I love the beach\"` if you prefer the beach and a message saying `\"I love the mountain\"` otherwise. "
   ]
  },
  {
   "cell_type": "code",
   "execution_count": null,
   "metadata": {},
   "outputs": [],
   "source": [
    "#define a function which takes a single parameter `whichever_list`\n"
   ]
  },
  {
   "cell_type": "code",
   "execution_count": 55,
   "metadata": {},
   "outputs": [
    {
     "output_type": "stream",
     "name": "stdout",
     "text": [
      "15\nRecoletos\n['Recoletos', 15]\nNone\n8\n"
     ]
    },
    {
     "output_type": "execute_result",
     "data": {
      "text/plain": [
       "'I love the beach'"
      ]
     },
     "metadata": {},
     "execution_count": 55
    }
   ],
   "source": [
    "#call the function with the variable `info_list`\n",
    "info_list = [15, 'Recoletos', True, ['Recoletos', 15],  None, '8']\n",
    "\n",
    "def funcion1(whichever_list):\n",
    "    \n",
    "    for i, element in enumerate(whichever_list):\n",
    "        if int(i) == 2:\n",
    "            pass\n",
    "        else:\n",
    "            element=str(element)\n",
    "            print((whichever_list[i]))\n",
    "\n",
    "    zz = whichever_list[2]\n",
    "    if str(zz) == \"True\":\n",
    "        return \"I love the beach\"\n",
    "    else:\n",
    "        return \"I love the mountain\"\n",
    "\n",
    "funcion1(whichever_list=info_list)"
   ]
  },
  {
   "cell_type": "markdown",
   "metadata": {},
   "source": [
    "### Bonus Track\n",
    "\n",
    "In the case of not being able to solve a question containing the code in a function, try to do it without defining one. "
   ]
  },
  {
   "cell_type": "markdown",
   "metadata": {},
   "source": [
    "1. Create a variable called `zone` and give it the value of **None**. Loop through `whichever_list` and update `zone` to **True** if and only if, you have slept more than 7 hours, you like the beach and the sum of the hours you have slept plus the number of The Bridge is less than 24. In any other case, `zone` will be **False**. This function should return the value of `zone` and will be called `zone_function`.\n"
   ]
  },
  {
   "cell_type": "code",
   "execution_count": 6,
   "metadata": {},
   "outputs": [],
   "source": [
    "zone = None\n",
    "info_list = [15, 'Recoletos', True, ['Recoletos', 15],  None, '8']\n",
    "\n",
    "def funcion1(whichever_list):\n",
    "    xx = int(whichever_list[0])\n",
    "    yy = int(whichever_list[-1])\n",
    "    zz = whichever_list[2]\n",
    "    if str(zz) == \"True\" and yy < 7 and xx < 24:\n",
    "        zone == True\n",
    "        return zone\n",
    "        print(zone)\n",
    "    else:\n",
    "        return zone\n",
    "        print(zone)\n",
    "\n",
    "funcion1(whichever_list=info_list)\n",
    "#no s'e que est;a pasando !! No devuelbve nada"
   ]
  },
  {
   "cell_type": "markdown",
   "metadata": {},
   "source": [
    "2. Define a function called `test_function` that receives only one parameter called `zone_value` and that returns the value of `zone_value` if it is **True**. Once you've defined `test_function` you should call it with the value returned by the `zone_function` as an argument."
   ]
  },
  {
   "cell_type": "code",
   "execution_count": 5,
   "metadata": {},
   "outputs": [
    {
     "output_type": "error",
     "ename": "SyntaxError",
     "evalue": "invalid syntax (<ipython-input-5-eb932e5a3178>, line 6)",
     "traceback": [
      "\u001b[1;36m  File \u001b[1;32m\"<ipython-input-5-eb932e5a3178>\"\u001b[1;36m, line \u001b[1;32m6\u001b[0m\n\u001b[1;33m    print(return)\u001b[0m\n\u001b[1;37m               ^\u001b[0m\n\u001b[1;31mSyntaxError\u001b[0m\u001b[1;31m:\u001b[0m invalid syntax\n"
     ]
    }
   ],
   "source": [
    "\n",
    "def test_function(zone_value):\n",
    "\n",
    "    zone_value = input(\"Escribe un valor\")\n",
    "    if zone_value == True:\n",
    "        return zone_value\n",
    "    print(zone_value)\n",
    "    \n",
    "\n",
    "test_function(zone_value)\n",
    "\n",
    "#no entiendo muy bien por que no puedo definir zone_value dentro de la funcion y tengo que sacar fuera de dicha funcion el zone_value = input... etc\n",
    "## No se por que ahora si sale !!"
   ]
  },
  {
   "cell_type": "code",
   "execution_count": 2,
   "metadata": {},
   "outputs": [
    {
     "output_type": "stream",
     "name": "stdout",
     "text": [
      "5\n"
     ]
    }
   ],
   "source": [
    "zone_value = input(\"Escribe un valor\")\n",
    "def test_function(zone_value): \n",
    "    if zone_value == True:\n",
    "        return zone_value\n",
    "    print(zone_value)\n",
    "test_function(zone_value) #no entiendo muy bien por que no puedo definir zone_value dentro de la funcion y tengo que sacar fuera de dicha funcion el zone_value = input... etc"
   ]
  },
  {
   "cell_type": "markdown",
   "metadata": {},
   "source": [
    "3. Define a function that asks the user if they like the mountain and, if not, call the `zone_function` function."
   ]
  },
  {
   "cell_type": "code",
   "execution_count": null,
   "metadata": {},
   "outputs": [],
   "source": [
    "def mar_o_monte():\n",
    "    "
   ]
  },
  {
   "cell_type": "markdown",
   "metadata": {},
   "source": [
    "### Bonus Track of the Bonus Track.\n",
    "\n",
    "**This Bonus Track could take you some days, it is very ok, sometimes coding is all about time.**\n",
    "\n",
    "Sooner than later, you'll also learn about `.py` files and you will be able to implement this program into that kind of file. Not yet, tho. "
   ]
  },
  {
   "cell_type": "markdown",
   "metadata": {},
   "source": [
    "1. Program **a calculator** that asks for two numbers and two operators on the screen. One operation must be performed first and then another. Try to define as many functions as possible."
   ]
  },
  {
   "cell_type": "code",
   "execution_count": null,
   "metadata": {},
   "outputs": [],
   "source": []
  },
  {
   "cell_type": "markdown",
   "metadata": {},
   "source": [
    "!['ha'](https://i.pinimg.com/originals/c6/4e/fc/c64efc9adaedbf446f328698e8b67388.jpg)"
   ]
  },
  {
   "cell_type": "code",
   "execution_count": null,
   "metadata": {},
   "outputs": [],
   "source": []
  }
 ],
 "metadata": {
  "kernelspec": {
   "name": "python374jvsc74a57bd0021d9f4f6a0c9e23e32c4246ac82593951ffad9baab3e58c0c69e8a8c06b339b",
   "display_name": "Python 3.7.4 64-bit"
  },
  "language_info": {
   "codemirror_mode": {
    "name": "ipython",
    "version": 3
   },
   "file_extension": ".py",
   "mimetype": "text/x-python",
   "name": "python",
   "nbconvert_exporter": "python",
   "pygments_lexer": "ipython3",
   "version": "3.7.4-final"
  },
  "metadata": {
   "interpreter": {
    "hash": "021d9f4f6a0c9e23e32c4246ac82593951ffad9baab3e58c0c69e8a8c06b339b"
   }
  }
 },
 "nbformat": 4,
 "nbformat_minor": 4
}