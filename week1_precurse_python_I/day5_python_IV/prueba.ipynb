{
 "metadata": {
  "language_info": {
   "codemirror_mode": {
    "name": "ipython",
    "version": 3
   },
   "file_extension": ".py",
   "mimetype": "text/x-python",
   "name": "python",
   "nbconvert_exporter": "python",
   "pygments_lexer": "ipython3",
   "version": "3.7.4-final"
  },
  "orig_nbformat": 2,
  "kernelspec": {
   "name": "python374jvsc74a57bd0021d9f4f6a0c9e23e32c4246ac82593951ffad9baab3e58c0c69e8a8c06b339b",
   "display_name": "Python 3.7.4 64-bit"
  },
  "metadata": {
   "interpreter": {
    "hash": "021d9f4f6a0c9e23e32c4246ac82593951ffad9baab3e58c0c69e8a8c06b339b"
   }
  }
 },
 "nbformat": 4,
 "nbformat_minor": 2,
 "cells": [
  {
   "cell_type": "code",
   "execution_count": 7,
   "metadata": {},
   "outputs": [
    {
     "output_type": "stream",
     "name": "stdout",
     "text": [
      "[('El mal de Corcira', 4), ('Un mundo feliz', 2), ('Lolita', 5), ('Crimen y castigo', 2), ('Python from for to pro', 0), ('El señor de los anillos', 6), ('Cien años de soledad', 5), ('Harry Potter', 9), ('Lectura Fácil', 4), ('Seda', 2), ('La chica de nieve', 6), ('El día que se perdió la cordura', 3), ('Data Science', 0), ('Guía del Autopista Galáctico', '42')]\n"
     ]
    }
   ],
   "source": [
    "biblioteca = [(\"El mal de Corcira\",4),(\"Un mundo feliz\", 2),(\"Lolita\", 5),\\\n",
    "              (\"Crimen y castigo\",2),(\"Python from for to pro\", 0),(\"El señor de los anillos\", 6),\\\n",
    "              (\"Cien años de soledad\", 5),(\"Harry Potter\", 9),(\"Lectura Fácil\", 4),(\"Seda\", 2),\\\n",
    "              (\"La chica de nieve\", 6),(\"El día que se perdió la cordura\", 3), (\"Data Science\", 0)]\n",
    "\n",
    "def nueva_remesa(biblioteca):\n",
    "    m = input(\"Introduce el titulo del nuevo libro\")\n",
    "    n = input(\"escribe el numero de ejemplares del nuevo libro que estas introduciendo\")\n",
    "\n",
    "    for i, element in enumerate(biblioteca):\n",
    "\n",
    "        if str(m) == (biblioteca[i][0]):\n",
    "            print(\"ya tenemos ese libro en nuestra biblioteca. Voy a sumar la nueva cabtidad de libros a los que ya tenemos\")\n",
    "            tup_to_list = list(biblioteca[i])\n",
    "            tup_to_list[1] = int(tup_to_list[1]) + int(n)\n",
    "            x = tuple(tup_to_list)\n",
    "            biblioteca.pop(i)\n",
    "            biblioteca.append(x)\n",
    "            print(biblioteca)\n",
    "            break\n",
    "            \n",
    "        else:\n",
    "            x = []\n",
    "            x.append(m)\n",
    "            x.append(n)\n",
    "            x = tuple(x)\n",
    "            biblioteca.append(x)\n",
    "            print(biblioteca)\n",
    "            break\n",
    "nueva_remesa(biblioteca)"
   ]
  },
  {
   "cell_type": "code",
   "execution_count": null,
   "metadata": {},
   "outputs": [],
   "source": []
  }
 ]
}