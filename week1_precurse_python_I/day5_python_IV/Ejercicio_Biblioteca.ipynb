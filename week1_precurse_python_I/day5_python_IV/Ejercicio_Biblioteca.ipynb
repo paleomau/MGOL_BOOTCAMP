{
 "cells": [
  {
   "cell_type": "markdown",
   "metadata": {},
   "source": [
    "# Ejercicio La Biblioteca | Repaso Week 1\n",
    "## Precurso DSApr21 - The Bridge\n",
    "\n",
    "La versión original de esta Práctica es en español por lo que respetaremos sus orígenes y a su autora, Clara Piniella, y lo dejaremos en este idioma. Disculpen las molestias que esto pudiera ocasionarle como estudiante. "
   ]
  },
  {
   "cell_type": "markdown",
   "metadata": {},
   "source": [
    "![biblioteca](https://static2.abc.es/media/familia/2018/11/02/AdobeStock_210538561-kJTF--620x349@abc.jpg)"
   ]
  },
  {
   "cell_type": "markdown",
   "metadata": {},
   "source": [
    "Es tu primer día de trabajo en la Biblioteca de tu barrio y ya tienes tu primera tarea. Te acaban de pasar una lista con libros y la lista de unidades disponibles."
   ]
  },
  {
   "cell_type": "code",
   "execution_count": 1,
   "metadata": {},
   "outputs": [],
   "source": [
    "libros = [\"El mal de Corcira\", \"Un mundo feliz\", \"Lolita\", \"Crimen y castigo\", \"Python from for to pro\",\\\n",
    "          \"El señor de los anillos\", \"Cien años de soledad\", \"Harry Potter\", \"Lectura Fácil\", \"Seda\",\\\n",
    "          \"La chica de nieve\", \"El día que se perdió la cordura\", \"Data Science\"]"
   ]
  },
  {
   "cell_type": "code",
   "execution_count": 132,
   "metadata": {},
   "outputs": [],
   "source": [
    "biblioteca = [(\"El mal de Corcira\",4),(\"Un mundo feliz\", 2),(\"Lolita\", 5),\\\n",
    "              (\"Crimen y castigo\",2),(\"Python from for to pro\", 0),(\"El señor de los anillos\", 6),\\\n",
    "              (\"Cien años de soledad\", 5),(\"Harry Potter\", 9),(\"Lectura Fácil\", 4),(\"Seda\", 2),\\\n",
    "              (\"La chica de nieve\", 6),(\"El día que se perdió la cordura\", 3), (\"Data Science\", 0)]"
   ]
  },
  {
   "cell_type": "markdown",
   "metadata": {},
   "source": [
    "1. ¿Cuántos títulos diferentes tienen en esta biblioteca?"
   ]
  },
  {
   "cell_type": "code",
   "execution_count": 5,
   "metadata": {},
   "outputs": [
    {
     "output_type": "stream",
     "name": "stdout",
     "text": [
      "13\n13\n<class 'list'>\n"
     ]
    }
   ],
   "source": [
    "#your code here\n",
    "print(len(libros))\n",
    "libros=set(libros)\n",
    "print(len(libros))\n",
    "libros=list(libros)\n",
    "print(type(libros))"
   ]
  },
  {
   "cell_type": "markdown",
   "metadata": {},
   "source": [
    "2. ¿Cuántas letras componen la palabra *Seda*? "
   ]
  },
  {
   "cell_type": "code",
   "execution_count": 8,
   "metadata": {},
   "outputs": [
    {
     "output_type": "stream",
     "name": "stdout",
     "text": [
      "4\n31\n"
     ]
    }
   ],
   "source": [
    "#your code here\n",
    "x=\"seda\"\n",
    "print(len(x))\n",
    "print(len(libros[9]))\n",
    "#Al haber pasado la lista a set con el fin de eliminar posibles titulos repetidos, set re-orden'o los elementos. Por eso 'seda' ya no est'a en la posici'on 9. Entonces he escrito un bucle par saber la nueva posicion de 'seda' y as'i poder acceder a esa posicion. Podia simplemente haber hecho un print."
   ]
  },
  {
   "cell_type": "code",
   "execution_count": 13,
   "metadata": {},
   "outputs": [
    {
     "output_type": "stream",
     "name": "stdout",
     "text": [
      "0 Harry Potter\n1 Seda\n2 Lolita\n3 El señor de los anillos\n4 El mal de Corcira\n5 Cien años de soledad\n6 Un mundo feliz\n7 Crimen y castigo\n8 La chica de nieve\n9 El día que se perdió la cordura\n10 Python from for to pro\n11 Lectura Fácil\n12 Data Science\nseda tiene 4 letras\n"
     ]
    }
   ],
   "source": [
    "for i, element in enumerate(libros):\n",
    "    print(i, element)\n",
    "print(\"seda tiene\", len(libros[1]), \"letras\")\n",
    "\n",
    "#Al haber pasado la lista a set con el fin de eliminar posibles titulos repetidos, set re-orden'o los elementos. Por eso 'seda' ya no est'a en la posici'on 9. Entonces he escrito un bucle par saber la nueva posicion de 'seda' y as'i poder acceder a esa posicion. Podia simplemente haber hecho un print."
   ]
  },
  {
   "cell_type": "markdown",
   "metadata": {},
   "source": [
    "3. ¿Cuántas unidades hay del libro *Seda*?"
   ]
  },
  {
   "cell_type": "code",
   "execution_count": 18,
   "metadata": {},
   "outputs": [
    {
     "output_type": "stream",
     "name": "stdout",
     "text": [
      "0 ('El mal de Corcira', 4)\n1 ('Un mundo feliz', 2)\n2 ('Lolita', 5)\n3 ('Crimen y castigo', 2)\n4 ('Python from for to pro', 0)\n5 ('El señor de los anillos', 6)\n6 ('Cien años de soledad', 5)\n7 ('Harry Potter', 9)\n8 ('Lectura Fácil', 4)\n9 ('Seda', 2)\n10 ('La chica de nieve', 6)\n11 ('El día que se perdió la cordura', 3)\n12 ('Data Science', 0)\nTenemos 2 libros de 'seda'\n"
     ]
    }
   ],
   "source": [
    "#your code here\n",
    "for i, element in enumerate(biblioteca):\n",
    "    print(i, element)\n",
    "print(\"Tenemos\", str(biblioteca[9][1]), \"libros de 'seda'\")"
   ]
  },
  {
   "cell_type": "markdown",
   "metadata": {},
   "source": [
    "4. Quien registraba los libros antes de ti dejo pendiente de añadir a la lista **libros** la variable **pendiente**, además debió confundir el famoso libro de George Orwell *1984*, con un número, asignándolo como un integer.\n",
    "¿Puedes cambiarlo y pasar a string este elemento y añadirlo a **libros**?"
   ]
  },
  {
   "cell_type": "code",
   "execution_count": 8,
   "metadata": {},
   "outputs": [],
   "source": [
    "pendiente = 1984"
   ]
  },
  {
   "cell_type": "code",
   "execution_count": 23,
   "metadata": {},
   "outputs": [
    {
     "output_type": "stream",
     "name": "stdout",
     "text": [
      "1984\n['El mal de Corcira', 'Un mundo feliz', 'Lolita', 'Crimen y castigo', 'Python from for to pro', 'El señor de los anillos', 'Cien años de soledad', 'Harry Potter', 'Lectura Fácil', 'Seda', 'La chica de nieve', 'El día que se perdió la cordura', 'Data Science', '1984']\n"
     ]
    }
   ],
   "source": [
    "#your code here\n",
    "libros = [\"El mal de Corcira\", \"Un mundo feliz\", \"Lolita\", \"Crimen y castigo\", \"Python from for to pro\",\\\n",
    "          \"El señor de los anillos\", \"Cien años de soledad\", \"Harry Potter\", \"Lectura Fácil\", \"Seda\",\\\n",
    "          \"La chica de nieve\", \"El día que se perdió la cordura\", \"Data Science\"]\n",
    "pendiente = 1984\n",
    "pendiente=str(pendiente)\n",
    "print(pendiente)\n",
    "libros.append(pendiente)\n",
    "print(libros)"
   ]
  },
  {
   "cell_type": "markdown",
   "metadata": {},
   "source": [
    "5. Te piden que añadas a esta lista el nuevo libro de Los Juegos del hambre que se titula *Balada de pájaros cantores y serpientes*. Has contado las unidades y han llegado 10. \n",
    "\n",
    "    a. Crea una variable con el título del libro, que se llame **libro_1**. Añade este elemento a la lista **libros**.\n",
    "\n",
    "    b. Crea una variable con el número de unidades, que se llame **uds_1**.\n",
    "\n",
    "    c. Crea una variable que sea una lista llamada **nuevo_libro** en el que su primer elemento sea **libro_1** y el segundo **uds_1**. \n",
    "\n",
    "    d. Convierte a **nuevo_libro** a tupla.\n",
    "    (muestra qué tipo es ahora esta variable)\n",
    "\n",
    "    e. Añade **nuevo_libro** a la lista **biblioteca** "
   ]
  },
  {
   "cell_type": "code",
   "execution_count": 30,
   "metadata": {},
   "outputs": [
    {
     "output_type": "stream",
     "name": "stdout",
     "text": [
      "['Balada de pájaros cantores y serpientes', 10]\n('Balada de pájaros cantores y serpientes', 10)\n<class 'tuple'>\n[('El mal de Corcira', 4), ('Un mundo feliz', 2), ('Lolita', 5), ('Crimen y castigo', 2), ('Python from for to pro', 0), ('El señor de los anillos', 6), ('Cien años de soledad', 5), ('Harry Potter', 9), ('Lectura Fácil', 4), ('Seda', 2), ('La chica de nieve', 6), ('El día que se perdió la cordura', 3), ('Data Science', 0), ('Balada de pájaros cantores y serpientes', 10)]\n"
     ]
    }
   ],
   "source": [
    "#your code here\n",
    "biblioteca = [(\"El mal de Corcira\",4),(\"Un mundo feliz\", 2),(\"Lolita\", 5),\\\n",
    "              (\"Crimen y castigo\",2),(\"Python from for to pro\", 0),(\"El señor de los anillos\", 6),\\\n",
    "              (\"Cien años de soledad\", 5),(\"Harry Potter\", 9),(\"Lectura Fácil\", 4),(\"Seda\", 2),\\\n",
    "              (\"La chica de nieve\", 6),(\"El día que se perdió la cordura\", 3), (\"Data Science\", 0)]\n",
    "libro_1 = \"Balada de pájaros cantores y serpientes\"\n",
    "uds_1 = 10\n",
    "nuevo_libro = []\n",
    "nuevo_libro.append(libro_1) #pregunta: No puedo hacer el append de ambos elementos a la vez? Lo intente con una coma pero no pude.\n",
    "nuevo_libro.append(uds_1)\n",
    "print(nuevo_libro)\n",
    "nuevo_libro=tuple(nuevo_libro)\n",
    "print(nuevo_libro)\n",
    "print(type(nuevo_libro))\n",
    "biblioteca.append(nuevo_libro) # a veces se me olvida que el append no necesita una igualdad!!!!\n",
    "print(biblioteca)"
   ]
  },
  {
   "cell_type": "markdown",
   "metadata": {},
   "source": [
    "6. Acaban de traer una unidad más de *El mal de Corcira*, añade una unidad más al segundo elemento del primer elemento de la lista **biblioteca**."
   ]
  },
  {
   "cell_type": "code",
   "execution_count": 9,
   "metadata": {},
   "outputs": [
    {
     "data": {
      "text/plain": [
       "('El mal de Corcira', 4)"
      ]
     },
     "execution_count": 9,
     "metadata": {},
     "output_type": "execute_result"
    }
   ],
   "source": [
    "biblioteca[0]"
   ]
  },
  {
   "cell_type": "code",
   "execution_count": 10,
   "metadata": {},
   "outputs": [
    {
     "data": {
      "text/plain": [
       "4"
      ]
     },
     "execution_count": 10,
     "metadata": {},
     "output_type": "execute_result"
    }
   ],
   "source": [
    "biblioteca[0][1]"
   ]
  },
  {
   "cell_type": "code",
   "execution_count": 31,
   "metadata": {},
   "outputs": [
    {
     "output_type": "error",
     "ename": "TypeError",
     "evalue": "can only concatenate list (not \"int\") to list",
     "traceback": [
      "\u001b[1;31m---------------------------------------------------------------------------\u001b[0m",
      "\u001b[1;31mTypeError\u001b[0m                                 Traceback (most recent call last)",
      "\u001b[1;32m<ipython-input-31-b9969f20360f>\u001b[0m in \u001b[0;36m<module>\u001b[1;34m\u001b[0m\n\u001b[0;32m      3\u001b[0m               \u001b[1;33m(\u001b[0m\u001b[1;34m\"Cien años de soledad\"\u001b[0m\u001b[1;33m,\u001b[0m \u001b[1;36m5\u001b[0m\u001b[1;33m)\u001b[0m\u001b[1;33m,\u001b[0m\u001b[1;33m(\u001b[0m\u001b[1;34m\"Harry Potter\"\u001b[0m\u001b[1;33m,\u001b[0m \u001b[1;36m9\u001b[0m\u001b[1;33m)\u001b[0m\u001b[1;33m,\u001b[0m\u001b[1;33m(\u001b[0m\u001b[1;34m\"Lectura Fácil\"\u001b[0m\u001b[1;33m,\u001b[0m \u001b[1;36m4\u001b[0m\u001b[1;33m)\u001b[0m\u001b[1;33m,\u001b[0m\u001b[1;33m(\u001b[0m\u001b[1;34m\"Seda\"\u001b[0m\u001b[1;33m,\u001b[0m \u001b[1;36m2\u001b[0m\u001b[1;33m)\u001b[0m\u001b[1;33m,\u001b[0m\u001b[0;31m\\\u001b[0m\u001b[1;33m\u001b[0m\u001b[1;33m\u001b[0m\u001b[0m\n\u001b[0;32m      4\u001b[0m               (\"La chica de nieve\", 6),(\"El día que se perdió la cordura\", 3), (\"Data Science\", 0)]\n\u001b[1;32m----> 5\u001b[1;33m \u001b[0mbiblioteca\u001b[0m \u001b[1;33m=\u001b[0m \u001b[1;33m(\u001b[0m\u001b[0mbiblioteca\u001b[0m \u001b[1;33m+\u001b[0m \u001b[1;33m(\u001b[0m\u001b[0mbiblioteca\u001b[0m\u001b[1;33m[\u001b[0m\u001b[1;36m0\u001b[0m\u001b[1;33m]\u001b[0m\u001b[1;33m[\u001b[0m\u001b[1;36m1\u001b[0m\u001b[1;33m]\u001b[0m\u001b[1;33m-\u001b[0m\u001b[1;36m1\u001b[0m\u001b[1;33m)\u001b[0m\u001b[1;33m)\u001b[0m\u001b[1;33m\u001b[0m\u001b[1;33m\u001b[0m\u001b[0m\n\u001b[0m",
      "\u001b[1;31mTypeError\u001b[0m: can only concatenate list (not \"int\") to list"
     ]
    }
   ],
   "source": [
    "biblioteca = [(\"El mal de Corcira\",4),(\"Un mundo feliz\", 2),(\"Lolita\", 5),\\\n",
    "              (\"Crimen y castigo\",2),(\"Python from for to pro\", 0),(\"El señor de los anillos\", 6),\\\n",
    "              (\"Cien años de soledad\", 5),(\"Harry Potter\", 9),(\"Lectura Fácil\", 4),(\"Seda\", 2),\\\n",
    "              (\"La chica de nieve\", 6),(\"El día que se perdió la cordura\", 3), (\"Data Science\", 0)]\n",
    "biblioteca = (biblioteca + (biblioteca[0][1]-1))"
   ]
  },
  {
   "cell_type": "markdown",
   "metadata": {},
   "source": [
    "¿Cómo se te ocurre que podrías alterar este dato?"
   ]
  },
  {
   "cell_type": "code",
   "execution_count": 12,
   "metadata": {},
   "outputs": [],
   "source": [
    "#your comment here\n",
    "No se muy bien que hacer aqui. No se si al ser el elemento una tupla (\"El mal de Corcira\",4) no me deja modificar nada aqui. Pero en todo caso creo que igual lo estoy haciend "
   ]
  },
  {
   "cell_type": "markdown",
   "metadata": {},
   "source": [
    "Convierte la tupla en una lista para poder modificar el segundo elemento y añadir esta unidad. Asigna la tupla convertida a lista a la variable **tup_to_list** haz los cambios, agrega la unidad y vuelve a añadir la lista ya convertida en tupla a la lista **biblioteca**."
   ]
  },
  {
   "cell_type": "code",
   "execution_count": 73,
   "metadata": {},
   "outputs": [
    {
     "output_type": "stream",
     "name": "stdout",
     "text": [
      "('El mal de Corcira', 4)\n['El mal de Corcira', 4]\n"
     ]
    },
    {
     "output_type": "execute_result",
     "data": {
      "text/plain": [
       "('El mal de Corcira', 5)"
      ]
     },
     "metadata": {},
     "execution_count": 73
    }
   ],
   "source": [
    "#your code here\n",
    "biblioteca = [(\"El mal de Corcira\",4),(\"Un mundo feliz\", 2),(\"Lolita\", 5),\\\n",
    "              (\"Crimen y castigo\",2),(\"Python from for to pro\", 0),(\"El señor de los anillos\", 6),\\\n",
    "              (\"Cien años de soledad\", 5),(\"Harry Potter\", 9),(\"Lectura Fácil\", 4),(\"Seda\", 2),\\\n",
    "              (\"La chica de nieve\", 6),(\"El día que se perdió la cordura\", 3), (\"Data Science\", 0)]\n",
    "print(biblioteca[0])\n",
    "tup_to_list = list(biblioteca[0])\n",
    "print(tup_to_list)\n",
    "tup_to_list[1] = int(tup_to_list[1]) + 1\n",
    "tuple(tup_to_list)"
   ]
  },
  {
   "cell_type": "code",
   "execution_count": 77,
   "metadata": {},
   "outputs": [
    {
     "output_type": "stream",
     "name": "stdout",
     "text": [
      "('El mal de Corcira', 4)\n['El mal de Corcira', 4]\n[('El mal de Corcira', 4), ('Un mundo feliz', 2), ('Lolita', 5), ('Crimen y castigo', 2), ('Python from for to pro', 0), ('El señor de los anillos', 6), ('Cien años de soledad', 5), ('Harry Potter', 9), ('Lectura Fácil', 4), ('Seda', 2), ('La chica de nieve', 6), ('El día que se perdió la cordura', 3), ('Data Science', 0), ('El mal de Corcira', 5)]\n"
     ]
    }
   ],
   "source": [
    "biblioteca = [(\"El mal de Corcira\",4),(\"Un mundo feliz\", 2),(\"Lolita\", 5),\\\n",
    "              (\"Crimen y castigo\",2),(\"Python from for to pro\", 0),(\"El señor de los anillos\", 6),\\\n",
    "              (\"Cien años de soledad\", 5),(\"Harry Potter\", 9),(\"Lectura Fácil\", 4),(\"Seda\", 2),\\\n",
    "              (\"La chica de nieve\", 6),(\"El día que se perdió la cordura\", 3), (\"Data Science\", 0)]\n",
    "print(biblioteca[0])\n",
    "tup_to_list = list(biblioteca[0])\n",
    "print(tup_to_list)\n",
    "tup_to_list[1] = int(tup_to_list[1]) + 1\n",
    "x = tuple(tup_to_list)\n",
    "biblioteca.append(x)\n",
    "print(biblioteca)"
   ]
  },
  {
   "cell_type": "markdown",
   "metadata": {},
   "source": [
    "Ahora, tenemos dos tuplas con el libro *El mal de Corcira*, pero esto no es lo que queremos. Elimina el primer elemento de la lista **biblioteca**.\n",
    "\n",
    "Hint: https://www.programiz.com/python-programming/methods/list/remove"
   ]
  },
  {
   "cell_type": "code",
   "execution_count": 78,
   "metadata": {},
   "outputs": [
    {
     "output_type": "stream",
     "name": "stdout",
     "text": [
      "14\n[('Un mundo feliz', 2), ('Lolita', 5), ('Crimen y castigo', 2), ('Python from for to pro', 0), ('El señor de los anillos', 6), ('Cien años de soledad', 5), ('Harry Potter', 9), ('Lectura Fácil', 4), ('Seda', 2), ('La chica de nieve', 6), ('El día que se perdió la cordura', 3), ('Data Science', 0), ('El mal de Corcira', 5)]\n"
     ]
    }
   ],
   "source": [
    "#your code here\n",
    "print(len(biblioteca))\n",
    "biblioteca.pop(0)\n",
    "print(biblioteca)\n"
   ]
  },
  {
   "cell_type": "markdown",
   "metadata": {},
   "source": [
    "7. Te han pedido que localices los títulos de los libros de los que no disponen de unidades. Es decir, su segundo elemento, es igual a 0. "
   ]
  },
  {
   "cell_type": "code",
   "execution_count": 80,
   "metadata": {},
   "outputs": [
    {
     "output_type": "stream",
     "name": "stdout",
     "text": [
      "3 ('Python from for to pro', 0)\n11 ('Data Science', 0)\n"
     ]
    }
   ],
   "source": [
    "#your code here\n",
    "for i,element in enumerate(biblioteca):\n",
    "    if biblioteca[i][1] == 0:\n",
    "        print(str(i), element)\n"
   ]
  },
  {
   "cell_type": "markdown",
   "metadata": {},
   "source": [
    "8. ¿Cómo meterías estos dos elementos en una lista llamada **missing**?"
   ]
  },
  {
   "cell_type": "code",
   "execution_count": 84,
   "metadata": {},
   "outputs": [
    {
     "output_type": "stream",
     "name": "stdout",
     "text": [
      "3 ('Python from for to pro', 0)\n11 ('Data Science', 0)\n[('Python from for to pro', 0), ('Data Science', 0)]\n"
     ]
    }
   ],
   "source": [
    "#your code here\n",
    "missing = []\n",
    "for i,element in enumerate(biblioteca):\n",
    "    if biblioteca[i][1] == 0:\n",
    "        print(str(i), element)\n",
    "        missing.append(element)\n",
    "print(missing)"
   ]
  },
  {
   "cell_type": "markdown",
   "metadata": {},
   "source": [
    "9. Como en cualquier jornada de trabajo, recibes miles de email, hay uno que no habías visto pero en el que tu jefa te pide hacer un pequeño programita (función) que recoja el título de un libro y la cantidad de libros, este último parámetro por defecto será 1, chequée si tenemos ese título en la lista `libros` y si lo tenemos, sume esa cantidad a su cantidad en la lista `biblioteca` y si no, añada el título a `libros` y en una tupla nueva con la cantidad correspondiente a la lista `biblioteca`. "
   ]
  },
  {
   "cell_type": "code",
   "execution_count": 99,
   "metadata": {},
   "outputs": [
    {
     "output_type": "stream",
     "name": "stdout",
     "text": [
      "['\"Guía del Autopista Galáctico\"', '42']\n['\"Guía del Autopista Galáctico\"', '42']\n['\"Guía del Autopista Galáctico\"', '42']\n['\"Guía del Autopista Galáctico\"', '42']\n['\"Guía del Autopista Galáctico\"', '42']\n['\"Guía del Autopista Galáctico\"', '42']\n['\"Guía del Autopista Galáctico\"', '42']\n['\"Guía del Autopista Galáctico\"', '42']\n['\"Guía del Autopista Galáctico\"', '42']\n['\"Guía del Autopista Galáctico\"', '42']\n['\"Guía del Autopista Galáctico\"', '42']\n['\"Guía del Autopista Galáctico\"', '42']\n['\"Guía del Autopista Galáctico\"', '42']\n"
     ]
    }
   ],
   "source": [
    "#your code here\n",
    "biblioteca = [(\"El mal de Corcira\",4),(\"Un mundo feliz\", 2),(\"Lolita\", 5),\\\n",
    "              (\"Crimen y castigo\",2),(\"Python from for to pro\", 0),(\"El señor de los anillos\", 6),\\\n",
    "              (\"Cien años de soledad\", 5),(\"Harry Potter\", 9),(\"Lectura Fácil\", 4),(\"Seda\", 2),\\\n",
    "              (\"La chica de nieve\", 6),(\"El día que se perdió la cordura\", 3), (\"Data Science\", 0)]\n",
    "def nueva_remesa(biblioteca):\n",
    "    m = input(\"Introduce el titulo del nuevo libro\")\n",
    "    n = input(\"escribe el numero de ejemplares del nuevo libro que estas introduciendo\")\n",
    "    for i, element in enumerate(biblioteca):\n",
    "        if str(m) in str(biblioteca[i][0]):\n",
    "            print(\"ya tenemos ese libro en nuestra biblioteca. Voy a sumar la nueva cabtidad de libros a los que ya tenemos\")\n",
    "            break\n",
    "\n",
    "        else:\n",
    "            x = []\n",
    "            x.append(m)\n",
    "            x.append(n)\n",
    "    print(x)\n",
    "nueva_remesa(biblioteca)"
   ]
  },
  {
   "cell_type": "code",
   "execution_count": 131,
   "metadata": {},
   "outputs": [
    {
     "output_type": "stream",
     "name": "stdout",
     "text": [
      "ya tenemos ese libro en nuestra biblioteca. Voy a sumar la nueva cabtidad de libros a los que ya tenemos\n"
     ]
    }
   ],
   "source": [
    "#your code here\n",
    "biblioteca = [(\"El mal de Corcira\",4),(\"Un mundo feliz\", 2),(\"Lolita\", 5),\\\n",
    "              (\"Crimen y castigo\",2),(\"Python from for to pro\", 0),(\"El señor de los anillos\", 6),\\\n",
    "              (\"Cien años de soledad\", 5),(\"Harry Potter\", 9),(\"Lectura Fácil\", 4),(\"Seda\", 2),\\\n",
    "              (\"La chica de nieve\", 6),(\"El día que se perdió la cordura\", 3), (\"Data Science\", 0)]\n",
    "\n",
    "def nueva_remesa(biblioteca):\n",
    "    m = input(\"Introduce el titulo del nuevo libro\")\n",
    "    n = input(\"escribe el numero de ejemplares del nuevo libro que estas introduciendo\")\n",
    "\n",
    "    for i, element in enumerate(biblioteca):\n",
    "\n",
    "        if str(m) == (biblioteca[i][0]):\n",
    "            print(\"ya tenemos ese libro en nuestra biblioteca. Voy a sumar la nueva cabtidad de libros a los que ya tenemos\")\n",
    "            list(biblioteca[i]) # de nuevo me pasa lo mismo. Intento transformar en lista, escribo la instruccion 'list' y no hace nada. No se por que sucede esto !!!\n",
    "            tup_to_list = list(biblioteca[i])\n",
    "            tup_to_list[1] = int(tup_to_list[1]) + int(n)\n",
    "            x = tuple(tup_to_list)\n",
    "            biblioteca.pop(i)\n",
    "            biblioteca.append(x)\n",
    "            break\n",
    "            \n",
    "        else:\n",
    "            x = []\n",
    "            x.append(m)\n",
    "            x.append(n)\n",
    "            x=list(x)\n",
    "            biblioteca.append(x)\n",
    "\n",
    "\n",
    "nueva_remesa(biblioteca)\n"
   ]
  },
  {
   "cell_type": "code",
   "execution_count": 128,
   "metadata": {},
   "outputs": [
    {
     "output_type": "stream",
     "name": "stdout",
     "text": [
      "['El mal de Corcira', '3']\n[('El mal de Corcira', 4), ('Un mundo feliz', 2), ('Lolita', 5), ('Crimen y castigo', 2), ('Python from for to pro', 0), ('El señor de los anillos', 6), ('Cien años de soledad', 5), ('Harry Potter', 9), ('Lectura Fácil', 4), ('Seda', 2), ('La chica de nieve', 6), ('El día que se perdió la cordura', 3), ('Data Science', 0), ['El mal de Corcira', '3']]\n"
     ]
    }
   ],
   "source": [
    "#your code here\n",
    "biblioteca = [(\"El mal de Corcira\",4),(\"Un mundo feliz\", 2),(\"Lolita\", 5),\\\n",
    "              (\"Crimen y castigo\",2),(\"Python from for to pro\", 0),(\"El señor de los anillos\", 6),\\\n",
    "              (\"Cien años de soledad\", 5),(\"Harry Potter\", 9),(\"Lectura Fácil\", 4),(\"Seda\", 2),\\\n",
    "              (\"La chica de nieve\", 6),(\"El día que se perdió la cordura\", 3), (\"Data Science\", 0)]\n",
    "def nueva_remesa(biblioteca):\n",
    "    m = input(\"Introduce el titulo del nuevo libro\")\n",
    "    n = input(\"escribe el numero de ejemplares del nuevo libro que estas introduciendo\")\n",
    "    if str(m) in str(biblioteca[i][0]):\n",
    "        print(\"ya tenemos ese libro en nuestra biblioteca. Voy a sumar la nueva cabtidad de libros a los que ya tenemos\")\n",
    "        tup_to_list = list(biblioteca[i])\n",
    "        tup_to_list[1] = int(tup_to_list[1]) + int(n)\n",
    "        x = tuple(tup_to_list)\n",
    "        biblioteca.pop(i)\n",
    "        biblioteca.append(x)\n",
    "    else:\n",
    "        x = []\n",
    "        x.append(m)\n",
    "        x.append(n)\n",
    "        biblioteca.append(x)\n",
    "        x = list(x) #no se por que si escribo esto la x no pasa a ser una lista\n",
    "    print(x)\n",
    "    print(biblioteca)\n",
    "\n",
    "nueva_remesa(biblioteca)"
   ]
  },
  {
   "cell_type": "markdown",
   "metadata": {},
   "source": [
    "Pruébalo añadiendo el título de \"Guía del Autopista Galáctico\", cantidad 42."
   ]
  },
  {
   "cell_type": "code",
   "execution_count": 134,
   "metadata": {},
   "outputs": [
    {
     "output_type": "stream",
     "name": "stdout",
     "text": [
      "[('El mal de Corcira', 4), ('Un mundo feliz', 2), ('Lolita', 5), ('Crimen y castigo', 2), ('Python from for to pro', 0), ('El señor de los anillos', 6), ('Cien años de soledad', 5), ('Harry Potter', 9), ('Lectura Fácil', 4), ('Seda', 2), ('La chica de nieve', 6), ('El día que se perdió la cordura', 3), ('Data Science', 0)]\n",
      "ya tenemos ese libro en nuestra biblioteca. Voy a sumar la nueva cabtidad de libros a los que ya tenemos\n"
     ]
    }
   ],
   "source": [
    "#your code here\n",
    "biblioteca = [(\"El mal de Corcira\",4),(\"Un mundo feliz\", 2),(\"Lolita\", 5),\\\n",
    "              (\"Crimen y castigo\",2),(\"Python from for to pro\", 0),(\"El señor de los anillos\", 6),\\\n",
    "              (\"Cien años de soledad\", 5),(\"Harry Potter\", 9),(\"Lectura Fácil\", 4),(\"Seda\", 2),\\\n",
    "              (\"La chica de nieve\", 6),(\"El día que se perdió la cordura\", 3), (\"Data Science\", 0)]\n",
    "\n",
    "def nueva_remesa(biblioteca):\n",
    "    m = input(\"Introduce el titulo del nuevo libro\")\n",
    "    n = input(\"escribe el numero de ejemplares del nuevo libro que estas introduciendo\")\n",
    "\n",
    "    for i, element in enumerate(biblioteca):\n",
    "\n",
    "        if str(m) == (biblioteca[i][0]):\n",
    "            print(\"ya tenemos ese libro en nuestra biblioteca. Voy a sumar la nueva cabtidad de libros a los que ya tenemos\")\n",
    "            tup_to_list = list(biblioteca[i])\n",
    "            tup_to_list[1] = int(tup_to_list[1]) + int(n)\n",
    "            x = tuple(tup_to_list)\n",
    "            biblioteca.pop(i)\n",
    "            biblioteca.append(x)\n",
    "            break\n",
    "            \n",
    "        else:\n",
    "            x = []\n",
    "            x.append(m)\n",
    "            x.append(n)\n",
    "            x=list(x)\n",
    "            biblioteca.append(x)\n",
    "\n",
    "print(biblioteca)\n",
    "nueva_remesa(biblioteca) # no lo entiendo. Hubo un momento en el que funciono y ahora no."
   ]
  },
  {
   "cell_type": "code",
   "execution_count": null,
   "metadata": {},
   "outputs": [],
   "source": [
    "biblioteca = [(\"El mal de Corcira\",4),(\"Un mundo feliz\", 2),(\"Lolita\", 5),\\\n",
    "              (\"Crimen y castigo\",2),(\"Python from for to pro\", 0),(\"El señor de los anillos\", 6),\\\n",
    "              (\"Cien años de soledad\", 5),(\"Harry Potter\", 9),(\"Lectura Fácil\", 4),(\"Seda\", 2),\\\n",
    "              (\"La chica de nieve\", 6),(\"El día que se perdió la cordura\", 3), (\"Data Science\", 0)]\n",
    "\n",
    "def nueva_remesa(biblioteca):\n",
    "    m = input(\"Introduce el titulo del nuevo libro\")\n",
    "    n = input(\"escribe el numero de ejemplares del nuevo libro que estas introduciendo\")\n",
    "\n",
    "    for i, element in enumerate(biblioteca):\n",
    "\n",
    "        if str(m) == (biblioteca[i][0]):\n",
    "            print(\"ya tenemos ese libro en nuestra biblioteca. Voy a sumar la nueva cabtidad de libros a los que ya tenemos\")\n",
    "            tup_to_list = list(biblioteca[i])\n",
    "            tup_to_list[1] = int(tup_to_list[1]) + int(n)\n",
    "            x = tuple(tup_to_list)\n",
    "            biblioteca.pop(i)\n",
    "            biblioteca.append(x)\n",
    "            print(biblioteca)\n",
    "            break\n",
    "            \n",
    "        else:\n",
    "            x = []\n",
    "            x.append(m)\n",
    "            x.append(n)\n",
    "            x = tuple(x)\n",
    "            biblioteca.append(x)\n",
    "            print(biblioteca)\n",
    "            break\n",
    "nueva_remesa(biblioteca)\n",
    "\n",
    "#estaba obcecado en transformar a lista cuando lo que ten'ia que hacer era volver a conrtirlo a Tuple. "
   ]
  },
  {
   "cell_type": "markdown",
   "metadata": {},
   "source": [
    "### Bonus Track\n",
    "\n",
    "10. ¿Cuál es el libro con más unidades? ¿Cuál es la media de libros por título?"
   ]
  },
  {
   "cell_type": "code",
   "execution_count": 139,
   "metadata": {},
   "outputs": [],
   "source": [
    "#your code here\n",
    "biblioteca = [(\"El mal de Corcira\",4),(\"Un mundo feliz\", 2),(\"Lolita\", 5),\\\n",
    "              (\"Crimen y castigo\",2),(\"Python from for to pro\", 0),(\"El señor de los anillos\", 6),\\\n",
    "              (\"Cien años de soledad\", 5),(\"Harry Potter\", 9),(\"Lectura Fácil\", 4),(\"Seda\", 2),\\\n",
    "              (\"La chica de nieve\", 6),(\"El día que se perdió la cordura\", 3), (\"Data Science\", 0)]\n",
    "\n",
    "for i,element in enumerate(biblioteca):\n",
    "    if biblioteca[i][1] == max:\n",
    "        print(biblioteca)"
   ]
  },
  {
   "cell_type": "code",
   "execution_count": null,
   "metadata": {},
   "outputs": [],
   "source": []
  },
  {
   "cell_type": "markdown",
   "metadata": {},
   "source": [
    "11. ¿Cuál tiene el título más largo y cuál el más corto?"
   ]
  },
  {
   "cell_type": "code",
   "execution_count": null,
   "metadata": {},
   "outputs": [],
   "source": [
    "#your code here\n"
   ]
  }
 ],
 "metadata": {
  "kernelspec": {
   "name": "python374jvsc74a57bd0021d9f4f6a0c9e23e32c4246ac82593951ffad9baab3e58c0c69e8a8c06b339b",
   "display_name": "Python 3.7.4 64-bit"
  },
  "language_info": {
   "codemirror_mode": {
    "name": "ipython",
    "version": 3
   },
   "file_extension": ".py",
   "mimetype": "text/x-python",
   "name": "python",
   "nbconvert_exporter": "python",
   "pygments_lexer": "ipython3",
   "version": "3.7.4-final"
  },
  "metadata": {
   "interpreter": {
    "hash": "021d9f4f6a0c9e23e32c4246ac82593951ffad9baab3e58c0c69e8a8c06b339b"
   }
  }
 },
 "nbformat": 4,
 "nbformat_minor": 4
}