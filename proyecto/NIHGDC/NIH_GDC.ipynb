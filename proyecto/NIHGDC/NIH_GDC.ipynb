{
 "metadata": {
  "language_info": {
   "codemirror_mode": {
    "name": "ipython",
    "version": 3
   },
   "file_extension": ".py",
   "mimetype": "text/x-python",
   "name": "python",
   "nbconvert_exporter": "python",
   "pygments_lexer": "ipython3",
   "version": "3.7.4"
  },
  "orig_nbformat": 2,
  "kernelspec": {
   "name": "python374jvsc74a57bd0021d9f4f6a0c9e23e32c4246ac82593951ffad9baab3e58c0c69e8a8c06b339b",
   "display_name": "Python 3.7.4 64-bit"
  },
  "metadata": {
   "interpreter": {
    "hash": "021d9f4f6a0c9e23e32c4246ac82593951ffad9baab3e58c0c69e8a8c06b339b"
   }
  }
 },
 "nbformat": 4,
 "nbformat_minor": 2,
 "cells": [
  {
   "cell_type": "code",
   "execution_count": 23,
   "metadata": {},
   "outputs": [],
   "source": [
    "import requests\n",
    "import json\n",
    "import pandas as pd \n",
    "import os"
   ]
  },
  {
   "cell_type": "code",
   "execution_count": 26,
   "metadata": {},
   "outputs": [
    {
     "output_type": "execute_result",
     "data": {
      "text/plain": [
       "                                   case_id  \\\n",
       "0     417c1659-201c-4d1d-99bf-c28c986c559d   \n",
       "1     a02322a0-c133-4220-a6f1-508f90a99f8e   \n",
       "2     85b39e71-9ebf-40f6-be6b-82d1f5250f21   \n",
       "3     8e57d0f0-c8f5-4aec-acd4-5c00a0b67c66   \n",
       "4     e8d31ee4-804b-4557-a70c-9e6df8e25606   \n",
       "...                                    ...   \n",
       "5055  8e7ff529-ec6f-47ed-9559-ffb72e8fe450   \n",
       "5056  816500f7-a928-4a42-b8fc-eea4fd6756bd   \n",
       "5057  44ee1717-f98d-41d7-b932-df3830edcc6a   \n",
       "5058  08d23656-78f6-4085-bf07-80f7029b1c94   \n",
       "5059  4dfd5b23-ab80-425c-99b1-8008d0e2c133   \n",
       "\n",
       "                                                samples  \n",
       "0     [{'distributor_reference': None, 'sample_type_...  \n",
       "1     [{'distributor_reference': None, 'sample_type_...  \n",
       "2     [{'distributor_reference': None, 'sample_type_...  \n",
       "3     [{'distributor_reference': None, 'sample_type_...  \n",
       "4     [{'distributor_reference': None, 'sample_type_...  \n",
       "...                                                 ...  \n",
       "5055  [{'distributor_reference': None, 'sample_type_...  \n",
       "5056  [{'distributor_reference': None, 'sample_type_...  \n",
       "5057  [{'distributor_reference': None, 'sample_type_...  \n",
       "5058  [{'distributor_reference': None, 'sample_type_...  \n",
       "5059  [{'distributor_reference': None, 'sample_type_...  \n",
       "\n",
       "[5060 rows x 2 columns]"
      ],
      "text/html": "<div>\n<style scoped>\n    .dataframe tbody tr th:only-of-type {\n        vertical-align: middle;\n    }\n\n    .dataframe tbody tr th {\n        vertical-align: top;\n    }\n\n    .dataframe thead th {\n        text-align: right;\n    }\n</style>\n<table border=\"1\" class=\"dataframe\">\n  <thead>\n    <tr style=\"text-align: right;\">\n      <th></th>\n      <th>case_id</th>\n      <th>samples</th>\n    </tr>\n  </thead>\n  <tbody>\n    <tr>\n      <th>0</th>\n      <td>417c1659-201c-4d1d-99bf-c28c986c559d</td>\n      <td>[{'distributor_reference': None, 'sample_type_...</td>\n    </tr>\n    <tr>\n      <th>1</th>\n      <td>a02322a0-c133-4220-a6f1-508f90a99f8e</td>\n      <td>[{'distributor_reference': None, 'sample_type_...</td>\n    </tr>\n    <tr>\n      <th>2</th>\n      <td>85b39e71-9ebf-40f6-be6b-82d1f5250f21</td>\n      <td>[{'distributor_reference': None, 'sample_type_...</td>\n    </tr>\n    <tr>\n      <th>3</th>\n      <td>8e57d0f0-c8f5-4aec-acd4-5c00a0b67c66</td>\n      <td>[{'distributor_reference': None, 'sample_type_...</td>\n    </tr>\n    <tr>\n      <th>4</th>\n      <td>e8d31ee4-804b-4557-a70c-9e6df8e25606</td>\n      <td>[{'distributor_reference': None, 'sample_type_...</td>\n    </tr>\n    <tr>\n      <th>...</th>\n      <td>...</td>\n      <td>...</td>\n    </tr>\n    <tr>\n      <th>5055</th>\n      <td>8e7ff529-ec6f-47ed-9559-ffb72e8fe450</td>\n      <td>[{'distributor_reference': None, 'sample_type_...</td>\n    </tr>\n    <tr>\n      <th>5056</th>\n      <td>816500f7-a928-4a42-b8fc-eea4fd6756bd</td>\n      <td>[{'distributor_reference': None, 'sample_type_...</td>\n    </tr>\n    <tr>\n      <th>5057</th>\n      <td>44ee1717-f98d-41d7-b932-df3830edcc6a</td>\n      <td>[{'distributor_reference': None, 'sample_type_...</td>\n    </tr>\n    <tr>\n      <th>5058</th>\n      <td>08d23656-78f6-4085-bf07-80f7029b1c94</td>\n      <td>[{'distributor_reference': None, 'sample_type_...</td>\n    </tr>\n    <tr>\n      <th>5059</th>\n      <td>4dfd5b23-ab80-425c-99b1-8008d0e2c133</td>\n      <td>[{'distributor_reference': None, 'sample_type_...</td>\n    </tr>\n  </tbody>\n</table>\n<p>5060 rows × 2 columns</p>\n</div>"
     },
     "metadata": {},
     "execution_count": 26
    }
   ],
   "source": [
    "file = 'biospecimen.cases_selection.2021-05-18.json'\n",
    "with open(file) as nih_data:\n",
    "    dict_nih = json.load(nih_data)\n",
    "\n",
    "# converting json dataset from dictionary to dataframe\n",
    "nih = pd.DataFrame.from_dict(dict_nih)\n",
    "nih"
   ]
  },
  {
   "cell_type": "code",
   "execution_count": 27,
   "metadata": {},
   "outputs": [
    {
     "output_type": "execute_result",
     "data": {
      "text/plain": [
       "                                case_id  \\\n",
       "0  417c1659-201c-4d1d-99bf-c28c986c559d   \n",
       "1  a02322a0-c133-4220-a6f1-508f90a99f8e   \n",
       "2  85b39e71-9ebf-40f6-be6b-82d1f5250f21   \n",
       "3  8e57d0f0-c8f5-4aec-acd4-5c00a0b67c66   \n",
       "4  e8d31ee4-804b-4557-a70c-9e6df8e25606   \n",
       "\n",
       "                                             samples  \n",
       "0  [{'distributor_reference': None, 'sample_type_...  \n",
       "1  [{'distributor_reference': None, 'sample_type_...  \n",
       "2  [{'distributor_reference': None, 'sample_type_...  \n",
       "3  [{'distributor_reference': None, 'sample_type_...  \n",
       "4  [{'distributor_reference': None, 'sample_type_...  "
      ],
      "text/html": "<div>\n<style scoped>\n    .dataframe tbody tr th:only-of-type {\n        vertical-align: middle;\n    }\n\n    .dataframe tbody tr th {\n        vertical-align: top;\n    }\n\n    .dataframe thead th {\n        text-align: right;\n    }\n</style>\n<table border=\"1\" class=\"dataframe\">\n  <thead>\n    <tr style=\"text-align: right;\">\n      <th></th>\n      <th>case_id</th>\n      <th>samples</th>\n    </tr>\n  </thead>\n  <tbody>\n    <tr>\n      <th>0</th>\n      <td>417c1659-201c-4d1d-99bf-c28c986c559d</td>\n      <td>[{'distributor_reference': None, 'sample_type_...</td>\n    </tr>\n    <tr>\n      <th>1</th>\n      <td>a02322a0-c133-4220-a6f1-508f90a99f8e</td>\n      <td>[{'distributor_reference': None, 'sample_type_...</td>\n    </tr>\n    <tr>\n      <th>2</th>\n      <td>85b39e71-9ebf-40f6-be6b-82d1f5250f21</td>\n      <td>[{'distributor_reference': None, 'sample_type_...</td>\n    </tr>\n    <tr>\n      <th>3</th>\n      <td>8e57d0f0-c8f5-4aec-acd4-5c00a0b67c66</td>\n      <td>[{'distributor_reference': None, 'sample_type_...</td>\n    </tr>\n    <tr>\n      <th>4</th>\n      <td>e8d31ee4-804b-4557-a70c-9e6df8e25606</td>\n      <td>[{'distributor_reference': None, 'sample_type_...</td>\n    </tr>\n  </tbody>\n</table>\n</div>"
     },
     "metadata": {},
     "execution_count": 27
    }
   ],
   "source": [
    "pd.set_option('display.max_columns', None)\n",
    "nih.head()"
   ]
  },
  {
   "cell_type": "code",
   "execution_count": 22,
   "metadata": {},
   "outputs": [
    {
     "output_type": "execute_result",
     "data": {
      "text/plain": [
       "0        {'file_count': 57, 'data_categories': [{'file_...\n",
       "1        {'file_count': 55, 'data_categories': [{'file_...\n",
       "2        {'file_count': 40, 'data_categories': [{'file_...\n",
       "3        {'file_count': 55, 'data_categories': [{'file_...\n",
       "4        {'file_count': 40, 'data_categories': [{'file_...\n",
       "                               ...                        \n",
       "32267    {'file_count': 66, 'data_categories': [{'file_...\n",
       "32268    {'file_count': 57, 'data_categories': [{'file_...\n",
       "32269    {'file_count': 57, 'data_categories': [{'file_...\n",
       "32270    {'file_count': 57, 'data_categories': [{'file_...\n",
       "32271    {'file_count': 55, 'data_categories': [{'file_...\n",
       "Name: summary, Length: 32272, dtype: object"
      ]
     },
     "metadata": {},
     "execution_count": 22
    }
   ],
   "source": [
    "nih[\"summary\"]"
   ]
  },
  {
   "cell_type": "code",
   "execution_count": null,
   "metadata": {},
   "outputs": [],
   "source": []
  }
 ]
}