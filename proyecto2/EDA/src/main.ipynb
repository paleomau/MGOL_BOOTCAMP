{
 "metadata": {
  "language_info": {
   "codemirror_mode": {
    "name": "ipython",
    "version": 3
   },
   "file_extension": ".py",
   "mimetype": "text/x-python",
   "name": "python",
   "nbconvert_exporter": "python",
   "pygments_lexer": "ipython3",
   "version": "3.7.4"
  },
  "orig_nbformat": 2,
  "kernelspec": {
   "name": "python374jvsc74a57bd0021d9f4f6a0c9e23e32c4246ac82593951ffad9baab3e58c0c69e8a8c06b339b",
   "display_name": "Python 3.7.4 64-bit"
  },
  "metadata": {
   "interpreter": {
    "hash": "021d9f4f6a0c9e23e32c4246ac82593951ffad9baab3e58c0c69e8a8c06b339b"
   }
  }
 },
 "nbformat": 4,
 "nbformat_minor": 2,
 "cells": [
  {
   "cell_type": "code",
   "execution_count": 1,
   "metadata": {},
   "outputs": [],
   "source": [
    "import sys\n",
    "sys.path.append('D:\\\\MAURO\\CURSOS\\\\Master_The_Bridge\\\\Bridge_Python\\\\MGOL_BOOTCAMP\\\\proyecto2\\\\EDA\\\\src\\\\utils')\n",
    "import pandas as pd\n",
    "import numpy as np\n",
    "import mining_data_tb as md"
   ]
  },
  {
   "cell_type": "code",
   "execution_count": 2,
   "metadata": {},
   "outputs": [
    {
     "output_type": "execute_result",
     "data": {
      "text/plain": [
       "track_name       Sex Diagnosis Age Progress Free Survival (Months)  \\\n",
       "TCGA-55-8094    Male            51              17.786106454000002   \n",
       "TCGA-99-8033  Female            74              21.566886938000003   \n",
       "TCGA-69-7978    Male            59               4.405431173399999   \n",
       "TCGA-86-A4JF    Male            56                    14.334089489   \n",
       "TCGA-44-8117  Female            54                    12.657395535   \n",
       "...              ...           ...                             ...   \n",
       "TCGA-97-7546  Female            76                     41.25982181   \n",
       "TCGA-97-7547  Female            67                    25.479172831   \n",
       "TCGA-97-7552    Male            70                    26.235328928   \n",
       "TCGA-97-8174    Male            67               5.391721734600001   \n",
       "TCGA-99-AA5R  Female            70              21.632639641999997   \n",
       "\n",
       "track_name        Ethnicity Category Mutation Count  \n",
       "TCGA-55-8094  Not Hispanic Or Latino            395  \n",
       "TCGA-99-8033  Not Hispanic Or Latino            168  \n",
       "TCGA-69-7978  Not Hispanic Or Latino            546  \n",
       "TCGA-86-A4JF  Not Hispanic Or Latino           1228  \n",
       "TCGA-44-8117  Not Hispanic Or Latino            679  \n",
       "...                              ...            ...  \n",
       "TCGA-97-7546  Not Hispanic Or Latino            252  \n",
       "TCGA-97-7547  Not Hispanic Or Latino            158  \n",
       "TCGA-97-7552  Not Hispanic Or Latino             35  \n",
       "TCGA-97-8174  Not Hispanic Or Latino            158  \n",
       "TCGA-99-AA5R  Not Hispanic Or Latino             54  \n",
       "\n",
       "[520 rows x 5 columns]"
      ],
      "text/html": "<div>\n<style scoped>\n    .dataframe tbody tr th:only-of-type {\n        vertical-align: middle;\n    }\n\n    .dataframe tbody tr th {\n        vertical-align: top;\n    }\n\n    .dataframe thead th {\n        text-align: right;\n    }\n</style>\n<table border=\"1\" class=\"dataframe\">\n  <thead>\n    <tr style=\"text-align: right;\">\n      <th>track_name</th>\n      <th>Sex</th>\n      <th>Diagnosis Age</th>\n      <th>Progress Free Survival (Months)</th>\n      <th>Ethnicity Category</th>\n      <th>Mutation Count</th>\n    </tr>\n  </thead>\n  <tbody>\n    <tr>\n      <th>TCGA-55-8094</th>\n      <td>Male</td>\n      <td>51</td>\n      <td>17.786106454000002</td>\n      <td>Not Hispanic Or Latino</td>\n      <td>395</td>\n    </tr>\n    <tr>\n      <th>TCGA-99-8033</th>\n      <td>Female</td>\n      <td>74</td>\n      <td>21.566886938000003</td>\n      <td>Not Hispanic Or Latino</td>\n      <td>168</td>\n    </tr>\n    <tr>\n      <th>TCGA-69-7978</th>\n      <td>Male</td>\n      <td>59</td>\n      <td>4.405431173399999</td>\n      <td>Not Hispanic Or Latino</td>\n      <td>546</td>\n    </tr>\n    <tr>\n      <th>TCGA-86-A4JF</th>\n      <td>Male</td>\n      <td>56</td>\n      <td>14.334089489</td>\n      <td>Not Hispanic Or Latino</td>\n      <td>1228</td>\n    </tr>\n    <tr>\n      <th>TCGA-44-8117</th>\n      <td>Female</td>\n      <td>54</td>\n      <td>12.657395535</td>\n      <td>Not Hispanic Or Latino</td>\n      <td>679</td>\n    </tr>\n    <tr>\n      <th>...</th>\n      <td>...</td>\n      <td>...</td>\n      <td>...</td>\n      <td>...</td>\n      <td>...</td>\n    </tr>\n    <tr>\n      <th>TCGA-97-7546</th>\n      <td>Female</td>\n      <td>76</td>\n      <td>41.25982181</td>\n      <td>Not Hispanic Or Latino</td>\n      <td>252</td>\n    </tr>\n    <tr>\n      <th>TCGA-97-7547</th>\n      <td>Female</td>\n      <td>67</td>\n      <td>25.479172831</td>\n      <td>Not Hispanic Or Latino</td>\n      <td>158</td>\n    </tr>\n    <tr>\n      <th>TCGA-97-7552</th>\n      <td>Male</td>\n      <td>70</td>\n      <td>26.235328928</td>\n      <td>Not Hispanic Or Latino</td>\n      <td>35</td>\n    </tr>\n    <tr>\n      <th>TCGA-97-8174</th>\n      <td>Male</td>\n      <td>67</td>\n      <td>5.391721734600001</td>\n      <td>Not Hispanic Or Latino</td>\n      <td>158</td>\n    </tr>\n    <tr>\n      <th>TCGA-99-AA5R</th>\n      <td>Female</td>\n      <td>70</td>\n      <td>21.632639641999997</td>\n      <td>Not Hispanic Or Latino</td>\n      <td>54</td>\n    </tr>\n  </tbody>\n</table>\n<p>520 rows × 5 columns</p>\n</div>"
     },
     "metadata": {},
     "execution_count": 2
    }
   ],
   "source": [
    "pacientes_lung=  md.mineria_pacientes(tpv = \"D:\\MAURO\\CURSOS\\Master_The_Bridge\\Bridge_Python\\MGOL_BOOTCAMP\\proyecto2\\EDA\\data\\LUNG_PATIENT_DATA.tsv\")\n",
    "pacientes_lung"
   ]
  },
  {
   "cell_type": "code",
   "execution_count": 2,
   "metadata": {},
   "outputs": [
    {
     "output_type": "execute_result",
     "data": {
      "text/plain": [
       "track_name       Sex Diagnosis Age Progress Free Survival (Months)  \\\n",
       "TCGA-IB-7886    Male            80                    4.0437913009   \n",
       "TCGA-FB-AAPY    Male            71                     34.81605681   \n",
       "TCGA-HZ-7925    Male            66              11.966992142999999   \n",
       "TCGA-IB-7889  Female            85                    11.572475918   \n",
       "TCGA-FB-AAPQ    Male            65                    37.150277805   \n",
       "...              ...           ...                             ...   \n",
       "TCGA-F2-7276    Male            64                    7.1012920406   \n",
       "TCGA-HZ-7923    Male            65                    10.323174541   \n",
       "TCGA-HZ-8519    Male            73              14.925863825999999   \n",
       "TCGA-IB-AAUT    Male            65                    9.4355130355   \n",
       "TCGA-US-A77J  Female            81                    18.673767959   \n",
       "\n",
       "track_name        Ethnicity Category Mutation Count  \n",
       "TCGA-IB-7886  Not Hispanic Or Latino             41  \n",
       "TCGA-FB-AAPY  Not Hispanic Or Latino             32  \n",
       "TCGA-HZ-7925  Not Hispanic Or Latino             20  \n",
       "TCGA-IB-7889  Not Hispanic Or Latino             38  \n",
       "TCGA-FB-AAPQ  Not Hispanic Or Latino             36  \n",
       "...                              ...            ...  \n",
       "TCGA-F2-7276  Not Hispanic Or Latino              0  \n",
       "TCGA-HZ-7923  Not Hispanic Or Latino              0  \n",
       "TCGA-HZ-8519  Not Hispanic Or Latino              0  \n",
       "TCGA-IB-AAUT  Not Hispanic Or Latino              0  \n",
       "TCGA-US-A77J  Not Hispanic Or Latino              0  \n",
       "\n",
       "[141 rows x 5 columns]"
      ],
      "text/html": "<div>\n<style scoped>\n    .dataframe tbody tr th:only-of-type {\n        vertical-align: middle;\n    }\n\n    .dataframe tbody tr th {\n        vertical-align: top;\n    }\n\n    .dataframe thead th {\n        text-align: right;\n    }\n</style>\n<table border=\"1\" class=\"dataframe\">\n  <thead>\n    <tr style=\"text-align: right;\">\n      <th>track_name</th>\n      <th>Sex</th>\n      <th>Diagnosis Age</th>\n      <th>Progress Free Survival (Months)</th>\n      <th>Ethnicity Category</th>\n      <th>Mutation Count</th>\n    </tr>\n  </thead>\n  <tbody>\n    <tr>\n      <th>TCGA-IB-7886</th>\n      <td>Male</td>\n      <td>80</td>\n      <td>4.0437913009</td>\n      <td>Not Hispanic Or Latino</td>\n      <td>41</td>\n    </tr>\n    <tr>\n      <th>TCGA-FB-AAPY</th>\n      <td>Male</td>\n      <td>71</td>\n      <td>34.81605681</td>\n      <td>Not Hispanic Or Latino</td>\n      <td>32</td>\n    </tr>\n    <tr>\n      <th>TCGA-HZ-7925</th>\n      <td>Male</td>\n      <td>66</td>\n      <td>11.966992142999999</td>\n      <td>Not Hispanic Or Latino</td>\n      <td>20</td>\n    </tr>\n    <tr>\n      <th>TCGA-IB-7889</th>\n      <td>Female</td>\n      <td>85</td>\n      <td>11.572475918</td>\n      <td>Not Hispanic Or Latino</td>\n      <td>38</td>\n    </tr>\n    <tr>\n      <th>TCGA-FB-AAPQ</th>\n      <td>Male</td>\n      <td>65</td>\n      <td>37.150277805</td>\n      <td>Not Hispanic Or Latino</td>\n      <td>36</td>\n    </tr>\n    <tr>\n      <th>...</th>\n      <td>...</td>\n      <td>...</td>\n      <td>...</td>\n      <td>...</td>\n      <td>...</td>\n    </tr>\n    <tr>\n      <th>TCGA-F2-7276</th>\n      <td>Male</td>\n      <td>64</td>\n      <td>7.1012920406</td>\n      <td>Not Hispanic Or Latino</td>\n      <td>0</td>\n    </tr>\n    <tr>\n      <th>TCGA-HZ-7923</th>\n      <td>Male</td>\n      <td>65</td>\n      <td>10.323174541</td>\n      <td>Not Hispanic Or Latino</td>\n      <td>0</td>\n    </tr>\n    <tr>\n      <th>TCGA-HZ-8519</th>\n      <td>Male</td>\n      <td>73</td>\n      <td>14.925863825999999</td>\n      <td>Not Hispanic Or Latino</td>\n      <td>0</td>\n    </tr>\n    <tr>\n      <th>TCGA-IB-AAUT</th>\n      <td>Male</td>\n      <td>65</td>\n      <td>9.4355130355</td>\n      <td>Not Hispanic Or Latino</td>\n      <td>0</td>\n    </tr>\n    <tr>\n      <th>TCGA-US-A77J</th>\n      <td>Female</td>\n      <td>81</td>\n      <td>18.673767959</td>\n      <td>Not Hispanic Or Latino</td>\n      <td>0</td>\n    </tr>\n  </tbody>\n</table>\n<p>141 rows × 5 columns</p>\n</div>"
     },
     "metadata": {},
     "execution_count": 2
    }
   ],
   "source": [
    "pacientes_pancreas=  md.mineria_pacientes(tpv = \"D:\\MAURO\\CURSOS\\Master_The_Bridge\\Bridge_Python\\MGOL_BOOTCAMP\\proyecto2\\EDA\\data\\pancreas\\pancreas_PATIENT_DATA_oncoprint.tsv\")\n",
    "pacientes_pancreas"
   ]
  },
  {
   "cell_type": "code",
   "execution_count": null,
   "metadata": {},
   "outputs": [],
   "source": []
  }
 ]
}