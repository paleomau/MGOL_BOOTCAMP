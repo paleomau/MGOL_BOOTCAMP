{
 "metadata": {
  "language_info": {
   "codemirror_mode": {
    "name": "ipython",
    "version": 3
   },
   "file_extension": ".py",
   "mimetype": "text/x-python",
   "name": "python",
   "nbconvert_exporter": "python",
   "pygments_lexer": "ipython3",
   "version": "3.7.4"
  },
  "orig_nbformat": 2,
  "kernelspec": {
   "name": "python374jvsc74a57bd0021d9f4f6a0c9e23e32c4246ac82593951ffad9baab3e58c0c69e8a8c06b339b",
   "display_name": "Python 3.7.4 64-bit"
  },
  "metadata": {
   "interpreter": {
    "hash": "021d9f4f6a0c9e23e32c4246ac82593951ffad9baab3e58c0c69e8a8c06b339b"
   }
  }
 },
 "nbformat": 4,
 "nbformat_minor": 2,
 "cells": [
  {
   "cell_type": "code",
   "execution_count": 1,
   "metadata": {},
   "outputs": [],
   "source": [
    "import pandas as pd \n",
    "import numpy as np "
   ]
  },
  {
   "cell_type": "code",
   "execution_count": 6,
   "metadata": {},
   "outputs": [
    {
     "output_type": "execute_result",
     "data": {
      "text/plain": [
       "       Study ID       Sample ID      Patient ID  Altered            TP53  \\\n",
       "0    luad_broad       LU-A08-43       LU-A08-43        1   no alteration   \n",
       "1    luad_broad      LUAD-U6SJ7      LUAD-U6SJ7        1   no alteration   \n",
       "2    luad_broad     LUAD-E01014     LUAD-E01014        1  A276D (driver)   \n",
       "3    luad_broad     LUAD-S01404     LUAD-S01404        1   no alteration   \n",
       "4    luad_broad     LUAD-S01381     LUAD-S01381        1   no alteration   \n",
       "..          ...             ...             ...      ...             ...   \n",
       "907    luad_tsp  luad_tsp_17769  luad_tsp_17769        0   no alteration   \n",
       "908    luad_tsp  luad_tsp_17776  luad_tsp_17776        0   no alteration   \n",
       "909    luad_tsp  luad_tsp_17778  luad_tsp_17778        0   no alteration   \n",
       "910    luad_tsp  luad_tsp_17784  luad_tsp_17784        0   no alteration   \n",
       "911    luad_tsp  luad_tsp_16594  luad_tsp_16594        0   no alteration   \n",
       "\n",
       "              KRAS           KEAP1                   EGFR       TP53: MUT  \\\n",
       "0    no alteration   no alteration  H773_V774dup (driver)   no alteration   \n",
       "1    G12C (driver)  R601W (driver)          no alteration   no alteration   \n",
       "2    no alteration   no alteration         G719A (driver)  A276D (driver)   \n",
       "3    G12C (driver)           D389Y          no alteration   no alteration   \n",
       "4    no alteration            H96L          no alteration   no alteration   \n",
       "..             ...             ...                    ...             ...   \n",
       "907  no alteration    not profiled          no alteration   no alteration   \n",
       "908  no alteration    not profiled          no alteration   no alteration   \n",
       "909  no alteration    not profiled          no alteration   no alteration   \n",
       "910  no alteration    not profiled          no alteration   no alteration   \n",
       "911  no alteration   no alteration          no alteration   no alteration   \n",
       "\n",
       "         KRAS: MUT      KEAP1: MUT              EGFR: MUT  \n",
       "0    no alteration   no alteration  H773_V774dup (driver)  \n",
       "1    G12C (driver)  R601W (driver)          no alteration  \n",
       "2    no alteration   no alteration         G719A (driver)  \n",
       "3    G12C (driver)           D389Y          no alteration  \n",
       "4    no alteration            H96L          no alteration  \n",
       "..             ...             ...                    ...  \n",
       "907  no alteration    not profiled          no alteration  \n",
       "908  no alteration    not profiled          no alteration  \n",
       "909  no alteration    not profiled          no alteration  \n",
       "910  no alteration    not profiled          no alteration  \n",
       "911  no alteration   no alteration          no alteration  \n",
       "\n",
       "[912 rows x 12 columns]"
      ],
      "text/html": "<div>\n<style scoped>\n    .dataframe tbody tr th:only-of-type {\n        vertical-align: middle;\n    }\n\n    .dataframe tbody tr th {\n        vertical-align: top;\n    }\n\n    .dataframe thead th {\n        text-align: right;\n    }\n</style>\n<table border=\"1\" class=\"dataframe\">\n  <thead>\n    <tr style=\"text-align: right;\">\n      <th></th>\n      <th>Study ID</th>\n      <th>Sample ID</th>\n      <th>Patient ID</th>\n      <th>Altered</th>\n      <th>TP53</th>\n      <th>KRAS</th>\n      <th>KEAP1</th>\n      <th>EGFR</th>\n      <th>TP53: MUT</th>\n      <th>KRAS: MUT</th>\n      <th>KEAP1: MUT</th>\n      <th>EGFR: MUT</th>\n    </tr>\n  </thead>\n  <tbody>\n    <tr>\n      <th>0</th>\n      <td>luad_broad</td>\n      <td>LU-A08-43</td>\n      <td>LU-A08-43</td>\n      <td>1</td>\n      <td>no alteration</td>\n      <td>no alteration</td>\n      <td>no alteration</td>\n      <td>H773_V774dup (driver)</td>\n      <td>no alteration</td>\n      <td>no alteration</td>\n      <td>no alteration</td>\n      <td>H773_V774dup (driver)</td>\n    </tr>\n    <tr>\n      <th>1</th>\n      <td>luad_broad</td>\n      <td>LUAD-U6SJ7</td>\n      <td>LUAD-U6SJ7</td>\n      <td>1</td>\n      <td>no alteration</td>\n      <td>G12C (driver)</td>\n      <td>R601W (driver)</td>\n      <td>no alteration</td>\n      <td>no alteration</td>\n      <td>G12C (driver)</td>\n      <td>R601W (driver)</td>\n      <td>no alteration</td>\n    </tr>\n    <tr>\n      <th>2</th>\n      <td>luad_broad</td>\n      <td>LUAD-E01014</td>\n      <td>LUAD-E01014</td>\n      <td>1</td>\n      <td>A276D (driver)</td>\n      <td>no alteration</td>\n      <td>no alteration</td>\n      <td>G719A (driver)</td>\n      <td>A276D (driver)</td>\n      <td>no alteration</td>\n      <td>no alteration</td>\n      <td>G719A (driver)</td>\n    </tr>\n    <tr>\n      <th>3</th>\n      <td>luad_broad</td>\n      <td>LUAD-S01404</td>\n      <td>LUAD-S01404</td>\n      <td>1</td>\n      <td>no alteration</td>\n      <td>G12C (driver)</td>\n      <td>D389Y</td>\n      <td>no alteration</td>\n      <td>no alteration</td>\n      <td>G12C (driver)</td>\n      <td>D389Y</td>\n      <td>no alteration</td>\n    </tr>\n    <tr>\n      <th>4</th>\n      <td>luad_broad</td>\n      <td>LUAD-S01381</td>\n      <td>LUAD-S01381</td>\n      <td>1</td>\n      <td>no alteration</td>\n      <td>no alteration</td>\n      <td>H96L</td>\n      <td>no alteration</td>\n      <td>no alteration</td>\n      <td>no alteration</td>\n      <td>H96L</td>\n      <td>no alteration</td>\n    </tr>\n    <tr>\n      <th>...</th>\n      <td>...</td>\n      <td>...</td>\n      <td>...</td>\n      <td>...</td>\n      <td>...</td>\n      <td>...</td>\n      <td>...</td>\n      <td>...</td>\n      <td>...</td>\n      <td>...</td>\n      <td>...</td>\n      <td>...</td>\n    </tr>\n    <tr>\n      <th>907</th>\n      <td>luad_tsp</td>\n      <td>luad_tsp_17769</td>\n      <td>luad_tsp_17769</td>\n      <td>0</td>\n      <td>no alteration</td>\n      <td>no alteration</td>\n      <td>not profiled</td>\n      <td>no alteration</td>\n      <td>no alteration</td>\n      <td>no alteration</td>\n      <td>not profiled</td>\n      <td>no alteration</td>\n    </tr>\n    <tr>\n      <th>908</th>\n      <td>luad_tsp</td>\n      <td>luad_tsp_17776</td>\n      <td>luad_tsp_17776</td>\n      <td>0</td>\n      <td>no alteration</td>\n      <td>no alteration</td>\n      <td>not profiled</td>\n      <td>no alteration</td>\n      <td>no alteration</td>\n      <td>no alteration</td>\n      <td>not profiled</td>\n      <td>no alteration</td>\n    </tr>\n    <tr>\n      <th>909</th>\n      <td>luad_tsp</td>\n      <td>luad_tsp_17778</td>\n      <td>luad_tsp_17778</td>\n      <td>0</td>\n      <td>no alteration</td>\n      <td>no alteration</td>\n      <td>not profiled</td>\n      <td>no alteration</td>\n      <td>no alteration</td>\n      <td>no alteration</td>\n      <td>not profiled</td>\n      <td>no alteration</td>\n    </tr>\n    <tr>\n      <th>910</th>\n      <td>luad_tsp</td>\n      <td>luad_tsp_17784</td>\n      <td>luad_tsp_17784</td>\n      <td>0</td>\n      <td>no alteration</td>\n      <td>no alteration</td>\n      <td>not profiled</td>\n      <td>no alteration</td>\n      <td>no alteration</td>\n      <td>no alteration</td>\n      <td>not profiled</td>\n      <td>no alteration</td>\n    </tr>\n    <tr>\n      <th>911</th>\n      <td>luad_tsp</td>\n      <td>luad_tsp_16594</td>\n      <td>luad_tsp_16594</td>\n      <td>0</td>\n      <td>no alteration</td>\n      <td>no alteration</td>\n      <td>no alteration</td>\n      <td>no alteration</td>\n      <td>no alteration</td>\n      <td>no alteration</td>\n      <td>no alteration</td>\n      <td>no alteration</td>\n    </tr>\n  </tbody>\n</table>\n<p>912 rows × 12 columns</p>\n</div>"
     },
     "metadata": {},
     "execution_count": 6
    }
   ],
   "source": [
    "alteration_samples = pd.read_csv(\"alterations_across_samples.tsv\", sep='\\t')\n",
    "alteration_samples"
   ]
  },
  {
   "cell_type": "code",
   "execution_count": 8,
   "metadata": {},
   "outputs": [],
   "source": [
    "dato_pacientes = pd.read_csv(\"PATIENT_DATA_project2.tsv\", sep='\\t')\n",
    "dato_pacientes\n",
    "pacientes_id = list(dato_pacientes.T.index.values)"
   ]
  },
  {
   "cell_type": "code",
   "execution_count": 9,
   "metadata": {},
   "outputs": [],
   "source": [
    "alteration = alteration_samples['Patient ID'].to_list()\n",
    "\n"
   ]
  },
  {
   "cell_type": "code",
   "execution_count": 10,
   "metadata": {},
   "outputs": [],
   "source": [
    "coinciden = []\n",
    "for id in alteration:\n",
    "    if id in pacientes_id:\n",
    "        coinciden.append(id)\n"
   ]
  },
  {
   "cell_type": "code",
   "execution_count": 12,
   "metadata": {},
   "outputs": [
    {
     "output_type": "stream",
     "name": "stdout",
     "text": [
      "912\n"
     ]
    }
   ],
   "source": [
    "coinciden\n",
    "print(len(coinciden))"
   ]
  },
  {
   "cell_type": "code",
   "execution_count": null,
   "metadata": {},
   "outputs": [],
   "source": []
  }
 ]
}