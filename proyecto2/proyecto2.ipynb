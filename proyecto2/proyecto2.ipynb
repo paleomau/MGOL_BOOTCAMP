{
 "metadata": {
  "language_info": {
   "codemirror_mode": {
    "name": "ipython",
    "version": 3
   },
   "file_extension": ".py",
   "mimetype": "text/x-python",
   "name": "python",
   "nbconvert_exporter": "python",
   "pygments_lexer": "ipython3",
   "version": "3.7.4"
  },
  "orig_nbformat": 2,
  "kernelspec": {
   "name": "python374jvsc74a57bd0021d9f4f6a0c9e23e32c4246ac82593951ffad9baab3e58c0c69e8a8c06b339b",
   "display_name": "Python 3.7.4 64-bit"
  },
  "metadata": {
   "interpreter": {
    "hash": "021d9f4f6a0c9e23e32c4246ac82593951ffad9baab3e58c0c69e8a8c06b339b"
   }
  }
 },
 "nbformat": 4,
 "nbformat_minor": 2,
 "cells": [
  {
   "cell_type": "code",
   "execution_count": 2,
   "metadata": {},
   "outputs": [],
   "source": [
    "import pandas as pd \n",
    "import numpy as np "
   ]
  },
  {
   "cell_type": "code",
   "execution_count": 29,
   "metadata": {},
   "outputs": [
    {
     "output_type": "execute_result",
     "data": {
      "text/plain": [
       "Index(['Study ID', 'Sample ID', 'Patient ID', 'Altered', 'TP53', 'KRAS',\n",
       "       'KEAP1', 'EGFR', 'TP53: MUT', 'KRAS: MUT', 'KEAP1: MUT', 'EGFR: MUT'],\n",
       "      dtype='object')"
      ]
     },
     "metadata": {},
     "execution_count": 29
    }
   ],
   "source": [
    "alteration_samples = pd.read_csv(\"alterations_across_samples.tsv\", sep='\\t')\n",
    "alteration_samples.columns"
   ]
  },
  {
   "cell_type": "code",
   "execution_count": 31,
   "metadata": {},
   "outputs": [
    {
     "output_type": "execute_result",
     "data": {
      "text/plain": [
       "                                                         0         1   \\\n",
       "track_name                                  Study of origin       Sex   \n",
       "track_type                                         CLINICAL  CLINICAL   \n",
       "TCGA-55-8302    Lung Adenocarcinoma (TCGA, PanCancer Atlas)      Male   \n",
       "TCGA-55-8094    Lung Adenocarcinoma (TCGA, PanCancer Atlas)      Male   \n",
       "TCGA-99-8033    Lung Adenocarcinoma (TCGA, PanCancer Atlas)    Female   \n",
       "...                                                     ...       ...   \n",
       "luad_tsp_17745       Lung Adenocarcinoma (TSP, Nature 2008)       NaN   \n",
       "luad_tsp_17769       Lung Adenocarcinoma (TSP, Nature 2008)       NaN   \n",
       "luad_tsp_17776       Lung Adenocarcinoma (TSP, Nature 2008)       NaN   \n",
       "luad_tsp_17778       Lung Adenocarcinoma (TSP, Nature 2008)       NaN   \n",
       "luad_tsp_17784       Lung Adenocarcinoma (TSP, Nature 2008)       NaN   \n",
       "\n",
       "                           2                                3   \\\n",
       "track_name      Diagnosis Age  Progress Free Survival (Months)   \n",
       "track_type           CLINICAL                         CLINICAL   \n",
       "TCGA-55-8302               54                     15.714896275   \n",
       "TCGA-55-8094               51               17.786106454000002   \n",
       "TCGA-99-8033               74               21.566886938000003   \n",
       "...                       ...                              ...   \n",
       "luad_tsp_17745            NaN                              NaN   \n",
       "luad_tsp_17769            NaN                              NaN   \n",
       "luad_tsp_17776            NaN                              NaN   \n",
       "luad_tsp_17778            NaN                              NaN   \n",
       "luad_tsp_17784            NaN                              NaN   \n",
       "\n",
       "                                    4               5   \\\n",
       "track_name          Ethnicity Category  Mutation Count   \n",
       "track_type                    CLINICAL        CLINICAL   \n",
       "TCGA-55-8302                       NaN             615   \n",
       "TCGA-55-8094    Not Hispanic Or Latino             395   \n",
       "TCGA-99-8033    Not Hispanic Or Latino             168   \n",
       "...                                ...             ...   \n",
       "luad_tsp_17745                     NaN               1   \n",
       "luad_tsp_17769                     NaN               2   \n",
       "luad_tsp_17776                     NaN               4   \n",
       "luad_tsp_17778                     NaN               2   \n",
       "luad_tsp_17784                     NaN               5   \n",
       "\n",
       "                                        6                        7   \\\n",
       "track_name                     Cancer Type  Mutation spectrum (C>A)   \n",
       "track_type                        CLINICAL                 CLINICAL   \n",
       "TCGA-55-8302    Non-Small Cell Lung Cancer                      297   \n",
       "TCGA-55-8094    Non-Small Cell Lung Cancer                      195   \n",
       "TCGA-99-8033    Non-Small Cell Lung Cancer                       67   \n",
       "...                                    ...                      ...   \n",
       "luad_tsp_17745  Non-Small Cell Lung Cancer                        0   \n",
       "luad_tsp_17769  Non-Small Cell Lung Cancer                      NaN   \n",
       "luad_tsp_17776  Non-Small Cell Lung Cancer                        2   \n",
       "luad_tsp_17778  Non-Small Cell Lung Cancer                        0   \n",
       "luad_tsp_17784  Non-Small Cell Lung Cancer                        1   \n",
       "\n",
       "                                     8                        9   ...     26  \\\n",
       "track_name      Mutation spectrum (C>G)  Mutation spectrum (C>T)  ...  KEAP1   \n",
       "track_type                     CLINICAL                 CLINICAL  ...   MRNA   \n",
       "TCGA-55-8302                         61                      110  ...    NaN   \n",
       "TCGA-55-8094                         37                       62  ...    NaN   \n",
       "TCGA-99-8033                         20                       42  ...    NaN   \n",
       "...                                 ...                      ...  ...    ...   \n",
       "luad_tsp_17745                        1                        0  ...    NaN   \n",
       "luad_tsp_17769                      NaN                      NaN  ...    NaN   \n",
       "luad_tsp_17776                        0                        1  ...    NaN   \n",
       "luad_tsp_17778                        0                        2  ...    NaN   \n",
       "luad_tsp_17784                        1                        1  ...    NaN   \n",
       "\n",
       "                  27       28       29       30       31                  32  \\\n",
       "track_name      EGFR     TP53     KRAS    KEAP1     EGFR                TP53   \n",
       "track_type      MRNA  PROTEIN  PROTEIN  PROTEIN  PROTEIN  STRUCTURAL_VARIANT   \n",
       "TCGA-55-8302     NaN      NaN      NaN      NaN      NaN               false   \n",
       "TCGA-55-8094     NaN      NaN      NaN      NaN      NaN               false   \n",
       "TCGA-99-8033     NaN      NaN      NaN      NaN      NaN               false   \n",
       "...              ...      ...      ...      ...      ...                 ...   \n",
       "luad_tsp_17745   NaN      NaN      NaN      NaN      NaN               false   \n",
       "luad_tsp_17769   NaN      NaN      NaN      NaN      NaN               false   \n",
       "luad_tsp_17776   NaN      NaN      NaN      NaN      NaN               false   \n",
       "luad_tsp_17778   NaN      NaN      NaN      NaN      NaN               false   \n",
       "luad_tsp_17784   NaN      NaN      NaN      NaN      NaN               false   \n",
       "\n",
       "                                33                  34                  35  \n",
       "track_name                    KRAS               KEAP1                EGFR  \n",
       "track_type      STRUCTURAL_VARIANT  STRUCTURAL_VARIANT  STRUCTURAL_VARIANT  \n",
       "TCGA-55-8302                 false               false               false  \n",
       "TCGA-55-8094                 false               false               false  \n",
       "TCGA-99-8033                 false               false               false  \n",
       "...                            ...                 ...                 ...  \n",
       "luad_tsp_17745               false               false               false  \n",
       "luad_tsp_17769               false               false               false  \n",
       "luad_tsp_17776               false               false               false  \n",
       "luad_tsp_17778               false               false               false  \n",
       "luad_tsp_17784               false               false               false  \n",
       "\n",
       "[914 rows x 36 columns]"
      ],
      "text/html": "<div>\n<style scoped>\n    .dataframe tbody tr th:only-of-type {\n        vertical-align: middle;\n    }\n\n    .dataframe tbody tr th {\n        vertical-align: top;\n    }\n\n    .dataframe thead th {\n        text-align: right;\n    }\n</style>\n<table border=\"1\" class=\"dataframe\">\n  <thead>\n    <tr style=\"text-align: right;\">\n      <th></th>\n      <th>0</th>\n      <th>1</th>\n      <th>2</th>\n      <th>3</th>\n      <th>4</th>\n      <th>5</th>\n      <th>6</th>\n      <th>7</th>\n      <th>8</th>\n      <th>9</th>\n      <th>...</th>\n      <th>26</th>\n      <th>27</th>\n      <th>28</th>\n      <th>29</th>\n      <th>30</th>\n      <th>31</th>\n      <th>32</th>\n      <th>33</th>\n      <th>34</th>\n      <th>35</th>\n    </tr>\n  </thead>\n  <tbody>\n    <tr>\n      <th>track_name</th>\n      <td>Study of origin</td>\n      <td>Sex</td>\n      <td>Diagnosis Age</td>\n      <td>Progress Free Survival (Months)</td>\n      <td>Ethnicity Category</td>\n      <td>Mutation Count</td>\n      <td>Cancer Type</td>\n      <td>Mutation spectrum (C&gt;A)</td>\n      <td>Mutation spectrum (C&gt;G)</td>\n      <td>Mutation spectrum (C&gt;T)</td>\n      <td>...</td>\n      <td>KEAP1</td>\n      <td>EGFR</td>\n      <td>TP53</td>\n      <td>KRAS</td>\n      <td>KEAP1</td>\n      <td>EGFR</td>\n      <td>TP53</td>\n      <td>KRAS</td>\n      <td>KEAP1</td>\n      <td>EGFR</td>\n    </tr>\n    <tr>\n      <th>track_type</th>\n      <td>CLINICAL</td>\n      <td>CLINICAL</td>\n      <td>CLINICAL</td>\n      <td>CLINICAL</td>\n      <td>CLINICAL</td>\n      <td>CLINICAL</td>\n      <td>CLINICAL</td>\n      <td>CLINICAL</td>\n      <td>CLINICAL</td>\n      <td>CLINICAL</td>\n      <td>...</td>\n      <td>MRNA</td>\n      <td>MRNA</td>\n      <td>PROTEIN</td>\n      <td>PROTEIN</td>\n      <td>PROTEIN</td>\n      <td>PROTEIN</td>\n      <td>STRUCTURAL_VARIANT</td>\n      <td>STRUCTURAL_VARIANT</td>\n      <td>STRUCTURAL_VARIANT</td>\n      <td>STRUCTURAL_VARIANT</td>\n    </tr>\n    <tr>\n      <th>TCGA-55-8302</th>\n      <td>Lung Adenocarcinoma (TCGA, PanCancer Atlas)</td>\n      <td>Male</td>\n      <td>54</td>\n      <td>15.714896275</td>\n      <td>NaN</td>\n      <td>615</td>\n      <td>Non-Small Cell Lung Cancer</td>\n      <td>297</td>\n      <td>61</td>\n      <td>110</td>\n      <td>...</td>\n      <td>NaN</td>\n      <td>NaN</td>\n      <td>NaN</td>\n      <td>NaN</td>\n      <td>NaN</td>\n      <td>NaN</td>\n      <td>false</td>\n      <td>false</td>\n      <td>false</td>\n      <td>false</td>\n    </tr>\n    <tr>\n      <th>TCGA-55-8094</th>\n      <td>Lung Adenocarcinoma (TCGA, PanCancer Atlas)</td>\n      <td>Male</td>\n      <td>51</td>\n      <td>17.786106454000002</td>\n      <td>Not Hispanic Or Latino</td>\n      <td>395</td>\n      <td>Non-Small Cell Lung Cancer</td>\n      <td>195</td>\n      <td>37</td>\n      <td>62</td>\n      <td>...</td>\n      <td>NaN</td>\n      <td>NaN</td>\n      <td>NaN</td>\n      <td>NaN</td>\n      <td>NaN</td>\n      <td>NaN</td>\n      <td>false</td>\n      <td>false</td>\n      <td>false</td>\n      <td>false</td>\n    </tr>\n    <tr>\n      <th>TCGA-99-8033</th>\n      <td>Lung Adenocarcinoma (TCGA, PanCancer Atlas)</td>\n      <td>Female</td>\n      <td>74</td>\n      <td>21.566886938000003</td>\n      <td>Not Hispanic Or Latino</td>\n      <td>168</td>\n      <td>Non-Small Cell Lung Cancer</td>\n      <td>67</td>\n      <td>20</td>\n      <td>42</td>\n      <td>...</td>\n      <td>NaN</td>\n      <td>NaN</td>\n      <td>NaN</td>\n      <td>NaN</td>\n      <td>NaN</td>\n      <td>NaN</td>\n      <td>false</td>\n      <td>false</td>\n      <td>false</td>\n      <td>false</td>\n    </tr>\n    <tr>\n      <th>...</th>\n      <td>...</td>\n      <td>...</td>\n      <td>...</td>\n      <td>...</td>\n      <td>...</td>\n      <td>...</td>\n      <td>...</td>\n      <td>...</td>\n      <td>...</td>\n      <td>...</td>\n      <td>...</td>\n      <td>...</td>\n      <td>...</td>\n      <td>...</td>\n      <td>...</td>\n      <td>...</td>\n      <td>...</td>\n      <td>...</td>\n      <td>...</td>\n      <td>...</td>\n      <td>...</td>\n    </tr>\n    <tr>\n      <th>luad_tsp_17745</th>\n      <td>Lung Adenocarcinoma (TSP, Nature 2008)</td>\n      <td>NaN</td>\n      <td>NaN</td>\n      <td>NaN</td>\n      <td>NaN</td>\n      <td>1</td>\n      <td>Non-Small Cell Lung Cancer</td>\n      <td>0</td>\n      <td>1</td>\n      <td>0</td>\n      <td>...</td>\n      <td>NaN</td>\n      <td>NaN</td>\n      <td>NaN</td>\n      <td>NaN</td>\n      <td>NaN</td>\n      <td>NaN</td>\n      <td>false</td>\n      <td>false</td>\n      <td>false</td>\n      <td>false</td>\n    </tr>\n    <tr>\n      <th>luad_tsp_17769</th>\n      <td>Lung Adenocarcinoma (TSP, Nature 2008)</td>\n      <td>NaN</td>\n      <td>NaN</td>\n      <td>NaN</td>\n      <td>NaN</td>\n      <td>2</td>\n      <td>Non-Small Cell Lung Cancer</td>\n      <td>NaN</td>\n      <td>NaN</td>\n      <td>NaN</td>\n      <td>...</td>\n      <td>NaN</td>\n      <td>NaN</td>\n      <td>NaN</td>\n      <td>NaN</td>\n      <td>NaN</td>\n      <td>NaN</td>\n      <td>false</td>\n      <td>false</td>\n      <td>false</td>\n      <td>false</td>\n    </tr>\n    <tr>\n      <th>luad_tsp_17776</th>\n      <td>Lung Adenocarcinoma (TSP, Nature 2008)</td>\n      <td>NaN</td>\n      <td>NaN</td>\n      <td>NaN</td>\n      <td>NaN</td>\n      <td>4</td>\n      <td>Non-Small Cell Lung Cancer</td>\n      <td>2</td>\n      <td>0</td>\n      <td>1</td>\n      <td>...</td>\n      <td>NaN</td>\n      <td>NaN</td>\n      <td>NaN</td>\n      <td>NaN</td>\n      <td>NaN</td>\n      <td>NaN</td>\n      <td>false</td>\n      <td>false</td>\n      <td>false</td>\n      <td>false</td>\n    </tr>\n    <tr>\n      <th>luad_tsp_17778</th>\n      <td>Lung Adenocarcinoma (TSP, Nature 2008)</td>\n      <td>NaN</td>\n      <td>NaN</td>\n      <td>NaN</td>\n      <td>NaN</td>\n      <td>2</td>\n      <td>Non-Small Cell Lung Cancer</td>\n      <td>0</td>\n      <td>0</td>\n      <td>2</td>\n      <td>...</td>\n      <td>NaN</td>\n      <td>NaN</td>\n      <td>NaN</td>\n      <td>NaN</td>\n      <td>NaN</td>\n      <td>NaN</td>\n      <td>false</td>\n      <td>false</td>\n      <td>false</td>\n      <td>false</td>\n    </tr>\n    <tr>\n      <th>luad_tsp_17784</th>\n      <td>Lung Adenocarcinoma (TSP, Nature 2008)</td>\n      <td>NaN</td>\n      <td>NaN</td>\n      <td>NaN</td>\n      <td>NaN</td>\n      <td>5</td>\n      <td>Non-Small Cell Lung Cancer</td>\n      <td>1</td>\n      <td>1</td>\n      <td>1</td>\n      <td>...</td>\n      <td>NaN</td>\n      <td>NaN</td>\n      <td>NaN</td>\n      <td>NaN</td>\n      <td>NaN</td>\n      <td>NaN</td>\n      <td>false</td>\n      <td>false</td>\n      <td>false</td>\n      <td>false</td>\n    </tr>\n  </tbody>\n</table>\n<p>914 rows × 36 columns</p>\n</div>"
     },
     "metadata": {},
     "execution_count": 31
    }
   ],
   "source": [
    "dato_pacientes = pd.read_csv(\"D:\\MAURO\\CURSOS\\Master_The_Bridge\\Bridge_Python\\MGOL_BOOTCAMP\\proyecto2\\PATIENT_DATA_project2.tsv\", sep='\\t')\n",
    "dato_pacientes.T\n"
   ]
  },
  {
   "cell_type": "code",
   "execution_count": null,
   "metadata": {},
   "outputs": [],
   "source": [
    "'''\n",
    "pacientes_id = list(dato_pacientes.T.index.values)\n",
    "pacientes_id\n",
    "'''"
   ]
  },
  {
   "cell_type": "code",
   "execution_count": 23,
   "metadata": {},
   "outputs": [
    {
     "output_type": "execute_result",
     "data": {
      "text/plain": [
       "\"alteration = alteration_samples['Patient ID'].to_list()\\n\\nalteration\""
      ]
     },
     "metadata": {},
     "execution_count": 23
    }
   ],
   "source": [
    "'''alteration = alteration_samples['Patient ID'].to_list()\n",
    "\n",
    "alteration'''"
   ]
  },
  {
   "cell_type": "code",
   "execution_count": 27,
   "metadata": {},
   "outputs": [],
   "source": [
    "coinciden = []\n",
    "for id in pacientes_id:\n",
    "    if id not in alteration:\n",
    "        coinciden.append(id)\n"
   ]
  },
  {
   "cell_type": "code",
   "execution_count": 28,
   "metadata": {},
   "outputs": [
    {
     "output_type": "execute_result",
     "data": {
      "text/plain": [
       "['track_name', 'track_type']"
      ]
     },
     "metadata": {},
     "execution_count": 28
    }
   ],
   "source": [
    "coinciden\n"
   ]
  },
  {
   "cell_type": "code",
   "execution_count": null,
   "metadata": {},
   "outputs": [],
   "source": []
  }
 ]
}