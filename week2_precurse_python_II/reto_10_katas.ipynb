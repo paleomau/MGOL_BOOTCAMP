{
 "cells": [
  {
   "cell_type": "markdown",
   "metadata": {},
   "source": [
    "# Reto ¡a por el 10!"
   ]
  },
  {
   "cell_type": "markdown",
   "metadata": {},
   "source": [
    "Quizás aún no conoces Codewars, pero es una plataforma de Katas. Las Katas son pequeños ejercicios que resolver con los diferentes lenguajes de programación existentes y por niveles, conocidos como Kyu.\n",
    "\n",
    "El nivel por el que empezarás es el nivel 8kyu y el objetivo será que durante el Bootcamp, al menos llegues al 5kyu empezando este mismo fin de semana con este reto. "
   ]
  },
  {
   "cell_type": "markdown",
   "metadata": {},
   "source": [
    "1. Hazte una cuenta en https://www.codewars.com/ (Súper recomendable vincularlo a tu cuenta de Github)\n",
    "2. Una vez tengas cuenta, envía tu usuario de **codewars** a `clara.piniella@thebridgeschool.es` (VERY IMPORTANT)\n",
    "3. Ve accediendo a las diferentes Katas propuestas más abajo.\n",
    "4. Pulsa `Train`\n",
    "5. En este punto deberás definir una función que de solución al problema planteado. \n",
    "6. Una vez tengas una buena propuesta, dale al `Test`, esto te indicará los errores, si los tuvieras.\n",
    "7. Si sin embargo, has pasado todos los test con éxito, pulsa `Attempt`\n",
    "8. Una vez pulses al `Attempt` y si no has tenido fallos, estate segura de haberlo hecho correctamente si puedes ver las soluciones de otros usuarios, entonces ¡has terminado la kata!\n",
    "\n",
    "No te preocupes por decirnos que la has acabado, si nos has dado tu usuario y la has completado con éxito, ya lo podemos ver ;) "
   ]
  },
  {
   "cell_type": "markdown",
   "metadata": {},
   "source": [
    "### Las Katas\n",
    "\n",
    "\"Easy peasy lemon squeezy\" --> https://www.youtube.com/watch?v=QEanm-gvQ94"
   ]
  },
  {
   "cell_type": "markdown",
   "metadata": {},
   "source": [
    "Las katas `Easy` serán obligatorias para algunos de vosotros, es por esto que dejo por aquí los enunciados. No hay excusa. Idealmente deberían estar resueltas en **codewars**, de hecho, para participar en el reto, deberán estar resueltas en la propia plataforma."
   ]
  },
  {
   "cell_type": "markdown",
   "metadata": {},
   "source": [
    "#### Easy\n",
    "Si realmente te es imposible hacerlo en Codewars, recuerda que es obligatorio resolver todos los ejercicios con una función. En este caso, envíanos tus soluciones en formato `.ipynb` a los cuatro profesores por email antes del lunes a las 9:15."
   ]
  },
  {
   "cell_type": "markdown",
   "metadata": {},
   "source": [
    "- https://www.codewars.com/kata/54d1c59aba326343c80000e7\n",
    "    \n",
    "This method, which is supposed to return the result of dividing its first argument by its second, isn't always returning correct values. Fix it.\n",
    "\n",
    "```python\n",
    "def divide_numbers(x,y):\n",
    "    return x // y\n",
    "```"
   ]
  },
  {
   "cell_type": "code",
   "execution_count": null,
   "metadata": {},
   "outputs": [],
   "source": []
  },
  {
   "cell_type": "markdown",
   "metadata": {},
   "source": [
    "- https://www.codewars.com/kata/53da3dbb4a5168369a0000fe\n",
    "\n",
    "Create a function that takes an integer as an argument and returns \"Even\" for even numbers or \"Odd\" for odd numbers."
   ]
  },
  {
   "cell_type": "code",
   "execution_count": null,
   "metadata": {},
   "outputs": [],
   "source": []
  },
  {
   "cell_type": "markdown",
   "metadata": {},
   "source": [
    "- https://www.codewars.com/kata/582cb0224e56e068d800003c\n",
    "\n",
    "Nathan loves cycling. Because Nathan knows it is important to stay hydrated, he drinks 0.5 litres of water per hour of cycling.\n",
    "You get given the time in hours and you need to return the number of litres Nathan will drink, rounded to the smallest value.\n",
    "\n",
    "For example:\n",
    "```python\n",
    "time = 3 ----> litres = 1\n",
    "time = 6.7---> litres = 3\n",
    "time = 11.8--> litres = 5\n",
    "```"
   ]
  },
  {
   "cell_type": "code",
   "execution_count": null,
   "metadata": {},
   "outputs": [],
   "source": []
  },
  {
   "cell_type": "markdown",
   "metadata": {},
   "source": [
    "- https://www.codewars.com/kata/55a2d7ebe362935a210000b2\n",
    "\n",
    "It's pretty straightforward. Your goal is to create a function that removes the first and last characters of a string. You're given one parameter, the original string. You don't have to worry with strings with less than two characters."
   ]
  },
  {
   "cell_type": "code",
   "execution_count": null,
   "metadata": {},
   "outputs": [],
   "source": []
  },
  {
   "cell_type": "markdown",
   "metadata": {},
   "source": [
    "#### Peasy\n",
    "\n",
    "Si vas a hacer las Katas de este nivel, es porque ya sabes hacer las de `Easy` y además en **codewars**, así que te recuerdo que en caso de hacerlas correctamente y nos has dado tu usuario, no hace falta que nos digas que la has terminado.\n",
    "\n",
    "- https://www.codewars.com/kata/5506b230a11c0aeab3000c1f\n",
    "- https://www.codewars.com/kata/59377c53e66267c8f6000027\n",
    "- https://www.codewars.com/kata/5ae7e3f068e6445bc8000046"
   ]
  },
  {
   "cell_type": "markdown",
   "metadata": {},
   "source": [
    "#### Lemon Squeezy\n",
    "\n",
    "- https://www.codewars.com/kata/55b95c76e08bd5eef100001e/solutions/python\n",
    "- https://www.codewars.com/kata/5e2596a9ad937f002e510435/\n",
    "- https://www.codewars.com/kata/5d4c6809089c6e5031f189ed"
   ]
  }
 ],
 "metadata": {
  "kernelspec": {
   "display_name": "Python 3",
   "language": "python",
   "name": "python3"
  },
  "language_info": {
   "codemirror_mode": {
    "name": "ipython",
    "version": 3
   },
   "file_extension": ".py",
   "mimetype": "text/x-python",
   "name": "python",
   "nbconvert_exporter": "python",
   "pygments_lexer": "ipython3",
   "version": "3.8.3"
  }
 },
 "nbformat": 4,
 "nbformat_minor": 4
}
