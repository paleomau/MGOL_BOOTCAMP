{
 "metadata": {
  "language_info": {
   "codemirror_mode": {
    "name": "ipython",
    "version": 3
   },
   "file_extension": ".py",
   "mimetype": "text/x-python",
   "name": "python",
   "nbconvert_exporter": "python",
   "pygments_lexer": "ipython3",
   "version": "3.7.4"
  },
  "orig_nbformat": 2,
  "kernelspec": {
   "name": "python374jvsc74a57bd0021d9f4f6a0c9e23e32c4246ac82593951ffad9baab3e58c0c69e8a8c06b339b",
   "display_name": "Python 3.7.4 64-bit"
  },
  "metadata": {
   "interpreter": {
    "hash": "021d9f4f6a0c9e23e32c4246ac82593951ffad9baab3e58c0c69e8a8c06b339b"
   }
  }
 },
 "nbformat": 4,
 "nbformat_minor": 2,
 "cells": [
  {
   "source": [
    "# Test DS-FT April 2021\n",
    "\n"
   ],
   "cell_type": "markdown",
   "metadata": {}
  },
  {
   "source": [
    "## Primera parte (tipo test):\n",
    "\n",
    "https://forms.gle/24Eu5xuFGn6jNKpx9"
   ],
   "cell_type": "markdown",
   "metadata": {}
  },
  {
   "source": [
    "-----------------"
   ],
   "cell_type": "markdown",
   "metadata": {}
  },
  {
   "source": [
    "## Segunda parte, ejercicios prácticos:\n",
    "\n",
    "* El test práctico consta de 5 ejercicios puntuables. \n",
    "* Cada uno se puntúa sobre 2,5. \n",
    "* La máxima nota es 10.\n"
   ],
   "cell_type": "markdown",
   "metadata": {}
  },
  {
   "source": [
    "Antes de comenzar, cambia el nombre del archivo notebook poniéndole delante tu nombre y primer apellido:\n",
    "\n",
    "* nombre_apellido_test_pract_apr_2021.ipynb"
   ],
   "cell_type": "markdown",
   "metadata": {}
  },
  {
   "cell_type": "code",
   "execution_count": 1,
   "metadata": {},
   "outputs": [],
   "source": [
    "# Escribe tu nombre en la variable:\n",
    "nombre_y_apellidos = \"Mauro Garcia-Oliva Gonzalez\" "
   ]
  },
  {
   "source": [
    "#### Notas y pruebas de apoyo para contestar las preguntas tipo test\n",
    "Esto no es necesario usarlo aunque verlo aquí te puede dar la respuesta a alguna de las preguntas tipo test.\n",
    "\n",
    "Cualquier código aunque no esté correcto nos dirá más de ti que no escribir nada. "
   ],
   "cell_type": "markdown",
   "metadata": {}
  },
  {
   "cell_type": "code",
   "execution_count": null,
   "metadata": {},
   "outputs": [],
   "source": [
    "# Ejemplo de como queremos ver el código para más de un intento:\n",
    "\n",
    "# intento 1\n",
    "your code\n",
    "# intento 2\n",
    "your code"
   ]
  },
  {
   "cell_type": "code",
   "execution_count": 10,
   "metadata": {},
   "outputs": [],
   "source": [
    "# crea todas las celdas que necesites"
   ]
  },
  {
   "source": [
    "## Ejercicios prácticos"
   ],
   "cell_type": "markdown",
   "metadata": {}
  },
  {
   "source": [
    "#### Ejercicio 1.\n",
    "En este ejercicio se va a crear una lista con los siguientes elementos. Primero, crearemos las variables que luego añadiremos a la lista. Las variables son las siguientes:\n",
    "\n",
    "1. Crea una variable llamada `num_dni` de tipo Integer que represente el primer número de tu DNI. \n",
    "2. Crea una variable llamada `let_dni` de tipo String y que represente la letra de vuestro DNI.\n",
    "3. Crea una variable llamada `tip_ord` de tipo Boolean True si usas Windows y False si usas Mac.\n",
    "4. Crea una variable llamada `nada` de tipo None cuyo valor sea None.\n",
    "5. Crea una variable llamada `lista_deseo` de tipo List que contenga los cuatro objetos que te llevarías a una isla desierta. Cada elemento ha de ser de tipo String y el tamaño de la lista ha de ser 4.\n",
    "6. Crea una variable llamada `tupla_ropa` de tipo Tuple con la marca de la prenda superior, inferior y calzado que llevas puesto.\n",
    "7. Crea una variable llamada `dict_info` con dos keys y dos values. Una key es 'nombre', teniendo como value vuestro nombre. Otra key es 'edad', teniendo como value vuestra edad.\n",
    "8. Crea una variable llamada `flo_hor` con la hora actual separada por punto en vez de dos puntos. Ejemplo: si son las 10:06, el valor de la variable sería 10.06.\n",
    "\n",
    "Añade todos estos elementos en una lista llamada `lista_examen` en el orden de aparición."
   ],
   "cell_type": "markdown",
   "metadata": {}
  },
  {
   "cell_type": "code",
   "execution_count": 2,
   "metadata": {},
   "outputs": [
    {
     "output_type": "error",
     "ename": "TypeError",
     "evalue": "can only concatenate str (not \"bool\") to str",
     "traceback": [
      "\u001b[1;31m---------------------------------------------------------------------------\u001b[0m",
      "\u001b[1;31mTypeError\u001b[0m                                 Traceback (most recent call last)",
      "\u001b[1;32m<ipython-input-2-2d856157cb70>\u001b[0m in \u001b[0;36m<module>\u001b[1;34m\u001b[0m\n\u001b[0;32m      9\u001b[0m \u001b[0mdict_info\u001b[0m \u001b[1;33m=\u001b[0m \u001b[1;33m{\u001b[0m\u001b[1;34m'nombre'\u001b[0m\u001b[1;33m:\u001b[0m\u001b[1;34m'Mauro'\u001b[0m\u001b[1;33m,\u001b[0m \u001b[1;34m'edad'\u001b[0m\u001b[1;33m:\u001b[0m\u001b[1;36m44\u001b[0m\u001b[1;33m}\u001b[0m\u001b[1;33m\u001b[0m\u001b[1;33m\u001b[0m\u001b[0m\n\u001b[0;32m     10\u001b[0m \u001b[0mflo_hor\u001b[0m \u001b[1;33m=\u001b[0m \u001b[1;34m'10.22'\u001b[0m\u001b[1;33m\u001b[0m\u001b[1;33m\u001b[0m\u001b[0m\n\u001b[1;32m---> 11\u001b[1;33m \u001b[0mlista_examen\u001b[0m \u001b[1;33m=\u001b[0m \u001b[1;33m[\u001b[0m\u001b[0mstr\u001b[0m\u001b[1;33m(\u001b[0m\u001b[0mnum_dni\u001b[0m\u001b[1;33m)\u001b[0m \u001b[1;33m+\u001b[0m \u001b[0mlet_dni\u001b[0m \u001b[1;33m+\u001b[0m \u001b[0mtip_ord\u001b[0m \u001b[1;33m+\u001b[0m \u001b[0mnada\u001b[0m \u001b[1;33m+\u001b[0m \u001b[0mlista_deseo\u001b[0m \u001b[1;33m+\u001b[0m \u001b[0mtupla_ropa\u001b[0m \u001b[1;33m+\u001b[0m \u001b[0mdict_info\u001b[0m \u001b[1;33m+\u001b[0m \u001b[0mflo_hor\u001b[0m\u001b[1;33m]\u001b[0m\u001b[1;33m\u001b[0m\u001b[1;33m\u001b[0m\u001b[0m\n\u001b[0m\u001b[0;32m     12\u001b[0m \u001b[0mprint\u001b[0m\u001b[1;33m(\u001b[0m\u001b[0mlista_examen\u001b[0m\u001b[1;33m)\u001b[0m\u001b[1;33m\u001b[0m\u001b[1;33m\u001b[0m\u001b[0m\n",
      "\u001b[1;31mTypeError\u001b[0m: can only concatenate str (not \"bool\") to str"
     ]
    }
   ],
   "source": [
    " # tu respuesta aquí\n",
    "\n",
    " num_dni = 1\n",
    " let_dni = 'p'\n",
    " tip_ord = True\n",
    " nada = None\n",
    " lista_deseo = ['telefono', 'cubo', 'cuchillo', 'hamaca']\n",
    " tupla_ropa = ('zara', 'levis', 'zapatillas')\n",
    " dict_info = {'nombre':'Mauro', 'edad':44}\n",
    " flo_hor = '10.22'\n",
    " lista_examen = [str(num_dni) + let_dni + tip_ord + nada + lista_deseo + tupla_ropa + dict_info + flo_hor]\n",
    " print(lista_examen)"
   ]
  },
  {
   "cell_type": "code",
   "execution_count": 14,
   "metadata": {},
   "outputs": [
    {
     "output_type": "stream",
     "name": "stdout",
     "text": [
      "[1, 'p', True, None, ['telefono', 'cubo', 'cuchillo', 'hamaca'], ('zara', 'levis', 'zapatillas'), {'nombre': 'Mauro', 'edad': 44}, '10.22']\n"
     ]
    }
   ],
   "source": [
    "num_dni = 1\n",
    "let_dni = 'p'\n",
    "tip_ord = True\n",
    "nada = None\n",
    "lista_deseo = ['telefono', 'cubo', 'cuchillo', 'hamaca']\n",
    "tupla_ropa = ('zara', 'levis', 'zapatillas')\n",
    "dict_info = {'nombre':'Mauro', 'edad':44}\n",
    "flo_hor = '10.22'\n",
    "lista_examen = []\n",
    "lista_examen. append(num_dni)\n",
    "lista_examen.append(let_dni)\n",
    "lista_examen.append(tip_ord)\n",
    "lista_examen.append(nada)\n",
    "lista_examen.append(lista_deseo)\n",
    "lista_examen.append(tupla_ropa)\n",
    "lista_examen.append(dict_info)\n",
    "lista_examen.append(flo_hor)\n",
    "print(lista_examen)"
   ]
  },
  {
   "source": [
    "#### Ejercicio 2. \n",
    "\n",
    "Para resolver este ejercicio necesitarás la lista del ejercicio anterior (`lista_examen`). Se recomeinda leer cada punto hasta el final antes de resolver el ejercicio.\n",
    "\n",
    "Se repite para que quede aún más claro: **SOLO USAR LA VARIABLE** `lista_examen`. Usar las demás variables se calificará como error.  \n",
    "\n",
    "1. Mostrar por pantalla, sin uso de funciones ni bucles: \n",
    "    - El segundo elemento de `lista_deseo` desde `lista_examen`.\n",
    "    - El calzado que llevas puesto.\n",
    "    - Vuestro nombre.\n",
    "    - La hora almacenada concatenada con vuestra edad y el número de vuestro de DNI. No debe haber espacios entre la concatenación.\n",
    "    - Si tenéis más de 20 años, el primer número de vuestro DNI es mayor a 7 y usas Mac, mostrar la posición 5 de `lista_examen`.\n",
    "    "
   ],
   "cell_type": "markdown",
   "metadata": {}
  },
  {
   "cell_type": "code",
   "execution_count": 15,
   "metadata": {},
   "outputs": [
    {
     "output_type": "stream",
     "name": "stdout",
     "text": [
      "cubo\n"
     ]
    }
   ],
   "source": [
    "# tu respuesta aquí\n",
    "print(lista_examen[4][1])"
   ]
  },
  {
   "cell_type": "code",
   "execution_count": 16,
   "metadata": {},
   "outputs": [
    {
     "output_type": "stream",
     "name": "stdout",
     "text": [
      "zapatillas\n"
     ]
    }
   ],
   "source": [
    "print(lista_examen[5][2])"
   ]
  },
  {
   "cell_type": "code",
   "execution_count": 18,
   "metadata": {},
   "outputs": [
    {
     "output_type": "stream",
     "name": "stdout",
     "text": [
      "Mauro\n"
     ]
    }
   ],
   "source": [
    "print(lista_examen[6]['nombre'])"
   ]
  },
  {
   "cell_type": "code",
   "execution_count": 20,
   "metadata": {},
   "outputs": [
    {
     "output_type": "stream",
     "name": "stdout",
     "text": [
      "10.221\n"
     ]
    }
   ],
   "source": [
    "print(lista_examen[-1]+str(lista_examen[0]))"
   ]
  },
  {
   "cell_type": "code",
   "execution_count": 22,
   "metadata": {},
   "outputs": [],
   "source": [
    "if int(lista_examen[6]['edad']) > 20 and int(lista_examen[0]) > 7 and lista_examen[2] == False:\n",
    "    print(lista_examen[5])"
   ]
  },
  {
   "source": [
    "2. Mostrar por pantalla, con uso de un bucle `for`:\n",
    "    - Todos los elementos de `lista_examen`.\n",
    "    - Todos los elementos de `lista_deseo` desde `lista_examen`.\n",
    "    - Todos los elementos que ocupen una posición menor a 4 en `lista_examen`.\n"
   ],
   "cell_type": "markdown",
   "metadata": {}
  },
  {
   "cell_type": "code",
   "execution_count": 27,
   "metadata": {},
   "outputs": [
    {
     "output_type": "stream",
     "name": "stdout",
     "text": [
      "1\np\nTrue\nNone\n['telefono', 'cubo', 'cuchillo', 'hamaca']\n('zara', 'levis', 'zapatillas')\n{'nombre': 'Mauro', 'edad': 44}\n10.22\n"
     ]
    }
   ],
   "source": [
    "# tu respuesta aquí\n",
    "for elemento in lista_examen:\n",
    "    print(elemento)"
   ]
  },
  {
   "cell_type": "code",
   "execution_count": 31,
   "metadata": {},
   "outputs": [
    {
     "output_type": "stream",
     "name": "stdout",
     "text": [
      "['telefono', 'cubo', 'cuchillo', 'hamaca']\n"
     ]
    }
   ],
   "source": [
    "for i, elemento in enumerate(lista_examen):\n",
    "    if type(elemento) == list:\n",
    "        print(elemento)"
   ]
  },
  {
   "cell_type": "code",
   "execution_count": 35,
   "metadata": {},
   "outputs": [
    {
     "output_type": "stream",
     "name": "stdout",
     "text": [
      "1\np\nTrue\nNone\n"
     ]
    }
   ],
   "source": [
    "for i,element in enumerate(lista_examen):\n",
    "    if int(i) < 4:\n",
    "        print(element)\n",
    "        "
   ]
  },
  {
   "source": [
    "3. Mostrar por pantalla, con uso de un bucle while: \n",
    "    - Todos los elementos de `tupla_ropa` seguido de la cadena `\"-->\"` y la `posición` (int) que ocupa en la tupla accediendo desde `lista_examen`. Se aconseja utilizar *`enumerate`*.\n",
    "    - Cada key de `dict_info` seguido de la cadena \":\" seguido de su value desde `lista_examen`."
   ],
   "cell_type": "markdown",
   "metadata": {}
  },
  {
   "cell_type": "code",
   "execution_count": 37,
   "metadata": {},
   "outputs": [
    {
     "output_type": "error",
     "ename": "SyntaxError",
     "evalue": "invalid syntax (<ipython-input-37-36e533ba8e5d>, line 2)",
     "traceback": [
      "\u001b[1;36m  File \u001b[1;32m\"<ipython-input-37-36e533ba8e5d>\"\u001b[1;36m, line \u001b[1;32m2\u001b[0m\n\u001b[1;33m    while type(element) in lista_examen == tuple\u001b[0m\n\u001b[1;37m                                                ^\u001b[0m\n\u001b[1;31mSyntaxError\u001b[0m\u001b[1;31m:\u001b[0m invalid syntax\n"
     ]
    }
   ],
   "source": [
    "# tu respuesta aquí\n",
    "while type(element) in lista_examen == tuple\n",
    "    print(element)\n"
   ]
  },
  {
   "source": [
    "#### Ejercicio 3. \n",
    "\n",
    "Crea una función `ejercicio_3` que reciba un parámetro `arg1`. Este argumento se utilizará como la lista de tuplas con nombres de los alumnos y alturas de clase. La función ha de retornar la misma lista de tuplas pero sin la tupla que contiene tu nombre. La tupla que contiene tu nombre ha de encontrarse a través del **valor del String** con tu nombre. Es decir, la función borrará la tupla con tu nombre tanto si está en la primera posición, como en la posición N o la última. La función mostrará por pantalla la tupla modificada.\n",
    "\n",
    "**Notas:** \n",
    "\n",
    "*- La lista de nombres y alturas está al final del notebook*\n",
    "\n",
    "*- Añade la tupla con tu nombre y altura si no apareces en la lista* \n",
    "\n",
    "Ejemplos de llamada a la función y lo que devuelve la función en el caso en el que me llamo 'Manuel Alfonso' y con esta 'lista_nombres_alturas':"
   ],
   "cell_type": "markdown",
   "metadata": {}
  },
  {
   "cell_type": "code",
   "execution_count": 7,
   "metadata": {},
   "outputs": [
    {
     "output_type": "stream",
     "name": "stdout",
     "text": [
      "[('Jonathan Abbondanza', 1.7), ('Nacho Fontal', 1.82)]\n"
     ]
    }
   ],
   "source": [
    "# NO EJECUTAR ESTA CELDA\n",
    "lista_nombres_alturas = [(\"Manuel Alfonso\", 1.75),(\"Jonathan Abbondanza\",  1.70),(\"Nacho Fontal\", 1.82)]\n",
    "ejercicio_3(arg1=lista_nombres_alturas)"
   ]
  },
  {
   "cell_type": "code",
   "execution_count": 9,
   "metadata": {},
   "outputs": [
    {
     "output_type": "stream",
     "name": "stdout",
     "text": [
      "[('Jonathan Abbondanza', 1.7), ('Nacho Fontal', 1.82)]\n"
     ]
    }
   ],
   "source": [
    "# NO EJECUTAR ESTA CELDA\n",
    "lista_nombres_alturas = [(\"Jonathan Abbondanza\",  1.70),(\"Manuel Alfonso\", 1.75),(\"Nacho Fontal\", 1.82)]\n",
    "ejercicio_3(arg1=lista_nombres_alturas)"
   ]
  },
  {
   "cell_type": "code",
   "execution_count": 40,
   "metadata": {},
   "outputs": [
    {
     "output_type": "stream",
     "name": "stdout",
     "text": [
      "[('Gabriel Vázquez', 1.75), ('Jonathan Abbondanza', 1.7), ('Nacho Fontal', 1.82), ('Javier Araiz', 1.8), ('Jonathan Suarez', 1.86), ('Sonia Cobo', 1.73), ('Jorge García', 1.79), ('Mary Meza', 1.52), ('Leonardo Frazzetto', 1.75), ('Nacho Astorga', 1.78), ('José Carlos Batista', 1.7), ('Isabel Palomares', 1.78), ('Marina Serrano', 1.54), ('Daniel Walker', 1.87), ('Clara Piniella', 1.66), ('Gina Garrido', 1.63), ('Adrià Gallardo', 1.7), ('María García-Maroto', 1.64), ('Susana Vázquez', 1.8), ('Juan Bayon', 1.64), ('Miguel Barquero', 1.85), ('Borja Puig', 1.82), ('Pablo Martínez', 1.81), ('Xinru Yang', 1.6), ('Pablo Díez', 1.84), ('Karina Inche', 1.61)]\n"
     ]
    }
   ],
   "source": [
    "# tu respuesta aquí\n",
    "lista_nombres_alturas = [(\"Gabriel Vázquez\", 1.75),(\"Jonathan Abbondanza\",  1.70),(\"Nacho Fontal\", 1.82),(\"Javier Araiz\", 1.80),('Jonathan Suarez', 1.86),('Sonia Cobo', 1.73), ('Jorge García', 1.79), (\"Mary Meza\", 1.52), ('Leonardo Frazzetto', 1.75), (\"Nacho Astorga\",1.78),(\"José Carlos Batista\",1.70), (\"Isabel Palomares\", 1.78),(\"Marina Serrano\", 1.54), (\"Daniel Walker\", 1.87), (\"Clara Piniella\", 1.66), (\"Gina Garrido\", 1.63), (\"Adrià Gallardo\", 1.70), (\"María García-Maroto\", 1.64), (\"Susana Vázquez\",1.80), (\"Mauro Garcia-Oliva\", 1.77), (\"Juan Bayon\", 1.64), (\"Miguel Barquero\", 1.85), (\"Borja Puig\", 1.82), (\"Pablo Martínez\", 1.81), (\"Xinru Yang\", 1.60),(\"Pablo Díez\", 1.84),(\"Karina Inche\",1.61)]\n",
    "\n",
    "def ejercicio_3(arg1):\n",
    "    for element in arg1:\n",
    "        for element2 in element:\n",
    "            if type(element2) == str and str(element2) == \"Mauro Garcia-Oliva\":\n",
    "                arg1.remove(element)\n",
    "    print(arg1)\n",
    "\n",
    "\n",
    "\n",
    "\n",
    "\n",
    "ejercicio_3(arg1 = lista_nombres_alturas)"
   ]
  },
  {
   "source": [
    "-------------------------------------"
   ],
   "cell_type": "markdown",
   "metadata": {}
  },
  {
   "source": [
    "\n",
    "Escribe una función `reverse_number` que reciba dos parámetros. Los parámetros son `cadena` y `n`. `cadena` será un string y `n` un entero. La función debe retornar un string que sea el string `cadena` al revés y que tenga concatenado el número `n` por cada caracter de `cadena`.  \n",
    "\n",
    "\n",
    "**No se permite:**\n",
    "- Usar la función built-in `reverse`\n",
    "- Pasar el string `cadena` a otro tipo de variable (como list)* \n",
    "- Usar el `string slicing` [[::-1]]\n",
    "\n",
    "Ejemplos de llamada a la función y lo que devuelve la función:\n",
    "\n",
    "--------\n",
    "\n",
    ">> print(reverse_number(cadena=\"aloh\", n=3))\n",
    "\n",
    ">>> h3o3l3a3\n",
    "\n",
    "--------\n",
    "\n",
    ">> print(reverse_number(cadena=\"otipep\", n=85))\n",
    "\n",
    ">>> p85e85p85i85t85o85\n",
    "\n",
    "\n",
    "\n"
   ],
   "cell_type": "markdown",
   "metadata": {}
  },
  {
   "cell_type": "code",
   "execution_count": 43,
   "metadata": {},
   "outputs": [
    {
     "output_type": "stream",
     "name": "stdout",
     "text": [
      "['u', 'n', 'a', 'p', 'a', 'l', 'a', 'b', 'r', 'a']\n['a', 'r', 'b', 'a', 'l', 'a', 'p', 'a', 'n', 'u']\na9r9b9a9l9a9p9a9n9u\n"
     ]
    },
    {
     "output_type": "execute_result",
     "data": {
      "text/plain": [
       "'a9r9b9a9l9a9p9a9n9u'"
      ]
     },
     "metadata": {},
     "execution_count": 43
    }
   ],
   "source": [
    "def reverse_number(cadena,n):\n",
    "    cadena = str(cadena)\n",
    "    n = int(n)\n",
    "    n = str(n)\n",
    "    cadena_list = list(cadena)\n",
    "    print(cadena_list)\n",
    "    cadena_list.reverse()\n",
    "    print(cadena_list)\n",
    "    print (n.join(cadena_list))\n",
    "    return n.join(cadena_list)\n",
    "   \n",
    "\n",
    "reverse_number('unapalabra', 9)\n",
    "#vale, justo no lei lo de NO SE PERMITE y pense que era exactamente como habia que hacerlo. Estupendo.\n"
   ]
  },
  {
   "cell_type": "code",
   "execution_count": 46,
   "metadata": {},
   "outputs": [
    {
     "output_type": "execute_result",
     "data": {
      "text/plain": [
       "'a9r9b9a9l9a9p9a9n9u9'"
      ]
     },
     "metadata": {},
     "execution_count": 46
    }
   ],
   "source": [
    "def reverse_number(cadena,n):\n",
    "    cadena = str(cadena)\n",
    "    n = int(n)\n",
    "    n = str(n)\n",
    "    reverse = ''\n",
    "    for word in cadena:\n",
    "        reverse = word + n + reverse\n",
    "    return reverse\n",
    "    print(reverse)\n",
    "\n",
    "reverse_number('unapalabra', 9)"
   ]
  },
  {
   "source": [
    "#### Ejercicio 5:\n",
    " Crea una función `ejercicio_5` que reciba dos parámetros `arg1` y `arg2`. `arg1` es la misma lista de tuplas con los nombres y alturas que la del ejercicio 3 y `arg2` representa un nombre. \n",
    "Crea un programa que pida al usuario *indefinidamente* un nombre y, cada vez que lo introduzca, intente borrar de `arg1` la tupla con el nombre introducido usando la función `ejercicio_5`:\n",
    "\n",
    "1. Si existe el nombre `arg2` dentro de la `arg1` la función mostrará por pantalla la tupla modificada\n",
    "\n",
    "2. Si el nombre `arg2` no está en la lista `arg1` la función mostrará por pantalla el string \"Ese \n",
    "nombre no está dentro de la lista\"\n",
    "\n",
    "3. Solo en el caso en el que el usuario escriba la palabra *'STOP'* se parará el programa.\n",
    "\n",
    "**Notas:** \n",
    "\n",
    "*- La lista de nombres y alturas está al final del notebook*\n",
    "\n",
    "*- Añade la tupla con tu nombre y altura si no apareces en la lista*  "
   ],
   "cell_type": "markdown",
   "metadata": {}
  },
  {
   "cell_type": "code",
   "execution_count": 55,
   "metadata": {
    "tags": [
     "outputPrepend"
    ]
   },
   "outputs": [
    {
     "output_type": "stream",
     "name": "stdout",
     "text": [
      " de la lista\n",
      "Ese nombre no está dentro de la lista\n",
      "Ese nombre no está dentro de la lista\n",
      "Ese nombre no está dentro de la lista\n",
      "Ese nombre no está dentro de la lista\n",
      "Ese nombre no está dentro de la lista\n",
      "Ese nombre no está dentro de la lista\n",
      "Ese nombre no está dentro de la lista\n",
      "Ese nombre no está dentro de la lista\n",
      "Ese nombre no está dentro de la lista\n",
      "Ese nombre no está dentro de la lista\n",
      "Ese nombre no está dentro de la lista\n",
      "Ese nombre no está dentro de la lista\n",
      "Ese nombre no está dentro de la lista\n",
      "Ese nombre no está dentro de la lista\n",
      "Ese nombre no está dentro de la lista\n",
      "Ese nombre no está dentro de la lista\n",
      "Ese nombre no está dentro de la lista\n",
      "Ese nombre no está dentro de la lista\n",
      "Ese nombre no está dentro de la lista\n",
      "Ese nombre no está dentro de la lista\n",
      "Ese nombre no está dentro de la lista\n",
      "Ese nombre no está dentro de la lista\n",
      "Ese nombre no está dentro de la lista\n",
      "Ese nombre no está dentro de la lista\n",
      "Ese nombre no está dentro de la lista\n",
      "Ese nombre no está dentro de la lista\n",
      "Ese nombre no está dentro de la lista\n",
      "Ese nombre no está dentro de la lista\n",
      "Ese nombre no está dentro de la lista\n",
      "Ese nombre no está dentro de la lista\n",
      "Ese nombre no está dentro de la lista\n",
      "Ese nombre no está dentro de la lista\n",
      "Ese nombre no está dentro de la lista\n",
      "Ese nombre no está dentro de la lista\n",
      "Ese nombre no está dentro de la lista\n",
      "Ese nombre no está dentro de la lista\n",
      "Ese nombre no está dentro de la lista\n",
      "Ese nombre no está dentro de la lista\n",
      "Ese nombre no está dentro de la lista\n",
      "Ese nombre no está dentro de la lista\n",
      "Ese nombre no está dentro de la lista\n",
      "Ese nombre no está dentro de la lista\n",
      "Ese nombre no está dentro de la lista\n",
      "Ese nombre no está dentro de la lista\n",
      "Ese nombre no está dentro de la lista\n",
      "Ese nombre no está dentro de la lista\n",
      "Ese nombre no está dentro de la lista\n",
      "Ese nombre no está dentro de la lista\n",
      "Ese nombre no está dentro de la lista\n",
      "Ese nombre no está dentro de la lista\n",
      "Ese nombre no está dentro de la lista\n",
      "Ese nombre no está dentro de la lista\n",
      "Ese nombre no está dentro de la lista\n",
      "Ese nombre no está dentro de la lista\n",
      "Ese nombre no está dentro de la lista\n",
      "Ese nombre no está dentro de la lista\n",
      "Ese nombre no está dentro de la lista\n",
      "Ese nombre no está dentro de la lista\n",
      "Ese nombre no está dentro de la lista\n",
      "Ese nombre no está dentro de la lista\n",
      "Ese nombre no está dentro de la lista\n",
      "Ese nombre no está dentro de la lista\n",
      "Ese nombre no está dentro de la lista\n",
      "Ese nombre no está dentro de la lista\n",
      "Ese nombre no está dentro de la lista\n",
      "Ese nombre no está dentro de la lista\n",
      "Ese nombre no está dentro de la lista\n",
      "Ese nombre no está dentro de la lista\n",
      "Ese nombre no está dentro de la lista\n",
      "Ese nombre no está dentro de la lista\n",
      "Ese nombre no está dentro de la lista\n",
      "Ese nombre no está dentro de la lista\n",
      "Ese nombre no está dentro de la lista\n",
      "Ese nombre no está dentro de la lista\n",
      "Ese nombre no está dentro de la lista\n",
      "Ese nombre no está dentro de la lista\n",
      "Ese nombre no está dentro de la lista\n",
      "Ese nombre no está dentro de la lista\n",
      "Ese nombre no está dentro de la lista\n",
      "Ese nombre no está dentro de la lista\n",
      "Ese nombre no está dentro de la lista\n",
      "Ese nombre no está dentro de la lista\n",
      "Ese nombre no está dentro de la lista\n",
      "Ese nombre no está dentro de la lista\n",
      "Ese nombre no está dentro de la lista\n",
      "Ese nombre no está dentro de la lista\n",
      "Ese nombre no está dentro de la lista\n",
      "Ese nombre no está dentro de la lista\n",
      "Ese nombre no está dentro de la lista\n",
      "Ese nombre no está dentro de la lista\n",
      "Ese nombre no está dentro de la lista\n",
      "Ese nombre no está dentro de la lista\n",
      "Ese nombre no está dentro de la lista\n",
      "Ese nombre no está dentro de la lista\n",
      "Ese nombre no está dentro de la lista\n",
      "Ese nombre no está dentro de la lista\n",
      "Ese nombre no está dentro de la lista\n",
      "Ese nombre no está dentro de la lista\n",
      "Ese nombre no está dentro de la lista\n",
      "Ese nombre no está dentro de la lista\n",
      "Ese nombre no está dentro de la lista\n",
      "Ese nombre no está dentro de la lista\n",
      "Ese nombre no está dentro de la lista\n",
      "Ese nombre no está dentro de la lista\n",
      "Ese nombre no está dentro de la lista\n",
      "Ese nombre no está dentro de la lista\n",
      "Ese nombre no está dentro de la lista\n",
      "Ese nombre no está dentro de la lista\n",
      "Ese nombre no está dentro de la lista\n",
      "Ese nombre no está dentro de la lista\n",
      "Ese nombre no está dentro de la lista\n",
      "Ese nombre no está dentro de la lista\n",
      "Ese nombre no está dentro de la lista\n",
      "Ese nombre no está dentro de la lista\n",
      "Ese nombre no está dentro de la lista\n",
      "Ese nombre no está dentro de la lista\n",
      "Ese nombre no está dentro de la lista\n",
      "Ese nombre no está dentro de la lista\n",
      "Ese nombre no está dentro de la lista\n",
      "Ese nombre no está dentro de la lista\n",
      "Ese nombre no está dentro de la lista\n",
      "Ese nombre no está dentro de la lista\n",
      "Ese nombre no está dentro de la lista\n",
      "Ese nombre no está dentro de la lista\n",
      "Ese nombre no está dentro de la lista\n",
      "Ese nombre no está dentro de la lista\n",
      "Ese nombre no está dentro de la lista\n",
      "Ese nombre no está dentro de la lista\n",
      "Ese nombre no está dentro de la lista\n",
      "Ese nombre no está dentro de la lista\n",
      "Ese nombre no está dentro de la lista\n",
      "Ese nombre no está dentro de la lista\n",
      "Ese nombre no está dentro de la lista\n",
      "Ese nombre no está dentro de la lista\n",
      "Ese nombre no está dentro de la lista\n",
      "Ese nombre no está dentro de la lista\n",
      "Ese nombre no está dentro de la lista\n",
      "Ese nombre no está dentro de la lista\n",
      "Ese nombre no está dentro de la lista\n",
      "Ese nombre no está dentro de la lista\n",
      "Ese nombre no está dentro de la lista\n",
      "Ese nombre no está dentro de la lista\n",
      "Ese nombre no está dentro de la lista\n",
      "Ese nombre no está dentro de la lista\n",
      "Ese nombre no está dentro de la lista\n",
      "Ese nombre no está dentro de la lista\n",
      "Ese nombre no está dentro de la lista\n",
      "Ese nombre no está dentro de la lista\n",
      "Ese nombre no está dentro de la lista\n",
      "Ese nombre no está dentro de la lista\n",
      "Ese nombre no está dentro de la lista\n",
      "Ese nombre no está dentro de la lista\n",
      "Ese nombre no está dentro de la lista\n",
      "Ese nombre no está dentro de la lista\n",
      "Ese nombre no está dentro de la lista\n",
      "Ese nombre no está dentro de la lista\n",
      "Ese nombre no está dentro de la lista\n",
      "Ese nombre no está dentro de la lista\n",
      "Ese nombre no está dentro de la lista\n",
      "Ese nombre no está dentro de la lista\n",
      "Ese nombre no está dentro de la lista\n",
      "Ese nombre no está dentro de la lista\n",
      "Ese nombre no está dentro de la lista\n",
      "Ese nombre no está dentro de la lista\n",
      "Ese nombre no está dentro de la lista\n",
      "Ese nombre no está dentro de la lista\n",
      "Ese nombre no está dentro de la lista\n",
      "Ese nombre no está dentro de la lista\n",
      "Ese nombre no está dentro de la lista\n",
      "Ese nombre no está dentro de la lista\n",
      "Ese nombre no está dentro de la lista\n",
      "Ese nombre no está dentro de la lista\n",
      "Ese nombre no está dentro de la lista\n",
      "Ese nombre no está dentro de la lista\n",
      "Ese nombre no está dentro de la lista\n",
      "Ese nombre no está dentro de la lista\n",
      "Ese nombre no está dentro de la lista\n",
      "Ese nombre no está dentro de la lista\n",
      "Ese nombre no está dentro de la lista\n",
      "Ese nombre no está dentro de la lista\n",
      "Ese nombre no está dentro de la lista\n",
      "Ese nombre no está dentro de la lista\n",
      "Ese nombre no está dentro de la lista\n",
      "Ese nombre no está dentro de la lista\n",
      "Ese nombre no está dentro de la lista\n",
      "Ese nombre no está dentro de la lista\n",
      "Ese nombre no está dentro de la lista\n",
      "Ese nombre no está dentro de la lista\n",
      "Ese nombre no está dentro de la lista\n",
      "Ese nombre no está dentro de la lista\n",
      "Ese nombre no está dentro de la lista\n",
      "Ese nombre no está dentro de la lista\n",
      "Ese nombre no está dentro de la lista\n",
      "Ese nombre no está dentro de la lista\n",
      "Ese nombre no está dentro de la lista\n",
      "Ese nombre no está dentro de la lista\n",
      "Ese nombre no está dentro de la lista\n",
      "Ese nombre no está dentro de la lista\n",
      "Ese nombre no está dentro de la lista\n",
      "Ese nombre no está dentro de la lista\n",
      "Ese nombre no está dentro de la lista\n",
      "Ese nombre no está dentro de la lista\n",
      "Ese nombre no está dentro de la lista\n",
      "Ese nombre no está dentro de la lista\n",
      "Ese nombre no está dentro de la lista\n",
      "Ese nombre no está dentro de la lista\n",
      "Ese nombre no está dentro de la lista\n",
      "Ese nombre no está dentro de la lista\n",
      "Ese nombre no está dentro de la lista\n",
      "Ese nombre no está dentro de la lista\n",
      "Ese nombre no está dentro de la lista\n",
      "Ese nombre no está dentro de la lista\n",
      "Ese nombre no está dentro de la lista\n",
      "Ese nombre no está dentro de la lista\n",
      "Ese nombre no está dentro de la lista\n",
      "Ese nombre no está dentro de la lista\n",
      "Ese nombre no está dentro de la lista\n",
      "Ese nombre no está dentro de la lista\n",
      "Ese nombre no está dentro de la lista\n",
      "Ese nombre no está dentro de la lista\n",
      "Ese nombre no está dentro de la lista\n",
      "Ese nombre no está dentro de la lista\n",
      "Ese nombre no está dentro de la lista\n",
      "Ese nombre no está dentro de la lista\n",
      "Ese nombre no está dentro de la lista\n",
      "Ese nombre no está dentro de la lista\n",
      "Ese nombre no está dentro de la lista\n",
      "Ese nombre no está dentro de la lista\n",
      "Ese nombre no está dentro de la lista\n",
      "Ese nombre no está dentro de la lista\n",
      "Ese nombre no está dentro de la lista\n",
      "Ese nombre no está dentro de la lista\n",
      "Ese nombre no está dentro de la lista\n",
      "Ese nombre no está dentro de la lista\n",
      "Ese nombre no está dentro de la lista\n",
      "Ese nombre no está dentro de la lista\n",
      "Ese nombre no está dentro de la lista\n",
      "Ese nombre no está dentro de la lista\n",
      "Ese nombre no está dentro de la lista\n",
      "Ese nombre no está dentro de la lista\n",
      "Ese nombre no está dentro de la lista\n",
      "Ese nombre no está dentro de la lista\n",
      "Ese nombre no está dentro de la lista\n",
      "Ese nombre no está dentro de la lista\n",
      "Ese nombre no está dentro de la lista\n",
      "Ese nombre no está dentro de la lista\n",
      "Ese nombre no está dentro de la lista\n",
      "Ese nombre no está dentro de la lista\n",
      "Ese nombre no está dentro de la lista\n",
      "Ese nombre no está dentro de la lista\n",
      "Ese nombre no está dentro de la lista\n",
      "Ese nombre no está dentro de la lista\n",
      "Ese nombre no está dentro de la lista\n",
      "Ese nombre no está dentro de la lista\n",
      "Ese nombre no está dentro de la lista\n",
      "Ese nombre no está dentro de la lista\n",
      "Ese nombre no está dentro de la lista\n",
      "Ese nombre no está dentro de la lista\n",
      "Ese nombre no está dentro de la lista\n",
      "Ese nombre no está dentro de la lista\n",
      "Ese nombre no está dentro de la lista\n",
      "Ese nombre no está dentro de la lista\n",
      "Ese nombre no está dentro de la lista\n",
      "Ese nombre no está dentro de la lista\n",
      "Ese nombre no está dentro de la lista\n",
      "Ese nombre no está dentro de la lista\n",
      "Ese nombre no está dentro de la lista\n",
      "Ese nombre no está dentro de la lista\n",
      "Ese nombre no está dentro de la lista\n",
      "Ese nombre no está dentro de la lista\n",
      "Ese nombre no está dentro de la lista\n",
      "Ese nombre no está dentro de la lista\n",
      "Ese nombre no está dentro de la lista\n",
      "Ese nombre no está dentro de la lista\n",
      "Ese nombre no está dentro de la lista\n",
      "Ese nombre no está dentro de la lista\n",
      "Ese nombre no está dentro de la lista\n",
      "Ese nombre no está dentro de la lista\n",
      "Ese nombre no está dentro de la lista\n",
      "Ese nombre no está dentro de la lista\n",
      "Ese nombre no está dentro de la lista\n",
      "Ese nombre no está dentro de la lista\n",
      "Ese nombre no está dentro de la lista\n",
      "Ese nombre no está dentro de la lista\n",
      "Ese nombre no está dentro de la lista\n",
      "Ese nombre no está dentro de la lista\n",
      "Ese nombre no está dentro de la lista\n",
      "Ese nombre no está dentro de la lista\n",
      "Ese nombre no está dentro de la lista\n",
      "Ese nombre no está dentro de la lista\n",
      "Ese nombre no está dentro de la lista\n",
      "Ese nombre no está dentro de la lista\n",
      "Ese nombre no está dentro de la lista\n",
      "Ese nombre no está dentro de la lista\n",
      "Ese nombre no está dentro de la lista\n",
      "Ese nombre no está dentro de la lista\n",
      "Ese nombre no está dentro de la lista\n",
      "Ese nombre no está dentro de la lista\n",
      "Ese nombre no está dentro de la lista\n",
      "Ese nombre no está dentro de la lista\n",
      "Ese nombre no está dentro de la lista\n",
      "Ese nombre no está dentro de la lista\n",
      "Ese nombre no está dentro de la lista\n",
      "Ese nombre no está dentro de la lista\n",
      "Ese nombre no está dentro de la lista\n",
      "Ese nombre no está dentro de la lista\n",
      "Ese nombre no está dentro de la lista\n",
      "Ese nombre no está dentro de la lista\n",
      "Ese nombre no está dentro de la lista\n",
      "Ese nombre no está dentro de la lista\n",
      "Ese nombre no está dentro de la lista\n",
      "Ese nombre no está dentro de la lista\n",
      "Ese nombre no está dentro de la lista\n",
      "Ese nombre no está dentro de la lista\n",
      "Ese nombre no está dentro de la lista\n",
      "Ese nombre no está dentro de la lista\n",
      "Ese nombre no está dentro de la lista\n",
      "Ese nombre no está dentro de la lista\n",
      "Ese nombre no está dentro de la lista\n",
      "Ese nombre no está dentro de la lista\n",
      "Ese nombre no está dentro de la lista\n",
      "Ese nombre no está dentro de la lista\n",
      "Ese nombre no está dentro de la lista\n",
      "Ese nombre no está dentro de la lista\n",
      "Ese nombre no está dentro de la lista\n",
      "Ese nombre no está dentro de la lista\n",
      "Ese nombre no está dentro de la lista\n",
      "Ese nombre no está dentro de la lista\n",
      "Ese nombre no está dentro de la lista\n",
      "Ese nombre no está dentro de la lista\n",
      "Ese nombre no está dentro de la lista\n",
      "Ese nombre no está dentro de la lista\n",
      "Ese nombre no está dentro de la lista\n",
      "Ese nombre no está dentro de la lista\n",
      "Ese nombre no está dentro de la lista\n",
      "Ese nombre no está dentro de la lista\n",
      "Ese nombre no está dentro de la lista\n",
      "Ese nombre no está dentro de la lista\n",
      "Ese nombre no está dentro de la lista\n",
      "Ese nombre no está dentro de la lista\n",
      "Ese nombre no está dentro de la lista\n",
      "Ese nombre no está dentro de la lista\n",
      "Ese nombre no está dentro de la lista\n",
      "Ese nombre no está dentro de la lista\n",
      "Ese nombre no está dentro de la lista\n",
      "Ese nombre no está dentro de la lista\n",
      "Ese nombre no está dentro de la lista\n",
      "Ese nombre no está dentro de la lista\n",
      "Ese nombre no está dentro de la lista\n",
      "Ese nombre no está dentro de la lista\n",
      "Ese nombre no está dentro de la lista\n",
      "Ese nombre no está dentro de la lista\n",
      "Ese nombre no está dentro de la lista\n",
      "Ese nombre no está dentro de la lista\n",
      "Ese nombre no está dentro de la lista\n",
      "Ese nombre no está dentro de la lista\n",
      "Ese nombre no está dentro de la lista\n",
      "Ese nombre no está dentro de la lista\n",
      "Ese nombre no está dentro de la lista\n",
      "Ese nombre no está dentro de la lista\n",
      "Ese nombre no está dentro de la lista\n",
      "Ese nombre no está dentro de la lista\n",
      "Ese nombre no está dentro de la lista\n",
      "Ese nombre no está dentro de la lista\n",
      "Ese nombre no está dentro de la lista\n",
      "Ese nombre no está dentro de la lista\n",
      "Ese nombre no está dentro de la lista\n",
      "Ese nombre no está dentro de la lista\n",
      "Ese nombre no está dentro de la lista\n",
      "Ese nombre no está dentro de la lista\n",
      "Ese nombre no está dentro de la lista\n",
      "Ese nombre no está dentro de la lista\n",
      "Ese nombre no está dentro de la lista\n",
      "Ese nombre no está dentro de la lista\n",
      "Ese nombre no está dentro de la lista\n",
      "Ese nombre no está dentro de la lista\n",
      "Ese nombre no está dentro de la lista\n",
      "Ese nombre no está dentro de la lista\n",
      "Ese nombre no está dentro de la lista\n",
      "Ese nombre no está dentro de la lista\n",
      "Ese nombre no está dentro de la lista\n",
      "Ese nombre no está dentro de la lista\n",
      "Ese nombre no está dentro de la lista\n",
      "Ese nombre no está dentro de la lista\n",
      "Ese nombre no está dentro de la lista\n",
      "Ese nombre no está dentro de la lista\n",
      "Ese nombre no está dentro de la lista\n",
      "Ese nombre no está dentro de la lista\n",
      "Ese nombre no está dentro de la lista\n",
      "Ese nombre no está dentro de la lista\n",
      "Ese nombre no está dentro de la lista\n",
      "Ese nombre no está dentro de la lista\n",
      "Ese nombre no está dentro de la lista\n",
      "Ese nombre no está dentro de la lista\n",
      "Ese nombre no está dentro de la lista\n",
      "Ese nombre no está dentro de la lista\n",
      "Ese nombre no está dentro de la lista\n",
      "Ese nombre no está dentro de la lista\n",
      "Ese nombre no está dentro de la lista\n",
      "Ese nombre no está dentro de la lista\n",
      "Ese nombre no está dentro de la lista\n",
      "Ese nombre no está dentro de la lista\n",
      "Ese nombre no está dentro de la lista\n",
      "Ese nombre no está dentro de la lista\n",
      "Ese nombre no está dentro de la lista\n",
      "Ese nombre no está dentro de la lista\n",
      "Ese nombre no está dentro de la lista\n",
      "Ese nombre no está dentro de la lista\n",
      "Ese nombre no está dentro de la lista\n",
      "Ese nombre no está dentro de la lista\n",
      "Ese nombre no está dentro de la lista\n",
      "Ese nombre no está dentro de la lista\n",
      "Ese nombre no está dentro de la lista\n",
      "Ese nombre no está dentro de la lista\n",
      "Ese nombre no está dentro de la lista\n",
      "Ese nombre no está dentro de la lista\n",
      "Ese nombre no está dentro de la lista\n",
      "Ese nombre no está dentro de la lista\n",
      "Ese nombre no está dentro de la lista\n",
      "Ese nombre no está dentro de la lista\n",
      "Ese nombre no está dentro de la lista\n",
      "Ese nombre no está dentro de la lista\n",
      "Ese nombre no está dentro de la lista\n",
      "Ese nombre no está dentro de la lista\n",
      "Ese nombre no está dentro de la lista\n",
      "Ese nombre no está dentro de la lista\n",
      "Ese nombre no está dentro de la lista\n",
      "Ese nombre no está dentro de la lista\n",
      "Ese nombre no está dentro de la lista\n",
      "Ese nombre no está dentro de la lista\n",
      "Ese nombre no está dentro de la lista\n",
      "Ese nombre no está dentro de la lista\n",
      "Ese nombre no está dentro de la lista\n",
      "Ese nombre no está dentro de la lista\n",
      "Ese nombre no está dentro de la lista\n",
      "Ese nombre no está dentro de la lista\n",
      "Ese nombre no está dentro de la lista\n",
      "Ese nombre no está dentro de la lista\n",
      "Ese nombre no está dentro de la lista\n",
      "Ese nombre no está dentro de la lista\n",
      "Ese nombre no está dentro de la lista\n",
      "Ese nombre no está dentro de la lista\n",
      "Ese nombre no está dentro de la lista\n",
      "Ese nombre no está dentro de la lista\n",
      "Ese nombre no está dentro de la lista\n",
      "Ese nombre no está dentro de la lista\n",
      "Ese nombre no está dentro de la lista\n",
      "Ese nombre no está dentro de la lista\n",
      "Ese nombre no está dentro de la lista\n",
      "Ese nombre no está dentro de la lista\n",
      "Ese nombre no está dentro de la lista\n",
      "Ese nombre no está dentro de la lista\n",
      "Ese nombre no está dentro de la lista\n",
      "Ese nombre no está dentro de la lista\n",
      "Ese nombre no está dentro de la lista\n",
      "Ese nombre no está dentro de la lista\n",
      "Ese nombre no está dentro de la lista\n",
      "Ese nombre no está dentro de la lista\n",
      "Ese nombre no está dentro de la lista\n",
      "Ese nombre no está dentro de la lista\n",
      "Ese nombre no está dentro de la lista\n",
      "Ese nombre no está dentro de la lista\n",
      "Ese nombre no está dentro de la lista\n",
      "Ese nombre no está dentro de la lista\n",
      "Ese nombre no está dentro de la lista\n",
      "Ese nombre no está dentro de la lista\n",
      "Ese nombre no está dentro de la lista\n",
      "Ese nombre no está dentro de la lista\n",
      "Ese nombre no está dentro de la lista\n",
      "Ese nombre no está dentro de la lista\n",
      "Ese nombre no está dentro de la lista\n",
      "Ese nombre no está dentro de la lista\n",
      "Ese nombre no está dentro de la lista\n",
      "Ese nombre no está dentro de la lista\n",
      "Ese nombre no está dentro de la lista\n",
      "Ese nombre no está dentro de la lista\n",
      "Ese nombre no está dentro de la lista\n",
      "Ese nombre no está dentro de la lista\n",
      "Ese nombre no está dentro de la lista\n",
      "Ese nombre no está dentro de la lista\n",
      "Ese nombre no está dentro de la lista\n",
      "Ese nombre no está dentro de la lista\n",
      "Ese nombre no está dentro de la lista\n",
      "Ese nombre no está dentro de la lista\n",
      "Ese nombre no está dentro de la lista\n",
      "Ese nombre no está dentro de la lista\n",
      "Ese nombre no está dentro de la lista\n",
      "Ese nombre no está dentro de la lista\n",
      "Ese nombre no está dentro de la lista\n",
      "Ese nombre no está dentro de la lista\n",
      "Ese nombre no está dentro de la lista\n",
      "Ese nombre no está dentro de la lista\n",
      "Ese nombre no está dentro de la lista\n",
      "Ese nombre no está dentro de la lista\n",
      "Ese nombre no está dentro de la lista\n",
      "Ese nombre no está dentro de la lista\n",
      "Ese nombre no está dentro de la lista\n",
      "Ese nombre no está dentro de la lista\n",
      "Ese nombre no está dentro de la lista\n",
      "Ese nombre no está dentro de la lista\n",
      "Ese nombre no está dentro de la lista\n",
      "Ese nombre no está dentro de la lista\n",
      "Ese nombre no está dentro de la lista\n",
      "Ese nombre no está dentro de la lista\n",
      "Ese nombre no está dentro de la lista\n",
      "Ese nombre no está dentro de la lista\n",
      "Ese nombre no está dentro de la lista\n",
      "Ese nombre no está dentro de la lista\n",
      "Ese nombre no está dentro de la lista\n",
      "Ese nombre no está dentro de la lista\n",
      "Ese nombre no está dentro de la lista\n",
      "Ese nombre no está dentro de la lista\n",
      "Ese nombre no está dentro de la lista\n",
      "Ese nombre no está dentro de la lista\n",
      "Ese nombre no está dentro de la lista\n",
      "Ese nombre no está dentro de la lista\n",
      "Ese nombre no está dentro de la lista\n",
      "Ese nombre no está dentro de la lista\n",
      "Ese nombre no está dentro de la lista\n",
      "Ese nombre no está dentro de la lista\n",
      "Ese nombre no está dentro de la lista\n",
      "Ese nombre no está dentro de la lista\n",
      "Ese nombre no está dentro de la lista\n",
      "Ese nombre no está dentro de la lista\n",
      "Ese nombre no está dentro de la lista\n",
      "Ese nombre no está dentro de la lista"
     ]
    },
    {
     "output_type": "error",
     "ename": "KeyboardInterrupt",
     "evalue": "",
     "traceback": [
      "\u001b[1;31m---------------------------------------------------------------------------\u001b[0m",
      "\u001b[1;31mKeyboardInterrupt\u001b[0m                         Traceback (most recent call last)",
      "\u001b[1;32m<ipython-input-55-83f4753a88bb>\u001b[0m in \u001b[0;36m<module>\u001b[1;34m\u001b[0m\n\u001b[0;32m     22\u001b[0m \u001b[1;33m\u001b[0m\u001b[0m\n\u001b[0;32m     23\u001b[0m \u001b[1;33m\u001b[0m\u001b[0m\n\u001b[1;32m---> 24\u001b[1;33m \u001b[0mejercicio_5\u001b[0m\u001b[1;33m(\u001b[0m\u001b[0marg1\u001b[0m \u001b[1;33m=\u001b[0m \u001b[0mlista_nombres_alturas\u001b[0m\u001b[1;33m,\u001b[0m \u001b[0marg2\u001b[0m \u001b[1;33m=\u001b[0m \u001b[0minput\u001b[0m\u001b[1;33m(\u001b[0m\u001b[1;34m\"escribe un nombre\"\u001b[0m\u001b[1;33m)\u001b[0m\u001b[1;33m)\u001b[0m\u001b[1;33m\u001b[0m\u001b[1;33m\u001b[0m\u001b[0m\n\u001b[0m",
      "\u001b[1;32m<ipython-input-55-83f4753a88bb>\u001b[0m in \u001b[0;36mejercicio_5\u001b[1;34m(arg1, arg2)\u001b[0m\n\u001b[0;32m     18\u001b[0m     \u001b[0marg2\u001b[0m \u001b[1;33m=\u001b[0m \u001b[0mstr\u001b[0m\u001b[1;33m(\u001b[0m\u001b[0marg2\u001b[0m\u001b[1;33m)\u001b[0m\u001b[1;33m\u001b[0m\u001b[1;33m\u001b[0m\u001b[0m\n\u001b[0;32m     19\u001b[0m     \u001b[1;32mwhile\u001b[0m \u001b[0marg2\u001b[0m \u001b[1;33m!=\u001b[0m \u001b[1;34m'STOP'\u001b[0m\u001b[1;33m:\u001b[0m\u001b[1;33m\u001b[0m\u001b[1;33m\u001b[0m\u001b[0m\n\u001b[1;32m---> 20\u001b[1;33m         \u001b[0mejercicio_3\u001b[0m\u001b[1;33m(\u001b[0m\u001b[0marg1\u001b[0m \u001b[1;33m=\u001b[0m \u001b[0marg1\u001b[0m\u001b[1;33m,\u001b[0m \u001b[0marg2\u001b[0m \u001b[1;33m=\u001b[0m \u001b[0marg2\u001b[0m\u001b[1;33m)\u001b[0m\u001b[1;33m\u001b[0m\u001b[1;33m\u001b[0m\u001b[0m\n\u001b[0m\u001b[0;32m     21\u001b[0m \u001b[1;33m\u001b[0m\u001b[0m\n\u001b[0;32m     22\u001b[0m \u001b[1;33m\u001b[0m\u001b[0m\n",
      "\u001b[1;32m<ipython-input-55-83f4753a88bb>\u001b[0m in \u001b[0;36mejercicio_3\u001b[1;34m(arg1, arg2)\u001b[0m\n\u001b[0;32m     12\u001b[0m                         \u001b[0mprint\u001b[0m\u001b[1;33m(\u001b[0m\u001b[0marg1\u001b[0m\u001b[1;33m)\u001b[0m\u001b[1;33m\u001b[0m\u001b[1;33m\u001b[0m\u001b[0m\n\u001b[0;32m     13\u001b[0m             \u001b[1;32melif\u001b[0m \u001b[0mtype\u001b[0m\u001b[1;33m(\u001b[0m\u001b[0melement2\u001b[0m\u001b[1;33m)\u001b[0m \u001b[1;33m==\u001b[0m \u001b[0mstr\u001b[0m \u001b[1;32mand\u001b[0m \u001b[0mstr\u001b[0m\u001b[1;33m(\u001b[0m\u001b[0melement2\u001b[0m\u001b[1;33m)\u001b[0m \u001b[1;33m!=\u001b[0m \u001b[0marg2\u001b[0m\u001b[1;33m:\u001b[0m\u001b[1;33m\u001b[0m\u001b[1;33m\u001b[0m\u001b[0m\n\u001b[1;32m---> 14\u001b[1;33m                         \u001b[0mprint\u001b[0m\u001b[1;33m(\u001b[0m\u001b[1;34m'Ese nombre no está dentro de la lista'\u001b[0m\u001b[1;33m)\u001b[0m\u001b[1;33m\u001b[0m\u001b[1;33m\u001b[0m\u001b[0m\n\u001b[0m\u001b[0;32m     15\u001b[0m                         \u001b[1;32mbreak\u001b[0m\u001b[1;33m\u001b[0m\u001b[1;33m\u001b[0m\u001b[0m\n\u001b[0;32m     16\u001b[0m \u001b[1;33m\u001b[0m\u001b[0m\n",
      "\u001b[1;32m~\\AppData\\Roaming\\Python\\Python37\\site-packages\\ipykernel\\iostream.py\u001b[0m in \u001b[0;36mwrite\u001b[1;34m(self, string)\u001b[0m\n\u001b[0;32m    400\u001b[0m             \u001b[0mis_child\u001b[0m \u001b[1;33m=\u001b[0m \u001b[1;33m(\u001b[0m\u001b[1;32mnot\u001b[0m \u001b[0mself\u001b[0m\u001b[1;33m.\u001b[0m\u001b[0m_is_master_process\u001b[0m\u001b[1;33m(\u001b[0m\u001b[1;33m)\u001b[0m\u001b[1;33m)\u001b[0m\u001b[1;33m\u001b[0m\u001b[1;33m\u001b[0m\u001b[0m\n\u001b[0;32m    401\u001b[0m             \u001b[1;31m# only touch the buffer in the IO thread to avoid races\u001b[0m\u001b[1;33m\u001b[0m\u001b[1;33m\u001b[0m\u001b[1;33m\u001b[0m\u001b[0m\n\u001b[1;32m--> 402\u001b[1;33m             \u001b[0mself\u001b[0m\u001b[1;33m.\u001b[0m\u001b[0mpub_thread\u001b[0m\u001b[1;33m.\u001b[0m\u001b[0mschedule\u001b[0m\u001b[1;33m(\u001b[0m\u001b[1;32mlambda\u001b[0m \u001b[1;33m:\u001b[0m \u001b[0mself\u001b[0m\u001b[1;33m.\u001b[0m\u001b[0m_buffer\u001b[0m\u001b[1;33m.\u001b[0m\u001b[0mwrite\u001b[0m\u001b[1;33m(\u001b[0m\u001b[0mstring\u001b[0m\u001b[1;33m)\u001b[0m\u001b[1;33m)\u001b[0m\u001b[1;33m\u001b[0m\u001b[1;33m\u001b[0m\u001b[0m\n\u001b[0m\u001b[0;32m    403\u001b[0m             \u001b[1;32mif\u001b[0m \u001b[0mis_child\u001b[0m\u001b[1;33m:\u001b[0m\u001b[1;33m\u001b[0m\u001b[1;33m\u001b[0m\u001b[0m\n\u001b[0;32m    404\u001b[0m                 \u001b[1;31m# mp.Pool cannot be trusted to flush promptly (or ever),\u001b[0m\u001b[1;33m\u001b[0m\u001b[1;33m\u001b[0m\u001b[1;33m\u001b[0m\u001b[0m\n",
      "\u001b[1;32m~\\AppData\\Roaming\\Python\\Python37\\site-packages\\ipykernel\\iostream.py\u001b[0m in \u001b[0;36mschedule\u001b[1;34m(self, f)\u001b[0m\n\u001b[0;32m    201\u001b[0m             \u001b[0mself\u001b[0m\u001b[1;33m.\u001b[0m\u001b[0m_events\u001b[0m\u001b[1;33m.\u001b[0m\u001b[0mappend\u001b[0m\u001b[1;33m(\u001b[0m\u001b[0mf\u001b[0m\u001b[1;33m)\u001b[0m\u001b[1;33m\u001b[0m\u001b[1;33m\u001b[0m\u001b[0m\n\u001b[0;32m    202\u001b[0m             \u001b[1;31m# wake event thread (message content is ignored)\u001b[0m\u001b[1;33m\u001b[0m\u001b[1;33m\u001b[0m\u001b[1;33m\u001b[0m\u001b[0m\n\u001b[1;32m--> 203\u001b[1;33m             \u001b[0mself\u001b[0m\u001b[1;33m.\u001b[0m\u001b[0m_event_pipe\u001b[0m\u001b[1;33m.\u001b[0m\u001b[0msend\u001b[0m\u001b[1;33m(\u001b[0m\u001b[1;34mb''\u001b[0m\u001b[1;33m)\u001b[0m\u001b[1;33m\u001b[0m\u001b[1;33m\u001b[0m\u001b[0m\n\u001b[0m\u001b[0;32m    204\u001b[0m         \u001b[1;32melse\u001b[0m\u001b[1;33m:\u001b[0m\u001b[1;33m\u001b[0m\u001b[1;33m\u001b[0m\u001b[0m\n\u001b[0;32m    205\u001b[0m             \u001b[0mf\u001b[0m\u001b[1;33m(\u001b[0m\u001b[1;33m)\u001b[0m\u001b[1;33m\u001b[0m\u001b[1;33m\u001b[0m\u001b[0m\n",
      "\u001b[1;32m~\\AppData\\Roaming\\Python\\Python37\\site-packages\\zmq\\sugar\\socket.py\u001b[0m in \u001b[0;36msend\u001b[1;34m(self, data, flags, copy, track, routing_id, group)\u001b[0m\n\u001b[0;32m    503\u001b[0m                 )\n\u001b[0;32m    504\u001b[0m             \u001b[0mdata\u001b[0m\u001b[1;33m.\u001b[0m\u001b[0mgroup\u001b[0m \u001b[1;33m=\u001b[0m \u001b[0mgroup\u001b[0m\u001b[1;33m\u001b[0m\u001b[1;33m\u001b[0m\u001b[0m\n\u001b[1;32m--> 505\u001b[1;33m         \u001b[1;32mreturn\u001b[0m \u001b[0msuper\u001b[0m\u001b[1;33m(\u001b[0m\u001b[0mSocket\u001b[0m\u001b[1;33m,\u001b[0m \u001b[0mself\u001b[0m\u001b[1;33m)\u001b[0m\u001b[1;33m.\u001b[0m\u001b[0msend\u001b[0m\u001b[1;33m(\u001b[0m\u001b[0mdata\u001b[0m\u001b[1;33m,\u001b[0m \u001b[0mflags\u001b[0m\u001b[1;33m=\u001b[0m\u001b[0mflags\u001b[0m\u001b[1;33m,\u001b[0m \u001b[0mcopy\u001b[0m\u001b[1;33m=\u001b[0m\u001b[0mcopy\u001b[0m\u001b[1;33m,\u001b[0m \u001b[0mtrack\u001b[0m\u001b[1;33m=\u001b[0m\u001b[0mtrack\u001b[0m\u001b[1;33m)\u001b[0m\u001b[1;33m\u001b[0m\u001b[1;33m\u001b[0m\u001b[0m\n\u001b[0m\u001b[0;32m    506\u001b[0m \u001b[1;33m\u001b[0m\u001b[0m\n\u001b[0;32m    507\u001b[0m     \u001b[1;32mdef\u001b[0m \u001b[0msend_multipart\u001b[0m\u001b[1;33m(\u001b[0m\u001b[0mself\u001b[0m\u001b[1;33m,\u001b[0m \u001b[0mmsg_parts\u001b[0m\u001b[1;33m,\u001b[0m \u001b[0mflags\u001b[0m\u001b[1;33m=\u001b[0m\u001b[1;36m0\u001b[0m\u001b[1;33m,\u001b[0m \u001b[0mcopy\u001b[0m\u001b[1;33m=\u001b[0m\u001b[1;32mTrue\u001b[0m\u001b[1;33m,\u001b[0m \u001b[0mtrack\u001b[0m\u001b[1;33m=\u001b[0m\u001b[1;32mFalse\u001b[0m\u001b[1;33m,\u001b[0m \u001b[1;33m**\u001b[0m\u001b[0mkwargs\u001b[0m\u001b[1;33m)\u001b[0m\u001b[1;33m:\u001b[0m\u001b[1;33m\u001b[0m\u001b[1;33m\u001b[0m\u001b[0m\n",
      "\u001b[1;32mzmq\\backend\\cython\\socket.pyx\u001b[0m in \u001b[0;36mzmq.backend.cython.socket.Socket.send\u001b[1;34m()\u001b[0m\n",
      "\u001b[1;32mzmq\\backend\\cython\\socket.pyx\u001b[0m in \u001b[0;36mzmq.backend.cython.socket.Socket.send\u001b[1;34m()\u001b[0m\n",
      "\u001b[1;32mzmq\\backend\\cython\\socket.pyx\u001b[0m in \u001b[0;36mzmq.backend.cython.socket._send_copy\u001b[1;34m()\u001b[0m\n",
      "\u001b[1;32m~\\AppData\\Roaming\\Python\\Python37\\site-packages\\zmq\\backend\\cython\\checkrc.pxd\u001b[0m in \u001b[0;36mzmq.backend.cython.checkrc._check_rc\u001b[1;34m()\u001b[0m\n",
      "\u001b[1;31mKeyboardInterrupt\u001b[0m: "
     ]
    }
   ],
   "source": [
    "lista_nombres_alturas = [(\"Gabriel Vázquez\", 1.75),(\"Jonathan Abbondanza\",  1.70),(\"Nacho Fontal\", 1.82),(\"Javier Araiz\", 1.80),('Jonathan Suarez', 1.86),('Sonia Cobo', 1.73), ('Jorge García', 1.79), (\"Mary Meza\", 1.52), ('Leonardo Frazzetto', 1.75), (\"Nacho Astorga\",1.78),(\"José Carlos Batista\",1.70), (\"Isabel Palomares\", 1.78),(\"Marina Serrano\", 1.54), (\"Daniel Walker\", 1.87), (\"Clara Piniella\", 1.66), (\"Gina Garrido\", 1.63), (\"Adrià Gallardo\", 1.70), (\"María García-Maroto\", 1.64), (\"Susana Vázquez\",1.80), (\"Mauro Garcia-Oliva\", 1.77), (\"Juan Bayon\", 1.64), (\"Miguel Barquero\", 1.85), (\"Borja Puig\", 1.82), (\"Pablo Martínez\", 1.81), (\"Xinru Yang\", 1.60),(\"Pablo Díez\", 1.84),(\"Karina Inche\",1.61)]\n",
    "\n",
    "def ejercicio_3(arg1, arg2):\n",
    "\n",
    "    for element in arg1:\n",
    "\n",
    "        for element2 in element:\n",
    "\n",
    "            if type(element2) == str and str(element2) == arg2:\n",
    "                        arg1.remove(element)\n",
    "                        print(element)\n",
    "                        print(arg1)\n",
    "            elif type(element2) == str and str(element2) != arg2:\n",
    "                        print('Ese nombre no está dentro de la lista')\n",
    "                        break\n",
    "\n",
    "def ejercicio_5 (arg1, arg2):\n",
    "    arg2 = str(arg2)\n",
    "    while arg2 != 'STOP':\n",
    "        ejercicio_3(arg1 = arg1, arg2 = arg2)\n",
    "\n",
    "        \n",
    "\n",
    "ejercicio_5(arg1 = lista_nombres_alturas, arg2 = input(\"escribe un nombre\"))\n"
   ]
  },
  {
   "cell_type": "code",
   "execution_count": 1,
   "metadata": {},
   "outputs": [
    {
     "output_type": "execute_result",
     "data": {
      "text/plain": [
       "[('Gabriel Vázquez', 1.75),\n",
       " ('Jonathan Abbondanza', 1.7),\n",
       " ('Nacho Fontal', 1.82),\n",
       " ('Javier Araiz', 1.8),\n",
       " ('Jonathan Suarez', 1.86),\n",
       " ('Sonia Cobo', 1.73),\n",
       " ('Jorge García', 1.79),\n",
       " ('Mary Meza', 1.52),\n",
       " ('Leonardo Frazzetto', 1.75),\n",
       " ('Nacho Astorga', 1.78),\n",
       " ('José Carlos Batista', 1.7),\n",
       " ('Isabel Palomares', 1.78),\n",
       " ('Marina Serrano', 1.54),\n",
       " ('Daniel Walker', 1.87),\n",
       " ('Clara Piniella', 1.66),\n",
       " ('Gina Garrido', 1.63),\n",
       " ('Adrià Gallardo', 1.7),\n",
       " ('María García-Maroto', 1.64),\n",
       " ('Susana Vázquez', 1.8),\n",
       " ('Mauro Garcia-Oliva', 1.77),\n",
       " ('Juan Bayon', 1.64),\n",
       " ('Miguel Barquero', 1.85),\n",
       " ('Borja Puig', 1.82),\n",
       " ('Pablo Martínez', 1.81),\n",
       " ('Xinru Yang', 1.6),\n",
       " ('Pablo Díez', 1.84),\n",
       " ('Karina Inche', 1.61)]"
      ]
     },
     "metadata": {},
     "execution_count": 1
    }
   ],
   "source": [
    "# La lista a usar del ejercicio 3 y 5. Recuerda añadir la tupla con tu información si no está. \n",
    "\n",
    "lista_nombres_alturas = [(\"Gabriel Vázquez\", 1.75),(\"Jonathan Abbondanza\",  1.70),(\"Nacho Fontal\", 1.82),(\"Javier Araiz\", 1.80),('Jonathan Suarez', 1.86),('Sonia Cobo', 1.73), ('Jorge García', 1.79), (\"Mary Meza\", 1.52), ('Leonardo Frazzetto', 1.75), (\"Nacho Astorga\",1.78),(\"José Carlos Batista\",1.70), (\"Isabel Palomares\", 1.78),(\"Marina Serrano\", 1.54), (\"Daniel Walker\", 1.87), (\"Clara Piniella\", 1.66), (\"Gina Garrido\", 1.63), (\"Adrià Gallardo\", 1.70), (\"María García-Maroto\", 1.64), (\"Susana Vázquez\",1.80), (\"Mauro Garcia-Oliva\", 1.77), (\"Juan Bayon\", 1.64), (\"Miguel Barquero\", 1.85), (\"Borja Puig\", 1.82), (\"Pablo Martínez\", 1.81), (\"Xinru Yang\", 1.60),(\"Pablo Díez\", 1.84),(\"Karina Inche\",1.61)]\n",
    "\n",
    "lista_nombres_alturas"
   ]
  }
 ]
}