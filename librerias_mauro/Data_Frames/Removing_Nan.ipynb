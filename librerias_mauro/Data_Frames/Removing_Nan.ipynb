{
 "metadata": {
  "language_info": {
   "codemirror_mode": {
    "name": "ipython",
    "version": 3
   },
   "file_extension": ".py",
   "mimetype": "text/x-python",
   "name": "python",
   "nbconvert_exporter": "python",
   "pygments_lexer": "ipython3",
   "version": "3.7.4"
  },
  "orig_nbformat": 2,
  "kernelspec": {
   "name": "python374jvsc74a57bd0021d9f4f6a0c9e23e32c4246ac82593951ffad9baab3e58c0c69e8a8c06b339b",
   "display_name": "Python 3.7.4 64-bit"
  },
  "metadata": {
   "interpreter": {
    "hash": "021d9f4f6a0c9e23e32c4246ac82593951ffad9baab3e58c0c69e8a8c06b339b"
   }
  }
 },
 "nbformat": 4,
 "nbformat_minor": 2,
 "cells": [
  {
   "cell_type": "code",
   "execution_count": 11,
   "metadata": {},
   "outputs": [],
   "source": [
    "'''Esta funcion permite eliminar las columnas de un dataframe cuyos valores son todos NaN. El argumento es un dataframe.\n",
    "'''\n",
    "import pandas as pd\n",
    "import numpy as np\n",
    "\n",
    "def all_nan_columns(df):\n",
    "    df = df.dropna(axis=1, how='all')\n",
    "    print('-----')\n",
    "    return df\n",
    "    print(df)"
   ]
  },
  {
   "cell_type": "code",
   "execution_count": 12,
   "metadata": {},
   "outputs": [],
   "source": [
    "'''Esta funcion permite eliminar las filas de un dataframe cuyos valores son todos NaN. El argumento es un dataframe.\n",
    "'''\n",
    "import pandas as pd\n",
    "import numpy as np\n",
    "\n",
    "def all_nan_rows(df):\n",
    "    df.dropna(axis=0, how='all')\n",
    "    print(df)\n",
    "    print('-----')\n",
    "    return df\n",
    "    print(df)"
   ]
  },
  {
   "cell_type": "code",
   "execution_count": 13,
   "metadata": {},
   "outputs": [],
   "source": [
    "'''Esta funcion permite eliminar las columnas de un dataframe cuando alguno de sus valores es NaN. El argumento es un dataframe.\n",
    "'''\n",
    "import pandas as pd\n",
    "import numpy as np\n",
    "\n",
    "def any_nan_columns(df):\n",
    "    wo_any_columns = df.dropna(axis=1, how='any')\n",
    "    print(df)\n",
    "    print('-----')\n",
    "    return df\n",
    "    print(df)"
   ]
  },
  {
   "cell_type": "code",
   "execution_count": 14,
   "metadata": {},
   "outputs": [],
   "source": [
    "'''Esta funcion permite eliminar las filaas de un dataframe cuando alguno de sus valores es NaN. El argumento es un dataframe.\n",
    "'''\n",
    "import pandas as pd\n",
    "import numpy as np\n",
    "\n",
    "def any_nan_columns(df):\n",
    "    df = df.dropna(axis=0, how='any')\n",
    "    print(df)\n",
    "    print('-----')\n",
    "    return df\n",
    "    print(df)"
   ]
  },
  {
   "cell_type": "code",
   "execution_count": null,
   "metadata": {},
   "outputs": [],
   "source": []
  }
 ]
}