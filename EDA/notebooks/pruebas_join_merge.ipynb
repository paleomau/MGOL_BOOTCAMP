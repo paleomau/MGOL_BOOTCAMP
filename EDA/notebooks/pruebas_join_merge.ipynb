{
 "metadata": {
  "language_info": {
   "codemirror_mode": {
    "name": "ipython",
    "version": 3
   },
   "file_extension": ".py",
   "mimetype": "text/x-python",
   "name": "python",
   "nbconvert_exporter": "python",
   "pygments_lexer": "ipython3",
   "version": "3.7.4"
  },
  "orig_nbformat": 2,
  "kernelspec": {
   "name": "python374jvsc74a57bd0021d9f4f6a0c9e23e32c4246ac82593951ffad9baab3e58c0c69e8a8c06b339b",
   "display_name": "Python 3.7.4 64-bit"
  },
  "metadata": {
   "interpreter": {
    "hash": "021d9f4f6a0c9e23e32c4246ac82593951ffad9baab3e58c0c69e8a8c06b339b"
   }
  }
 },
 "nbformat": 4,
 "nbformat_minor": 2,
 "cells": [
  {
   "cell_type": "code",
   "execution_count": 2,
   "metadata": {},
   "outputs": [
    {
     "output_type": "error",
     "ename": "ModuleNotFoundError",
     "evalue": "No module named 'utils'",
     "traceback": [
      "\u001b[1;31m---------------------------------------------------------------------------\u001b[0m",
      "\u001b[1;31mModuleNotFoundError\u001b[0m                       Traceback (most recent call last)",
      "\u001b[1;32m<ipython-input-2-ffd34cbccc8d>\u001b[0m in \u001b[0;36m<module>\u001b[1;34m\u001b[0m\n\u001b[0;32m      3\u001b[0m \u001b[1;32mimport\u001b[0m \u001b[0mpandas\u001b[0m \u001b[1;32mas\u001b[0m \u001b[0mpd\u001b[0m\u001b[1;33m\u001b[0m\u001b[1;33m\u001b[0m\u001b[0m\n\u001b[0;32m      4\u001b[0m \u001b[1;32mimport\u001b[0m \u001b[0mnumpy\u001b[0m \u001b[1;32mas\u001b[0m \u001b[0mnp\u001b[0m\u001b[1;33m\u001b[0m\u001b[1;33m\u001b[0m\u001b[0m\n\u001b[1;32m----> 5\u001b[1;33m \u001b[1;32mfrom\u001b[0m \u001b[0mutils\u001b[0m\u001b[1;33m.\u001b[0m\u001b[0mmining_data_tb\u001b[0m \u001b[1;32mimport\u001b[0m \u001b[0mmineria_pacientes_parcial\u001b[0m\u001b[1;33m\u001b[0m\u001b[1;33m\u001b[0m\u001b[0m\n\u001b[0m",
      "\u001b[1;31mModuleNotFoundError\u001b[0m: No module named 'utils'"
     ]
    }
   ],
   "source": [
    "import sys\n",
    "import os\n",
    "import pandas as pd\n",
    "import numpy as np\n",
    "from utils.mining_data_tb import mineria_pacientes_parcial\n"
   ]
  },
  {
   "cell_type": "code",
   "execution_count": 26,
   "metadata": {},
   "outputs": [],
   "source": [
    "pacientes_lung = pd.read_csv(\"../data/LUNG_PATIENT_DATA.tsv\", sep='\\t')\n",
    "pacientes_pancreas= pd.read_csv(\"../data/pancreas_PATIENT_DATA_oncoprint.tsv\", sep='\\t')"
   ]
  },
  {
   "cell_type": "code",
   "execution_count": 27,
   "metadata": {},
   "outputs": [
    {
     "output_type": "execute_result",
     "data": {
      "text/plain": [
       "track_name       Sex Diagnosis Age Progress Free Survival (Months)  \\\n",
       "TCGA-IB-7886    Male            80                    4.0437913009   \n",
       "TCGA-FB-AAPY    Male            71                     34.81605681   \n",
       "TCGA-HZ-7925    Male            66              11.966992142999999   \n",
       "TCGA-IB-7889  Female            85                    11.572475918   \n",
       "TCGA-FB-AAPQ    Male            65                    37.150277805   \n",
       "...              ...           ...                             ...   \n",
       "TCGA-F2-7276    Male            64                    7.1012920406   \n",
       "TCGA-HZ-7923    Male            65                    10.323174541   \n",
       "TCGA-HZ-8519    Male            73              14.925863825999999   \n",
       "TCGA-IB-AAUT    Male            65                    9.4355130355   \n",
       "TCGA-US-A77J  Female            81                    18.673767959   \n",
       "\n",
       "track_name        Ethnicity Category Mutation Count  \n",
       "TCGA-IB-7886  Not Hispanic Or Latino             41  \n",
       "TCGA-FB-AAPY  Not Hispanic Or Latino             32  \n",
       "TCGA-HZ-7925  Not Hispanic Or Latino             20  \n",
       "TCGA-IB-7889  Not Hispanic Or Latino             38  \n",
       "TCGA-FB-AAPQ  Not Hispanic Or Latino             36  \n",
       "...                              ...            ...  \n",
       "TCGA-F2-7276  Not Hispanic Or Latino              0  \n",
       "TCGA-HZ-7923  Not Hispanic Or Latino              0  \n",
       "TCGA-HZ-8519  Not Hispanic Or Latino              0  \n",
       "TCGA-IB-AAUT  Not Hispanic Or Latino              0  \n",
       "TCGA-US-A77J  Not Hispanic Or Latino              0  \n",
       "\n",
       "[141 rows x 5 columns]"
      ],
      "text/html": "<div>\n<style scoped>\n    .dataframe tbody tr th:only-of-type {\n        vertical-align: middle;\n    }\n\n    .dataframe tbody tr th {\n        vertical-align: top;\n    }\n\n    .dataframe thead th {\n        text-align: right;\n    }\n</style>\n<table border=\"1\" class=\"dataframe\">\n  <thead>\n    <tr style=\"text-align: right;\">\n      <th>track_name</th>\n      <th>Sex</th>\n      <th>Diagnosis Age</th>\n      <th>Progress Free Survival (Months)</th>\n      <th>Ethnicity Category</th>\n      <th>Mutation Count</th>\n    </tr>\n  </thead>\n  <tbody>\n    <tr>\n      <th>TCGA-IB-7886</th>\n      <td>Male</td>\n      <td>80</td>\n      <td>4.0437913009</td>\n      <td>Not Hispanic Or Latino</td>\n      <td>41</td>\n    </tr>\n    <tr>\n      <th>TCGA-FB-AAPY</th>\n      <td>Male</td>\n      <td>71</td>\n      <td>34.81605681</td>\n      <td>Not Hispanic Or Latino</td>\n      <td>32</td>\n    </tr>\n    <tr>\n      <th>TCGA-HZ-7925</th>\n      <td>Male</td>\n      <td>66</td>\n      <td>11.966992142999999</td>\n      <td>Not Hispanic Or Latino</td>\n      <td>20</td>\n    </tr>\n    <tr>\n      <th>TCGA-IB-7889</th>\n      <td>Female</td>\n      <td>85</td>\n      <td>11.572475918</td>\n      <td>Not Hispanic Or Latino</td>\n      <td>38</td>\n    </tr>\n    <tr>\n      <th>TCGA-FB-AAPQ</th>\n      <td>Male</td>\n      <td>65</td>\n      <td>37.150277805</td>\n      <td>Not Hispanic Or Latino</td>\n      <td>36</td>\n    </tr>\n    <tr>\n      <th>...</th>\n      <td>...</td>\n      <td>...</td>\n      <td>...</td>\n      <td>...</td>\n      <td>...</td>\n    </tr>\n    <tr>\n      <th>TCGA-F2-7276</th>\n      <td>Male</td>\n      <td>64</td>\n      <td>7.1012920406</td>\n      <td>Not Hispanic Or Latino</td>\n      <td>0</td>\n    </tr>\n    <tr>\n      <th>TCGA-HZ-7923</th>\n      <td>Male</td>\n      <td>65</td>\n      <td>10.323174541</td>\n      <td>Not Hispanic Or Latino</td>\n      <td>0</td>\n    </tr>\n    <tr>\n      <th>TCGA-HZ-8519</th>\n      <td>Male</td>\n      <td>73</td>\n      <td>14.925863825999999</td>\n      <td>Not Hispanic Or Latino</td>\n      <td>0</td>\n    </tr>\n    <tr>\n      <th>TCGA-IB-AAUT</th>\n      <td>Male</td>\n      <td>65</td>\n      <td>9.4355130355</td>\n      <td>Not Hispanic Or Latino</td>\n      <td>0</td>\n    </tr>\n    <tr>\n      <th>TCGA-US-A77J</th>\n      <td>Female</td>\n      <td>81</td>\n      <td>18.673767959</td>\n      <td>Not Hispanic Or Latino</td>\n      <td>0</td>\n    </tr>\n  </tbody>\n</table>\n<p>141 rows × 5 columns</p>\n</div>"
     },
     "metadata": {},
     "execution_count": 27
    }
   ],
   "source": [
    "pacientes_pancreas_clean = mineria_pacientes_parcial(pacientes_pancreas)\n",
    "pacientes_pancreas_clean"
   ]
  },
  {
   "cell_type": "code",
   "execution_count": 28,
   "metadata": {},
   "outputs": [
    {
     "output_type": "execute_result",
     "data": {
      "text/plain": [
       "track_name       Sex Diagnosis Age Progress Free Survival (Months)  \\\n",
       "TCGA-55-8094    Male            51              17.786106454000002   \n",
       "TCGA-99-8033  Female            74              21.566886938000003   \n",
       "TCGA-69-7978    Male            59               4.405431173399999   \n",
       "TCGA-86-A4JF    Male            56                    14.334089489   \n",
       "TCGA-44-8117  Female            54                    12.657395535   \n",
       "...              ...           ...                             ...   \n",
       "TCGA-97-7546  Female            76                     41.25982181   \n",
       "TCGA-97-7547  Female            67                    25.479172831   \n",
       "TCGA-97-7552    Male            70                    26.235328928   \n",
       "TCGA-97-8174    Male            67               5.391721734600001   \n",
       "TCGA-99-AA5R  Female            70              21.632639641999997   \n",
       "\n",
       "track_name        Ethnicity Category Mutation Count  \n",
       "TCGA-55-8094  Not Hispanic Or Latino            395  \n",
       "TCGA-99-8033  Not Hispanic Or Latino            168  \n",
       "TCGA-69-7978  Not Hispanic Or Latino            546  \n",
       "TCGA-86-A4JF  Not Hispanic Or Latino           1228  \n",
       "TCGA-44-8117  Not Hispanic Or Latino            679  \n",
       "...                              ...            ...  \n",
       "TCGA-97-7546  Not Hispanic Or Latino            252  \n",
       "TCGA-97-7547  Not Hispanic Or Latino            158  \n",
       "TCGA-97-7552  Not Hispanic Or Latino             35  \n",
       "TCGA-97-8174  Not Hispanic Or Latino            158  \n",
       "TCGA-99-AA5R  Not Hispanic Or Latino             54  \n",
       "\n",
       "[520 rows x 5 columns]"
      ],
      "text/html": "<div>\n<style scoped>\n    .dataframe tbody tr th:only-of-type {\n        vertical-align: middle;\n    }\n\n    .dataframe tbody tr th {\n        vertical-align: top;\n    }\n\n    .dataframe thead th {\n        text-align: right;\n    }\n</style>\n<table border=\"1\" class=\"dataframe\">\n  <thead>\n    <tr style=\"text-align: right;\">\n      <th>track_name</th>\n      <th>Sex</th>\n      <th>Diagnosis Age</th>\n      <th>Progress Free Survival (Months)</th>\n      <th>Ethnicity Category</th>\n      <th>Mutation Count</th>\n    </tr>\n  </thead>\n  <tbody>\n    <tr>\n      <th>TCGA-55-8094</th>\n      <td>Male</td>\n      <td>51</td>\n      <td>17.786106454000002</td>\n      <td>Not Hispanic Or Latino</td>\n      <td>395</td>\n    </tr>\n    <tr>\n      <th>TCGA-99-8033</th>\n      <td>Female</td>\n      <td>74</td>\n      <td>21.566886938000003</td>\n      <td>Not Hispanic Or Latino</td>\n      <td>168</td>\n    </tr>\n    <tr>\n      <th>TCGA-69-7978</th>\n      <td>Male</td>\n      <td>59</td>\n      <td>4.405431173399999</td>\n      <td>Not Hispanic Or Latino</td>\n      <td>546</td>\n    </tr>\n    <tr>\n      <th>TCGA-86-A4JF</th>\n      <td>Male</td>\n      <td>56</td>\n      <td>14.334089489</td>\n      <td>Not Hispanic Or Latino</td>\n      <td>1228</td>\n    </tr>\n    <tr>\n      <th>TCGA-44-8117</th>\n      <td>Female</td>\n      <td>54</td>\n      <td>12.657395535</td>\n      <td>Not Hispanic Or Latino</td>\n      <td>679</td>\n    </tr>\n    <tr>\n      <th>...</th>\n      <td>...</td>\n      <td>...</td>\n      <td>...</td>\n      <td>...</td>\n      <td>...</td>\n    </tr>\n    <tr>\n      <th>TCGA-97-7546</th>\n      <td>Female</td>\n      <td>76</td>\n      <td>41.25982181</td>\n      <td>Not Hispanic Or Latino</td>\n      <td>252</td>\n    </tr>\n    <tr>\n      <th>TCGA-97-7547</th>\n      <td>Female</td>\n      <td>67</td>\n      <td>25.479172831</td>\n      <td>Not Hispanic Or Latino</td>\n      <td>158</td>\n    </tr>\n    <tr>\n      <th>TCGA-97-7552</th>\n      <td>Male</td>\n      <td>70</td>\n      <td>26.235328928</td>\n      <td>Not Hispanic Or Latino</td>\n      <td>35</td>\n    </tr>\n    <tr>\n      <th>TCGA-97-8174</th>\n      <td>Male</td>\n      <td>67</td>\n      <td>5.391721734600001</td>\n      <td>Not Hispanic Or Latino</td>\n      <td>158</td>\n    </tr>\n    <tr>\n      <th>TCGA-99-AA5R</th>\n      <td>Female</td>\n      <td>70</td>\n      <td>21.632639641999997</td>\n      <td>Not Hispanic Or Latino</td>\n      <td>54</td>\n    </tr>\n  </tbody>\n</table>\n<p>520 rows × 5 columns</p>\n</div>"
     },
     "metadata": {},
     "execution_count": 28
    }
   ],
   "source": [
    "pacientes_lung_clean = mineria_pacientes_parcial(pacientes_lung)\n",
    "pacientes_lung_clean"
   ]
  },
  {
   "cell_type": "code",
   "execution_count": 29,
   "metadata": {},
   "outputs": [],
   "source": [
    "mutaciones_bruto_lung = pd.read_csv(\"../data/LUNG_alterations_across_samples.tsv\", sep='\\t')\n",
    "mutaciones_bruto_pancreas = pd.read_csv(\"../data/pancreas_alterations_across_samples.tsv\", sep='\\t')"
   ]
  },
  {
   "cell_type": "code",
   "execution_count": 30,
   "metadata": {},
   "outputs": [],
   "source": [
    "mutaciones_bruto_lung.set_index('Patient ID', inplace=True)\n",
    "mutaciones_bruto_pancreas.set_index('Patient ID', inplace=True)"
   ]
  },
  {
   "cell_type": "code",
   "execution_count": 31,
   "metadata": {},
   "outputs": [],
   "source": [
    "mutaciones_bruto_lung = mutaciones_bruto_lung.iloc[:,2:]\n",
    "mutaciones_bruto_pancreas = mutaciones_bruto_pancreas.iloc[:,2:]"
   ]
  },
  {
   "cell_type": "code",
   "execution_count": 32,
   "metadata": {},
   "outputs": [],
   "source": [
    "mutaciones_bruto_lung = mutaciones_bruto_lung.replace(['no alteration', 'not profiled'],'0')\n",
    "mutaciones_bruto_pancreas = mutaciones_bruto_pancreas.replace(['no alteration', 'not profiled'],'0')"
   ]
  },
  {
   "cell_type": "code",
   "execution_count": 33,
   "metadata": {},
   "outputs": [],
   "source": [
    "mutaciones_bruto_lung1 = mutaciones_bruto_lung[mutaciones_bruto_lung.Altered != 0]\n",
    "mutaciones_bruto_pancreas1 = mutaciones_bruto_pancreas[mutaciones_bruto_pancreas.Altered != 0]\n"
   ]
  },
  {
   "cell_type": "code",
   "execution_count": 34,
   "metadata": {},
   "outputs": [
    {
     "output_type": "stream",
     "name": "stderr",
     "text": [
      "C:\\Users\\MAUCRO\\AppData\\Local\\Programs\\Python\\Python37\\lib\\site-packages\\pandas\\core\\frame.py:4315: SettingWithCopyWarning: \nA value is trying to be set on a copy of a slice from a DataFrame\n\nSee the caveats in the documentation: https://pandas.pydata.org/pandas-docs/stable/user_guide/indexing.html#returning-a-view-versus-a-copy\n  errors=errors,\n"
     ]
    }
   ],
   "source": [
    "mutaciones_bruto_lung1.drop(['Altered'], axis=1, inplace = True)\n",
    "mutaciones_bruto_pancreas1.drop(['Altered'], axis=1, inplace = True)"
   ]
  },
  {
   "cell_type": "code",
   "execution_count": 35,
   "metadata": {},
   "outputs": [
    {
     "output_type": "stream",
     "name": "stderr",
     "text": [
      "C:\\Users\\MAUCRO\\AppData\\Local\\Programs\\Python\\Python37\\lib\\site-packages\\pandas\\core\\frame.py:4530: SettingWithCopyWarning: \nA value is trying to be set on a copy of a slice from a DataFrame\n\nSee the caveats in the documentation: https://pandas.pydata.org/pandas-docs/stable/user_guide/indexing.html#returning-a-view-versus-a-copy\n  method=method,\n"
     ]
    }
   ],
   "source": [
    "mutaciones_bruto_lung1.replace('0', np.nan, inplace=True)\n",
    "mutaciones_bruto_pancreas1.replace('0', np.nan, inplace=True)\n"
   ]
  },
  {
   "cell_type": "code",
   "execution_count": 36,
   "metadata": {},
   "outputs": [
    {
     "output_type": "stream",
     "name": "stderr",
     "text": [
      "C:\\Users\\MAUCRO\\AppData\\Local\\Programs\\Python\\Python37\\lib\\site-packages\\pandas\\core\\indexing.py:1720: SettingWithCopyWarning: \nA value is trying to be set on a copy of a slice from a DataFrame.\nTry using .loc[row_indexer,col_indexer] = value instead\n\nSee the caveats in the documentation: https://pandas.pydata.org/pandas-docs/stable/user_guide/indexing.html#returning-a-view-versus-a-copy\n  self._setitem_single_column(loc, value, pi)\n"
     ]
    },
    {
     "output_type": "execute_result",
     "data": {
      "text/plain": [
       "               TP53 KRAS KEAP1 EGFR EGFR.1 STK11  ATM SMARCA4 LRP1B TP53: MUT  \\\n",
       "Patient ID                                                                      \n",
       "LU-A08-43       NaN  NaN   NaN    D      E   NaN  NaN     NaN   NaN       NaN   \n",
       "LUAD-U6SJ7      NaN    B     C  NaN    NaN     F  NaN     NaN   NaN       NaN   \n",
       "LUAD-E01014       A  NaN   NaN    D      E   NaN  NaN     NaN   NaN         J   \n",
       "LUAD-S01404     NaN    B     C  NaN    NaN   NaN  NaN     NaN     I       NaN   \n",
       "LUAD-S01381     NaN  NaN     C  NaN    NaN     F  NaN     NaN   NaN       NaN   \n",
       "...             ...  ...   ...  ...    ...   ...  ...     ...   ...       ...   \n",
       "luad_tsp_17766  NaN    B   NaN  NaN    NaN   NaN  NaN     NaN   NaN       NaN   \n",
       "luad_tsp_17776  NaN  NaN   NaN  NaN    NaN     F  NaN     NaN   NaN       NaN   \n",
       "luad_tsp_17777    A    B   NaN  NaN    NaN   NaN  NaN     NaN     I         J   \n",
       "luad_tsp_17778  NaN  NaN   NaN  NaN    NaN     F  NaN     NaN   NaN       NaN   \n",
       "luad_tsp_17781  NaN    B   NaN  NaN    NaN     F  NaN     NaN   NaN       NaN   \n",
       "\n",
       "               KRAS: MUT KEAP1: MUT EGFR: MUT STK11: MUT ATM: MUT  \\\n",
       "Patient ID                                                          \n",
       "LU-A08-43            NaN        NaN         M        NaN      NaN   \n",
       "LUAD-U6SJ7             K          L       NaN          N      NaN   \n",
       "LUAD-E01014          NaN        NaN         M        NaN      NaN   \n",
       "LUAD-S01404            K          L       NaN        NaN      NaN   \n",
       "LUAD-S01381          NaN          L       NaN          N      NaN   \n",
       "...                  ...        ...       ...        ...      ...   \n",
       "luad_tsp_17766         K        NaN       NaN        NaN      NaN   \n",
       "luad_tsp_17776       NaN        NaN       NaN          N      NaN   \n",
       "luad_tsp_17777         K        NaN       NaN        NaN      NaN   \n",
       "luad_tsp_17778       NaN        NaN       NaN          N      NaN   \n",
       "luad_tsp_17781         K        NaN       NaN          N      NaN   \n",
       "\n",
       "               SMARCA4: MUT LRP1B: MUT  \n",
       "Patient ID                              \n",
       "LU-A08-43               NaN        NaN  \n",
       "LUAD-U6SJ7              NaN        NaN  \n",
       "LUAD-E01014             NaN        NaN  \n",
       "LUAD-S01404             NaN          Q  \n",
       "LUAD-S01381             NaN        NaN  \n",
       "...                     ...        ...  \n",
       "luad_tsp_17766          NaN        NaN  \n",
       "luad_tsp_17776          NaN        NaN  \n",
       "luad_tsp_17777          NaN          Q  \n",
       "luad_tsp_17778          NaN        NaN  \n",
       "luad_tsp_17781          NaN        NaN  \n",
       "\n",
       "[770 rows x 17 columns]"
      ],
      "text/html": "<div>\n<style scoped>\n    .dataframe tbody tr th:only-of-type {\n        vertical-align: middle;\n    }\n\n    .dataframe tbody tr th {\n        vertical-align: top;\n    }\n\n    .dataframe thead th {\n        text-align: right;\n    }\n</style>\n<table border=\"1\" class=\"dataframe\">\n  <thead>\n    <tr style=\"text-align: right;\">\n      <th></th>\n      <th>TP53</th>\n      <th>KRAS</th>\n      <th>KEAP1</th>\n      <th>EGFR</th>\n      <th>EGFR.1</th>\n      <th>STK11</th>\n      <th>ATM</th>\n      <th>SMARCA4</th>\n      <th>LRP1B</th>\n      <th>TP53: MUT</th>\n      <th>KRAS: MUT</th>\n      <th>KEAP1: MUT</th>\n      <th>EGFR: MUT</th>\n      <th>STK11: MUT</th>\n      <th>ATM: MUT</th>\n      <th>SMARCA4: MUT</th>\n      <th>LRP1B: MUT</th>\n    </tr>\n    <tr>\n      <th>Patient ID</th>\n      <th></th>\n      <th></th>\n      <th></th>\n      <th></th>\n      <th></th>\n      <th></th>\n      <th></th>\n      <th></th>\n      <th></th>\n      <th></th>\n      <th></th>\n      <th></th>\n      <th></th>\n      <th></th>\n      <th></th>\n      <th></th>\n      <th></th>\n    </tr>\n  </thead>\n  <tbody>\n    <tr>\n      <th>LU-A08-43</th>\n      <td>NaN</td>\n      <td>NaN</td>\n      <td>NaN</td>\n      <td>D</td>\n      <td>E</td>\n      <td>NaN</td>\n      <td>NaN</td>\n      <td>NaN</td>\n      <td>NaN</td>\n      <td>NaN</td>\n      <td>NaN</td>\n      <td>NaN</td>\n      <td>M</td>\n      <td>NaN</td>\n      <td>NaN</td>\n      <td>NaN</td>\n      <td>NaN</td>\n    </tr>\n    <tr>\n      <th>LUAD-U6SJ7</th>\n      <td>NaN</td>\n      <td>B</td>\n      <td>C</td>\n      <td>NaN</td>\n      <td>NaN</td>\n      <td>F</td>\n      <td>NaN</td>\n      <td>NaN</td>\n      <td>NaN</td>\n      <td>NaN</td>\n      <td>K</td>\n      <td>L</td>\n      <td>NaN</td>\n      <td>N</td>\n      <td>NaN</td>\n      <td>NaN</td>\n      <td>NaN</td>\n    </tr>\n    <tr>\n      <th>LUAD-E01014</th>\n      <td>A</td>\n      <td>NaN</td>\n      <td>NaN</td>\n      <td>D</td>\n      <td>E</td>\n      <td>NaN</td>\n      <td>NaN</td>\n      <td>NaN</td>\n      <td>NaN</td>\n      <td>J</td>\n      <td>NaN</td>\n      <td>NaN</td>\n      <td>M</td>\n      <td>NaN</td>\n      <td>NaN</td>\n      <td>NaN</td>\n      <td>NaN</td>\n    </tr>\n    <tr>\n      <th>LUAD-S01404</th>\n      <td>NaN</td>\n      <td>B</td>\n      <td>C</td>\n      <td>NaN</td>\n      <td>NaN</td>\n      <td>NaN</td>\n      <td>NaN</td>\n      <td>NaN</td>\n      <td>I</td>\n      <td>NaN</td>\n      <td>K</td>\n      <td>L</td>\n      <td>NaN</td>\n      <td>NaN</td>\n      <td>NaN</td>\n      <td>NaN</td>\n      <td>Q</td>\n    </tr>\n    <tr>\n      <th>LUAD-S01381</th>\n      <td>NaN</td>\n      <td>NaN</td>\n      <td>C</td>\n      <td>NaN</td>\n      <td>NaN</td>\n      <td>F</td>\n      <td>NaN</td>\n      <td>NaN</td>\n      <td>NaN</td>\n      <td>NaN</td>\n      <td>NaN</td>\n      <td>L</td>\n      <td>NaN</td>\n      <td>N</td>\n      <td>NaN</td>\n      <td>NaN</td>\n      <td>NaN</td>\n    </tr>\n    <tr>\n      <th>...</th>\n      <td>...</td>\n      <td>...</td>\n      <td>...</td>\n      <td>...</td>\n      <td>...</td>\n      <td>...</td>\n      <td>...</td>\n      <td>...</td>\n      <td>...</td>\n      <td>...</td>\n      <td>...</td>\n      <td>...</td>\n      <td>...</td>\n      <td>...</td>\n      <td>...</td>\n      <td>...</td>\n      <td>...</td>\n    </tr>\n    <tr>\n      <th>luad_tsp_17766</th>\n      <td>NaN</td>\n      <td>B</td>\n      <td>NaN</td>\n      <td>NaN</td>\n      <td>NaN</td>\n      <td>NaN</td>\n      <td>NaN</td>\n      <td>NaN</td>\n      <td>NaN</td>\n      <td>NaN</td>\n      <td>K</td>\n      <td>NaN</td>\n      <td>NaN</td>\n      <td>NaN</td>\n      <td>NaN</td>\n      <td>NaN</td>\n      <td>NaN</td>\n    </tr>\n    <tr>\n      <th>luad_tsp_17776</th>\n      <td>NaN</td>\n      <td>NaN</td>\n      <td>NaN</td>\n      <td>NaN</td>\n      <td>NaN</td>\n      <td>F</td>\n      <td>NaN</td>\n      <td>NaN</td>\n      <td>NaN</td>\n      <td>NaN</td>\n      <td>NaN</td>\n      <td>NaN</td>\n      <td>NaN</td>\n      <td>N</td>\n      <td>NaN</td>\n      <td>NaN</td>\n      <td>NaN</td>\n    </tr>\n    <tr>\n      <th>luad_tsp_17777</th>\n      <td>A</td>\n      <td>B</td>\n      <td>NaN</td>\n      <td>NaN</td>\n      <td>NaN</td>\n      <td>NaN</td>\n      <td>NaN</td>\n      <td>NaN</td>\n      <td>I</td>\n      <td>J</td>\n      <td>K</td>\n      <td>NaN</td>\n      <td>NaN</td>\n      <td>NaN</td>\n      <td>NaN</td>\n      <td>NaN</td>\n      <td>Q</td>\n    </tr>\n    <tr>\n      <th>luad_tsp_17778</th>\n      <td>NaN</td>\n      <td>NaN</td>\n      <td>NaN</td>\n      <td>NaN</td>\n      <td>NaN</td>\n      <td>F</td>\n      <td>NaN</td>\n      <td>NaN</td>\n      <td>NaN</td>\n      <td>NaN</td>\n      <td>NaN</td>\n      <td>NaN</td>\n      <td>NaN</td>\n      <td>N</td>\n      <td>NaN</td>\n      <td>NaN</td>\n      <td>NaN</td>\n    </tr>\n    <tr>\n      <th>luad_tsp_17781</th>\n      <td>NaN</td>\n      <td>B</td>\n      <td>NaN</td>\n      <td>NaN</td>\n      <td>NaN</td>\n      <td>F</td>\n      <td>NaN</td>\n      <td>NaN</td>\n      <td>NaN</td>\n      <td>NaN</td>\n      <td>K</td>\n      <td>NaN</td>\n      <td>NaN</td>\n      <td>N</td>\n      <td>NaN</td>\n      <td>NaN</td>\n      <td>NaN</td>\n    </tr>\n  </tbody>\n</table>\n<p>770 rows × 17 columns</p>\n</div>"
     },
     "metadata": {},
     "execution_count": 36
    }
   ],
   "source": [
    "code = ('A', 'B', 'C', 'D', 'E','F', 'G', 'H', 'I', 'J', 'K', 'L', 'M', 'N', 'O', 'P', 'Q', 'R')\n",
    "def sustituir(df, code):\n",
    "    code = ('A', 'B', 'C', 'D', 'E','F', 'G', 'H', 'I', 'J', 'K', 'L', 'M', 'N', 'O', 'P', 'Q', 'R')\n",
    "    diccionario = {key:value for key, value in zip(mutaciones_bruto_lung1.columns, code)}\n",
    "    diccionario\n",
    "    for col in df.columns:\n",
    "        df.loc[df[col].notnull(), col] = diccionario[col]\n",
    "    return df  \n",
    "sustituir(df= mutaciones_bruto_lung1, code = code)"
   ]
  },
  {
   "cell_type": "code",
   "execution_count": 37,
   "metadata": {},
   "outputs": [
    {
     "output_type": "stream",
     "name": "stderr",
     "text": [
      "C:\\Users\\MAUCRO\\AppData\\Local\\Programs\\Python\\Python37\\lib\\site-packages\\pandas\\core\\indexing.py:1720: SettingWithCopyWarning: \nA value is trying to be set on a copy of a slice from a DataFrame.\nTry using .loc[row_indexer,col_indexer] = value instead\n\nSee the caveats in the documentation: https://pandas.pydata.org/pandas-docs/stable/user_guide/indexing.html#returning-a-view-versus-a-copy\n  self._setitem_single_column(loc, value, pi)\n"
     ]
    },
    {
     "output_type": "execute_result",
     "data": {
      "text/plain": [
       "           TP53 KRAS SMAD4 CDKN2A ARID1A LRP1B TP53: MUT KRAS: MUT SMAD4: MUT  \\\n",
       "Patient ID                                                                      \n",
       "GARV_0658     A    B   NaN    NaN    NaN   NaN         G         H        NaN   \n",
       "GARV_0659     A    B   NaN    NaN    NaN   NaN         G         H        NaN   \n",
       "GARV_0660     A    B   NaN    NaN    NaN   NaN         G         H        NaN   \n",
       "GARV_0661     A    B   NaN      D    NaN   NaN         G         H        NaN   \n",
       "GARV_0662     A    B     C    NaN      E   NaN         G         H          I   \n",
       "...         ...  ...   ...    ...    ...   ...       ...       ...        ...   \n",
       "PDA_105       A    B   NaN      D    NaN   NaN         G         H        NaN   \n",
       "PDA_106     NaN    B   NaN    NaN    NaN   NaN       NaN         H        NaN   \n",
       "PDA_107       A    B   NaN    NaN    NaN     F         G         H        NaN   \n",
       "PDA_108       A    B   NaN    NaN    NaN   NaN         G         H        NaN   \n",
       "PDA_109     NaN    B   NaN    NaN    NaN   NaN       NaN         H        NaN   \n",
       "\n",
       "           CDKN2A: MUT ARID1A: MUT LRP1B: MUT  \n",
       "Patient ID                                     \n",
       "GARV_0658          NaN         NaN        NaN  \n",
       "GARV_0659          NaN         NaN        NaN  \n",
       "GARV_0660          NaN         NaN        NaN  \n",
       "GARV_0661            J         NaN        NaN  \n",
       "GARV_0662          NaN           K        NaN  \n",
       "...                ...         ...        ...  \n",
       "PDA_105              J         NaN        NaN  \n",
       "PDA_106            NaN         NaN        NaN  \n",
       "PDA_107            NaN         NaN          L  \n",
       "PDA_108            NaN         NaN        NaN  \n",
       "PDA_109            NaN         NaN        NaN  \n",
       "\n",
       "[603 rows x 12 columns]"
      ],
      "text/html": "<div>\n<style scoped>\n    .dataframe tbody tr th:only-of-type {\n        vertical-align: middle;\n    }\n\n    .dataframe tbody tr th {\n        vertical-align: top;\n    }\n\n    .dataframe thead th {\n        text-align: right;\n    }\n</style>\n<table border=\"1\" class=\"dataframe\">\n  <thead>\n    <tr style=\"text-align: right;\">\n      <th></th>\n      <th>TP53</th>\n      <th>KRAS</th>\n      <th>SMAD4</th>\n      <th>CDKN2A</th>\n      <th>ARID1A</th>\n      <th>LRP1B</th>\n      <th>TP53: MUT</th>\n      <th>KRAS: MUT</th>\n      <th>SMAD4: MUT</th>\n      <th>CDKN2A: MUT</th>\n      <th>ARID1A: MUT</th>\n      <th>LRP1B: MUT</th>\n    </tr>\n    <tr>\n      <th>Patient ID</th>\n      <th></th>\n      <th></th>\n      <th></th>\n      <th></th>\n      <th></th>\n      <th></th>\n      <th></th>\n      <th></th>\n      <th></th>\n      <th></th>\n      <th></th>\n      <th></th>\n    </tr>\n  </thead>\n  <tbody>\n    <tr>\n      <th>GARV_0658</th>\n      <td>A</td>\n      <td>B</td>\n      <td>NaN</td>\n      <td>NaN</td>\n      <td>NaN</td>\n      <td>NaN</td>\n      <td>G</td>\n      <td>H</td>\n      <td>NaN</td>\n      <td>NaN</td>\n      <td>NaN</td>\n      <td>NaN</td>\n    </tr>\n    <tr>\n      <th>GARV_0659</th>\n      <td>A</td>\n      <td>B</td>\n      <td>NaN</td>\n      <td>NaN</td>\n      <td>NaN</td>\n      <td>NaN</td>\n      <td>G</td>\n      <td>H</td>\n      <td>NaN</td>\n      <td>NaN</td>\n      <td>NaN</td>\n      <td>NaN</td>\n    </tr>\n    <tr>\n      <th>GARV_0660</th>\n      <td>A</td>\n      <td>B</td>\n      <td>NaN</td>\n      <td>NaN</td>\n      <td>NaN</td>\n      <td>NaN</td>\n      <td>G</td>\n      <td>H</td>\n      <td>NaN</td>\n      <td>NaN</td>\n      <td>NaN</td>\n      <td>NaN</td>\n    </tr>\n    <tr>\n      <th>GARV_0661</th>\n      <td>A</td>\n      <td>B</td>\n      <td>NaN</td>\n      <td>D</td>\n      <td>NaN</td>\n      <td>NaN</td>\n      <td>G</td>\n      <td>H</td>\n      <td>NaN</td>\n      <td>J</td>\n      <td>NaN</td>\n      <td>NaN</td>\n    </tr>\n    <tr>\n      <th>GARV_0662</th>\n      <td>A</td>\n      <td>B</td>\n      <td>C</td>\n      <td>NaN</td>\n      <td>E</td>\n      <td>NaN</td>\n      <td>G</td>\n      <td>H</td>\n      <td>I</td>\n      <td>NaN</td>\n      <td>K</td>\n      <td>NaN</td>\n    </tr>\n    <tr>\n      <th>...</th>\n      <td>...</td>\n      <td>...</td>\n      <td>...</td>\n      <td>...</td>\n      <td>...</td>\n      <td>...</td>\n      <td>...</td>\n      <td>...</td>\n      <td>...</td>\n      <td>...</td>\n      <td>...</td>\n      <td>...</td>\n    </tr>\n    <tr>\n      <th>PDA_105</th>\n      <td>A</td>\n      <td>B</td>\n      <td>NaN</td>\n      <td>D</td>\n      <td>NaN</td>\n      <td>NaN</td>\n      <td>G</td>\n      <td>H</td>\n      <td>NaN</td>\n      <td>J</td>\n      <td>NaN</td>\n      <td>NaN</td>\n    </tr>\n    <tr>\n      <th>PDA_106</th>\n      <td>NaN</td>\n      <td>B</td>\n      <td>NaN</td>\n      <td>NaN</td>\n      <td>NaN</td>\n      <td>NaN</td>\n      <td>NaN</td>\n      <td>H</td>\n      <td>NaN</td>\n      <td>NaN</td>\n      <td>NaN</td>\n      <td>NaN</td>\n    </tr>\n    <tr>\n      <th>PDA_107</th>\n      <td>A</td>\n      <td>B</td>\n      <td>NaN</td>\n      <td>NaN</td>\n      <td>NaN</td>\n      <td>F</td>\n      <td>G</td>\n      <td>H</td>\n      <td>NaN</td>\n      <td>NaN</td>\n      <td>NaN</td>\n      <td>L</td>\n    </tr>\n    <tr>\n      <th>PDA_108</th>\n      <td>A</td>\n      <td>B</td>\n      <td>NaN</td>\n      <td>NaN</td>\n      <td>NaN</td>\n      <td>NaN</td>\n      <td>G</td>\n      <td>H</td>\n      <td>NaN</td>\n      <td>NaN</td>\n      <td>NaN</td>\n      <td>NaN</td>\n    </tr>\n    <tr>\n      <th>PDA_109</th>\n      <td>NaN</td>\n      <td>B</td>\n      <td>NaN</td>\n      <td>NaN</td>\n      <td>NaN</td>\n      <td>NaN</td>\n      <td>NaN</td>\n      <td>H</td>\n      <td>NaN</td>\n      <td>NaN</td>\n      <td>NaN</td>\n      <td>NaN</td>\n    </tr>\n  </tbody>\n</table>\n<p>603 rows × 12 columns</p>\n</div>"
     },
     "metadata": {},
     "execution_count": 37
    }
   ],
   "source": [
    "code = ('A', 'B', 'C', 'D', 'E','F', 'G', 'H', 'I', 'J', 'K', 'L')\n",
    "def sustituir(df, code):\n",
    "    code = ('A', 'B', 'C', 'D', 'E','F', 'G', 'H', 'I', 'J', 'K', 'L', 'M', 'N', 'O', 'P', 'Q', 'R')\n",
    "    diccionario = {key:value for key, value in zip(mutaciones_bruto_pancreas1.columns, code)}\n",
    "    diccionario\n",
    "    for col in df.columns:\n",
    "        df.loc[df[col].notnull(), col] = diccionario[col]\n",
    "    return df  \n",
    "sustituir(df= mutaciones_bruto_pancreas1, code = code)"
   ]
  },
  {
   "cell_type": "code",
   "execution_count": 38,
   "metadata": {},
   "outputs": [
    {
     "output_type": "stream",
     "name": "stderr",
     "text": [
      "C:\\Users\\MAUCRO\\AppData\\Local\\Programs\\Python\\Python37\\lib\\site-packages\\pandas\\core\\frame.py:4315: SettingWithCopyWarning: \nA value is trying to be set on a copy of a slice from a DataFrame\n\nSee the caveats in the documentation: https://pandas.pydata.org/pandas-docs/stable/user_guide/indexing.html#returning-a-view-versus-a-copy\n  errors=errors,\n"
     ]
    }
   ],
   "source": [
    "mutaciones_bruto_lung1.drop(mutaciones_bruto_lung.iloc[:,5:6], axis = 1, inplace = True)"
   ]
  },
  {
   "cell_type": "code",
   "execution_count": 39,
   "metadata": {},
   "outputs": [],
   "source": [
    "mutaciones_lung_B = mutaciones_bruto_lung1.copy()\n",
    "mutaciones_pancreas_B = mutaciones_bruto_pancreas1.copy()"
   ]
  },
  {
   "cell_type": "code",
   "execution_count": 40,
   "metadata": {},
   "outputs": [],
   "source": [
    "mutaciones_lung_B[mutaciones_bruto_lung1.isnull()==False] = 1\n",
    "mutaciones_pancreas_B[mutaciones_bruto_pancreas1.isnull()==False] = 1"
   ]
  },
  {
   "cell_type": "code",
   "execution_count": 41,
   "metadata": {},
   "outputs": [],
   "source": [
    "mutaciones_lung_B = mutaciones_lung_B.fillna(-1)\n",
    "mutaciones_pancreas_B = mutaciones_pancreas_B.fillna(-1)"
   ]
  },
  {
   "cell_type": "code",
   "execution_count": 42,
   "metadata": {},
   "outputs": [],
   "source": [
    "Tipos_lung = mutaciones_bruto_lung1.apply(lambda x: ','.join(x.dropna()), axis=1)\n",
    "Tipos_pancreas = mutaciones_bruto_pancreas1.apply(lambda x: ','.join(x.dropna()), axis=1)"
   ]
  },
  {
   "cell_type": "code",
   "execution_count": 43,
   "metadata": {},
   "outputs": [
    {
     "output_type": "stream",
     "name": "stderr",
     "text": [
      "C:\\Users\\MAUCRO\\AppData\\Roaming\\Python\\Python37\\site-packages\\ipykernel_launcher.py:1: SettingWithCopyWarning: \nA value is trying to be set on a copy of a slice from a DataFrame.\nTry using .loc[row_indexer,col_indexer] = value instead\n\nSee the caveats in the documentation: https://pandas.pydata.org/pandas-docs/stable/user_guide/indexing.html#returning-a-view-versus-a-copy\n  \"\"\"Entry point for launching an IPython kernel.\nC:\\Users\\MAUCRO\\AppData\\Roaming\\Python\\Python37\\site-packages\\ipykernel_launcher.py:2: SettingWithCopyWarning: \nA value is trying to be set on a copy of a slice from a DataFrame.\nTry using .loc[row_indexer,col_indexer] = value instead\n\nSee the caveats in the documentation: https://pandas.pydata.org/pandas-docs/stable/user_guide/indexing.html#returning-a-view-versus-a-copy\n  \n"
     ]
    },
    {
     "output_type": "execute_result",
     "data": {
      "text/plain": [
       "           TP53 KRAS SMAD4 CDKN2A ARID1A LRP1B TP53: MUT KRAS: MUT SMAD4: MUT  \\\n",
       "Patient ID                                                                      \n",
       "GARV_0658     A    B   NaN    NaN    NaN   NaN         G         H        NaN   \n",
       "GARV_0659     A    B   NaN    NaN    NaN   NaN         G         H        NaN   \n",
       "GARV_0660     A    B   NaN    NaN    NaN   NaN         G         H        NaN   \n",
       "GARV_0661     A    B   NaN      D    NaN   NaN         G         H        NaN   \n",
       "GARV_0662     A    B     C    NaN      E   NaN         G         H          I   \n",
       "...         ...  ...   ...    ...    ...   ...       ...       ...        ...   \n",
       "PDA_105       A    B   NaN      D    NaN   NaN         G         H        NaN   \n",
       "PDA_106     NaN    B   NaN    NaN    NaN   NaN       NaN         H        NaN   \n",
       "PDA_107       A    B   NaN    NaN    NaN     F         G         H        NaN   \n",
       "PDA_108       A    B   NaN    NaN    NaN   NaN         G         H        NaN   \n",
       "PDA_109     NaN    B   NaN    NaN    NaN   NaN       NaN         H        NaN   \n",
       "\n",
       "           CDKN2A: MUT ARID1A: MUT LRP1B: MUT            Tipos  \n",
       "Patient ID                                                      \n",
       "GARV_0658          NaN         NaN        NaN          A,B,G,H  \n",
       "GARV_0659          NaN         NaN        NaN          A,B,G,H  \n",
       "GARV_0660          NaN         NaN        NaN          A,B,G,H  \n",
       "GARV_0661            J         NaN        NaN      A,B,D,G,H,J  \n",
       "GARV_0662          NaN           K        NaN  A,B,C,E,G,H,I,K  \n",
       "...                ...         ...        ...              ...  \n",
       "PDA_105              J         NaN        NaN      A,B,D,G,H,J  \n",
       "PDA_106            NaN         NaN        NaN              B,H  \n",
       "PDA_107            NaN         NaN          L      A,B,F,G,H,L  \n",
       "PDA_108            NaN         NaN        NaN          A,B,G,H  \n",
       "PDA_109            NaN         NaN        NaN              B,H  \n",
       "\n",
       "[603 rows x 13 columns]"
      ],
      "text/html": "<div>\n<style scoped>\n    .dataframe tbody tr th:only-of-type {\n        vertical-align: middle;\n    }\n\n    .dataframe tbody tr th {\n        vertical-align: top;\n    }\n\n    .dataframe thead th {\n        text-align: right;\n    }\n</style>\n<table border=\"1\" class=\"dataframe\">\n  <thead>\n    <tr style=\"text-align: right;\">\n      <th></th>\n      <th>TP53</th>\n      <th>KRAS</th>\n      <th>SMAD4</th>\n      <th>CDKN2A</th>\n      <th>ARID1A</th>\n      <th>LRP1B</th>\n      <th>TP53: MUT</th>\n      <th>KRAS: MUT</th>\n      <th>SMAD4: MUT</th>\n      <th>CDKN2A: MUT</th>\n      <th>ARID1A: MUT</th>\n      <th>LRP1B: MUT</th>\n      <th>Tipos</th>\n    </tr>\n    <tr>\n      <th>Patient ID</th>\n      <th></th>\n      <th></th>\n      <th></th>\n      <th></th>\n      <th></th>\n      <th></th>\n      <th></th>\n      <th></th>\n      <th></th>\n      <th></th>\n      <th></th>\n      <th></th>\n      <th></th>\n    </tr>\n  </thead>\n  <tbody>\n    <tr>\n      <th>GARV_0658</th>\n      <td>A</td>\n      <td>B</td>\n      <td>NaN</td>\n      <td>NaN</td>\n      <td>NaN</td>\n      <td>NaN</td>\n      <td>G</td>\n      <td>H</td>\n      <td>NaN</td>\n      <td>NaN</td>\n      <td>NaN</td>\n      <td>NaN</td>\n      <td>A,B,G,H</td>\n    </tr>\n    <tr>\n      <th>GARV_0659</th>\n      <td>A</td>\n      <td>B</td>\n      <td>NaN</td>\n      <td>NaN</td>\n      <td>NaN</td>\n      <td>NaN</td>\n      <td>G</td>\n      <td>H</td>\n      <td>NaN</td>\n      <td>NaN</td>\n      <td>NaN</td>\n      <td>NaN</td>\n      <td>A,B,G,H</td>\n    </tr>\n    <tr>\n      <th>GARV_0660</th>\n      <td>A</td>\n      <td>B</td>\n      <td>NaN</td>\n      <td>NaN</td>\n      <td>NaN</td>\n      <td>NaN</td>\n      <td>G</td>\n      <td>H</td>\n      <td>NaN</td>\n      <td>NaN</td>\n      <td>NaN</td>\n      <td>NaN</td>\n      <td>A,B,G,H</td>\n    </tr>\n    <tr>\n      <th>GARV_0661</th>\n      <td>A</td>\n      <td>B</td>\n      <td>NaN</td>\n      <td>D</td>\n      <td>NaN</td>\n      <td>NaN</td>\n      <td>G</td>\n      <td>H</td>\n      <td>NaN</td>\n      <td>J</td>\n      <td>NaN</td>\n      <td>NaN</td>\n      <td>A,B,D,G,H,J</td>\n    </tr>\n    <tr>\n      <th>GARV_0662</th>\n      <td>A</td>\n      <td>B</td>\n      <td>C</td>\n      <td>NaN</td>\n      <td>E</td>\n      <td>NaN</td>\n      <td>G</td>\n      <td>H</td>\n      <td>I</td>\n      <td>NaN</td>\n      <td>K</td>\n      <td>NaN</td>\n      <td>A,B,C,E,G,H,I,K</td>\n    </tr>\n    <tr>\n      <th>...</th>\n      <td>...</td>\n      <td>...</td>\n      <td>...</td>\n      <td>...</td>\n      <td>...</td>\n      <td>...</td>\n      <td>...</td>\n      <td>...</td>\n      <td>...</td>\n      <td>...</td>\n      <td>...</td>\n      <td>...</td>\n      <td>...</td>\n    </tr>\n    <tr>\n      <th>PDA_105</th>\n      <td>A</td>\n      <td>B</td>\n      <td>NaN</td>\n      <td>D</td>\n      <td>NaN</td>\n      <td>NaN</td>\n      <td>G</td>\n      <td>H</td>\n      <td>NaN</td>\n      <td>J</td>\n      <td>NaN</td>\n      <td>NaN</td>\n      <td>A,B,D,G,H,J</td>\n    </tr>\n    <tr>\n      <th>PDA_106</th>\n      <td>NaN</td>\n      <td>B</td>\n      <td>NaN</td>\n      <td>NaN</td>\n      <td>NaN</td>\n      <td>NaN</td>\n      <td>NaN</td>\n      <td>H</td>\n      <td>NaN</td>\n      <td>NaN</td>\n      <td>NaN</td>\n      <td>NaN</td>\n      <td>B,H</td>\n    </tr>\n    <tr>\n      <th>PDA_107</th>\n      <td>A</td>\n      <td>B</td>\n      <td>NaN</td>\n      <td>NaN</td>\n      <td>NaN</td>\n      <td>F</td>\n      <td>G</td>\n      <td>H</td>\n      <td>NaN</td>\n      <td>NaN</td>\n      <td>NaN</td>\n      <td>L</td>\n      <td>A,B,F,G,H,L</td>\n    </tr>\n    <tr>\n      <th>PDA_108</th>\n      <td>A</td>\n      <td>B</td>\n      <td>NaN</td>\n      <td>NaN</td>\n      <td>NaN</td>\n      <td>NaN</td>\n      <td>G</td>\n      <td>H</td>\n      <td>NaN</td>\n      <td>NaN</td>\n      <td>NaN</td>\n      <td>NaN</td>\n      <td>A,B,G,H</td>\n    </tr>\n    <tr>\n      <th>PDA_109</th>\n      <td>NaN</td>\n      <td>B</td>\n      <td>NaN</td>\n      <td>NaN</td>\n      <td>NaN</td>\n      <td>NaN</td>\n      <td>NaN</td>\n      <td>H</td>\n      <td>NaN</td>\n      <td>NaN</td>\n      <td>NaN</td>\n      <td>NaN</td>\n      <td>B,H</td>\n    </tr>\n  </tbody>\n</table>\n<p>603 rows × 13 columns</p>\n</div>"
     },
     "metadata": {},
     "execution_count": 43
    }
   ],
   "source": [
    "mutaciones_bruto_lung1['Tipos'] = Tipos_lung\n",
    "mutaciones_bruto_pancreas1['Tipos'] = Tipos_pancreas"
   ]
  },
  {
   "cell_type": "code",
   "execution_count": 44,
   "metadata": {},
   "outputs": [
    {
     "output_type": "execute_result",
     "data": {
      "text/plain": [
       "               TP53 KRAS KEAP1 EGFR STK11  ATM SMARCA4 LRP1B TP53: MUT  \\\n",
       "Patient ID                                                               \n",
       "LU-A08-43       NaN  NaN   NaN    D   NaN  NaN     NaN   NaN       NaN   \n",
       "LUAD-U6SJ7      NaN    B     C  NaN     F  NaN     NaN   NaN       NaN   \n",
       "LUAD-E01014       A  NaN   NaN    D   NaN  NaN     NaN   NaN         J   \n",
       "LUAD-S01404     NaN    B     C  NaN   NaN  NaN     NaN     I       NaN   \n",
       "LUAD-S01381     NaN  NaN     C  NaN     F  NaN     NaN   NaN       NaN   \n",
       "...             ...  ...   ...  ...   ...  ...     ...   ...       ...   \n",
       "luad_tsp_17766  NaN    B   NaN  NaN   NaN  NaN     NaN   NaN       NaN   \n",
       "luad_tsp_17776  NaN  NaN   NaN  NaN     F  NaN     NaN   NaN       NaN   \n",
       "luad_tsp_17777    A    B   NaN  NaN   NaN  NaN     NaN     I         J   \n",
       "luad_tsp_17778  NaN  NaN   NaN  NaN     F  NaN     NaN   NaN       NaN   \n",
       "luad_tsp_17781  NaN    B   NaN  NaN     F  NaN     NaN   NaN       NaN   \n",
       "\n",
       "               KRAS: MUT KEAP1: MUT EGFR: MUT STK11: MUT ATM: MUT  \\\n",
       "Patient ID                                                          \n",
       "LU-A08-43            NaN        NaN         M        NaN      NaN   \n",
       "LUAD-U6SJ7             K          L       NaN          N      NaN   \n",
       "LUAD-E01014          NaN        NaN         M        NaN      NaN   \n",
       "LUAD-S01404            K          L       NaN        NaN      NaN   \n",
       "LUAD-S01381          NaN          L       NaN          N      NaN   \n",
       "...                  ...        ...       ...        ...      ...   \n",
       "luad_tsp_17766         K        NaN       NaN        NaN      NaN   \n",
       "luad_tsp_17776       NaN        NaN       NaN          N      NaN   \n",
       "luad_tsp_17777         K        NaN       NaN        NaN      NaN   \n",
       "luad_tsp_17778       NaN        NaN       NaN          N      NaN   \n",
       "luad_tsp_17781         K        NaN       NaN          N      NaN   \n",
       "\n",
       "               SMARCA4: MUT LRP1B: MUT        Tipos  \n",
       "Patient ID                                           \n",
       "LU-A08-43               NaN        NaN          D,M  \n",
       "LUAD-U6SJ7              NaN        NaN  B,C,F,K,L,N  \n",
       "LUAD-E01014             NaN        NaN      A,D,J,M  \n",
       "LUAD-S01404             NaN          Q  B,C,I,K,L,Q  \n",
       "LUAD-S01381             NaN        NaN      C,F,L,N  \n",
       "...                     ...        ...          ...  \n",
       "luad_tsp_17766          NaN        NaN          B,K  \n",
       "luad_tsp_17776          NaN        NaN          F,N  \n",
       "luad_tsp_17777          NaN          Q  A,B,I,J,K,Q  \n",
       "luad_tsp_17778          NaN        NaN          F,N  \n",
       "luad_tsp_17781          NaN        NaN      B,F,K,N  \n",
       "\n",
       "[770 rows x 17 columns]"
      ],
      "text/html": "<div>\n<style scoped>\n    .dataframe tbody tr th:only-of-type {\n        vertical-align: middle;\n    }\n\n    .dataframe tbody tr th {\n        vertical-align: top;\n    }\n\n    .dataframe thead th {\n        text-align: right;\n    }\n</style>\n<table border=\"1\" class=\"dataframe\">\n  <thead>\n    <tr style=\"text-align: right;\">\n      <th></th>\n      <th>TP53</th>\n      <th>KRAS</th>\n      <th>KEAP1</th>\n      <th>EGFR</th>\n      <th>STK11</th>\n      <th>ATM</th>\n      <th>SMARCA4</th>\n      <th>LRP1B</th>\n      <th>TP53: MUT</th>\n      <th>KRAS: MUT</th>\n      <th>KEAP1: MUT</th>\n      <th>EGFR: MUT</th>\n      <th>STK11: MUT</th>\n      <th>ATM: MUT</th>\n      <th>SMARCA4: MUT</th>\n      <th>LRP1B: MUT</th>\n      <th>Tipos</th>\n    </tr>\n    <tr>\n      <th>Patient ID</th>\n      <th></th>\n      <th></th>\n      <th></th>\n      <th></th>\n      <th></th>\n      <th></th>\n      <th></th>\n      <th></th>\n      <th></th>\n      <th></th>\n      <th></th>\n      <th></th>\n      <th></th>\n      <th></th>\n      <th></th>\n      <th></th>\n      <th></th>\n    </tr>\n  </thead>\n  <tbody>\n    <tr>\n      <th>LU-A08-43</th>\n      <td>NaN</td>\n      <td>NaN</td>\n      <td>NaN</td>\n      <td>D</td>\n      <td>NaN</td>\n      <td>NaN</td>\n      <td>NaN</td>\n      <td>NaN</td>\n      <td>NaN</td>\n      <td>NaN</td>\n      <td>NaN</td>\n      <td>M</td>\n      <td>NaN</td>\n      <td>NaN</td>\n      <td>NaN</td>\n      <td>NaN</td>\n      <td>D,M</td>\n    </tr>\n    <tr>\n      <th>LUAD-U6SJ7</th>\n      <td>NaN</td>\n      <td>B</td>\n      <td>C</td>\n      <td>NaN</td>\n      <td>F</td>\n      <td>NaN</td>\n      <td>NaN</td>\n      <td>NaN</td>\n      <td>NaN</td>\n      <td>K</td>\n      <td>L</td>\n      <td>NaN</td>\n      <td>N</td>\n      <td>NaN</td>\n      <td>NaN</td>\n      <td>NaN</td>\n      <td>B,C,F,K,L,N</td>\n    </tr>\n    <tr>\n      <th>LUAD-E01014</th>\n      <td>A</td>\n      <td>NaN</td>\n      <td>NaN</td>\n      <td>D</td>\n      <td>NaN</td>\n      <td>NaN</td>\n      <td>NaN</td>\n      <td>NaN</td>\n      <td>J</td>\n      <td>NaN</td>\n      <td>NaN</td>\n      <td>M</td>\n      <td>NaN</td>\n      <td>NaN</td>\n      <td>NaN</td>\n      <td>NaN</td>\n      <td>A,D,J,M</td>\n    </tr>\n    <tr>\n      <th>LUAD-S01404</th>\n      <td>NaN</td>\n      <td>B</td>\n      <td>C</td>\n      <td>NaN</td>\n      <td>NaN</td>\n      <td>NaN</td>\n      <td>NaN</td>\n      <td>I</td>\n      <td>NaN</td>\n      <td>K</td>\n      <td>L</td>\n      <td>NaN</td>\n      <td>NaN</td>\n      <td>NaN</td>\n      <td>NaN</td>\n      <td>Q</td>\n      <td>B,C,I,K,L,Q</td>\n    </tr>\n    <tr>\n      <th>LUAD-S01381</th>\n      <td>NaN</td>\n      <td>NaN</td>\n      <td>C</td>\n      <td>NaN</td>\n      <td>F</td>\n      <td>NaN</td>\n      <td>NaN</td>\n      <td>NaN</td>\n      <td>NaN</td>\n      <td>NaN</td>\n      <td>L</td>\n      <td>NaN</td>\n      <td>N</td>\n      <td>NaN</td>\n      <td>NaN</td>\n      <td>NaN</td>\n      <td>C,F,L,N</td>\n    </tr>\n    <tr>\n      <th>...</th>\n      <td>...</td>\n      <td>...</td>\n      <td>...</td>\n      <td>...</td>\n      <td>...</td>\n      <td>...</td>\n      <td>...</td>\n      <td>...</td>\n      <td>...</td>\n      <td>...</td>\n      <td>...</td>\n      <td>...</td>\n      <td>...</td>\n      <td>...</td>\n      <td>...</td>\n      <td>...</td>\n      <td>...</td>\n    </tr>\n    <tr>\n      <th>luad_tsp_17766</th>\n      <td>NaN</td>\n      <td>B</td>\n      <td>NaN</td>\n      <td>NaN</td>\n      <td>NaN</td>\n      <td>NaN</td>\n      <td>NaN</td>\n      <td>NaN</td>\n      <td>NaN</td>\n      <td>K</td>\n      <td>NaN</td>\n      <td>NaN</td>\n      <td>NaN</td>\n      <td>NaN</td>\n      <td>NaN</td>\n      <td>NaN</td>\n      <td>B,K</td>\n    </tr>\n    <tr>\n      <th>luad_tsp_17776</th>\n      <td>NaN</td>\n      <td>NaN</td>\n      <td>NaN</td>\n      <td>NaN</td>\n      <td>F</td>\n      <td>NaN</td>\n      <td>NaN</td>\n      <td>NaN</td>\n      <td>NaN</td>\n      <td>NaN</td>\n      <td>NaN</td>\n      <td>NaN</td>\n      <td>N</td>\n      <td>NaN</td>\n      <td>NaN</td>\n      <td>NaN</td>\n      <td>F,N</td>\n    </tr>\n    <tr>\n      <th>luad_tsp_17777</th>\n      <td>A</td>\n      <td>B</td>\n      <td>NaN</td>\n      <td>NaN</td>\n      <td>NaN</td>\n      <td>NaN</td>\n      <td>NaN</td>\n      <td>I</td>\n      <td>J</td>\n      <td>K</td>\n      <td>NaN</td>\n      <td>NaN</td>\n      <td>NaN</td>\n      <td>NaN</td>\n      <td>NaN</td>\n      <td>Q</td>\n      <td>A,B,I,J,K,Q</td>\n    </tr>\n    <tr>\n      <th>luad_tsp_17778</th>\n      <td>NaN</td>\n      <td>NaN</td>\n      <td>NaN</td>\n      <td>NaN</td>\n      <td>F</td>\n      <td>NaN</td>\n      <td>NaN</td>\n      <td>NaN</td>\n      <td>NaN</td>\n      <td>NaN</td>\n      <td>NaN</td>\n      <td>NaN</td>\n      <td>N</td>\n      <td>NaN</td>\n      <td>NaN</td>\n      <td>NaN</td>\n      <td>F,N</td>\n    </tr>\n    <tr>\n      <th>luad_tsp_17781</th>\n      <td>NaN</td>\n      <td>B</td>\n      <td>NaN</td>\n      <td>NaN</td>\n      <td>F</td>\n      <td>NaN</td>\n      <td>NaN</td>\n      <td>NaN</td>\n      <td>NaN</td>\n      <td>K</td>\n      <td>NaN</td>\n      <td>NaN</td>\n      <td>N</td>\n      <td>NaN</td>\n      <td>NaN</td>\n      <td>NaN</td>\n      <td>B,F,K,N</td>\n    </tr>\n  </tbody>\n</table>\n<p>770 rows × 17 columns</p>\n</div>"
     },
     "metadata": {},
     "execution_count": 44
    }
   ],
   "source": [
    "mutaciones_bruto_lung1"
   ]
  },
  {
   "cell_type": "code",
   "execution_count": 45,
   "metadata": {},
   "outputs": [
    {
     "output_type": "execute_result",
     "data": {
      "text/plain": [
       "           TP53 KRAS SMAD4 CDKN2A ARID1A LRP1B TP53: MUT KRAS: MUT SMAD4: MUT  \\\n",
       "Patient ID                                                                      \n",
       "GARV_0658     A    B   NaN    NaN    NaN   NaN         G         H        NaN   \n",
       "GARV_0659     A    B   NaN    NaN    NaN   NaN         G         H        NaN   \n",
       "GARV_0660     A    B   NaN    NaN    NaN   NaN         G         H        NaN   \n",
       "GARV_0661     A    B   NaN      D    NaN   NaN         G         H        NaN   \n",
       "GARV_0662     A    B     C    NaN      E   NaN         G         H          I   \n",
       "...         ...  ...   ...    ...    ...   ...       ...       ...        ...   \n",
       "PDA_105       A    B   NaN      D    NaN   NaN         G         H        NaN   \n",
       "PDA_106     NaN    B   NaN    NaN    NaN   NaN       NaN         H        NaN   \n",
       "PDA_107       A    B   NaN    NaN    NaN     F         G         H        NaN   \n",
       "PDA_108       A    B   NaN    NaN    NaN   NaN         G         H        NaN   \n",
       "PDA_109     NaN    B   NaN    NaN    NaN   NaN       NaN         H        NaN   \n",
       "\n",
       "           CDKN2A: MUT ARID1A: MUT LRP1B: MUT            Tipos  \n",
       "Patient ID                                                      \n",
       "GARV_0658          NaN         NaN        NaN          A,B,G,H  \n",
       "GARV_0659          NaN         NaN        NaN          A,B,G,H  \n",
       "GARV_0660          NaN         NaN        NaN          A,B,G,H  \n",
       "GARV_0661            J         NaN        NaN      A,B,D,G,H,J  \n",
       "GARV_0662          NaN           K        NaN  A,B,C,E,G,H,I,K  \n",
       "...                ...         ...        ...              ...  \n",
       "PDA_105              J         NaN        NaN      A,B,D,G,H,J  \n",
       "PDA_106            NaN         NaN        NaN              B,H  \n",
       "PDA_107            NaN         NaN          L      A,B,F,G,H,L  \n",
       "PDA_108            NaN         NaN        NaN          A,B,G,H  \n",
       "PDA_109            NaN         NaN        NaN              B,H  \n",
       "\n",
       "[603 rows x 13 columns]"
      ],
      "text/html": "<div>\n<style scoped>\n    .dataframe tbody tr th:only-of-type {\n        vertical-align: middle;\n    }\n\n    .dataframe tbody tr th {\n        vertical-align: top;\n    }\n\n    .dataframe thead th {\n        text-align: right;\n    }\n</style>\n<table border=\"1\" class=\"dataframe\">\n  <thead>\n    <tr style=\"text-align: right;\">\n      <th></th>\n      <th>TP53</th>\n      <th>KRAS</th>\n      <th>SMAD4</th>\n      <th>CDKN2A</th>\n      <th>ARID1A</th>\n      <th>LRP1B</th>\n      <th>TP53: MUT</th>\n      <th>KRAS: MUT</th>\n      <th>SMAD4: MUT</th>\n      <th>CDKN2A: MUT</th>\n      <th>ARID1A: MUT</th>\n      <th>LRP1B: MUT</th>\n      <th>Tipos</th>\n    </tr>\n    <tr>\n      <th>Patient ID</th>\n      <th></th>\n      <th></th>\n      <th></th>\n      <th></th>\n      <th></th>\n      <th></th>\n      <th></th>\n      <th></th>\n      <th></th>\n      <th></th>\n      <th></th>\n      <th></th>\n      <th></th>\n    </tr>\n  </thead>\n  <tbody>\n    <tr>\n      <th>GARV_0658</th>\n      <td>A</td>\n      <td>B</td>\n      <td>NaN</td>\n      <td>NaN</td>\n      <td>NaN</td>\n      <td>NaN</td>\n      <td>G</td>\n      <td>H</td>\n      <td>NaN</td>\n      <td>NaN</td>\n      <td>NaN</td>\n      <td>NaN</td>\n      <td>A,B,G,H</td>\n    </tr>\n    <tr>\n      <th>GARV_0659</th>\n      <td>A</td>\n      <td>B</td>\n      <td>NaN</td>\n      <td>NaN</td>\n      <td>NaN</td>\n      <td>NaN</td>\n      <td>G</td>\n      <td>H</td>\n      <td>NaN</td>\n      <td>NaN</td>\n      <td>NaN</td>\n      <td>NaN</td>\n      <td>A,B,G,H</td>\n    </tr>\n    <tr>\n      <th>GARV_0660</th>\n      <td>A</td>\n      <td>B</td>\n      <td>NaN</td>\n      <td>NaN</td>\n      <td>NaN</td>\n      <td>NaN</td>\n      <td>G</td>\n      <td>H</td>\n      <td>NaN</td>\n      <td>NaN</td>\n      <td>NaN</td>\n      <td>NaN</td>\n      <td>A,B,G,H</td>\n    </tr>\n    <tr>\n      <th>GARV_0661</th>\n      <td>A</td>\n      <td>B</td>\n      <td>NaN</td>\n      <td>D</td>\n      <td>NaN</td>\n      <td>NaN</td>\n      <td>G</td>\n      <td>H</td>\n      <td>NaN</td>\n      <td>J</td>\n      <td>NaN</td>\n      <td>NaN</td>\n      <td>A,B,D,G,H,J</td>\n    </tr>\n    <tr>\n      <th>GARV_0662</th>\n      <td>A</td>\n      <td>B</td>\n      <td>C</td>\n      <td>NaN</td>\n      <td>E</td>\n      <td>NaN</td>\n      <td>G</td>\n      <td>H</td>\n      <td>I</td>\n      <td>NaN</td>\n      <td>K</td>\n      <td>NaN</td>\n      <td>A,B,C,E,G,H,I,K</td>\n    </tr>\n    <tr>\n      <th>...</th>\n      <td>...</td>\n      <td>...</td>\n      <td>...</td>\n      <td>...</td>\n      <td>...</td>\n      <td>...</td>\n      <td>...</td>\n      <td>...</td>\n      <td>...</td>\n      <td>...</td>\n      <td>...</td>\n      <td>...</td>\n      <td>...</td>\n    </tr>\n    <tr>\n      <th>PDA_105</th>\n      <td>A</td>\n      <td>B</td>\n      <td>NaN</td>\n      <td>D</td>\n      <td>NaN</td>\n      <td>NaN</td>\n      <td>G</td>\n      <td>H</td>\n      <td>NaN</td>\n      <td>J</td>\n      <td>NaN</td>\n      <td>NaN</td>\n      <td>A,B,D,G,H,J</td>\n    </tr>\n    <tr>\n      <th>PDA_106</th>\n      <td>NaN</td>\n      <td>B</td>\n      <td>NaN</td>\n      <td>NaN</td>\n      <td>NaN</td>\n      <td>NaN</td>\n      <td>NaN</td>\n      <td>H</td>\n      <td>NaN</td>\n      <td>NaN</td>\n      <td>NaN</td>\n      <td>NaN</td>\n      <td>B,H</td>\n    </tr>\n    <tr>\n      <th>PDA_107</th>\n      <td>A</td>\n      <td>B</td>\n      <td>NaN</td>\n      <td>NaN</td>\n      <td>NaN</td>\n      <td>F</td>\n      <td>G</td>\n      <td>H</td>\n      <td>NaN</td>\n      <td>NaN</td>\n      <td>NaN</td>\n      <td>L</td>\n      <td>A,B,F,G,H,L</td>\n    </tr>\n    <tr>\n      <th>PDA_108</th>\n      <td>A</td>\n      <td>B</td>\n      <td>NaN</td>\n      <td>NaN</td>\n      <td>NaN</td>\n      <td>NaN</td>\n      <td>G</td>\n      <td>H</td>\n      <td>NaN</td>\n      <td>NaN</td>\n      <td>NaN</td>\n      <td>NaN</td>\n      <td>A,B,G,H</td>\n    </tr>\n    <tr>\n      <th>PDA_109</th>\n      <td>NaN</td>\n      <td>B</td>\n      <td>NaN</td>\n      <td>NaN</td>\n      <td>NaN</td>\n      <td>NaN</td>\n      <td>NaN</td>\n      <td>H</td>\n      <td>NaN</td>\n      <td>NaN</td>\n      <td>NaN</td>\n      <td>NaN</td>\n      <td>B,H</td>\n    </tr>\n  </tbody>\n</table>\n<p>603 rows × 13 columns</p>\n</div>"
     },
     "metadata": {},
     "execution_count": 45
    }
   ],
   "source": [
    "mutaciones_bruto_pancreas1"
   ]
  },
  {
   "cell_type": "code",
   "execution_count": 46,
   "metadata": {},
   "outputs": [
    {
     "output_type": "stream",
     "name": "stdout",
     "text": [
      "A,J                    97\nA,I,J,Q                71\nA,D,J,M                54\nB,K                    53\nD,M                    49\n                       ..\nA,D,H,J,M,P             1\nA,D,G,J,M,O             1\nA,C,F,G,I,J,L,N,O,Q     1\nB,F,H,K,N,P             1\nB,C,F,G,I,K,L,N,O,Q     1\nName: Tipos, Length: 91, dtype: int64\n"
     ]
    }
   ],
   "source": [
    "item_counts = mutaciones_bruto_lung1[\"Tipos\"].value_counts()\n",
    "print(item_counts)"
   ]
  },
  {
   "cell_type": "code",
   "execution_count": 47,
   "metadata": {},
   "outputs": [
    {
     "output_type": "stream",
     "name": "stdout",
     "text": [
      "A,B,G,H                193\nB,H                    118\nA,B,C,G,H,I             65\nA,B,D,G,H,J             56\nB,C,H,I                 30\nA,G                     20\nA,B,C,D,G,H,I,J         20\nA,B,F,G,H,L             13\nA,B,E,G,H,K             12\nB,D,H,J                  9\nB,E,H,K                  7\nA,B,D,E,G,H,J,K          6\nA,B,D,F,G,H,J,L          5\nA,D,G,J                  5\nB,C,E,H,I,K              4\nC,I                      4\nB,C,D,H,I,J              4\nA,B,C,E,G,H,I,K          4\nB,F,H,L                  4\nA,E,G,K                  3\nA,B,C,D,F,G,H,I,J,L      3\nC,E,I,K                  2\nA,B,E,F,G,H,K,L          2\nA,B,C,F,G,H,I,L          2\nA,C,G,I                  2\nA,D,E,G,J,K              1\nE,K                      1\nD,J                      1\nF,L                      1\nA,B,C,E,F,G,H,I,K,L      1\nA,F,G,L                  1\nB,C,E,F,H,I,K,L          1\nA,C,D,G,I,J              1\nB,C,F,H,I,L              1\nB,D,E,H,J,K              1\nName: Tipos, dtype: int64\n"
     ]
    }
   ],
   "source": [
    "item_counts = mutaciones_bruto_pancreas1[\"Tipos\"].value_counts()\n",
    "print(item_counts)"
   ]
  },
  {
   "cell_type": "code",
   "execution_count": 1,
   "metadata": {},
   "outputs": [
    {
     "output_type": "error",
     "ename": "NameError",
     "evalue": "name 'pd' is not defined",
     "traceback": [
      "\u001b[1;31m---------------------------------------------------------------------------\u001b[0m",
      "\u001b[1;31mNameError\u001b[0m                                 Traceback (most recent call last)",
      "\u001b[1;32m<ipython-input-1-7463fa3b61e3>\u001b[0m in \u001b[0;36m<module>\u001b[1;34m\u001b[0m\n\u001b[1;32m----> 1\u001b[1;33m \u001b[0mlung_NN\u001b[0m \u001b[1;33m=\u001b[0m \u001b[0mpd\u001b[0m\u001b[1;33m.\u001b[0m\u001b[0mmerge\u001b[0m\u001b[1;33m(\u001b[0m\u001b[0mmutaciones_lung_B\u001b[0m\u001b[1;33m,\u001b[0m \u001b[0mpacientes_lung_clean\u001b[0m\u001b[1;33m,\u001b[0m \u001b[0mon\u001b[0m\u001b[1;33m=\u001b[0m\u001b[1;33m[\u001b[0m\u001b[1;34m\"track_name\"\u001b[0m\u001b[1;33m,\u001b[0m \u001b[1;34m\"Patient ID\"\u001b[0m\u001b[1;33m]\u001b[0m\u001b[1;33m)\u001b[0m\u001b[1;33m\u001b[0m\u001b[1;33m\u001b[0m\u001b[0m\n\u001b[0m",
      "\u001b[1;31mNameError\u001b[0m: name 'pd' is not defined"
     ]
    }
   ],
   "source": [
    "lung_NN = pd.merge(mutaciones_lung_B, pacientes_lung_clean, on=[\"track_name\", \"Patient ID\"])\n"
   ]
  },
  {
   "cell_type": "code",
   "execution_count": null,
   "metadata": {},
   "outputs": [],
   "source": [
    "lung_sim = \n",
    "pancreas_NN = \n",
    "pancreas_sim = "
   ]
  }
 ]
}