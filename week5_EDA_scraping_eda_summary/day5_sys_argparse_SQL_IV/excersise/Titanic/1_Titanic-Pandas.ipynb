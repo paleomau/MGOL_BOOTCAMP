{
 "cells": [
  {
   "cell_type": "markdown",
   "metadata": {},
   "source": [
    "   #                                                  Titanic Exercise I\n",
    "   #### Practice pandas"
   ]
  },
  {
   "cell_type": "markdown",
   "metadata": {},
   "source": [
    "![titanic](https://userscontent2.emaze.com/images/a5f68f37-6349-4065-a1fc-921cbe7401b2/958230111417e36d6b3c67ffd7bc3494.jpeg)"
   ]
  },
  {
   "cell_type": "markdown",
   "metadata": {},
   "source": [
    "First of all, import the needed libraries. "
   ]
  },
  {
   "cell_type": "code",
   "execution_count": 88,
   "metadata": {},
   "outputs": [],
   "source": [
    "import pandas as pd \n",
    "import random as rd \n",
    "import numpy as np \n",
    "\n",
    "\n",
    "# you will have to import at least another library along the exercise do it in here when the time comes\n"
   ]
  },
  {
   "cell_type": "markdown",
   "metadata": {},
   "source": [
    "1. Read in filename and call the variable `titanic`\n",
    "    - Explore the `titanic` dataset using `info`, `dtypes` & `describe`\n",
    " "
   ]
  },
  {
   "cell_type": "code",
   "execution_count": 89,
   "metadata": {},
   "outputs": [],
   "source": [
    "filename = \"titanic.csv\""
   ]
  },
  {
   "cell_type": "code",
   "execution_count": 156,
   "metadata": {},
   "outputs": [
    {
     "output_type": "execute_result",
     "data": {
      "text/plain": [
       "      pclass  survived                                             name  \\\n",
       "0          1         1                    Allen, Miss. Elisabeth Walton   \n",
       "1          1         1                   Allison, Master. Hudson Trevor   \n",
       "2          1         0                     Allison, Miss. Helen Loraine   \n",
       "3          1         0             Allison, Mr. Hudson Joshua Creighton   \n",
       "4          1         0  Allison, Mrs. Hudson J C (Bessie Waldo Daniels)   \n",
       "...      ...       ...                                              ...   \n",
       "1304       3         0                             Zabour, Miss. Hileni   \n",
       "1305       3         0                            Zabour, Miss. Thamine   \n",
       "1306       3         0                        Zakarian, Mr. Mapriededer   \n",
       "1307       3         0                              Zakarian, Mr. Ortin   \n",
       "1308       3         0                               Zimmerman, Mr. Leo   \n",
       "\n",
       "         sex    age  sibsp  parch  ticket      fare    cabin embarked boat  \\\n",
       "0     female  29.00      0      0   24160  211.3375       B5        S    2   \n",
       "1       male   0.92      1      2  113781  151.5500  C22 C26        S   11   \n",
       "2     female   2.00      1      2  113781  151.5500  C22 C26        S  NaN   \n",
       "3       male  30.00      1      2  113781  151.5500  C22 C26        S  NaN   \n",
       "4     female  25.00      1      2  113781  151.5500  C22 C26        S  NaN   \n",
       "...      ...    ...    ...    ...     ...       ...      ...      ...  ...   \n",
       "1304  female  14.50      1      0    2665   14.4542      NaN        C  NaN   \n",
       "1305  female    NaN      1      0    2665   14.4542      NaN        C  NaN   \n",
       "1306    male  26.50      0      0    2656    7.2250      NaN        C  NaN   \n",
       "1307    male  27.00      0      0    2670    7.2250      NaN        C  NaN   \n",
       "1308    male  29.00      0      0  315082    7.8750      NaN        S  NaN   \n",
       "\n",
       "       body                        home.dest  \n",
       "0       NaN                     St Louis, MO  \n",
       "1       NaN  Montreal, PQ / Chesterville, ON  \n",
       "2       NaN  Montreal, PQ / Chesterville, ON  \n",
       "3     135.0  Montreal, PQ / Chesterville, ON  \n",
       "4       NaN  Montreal, PQ / Chesterville, ON  \n",
       "...     ...                              ...  \n",
       "1304  328.0                              NaN  \n",
       "1305    NaN                              NaN  \n",
       "1306  304.0                              NaN  \n",
       "1307    NaN                              NaN  \n",
       "1308    NaN                              NaN  \n",
       "\n",
       "[1309 rows x 14 columns]"
      ],
      "text/html": "<div>\n<style scoped>\n    .dataframe tbody tr th:only-of-type {\n        vertical-align: middle;\n    }\n\n    .dataframe tbody tr th {\n        vertical-align: top;\n    }\n\n    .dataframe thead th {\n        text-align: right;\n    }\n</style>\n<table border=\"1\" class=\"dataframe\">\n  <thead>\n    <tr style=\"text-align: right;\">\n      <th></th>\n      <th>pclass</th>\n      <th>survived</th>\n      <th>name</th>\n      <th>sex</th>\n      <th>age</th>\n      <th>sibsp</th>\n      <th>parch</th>\n      <th>ticket</th>\n      <th>fare</th>\n      <th>cabin</th>\n      <th>embarked</th>\n      <th>boat</th>\n      <th>body</th>\n      <th>home.dest</th>\n    </tr>\n  </thead>\n  <tbody>\n    <tr>\n      <th>0</th>\n      <td>1</td>\n      <td>1</td>\n      <td>Allen, Miss. Elisabeth Walton</td>\n      <td>female</td>\n      <td>29.00</td>\n      <td>0</td>\n      <td>0</td>\n      <td>24160</td>\n      <td>211.3375</td>\n      <td>B5</td>\n      <td>S</td>\n      <td>2</td>\n      <td>NaN</td>\n      <td>St Louis, MO</td>\n    </tr>\n    <tr>\n      <th>1</th>\n      <td>1</td>\n      <td>1</td>\n      <td>Allison, Master. Hudson Trevor</td>\n      <td>male</td>\n      <td>0.92</td>\n      <td>1</td>\n      <td>2</td>\n      <td>113781</td>\n      <td>151.5500</td>\n      <td>C22 C26</td>\n      <td>S</td>\n      <td>11</td>\n      <td>NaN</td>\n      <td>Montreal, PQ / Chesterville, ON</td>\n    </tr>\n    <tr>\n      <th>2</th>\n      <td>1</td>\n      <td>0</td>\n      <td>Allison, Miss. Helen Loraine</td>\n      <td>female</td>\n      <td>2.00</td>\n      <td>1</td>\n      <td>2</td>\n      <td>113781</td>\n      <td>151.5500</td>\n      <td>C22 C26</td>\n      <td>S</td>\n      <td>NaN</td>\n      <td>NaN</td>\n      <td>Montreal, PQ / Chesterville, ON</td>\n    </tr>\n    <tr>\n      <th>3</th>\n      <td>1</td>\n      <td>0</td>\n      <td>Allison, Mr. Hudson Joshua Creighton</td>\n      <td>male</td>\n      <td>30.00</td>\n      <td>1</td>\n      <td>2</td>\n      <td>113781</td>\n      <td>151.5500</td>\n      <td>C22 C26</td>\n      <td>S</td>\n      <td>NaN</td>\n      <td>135.0</td>\n      <td>Montreal, PQ / Chesterville, ON</td>\n    </tr>\n    <tr>\n      <th>4</th>\n      <td>1</td>\n      <td>0</td>\n      <td>Allison, Mrs. Hudson J C (Bessie Waldo Daniels)</td>\n      <td>female</td>\n      <td>25.00</td>\n      <td>1</td>\n      <td>2</td>\n      <td>113781</td>\n      <td>151.5500</td>\n      <td>C22 C26</td>\n      <td>S</td>\n      <td>NaN</td>\n      <td>NaN</td>\n      <td>Montreal, PQ / Chesterville, ON</td>\n    </tr>\n    <tr>\n      <th>...</th>\n      <td>...</td>\n      <td>...</td>\n      <td>...</td>\n      <td>...</td>\n      <td>...</td>\n      <td>...</td>\n      <td>...</td>\n      <td>...</td>\n      <td>...</td>\n      <td>...</td>\n      <td>...</td>\n      <td>...</td>\n      <td>...</td>\n      <td>...</td>\n    </tr>\n    <tr>\n      <th>1304</th>\n      <td>3</td>\n      <td>0</td>\n      <td>Zabour, Miss. Hileni</td>\n      <td>female</td>\n      <td>14.50</td>\n      <td>1</td>\n      <td>0</td>\n      <td>2665</td>\n      <td>14.4542</td>\n      <td>NaN</td>\n      <td>C</td>\n      <td>NaN</td>\n      <td>328.0</td>\n      <td>NaN</td>\n    </tr>\n    <tr>\n      <th>1305</th>\n      <td>3</td>\n      <td>0</td>\n      <td>Zabour, Miss. Thamine</td>\n      <td>female</td>\n      <td>NaN</td>\n      <td>1</td>\n      <td>0</td>\n      <td>2665</td>\n      <td>14.4542</td>\n      <td>NaN</td>\n      <td>C</td>\n      <td>NaN</td>\n      <td>NaN</td>\n      <td>NaN</td>\n    </tr>\n    <tr>\n      <th>1306</th>\n      <td>3</td>\n      <td>0</td>\n      <td>Zakarian, Mr. Mapriededer</td>\n      <td>male</td>\n      <td>26.50</td>\n      <td>0</td>\n      <td>0</td>\n      <td>2656</td>\n      <td>7.2250</td>\n      <td>NaN</td>\n      <td>C</td>\n      <td>NaN</td>\n      <td>304.0</td>\n      <td>NaN</td>\n    </tr>\n    <tr>\n      <th>1307</th>\n      <td>3</td>\n      <td>0</td>\n      <td>Zakarian, Mr. Ortin</td>\n      <td>male</td>\n      <td>27.00</td>\n      <td>0</td>\n      <td>0</td>\n      <td>2670</td>\n      <td>7.2250</td>\n      <td>NaN</td>\n      <td>C</td>\n      <td>NaN</td>\n      <td>NaN</td>\n      <td>NaN</td>\n    </tr>\n    <tr>\n      <th>1308</th>\n      <td>3</td>\n      <td>0</td>\n      <td>Zimmerman, Mr. Leo</td>\n      <td>male</td>\n      <td>29.00</td>\n      <td>0</td>\n      <td>0</td>\n      <td>315082</td>\n      <td>7.8750</td>\n      <td>NaN</td>\n      <td>S</td>\n      <td>NaN</td>\n      <td>NaN</td>\n      <td>NaN</td>\n    </tr>\n  </tbody>\n</table>\n<p>1309 rows × 14 columns</p>\n</div>"
     },
     "metadata": {},
     "execution_count": 156
    }
   ],
   "source": [
    "df_titanic = pd.read_csv (r'D:\\MAURO\\CURSOS\\Master_The_Bridge\\Bridge_Python\\MGOL_BOOTCAMP\\week5_EDA_scraping_eda_summary\\day5_sys_argparse_SQL_IV\\excersise\\Titanic\\data\\titanic.csv')\n",
    "df_titanic"
   ]
  },
  {
   "cell_type": "markdown",
   "metadata": {},
   "source": [
    "2. Create a separate dataframe with the columns `['name', 'sex', 'age']`, call it `people`\n",
    "\n",
    "It can be done two ways, do it both!"
   ]
  },
  {
   "cell_type": "code",
   "execution_count": 91,
   "metadata": {},
   "outputs": [
    {
     "output_type": "execute_result",
     "data": {
      "text/plain": [
       "                                                 name     sex    age\n",
       "0                       Allen, Miss. Elisabeth Walton  female  29.00\n",
       "1                      Allison, Master. Hudson Trevor    male   0.92\n",
       "2                        Allison, Miss. Helen Loraine  female   2.00\n",
       "3                Allison, Mr. Hudson Joshua Creighton    male  30.00\n",
       "4     Allison, Mrs. Hudson J C (Bessie Waldo Daniels)  female  25.00\n",
       "...                                               ...     ...    ...\n",
       "1304                             Zabour, Miss. Hileni  female  14.50\n",
       "1305                            Zabour, Miss. Thamine  female    NaN\n",
       "1306                        Zakarian, Mr. Mapriededer    male  26.50\n",
       "1307                              Zakarian, Mr. Ortin    male  27.00\n",
       "1308                               Zimmerman, Mr. Leo    male  29.00\n",
       "\n",
       "[1309 rows x 3 columns]"
      ],
      "text/html": "<div>\n<style scoped>\n    .dataframe tbody tr th:only-of-type {\n        vertical-align: middle;\n    }\n\n    .dataframe tbody tr th {\n        vertical-align: top;\n    }\n\n    .dataframe thead th {\n        text-align: right;\n    }\n</style>\n<table border=\"1\" class=\"dataframe\">\n  <thead>\n    <tr style=\"text-align: right;\">\n      <th></th>\n      <th>name</th>\n      <th>sex</th>\n      <th>age</th>\n    </tr>\n  </thead>\n  <tbody>\n    <tr>\n      <th>0</th>\n      <td>Allen, Miss. Elisabeth Walton</td>\n      <td>female</td>\n      <td>29.00</td>\n    </tr>\n    <tr>\n      <th>1</th>\n      <td>Allison, Master. Hudson Trevor</td>\n      <td>male</td>\n      <td>0.92</td>\n    </tr>\n    <tr>\n      <th>2</th>\n      <td>Allison, Miss. Helen Loraine</td>\n      <td>female</td>\n      <td>2.00</td>\n    </tr>\n    <tr>\n      <th>3</th>\n      <td>Allison, Mr. Hudson Joshua Creighton</td>\n      <td>male</td>\n      <td>30.00</td>\n    </tr>\n    <tr>\n      <th>4</th>\n      <td>Allison, Mrs. Hudson J C (Bessie Waldo Daniels)</td>\n      <td>female</td>\n      <td>25.00</td>\n    </tr>\n    <tr>\n      <th>...</th>\n      <td>...</td>\n      <td>...</td>\n      <td>...</td>\n    </tr>\n    <tr>\n      <th>1304</th>\n      <td>Zabour, Miss. Hileni</td>\n      <td>female</td>\n      <td>14.50</td>\n    </tr>\n    <tr>\n      <th>1305</th>\n      <td>Zabour, Miss. Thamine</td>\n      <td>female</td>\n      <td>NaN</td>\n    </tr>\n    <tr>\n      <th>1306</th>\n      <td>Zakarian, Mr. Mapriededer</td>\n      <td>male</td>\n      <td>26.50</td>\n    </tr>\n    <tr>\n      <th>1307</th>\n      <td>Zakarian, Mr. Ortin</td>\n      <td>male</td>\n      <td>27.00</td>\n    </tr>\n    <tr>\n      <th>1308</th>\n      <td>Zimmerman, Mr. Leo</td>\n      <td>male</td>\n      <td>29.00</td>\n    </tr>\n  </tbody>\n</table>\n<p>1309 rows × 3 columns</p>\n</div>"
     },
     "metadata": {},
     "execution_count": 91
    }
   ],
   "source": [
    "#your code\n",
    "people = df_titanic[['name', 'sex', 'age']]\n",
    "people"
   ]
  },
  {
   "cell_type": "markdown",
   "metadata": {},
   "source": [
    "3. Print the output of `people` showing the first three rows and the last four rows, using `append`,`tail` and `head`"
   ]
  },
  {
   "cell_type": "code",
   "execution_count": 92,
   "metadata": {},
   "outputs": [
    {
     "output_type": "execute_result",
     "data": {
      "text/plain": [
       "                                name     sex    age\n",
       "0      Allen, Miss. Elisabeth Walton  female  29.00\n",
       "1     Allison, Master. Hudson Trevor    male   0.92\n",
       "2       Allison, Miss. Helen Loraine  female   2.00\n",
       "1306       Zakarian, Mr. Mapriededer    male  26.50\n",
       "1307             Zakarian, Mr. Ortin    male  27.00\n",
       "1308              Zimmerman, Mr. Leo    male  29.00"
      ],
      "text/html": "<div>\n<style scoped>\n    .dataframe tbody tr th:only-of-type {\n        vertical-align: middle;\n    }\n\n    .dataframe tbody tr th {\n        vertical-align: top;\n    }\n\n    .dataframe thead th {\n        text-align: right;\n    }\n</style>\n<table border=\"1\" class=\"dataframe\">\n  <thead>\n    <tr style=\"text-align: right;\">\n      <th></th>\n      <th>name</th>\n      <th>sex</th>\n      <th>age</th>\n    </tr>\n  </thead>\n  <tbody>\n    <tr>\n      <th>0</th>\n      <td>Allen, Miss. Elisabeth Walton</td>\n      <td>female</td>\n      <td>29.00</td>\n    </tr>\n    <tr>\n      <th>1</th>\n      <td>Allison, Master. Hudson Trevor</td>\n      <td>male</td>\n      <td>0.92</td>\n    </tr>\n    <tr>\n      <th>2</th>\n      <td>Allison, Miss. Helen Loraine</td>\n      <td>female</td>\n      <td>2.00</td>\n    </tr>\n    <tr>\n      <th>1306</th>\n      <td>Zakarian, Mr. Mapriededer</td>\n      <td>male</td>\n      <td>26.50</td>\n    </tr>\n    <tr>\n      <th>1307</th>\n      <td>Zakarian, Mr. Ortin</td>\n      <td>male</td>\n      <td>27.00</td>\n    </tr>\n    <tr>\n      <th>1308</th>\n      <td>Zimmerman, Mr. Leo</td>\n      <td>male</td>\n      <td>29.00</td>\n    </tr>\n  </tbody>\n</table>\n</div>"
     },
     "metadata": {},
     "execution_count": 92
    }
   ],
   "source": [
    "#your code\n",
    "(people.head(3)).append(people.tail(3))"
   ]
  },
  {
   "cell_type": "markdown",
   "metadata": {},
   "source": [
    "4. Slice the row from 3 to 9, call it `s_titanic`"
   ]
  },
  {
   "cell_type": "code",
   "execution_count": 93,
   "metadata": {},
   "outputs": [
    {
     "output_type": "execute_result",
     "data": {
      "text/plain": [
       "   pclass  survived                                             name     sex  \\\n",
       "3       1         0             Allison, Mr. Hudson Joshua Creighton    male   \n",
       "4       1         0  Allison, Mrs. Hudson J C (Bessie Waldo Daniels)  female   \n",
       "5       1         1                              Anderson, Mr. Harry    male   \n",
       "6       1         1                Andrews, Miss. Kornelia Theodosia  female   \n",
       "7       1         0                           Andrews, Mr. Thomas Jr    male   \n",
       "8       1         1    Appleton, Mrs. Edward Dale (Charlotte Lamson)  female   \n",
       "9       1         0                          Artagaveytia, Mr. Ramon    male   \n",
       "\n",
       "    age  sibsp  parch    ticket      fare    cabin embarked boat   body  \\\n",
       "3  30.0      1      2    113781  151.5500  C22 C26        S  NaN  135.0   \n",
       "4  25.0      1      2    113781  151.5500  C22 C26        S  NaN    NaN   \n",
       "5  48.0      0      0     19952   26.5500      E12        S    3    NaN   \n",
       "6  63.0      1      0     13502   77.9583       D7        S   10    NaN   \n",
       "7  39.0      0      0    112050    0.0000      A36        S  NaN    NaN   \n",
       "8  53.0      2      0     11769   51.4792     C101        S    D    NaN   \n",
       "9  71.0      0      0  PC 17609   49.5042      NaN        C  NaN   22.0   \n",
       "\n",
       "                         home.dest  \n",
       "3  Montreal, PQ / Chesterville, ON  \n",
       "4  Montreal, PQ / Chesterville, ON  \n",
       "5                     New York, NY  \n",
       "6                       Hudson, NY  \n",
       "7                      Belfast, NI  \n",
       "8              Bayside, Queens, NY  \n",
       "9              Montevideo, Uruguay  "
      ],
      "text/html": "<div>\n<style scoped>\n    .dataframe tbody tr th:only-of-type {\n        vertical-align: middle;\n    }\n\n    .dataframe tbody tr th {\n        vertical-align: top;\n    }\n\n    .dataframe thead th {\n        text-align: right;\n    }\n</style>\n<table border=\"1\" class=\"dataframe\">\n  <thead>\n    <tr style=\"text-align: right;\">\n      <th></th>\n      <th>pclass</th>\n      <th>survived</th>\n      <th>name</th>\n      <th>sex</th>\n      <th>age</th>\n      <th>sibsp</th>\n      <th>parch</th>\n      <th>ticket</th>\n      <th>fare</th>\n      <th>cabin</th>\n      <th>embarked</th>\n      <th>boat</th>\n      <th>body</th>\n      <th>home.dest</th>\n    </tr>\n  </thead>\n  <tbody>\n    <tr>\n      <th>3</th>\n      <td>1</td>\n      <td>0</td>\n      <td>Allison, Mr. Hudson Joshua Creighton</td>\n      <td>male</td>\n      <td>30.0</td>\n      <td>1</td>\n      <td>2</td>\n      <td>113781</td>\n      <td>151.5500</td>\n      <td>C22 C26</td>\n      <td>S</td>\n      <td>NaN</td>\n      <td>135.0</td>\n      <td>Montreal, PQ / Chesterville, ON</td>\n    </tr>\n    <tr>\n      <th>4</th>\n      <td>1</td>\n      <td>0</td>\n      <td>Allison, Mrs. Hudson J C (Bessie Waldo Daniels)</td>\n      <td>female</td>\n      <td>25.0</td>\n      <td>1</td>\n      <td>2</td>\n      <td>113781</td>\n      <td>151.5500</td>\n      <td>C22 C26</td>\n      <td>S</td>\n      <td>NaN</td>\n      <td>NaN</td>\n      <td>Montreal, PQ / Chesterville, ON</td>\n    </tr>\n    <tr>\n      <th>5</th>\n      <td>1</td>\n      <td>1</td>\n      <td>Anderson, Mr. Harry</td>\n      <td>male</td>\n      <td>48.0</td>\n      <td>0</td>\n      <td>0</td>\n      <td>19952</td>\n      <td>26.5500</td>\n      <td>E12</td>\n      <td>S</td>\n      <td>3</td>\n      <td>NaN</td>\n      <td>New York, NY</td>\n    </tr>\n    <tr>\n      <th>6</th>\n      <td>1</td>\n      <td>1</td>\n      <td>Andrews, Miss. Kornelia Theodosia</td>\n      <td>female</td>\n      <td>63.0</td>\n      <td>1</td>\n      <td>0</td>\n      <td>13502</td>\n      <td>77.9583</td>\n      <td>D7</td>\n      <td>S</td>\n      <td>10</td>\n      <td>NaN</td>\n      <td>Hudson, NY</td>\n    </tr>\n    <tr>\n      <th>7</th>\n      <td>1</td>\n      <td>0</td>\n      <td>Andrews, Mr. Thomas Jr</td>\n      <td>male</td>\n      <td>39.0</td>\n      <td>0</td>\n      <td>0</td>\n      <td>112050</td>\n      <td>0.0000</td>\n      <td>A36</td>\n      <td>S</td>\n      <td>NaN</td>\n      <td>NaN</td>\n      <td>Belfast, NI</td>\n    </tr>\n    <tr>\n      <th>8</th>\n      <td>1</td>\n      <td>1</td>\n      <td>Appleton, Mrs. Edward Dale (Charlotte Lamson)</td>\n      <td>female</td>\n      <td>53.0</td>\n      <td>2</td>\n      <td>0</td>\n      <td>11769</td>\n      <td>51.4792</td>\n      <td>C101</td>\n      <td>S</td>\n      <td>D</td>\n      <td>NaN</td>\n      <td>Bayside, Queens, NY</td>\n    </tr>\n    <tr>\n      <th>9</th>\n      <td>1</td>\n      <td>0</td>\n      <td>Artagaveytia, Mr. Ramon</td>\n      <td>male</td>\n      <td>71.0</td>\n      <td>0</td>\n      <td>0</td>\n      <td>PC 17609</td>\n      <td>49.5042</td>\n      <td>NaN</td>\n      <td>C</td>\n      <td>NaN</td>\n      <td>22.0</td>\n      <td>Montevideo, Uruguay</td>\n    </tr>\n  </tbody>\n</table>\n</div>"
     },
     "metadata": {},
     "execution_count": 93
    }
   ],
   "source": [
    "#your code\n",
    "s_titanic = df_titanic.iloc[3:10,:]\n",
    "s_titanic"
   ]
  },
  {
   "cell_type": "markdown",
   "metadata": {},
   "source": [
    "5. Slice the row from 40 to 63 in reverse order, call it `s_titanic_rev`"
   ]
  },
  {
   "cell_type": "code",
   "execution_count": 94,
   "metadata": {},
   "outputs": [
    {
     "output_type": "execute_result",
     "data": {
      "text/plain": [
       "             home.dest  body boat embarked cabin     fare    ticket  parch  \\\n",
       "6           Hudson, NY   NaN   10        S    D7  77.9583     13502      0   \n",
       "7          Belfast, NI   NaN  NaN        S   A36   0.0000    112050      0   \n",
       "8  Bayside, Queens, NY   NaN    D        S  C101  51.4792     11769      0   \n",
       "9  Montevideo, Uruguay  22.0  NaN        C   NaN  49.5042  PC 17609      0   \n",
       "\n",
       "   sibsp   age     sex                                           name  \\\n",
       "6      1  63.0  female              Andrews, Miss. Kornelia Theodosia   \n",
       "7      0  39.0    male                         Andrews, Mr. Thomas Jr   \n",
       "8      2  53.0  female  Appleton, Mrs. Edward Dale (Charlotte Lamson)   \n",
       "9      0  71.0    male                        Artagaveytia, Mr. Ramon   \n",
       "\n",
       "   survived  pclass  \n",
       "6         1       1  \n",
       "7         0       1  \n",
       "8         1       1  \n",
       "9         0       1  "
      ],
      "text/html": "<div>\n<style scoped>\n    .dataframe tbody tr th:only-of-type {\n        vertical-align: middle;\n    }\n\n    .dataframe tbody tr th {\n        vertical-align: top;\n    }\n\n    .dataframe thead th {\n        text-align: right;\n    }\n</style>\n<table border=\"1\" class=\"dataframe\">\n  <thead>\n    <tr style=\"text-align: right;\">\n      <th></th>\n      <th>home.dest</th>\n      <th>body</th>\n      <th>boat</th>\n      <th>embarked</th>\n      <th>cabin</th>\n      <th>fare</th>\n      <th>ticket</th>\n      <th>parch</th>\n      <th>sibsp</th>\n      <th>age</th>\n      <th>sex</th>\n      <th>name</th>\n      <th>survived</th>\n      <th>pclass</th>\n    </tr>\n  </thead>\n  <tbody>\n    <tr>\n      <th>6</th>\n      <td>Hudson, NY</td>\n      <td>NaN</td>\n      <td>10</td>\n      <td>S</td>\n      <td>D7</td>\n      <td>77.9583</td>\n      <td>13502</td>\n      <td>0</td>\n      <td>1</td>\n      <td>63.0</td>\n      <td>female</td>\n      <td>Andrews, Miss. Kornelia Theodosia</td>\n      <td>1</td>\n      <td>1</td>\n    </tr>\n    <tr>\n      <th>7</th>\n      <td>Belfast, NI</td>\n      <td>NaN</td>\n      <td>NaN</td>\n      <td>S</td>\n      <td>A36</td>\n      <td>0.0000</td>\n      <td>112050</td>\n      <td>0</td>\n      <td>0</td>\n      <td>39.0</td>\n      <td>male</td>\n      <td>Andrews, Mr. Thomas Jr</td>\n      <td>0</td>\n      <td>1</td>\n    </tr>\n    <tr>\n      <th>8</th>\n      <td>Bayside, Queens, NY</td>\n      <td>NaN</td>\n      <td>D</td>\n      <td>S</td>\n      <td>C101</td>\n      <td>51.4792</td>\n      <td>11769</td>\n      <td>0</td>\n      <td>2</td>\n      <td>53.0</td>\n      <td>female</td>\n      <td>Appleton, Mrs. Edward Dale (Charlotte Lamson)</td>\n      <td>1</td>\n      <td>1</td>\n    </tr>\n    <tr>\n      <th>9</th>\n      <td>Montevideo, Uruguay</td>\n      <td>22.0</td>\n      <td>NaN</td>\n      <td>C</td>\n      <td>NaN</td>\n      <td>49.5042</td>\n      <td>PC 17609</td>\n      <td>0</td>\n      <td>0</td>\n      <td>71.0</td>\n      <td>male</td>\n      <td>Artagaveytia, Mr. Ramon</td>\n      <td>0</td>\n      <td>1</td>\n    </tr>\n  </tbody>\n</table>\n</div>"
     },
     "metadata": {},
     "execution_count": 94
    }
   ],
   "source": [
    "#your code\n",
    "s_titanic_rev = (s_titanic.iloc[3:10,::-1])\n",
    "s_titanic_rev\n",
    "\n"
   ]
  },
  {
   "cell_type": "markdown",
   "metadata": {},
   "source": [
    "6. Slice the columns from the starting column to `'parch'`, call it `left_columns`"
   ]
  },
  {
   "cell_type": "code",
   "execution_count": 95,
   "metadata": {},
   "outputs": [],
   "source": [
    "#your code"
   ]
  },
  {
   "cell_type": "code",
   "execution_count": 96,
   "metadata": {},
   "outputs": [
    {
     "output_type": "execute_result",
     "data": {
      "text/plain": [
       "      pclass  survived                                             name  \\\n",
       "0          1         1                    Allen, Miss. Elisabeth Walton   \n",
       "1          1         1                   Allison, Master. Hudson Trevor   \n",
       "2          1         0                     Allison, Miss. Helen Loraine   \n",
       "3          1         0             Allison, Mr. Hudson Joshua Creighton   \n",
       "4          1         0  Allison, Mrs. Hudson J C (Bessie Waldo Daniels)   \n",
       "...      ...       ...                                              ...   \n",
       "1304       3         0                             Zabour, Miss. Hileni   \n",
       "1305       3         0                            Zabour, Miss. Thamine   \n",
       "1306       3         0                        Zakarian, Mr. Mapriededer   \n",
       "1307       3         0                              Zakarian, Mr. Ortin   \n",
       "1308       3         0                               Zimmerman, Mr. Leo   \n",
       "\n",
       "         sex    age  sibsp  parch  \n",
       "0     female  29.00      0      0  \n",
       "1       male   0.92      1      2  \n",
       "2     female   2.00      1      2  \n",
       "3       male  30.00      1      2  \n",
       "4     female  25.00      1      2  \n",
       "...      ...    ...    ...    ...  \n",
       "1304  female  14.50      1      0  \n",
       "1305  female    NaN      1      0  \n",
       "1306    male  26.50      0      0  \n",
       "1307    male  27.00      0      0  \n",
       "1308    male  29.00      0      0  \n",
       "\n",
       "[1309 rows x 7 columns]"
      ],
      "text/html": "<div>\n<style scoped>\n    .dataframe tbody tr th:only-of-type {\n        vertical-align: middle;\n    }\n\n    .dataframe tbody tr th {\n        vertical-align: top;\n    }\n\n    .dataframe thead th {\n        text-align: right;\n    }\n</style>\n<table border=\"1\" class=\"dataframe\">\n  <thead>\n    <tr style=\"text-align: right;\">\n      <th></th>\n      <th>pclass</th>\n      <th>survived</th>\n      <th>name</th>\n      <th>sex</th>\n      <th>age</th>\n      <th>sibsp</th>\n      <th>parch</th>\n    </tr>\n  </thead>\n  <tbody>\n    <tr>\n      <th>0</th>\n      <td>1</td>\n      <td>1</td>\n      <td>Allen, Miss. Elisabeth Walton</td>\n      <td>female</td>\n      <td>29.00</td>\n      <td>0</td>\n      <td>0</td>\n    </tr>\n    <tr>\n      <th>1</th>\n      <td>1</td>\n      <td>1</td>\n      <td>Allison, Master. Hudson Trevor</td>\n      <td>male</td>\n      <td>0.92</td>\n      <td>1</td>\n      <td>2</td>\n    </tr>\n    <tr>\n      <th>2</th>\n      <td>1</td>\n      <td>0</td>\n      <td>Allison, Miss. Helen Loraine</td>\n      <td>female</td>\n      <td>2.00</td>\n      <td>1</td>\n      <td>2</td>\n    </tr>\n    <tr>\n      <th>3</th>\n      <td>1</td>\n      <td>0</td>\n      <td>Allison, Mr. Hudson Joshua Creighton</td>\n      <td>male</td>\n      <td>30.00</td>\n      <td>1</td>\n      <td>2</td>\n    </tr>\n    <tr>\n      <th>4</th>\n      <td>1</td>\n      <td>0</td>\n      <td>Allison, Mrs. Hudson J C (Bessie Waldo Daniels)</td>\n      <td>female</td>\n      <td>25.00</td>\n      <td>1</td>\n      <td>2</td>\n    </tr>\n    <tr>\n      <th>...</th>\n      <td>...</td>\n      <td>...</td>\n      <td>...</td>\n      <td>...</td>\n      <td>...</td>\n      <td>...</td>\n      <td>...</td>\n    </tr>\n    <tr>\n      <th>1304</th>\n      <td>3</td>\n      <td>0</td>\n      <td>Zabour, Miss. Hileni</td>\n      <td>female</td>\n      <td>14.50</td>\n      <td>1</td>\n      <td>0</td>\n    </tr>\n    <tr>\n      <th>1305</th>\n      <td>3</td>\n      <td>0</td>\n      <td>Zabour, Miss. Thamine</td>\n      <td>female</td>\n      <td>NaN</td>\n      <td>1</td>\n      <td>0</td>\n    </tr>\n    <tr>\n      <th>1306</th>\n      <td>3</td>\n      <td>0</td>\n      <td>Zakarian, Mr. Mapriededer</td>\n      <td>male</td>\n      <td>26.50</td>\n      <td>0</td>\n      <td>0</td>\n    </tr>\n    <tr>\n      <th>1307</th>\n      <td>3</td>\n      <td>0</td>\n      <td>Zakarian, Mr. Ortin</td>\n      <td>male</td>\n      <td>27.00</td>\n      <td>0</td>\n      <td>0</td>\n    </tr>\n    <tr>\n      <th>1308</th>\n      <td>3</td>\n      <td>0</td>\n      <td>Zimmerman, Mr. Leo</td>\n      <td>male</td>\n      <td>29.00</td>\n      <td>0</td>\n      <td>0</td>\n    </tr>\n  </tbody>\n</table>\n<p>1309 rows × 7 columns</p>\n</div>"
     },
     "metadata": {},
     "execution_count": 96
    }
   ],
   "source": [
    "left_columns = df_titanic.loc[:,'pclass':'parch']\n",
    "left_columns"
   ]
  },
  {
   "cell_type": "markdown",
   "metadata": {},
   "source": [
    "7. Slice the columns from `'name'` to `'age'`, call it `middle_columns`"
   ]
  },
  {
   "cell_type": "code",
   "execution_count": 97,
   "metadata": {},
   "outputs": [
    {
     "output_type": "execute_result",
     "data": {
      "text/plain": [
       "                                                 name     sex    age\n",
       "0                       Allen, Miss. Elisabeth Walton  female  29.00\n",
       "1                      Allison, Master. Hudson Trevor    male   0.92\n",
       "2                        Allison, Miss. Helen Loraine  female   2.00\n",
       "3                Allison, Mr. Hudson Joshua Creighton    male  30.00\n",
       "4     Allison, Mrs. Hudson J C (Bessie Waldo Daniels)  female  25.00\n",
       "...                                               ...     ...    ...\n",
       "1304                             Zabour, Miss. Hileni  female  14.50\n",
       "1305                            Zabour, Miss. Thamine  female    NaN\n",
       "1306                        Zakarian, Mr. Mapriededer    male  26.50\n",
       "1307                              Zakarian, Mr. Ortin    male  27.00\n",
       "1308                               Zimmerman, Mr. Leo    male  29.00\n",
       "\n",
       "[1309 rows x 3 columns]"
      ],
      "text/html": "<div>\n<style scoped>\n    .dataframe tbody tr th:only-of-type {\n        vertical-align: middle;\n    }\n\n    .dataframe tbody tr th {\n        vertical-align: top;\n    }\n\n    .dataframe thead th {\n        text-align: right;\n    }\n</style>\n<table border=\"1\" class=\"dataframe\">\n  <thead>\n    <tr style=\"text-align: right;\">\n      <th></th>\n      <th>name</th>\n      <th>sex</th>\n      <th>age</th>\n    </tr>\n  </thead>\n  <tbody>\n    <tr>\n      <th>0</th>\n      <td>Allen, Miss. Elisabeth Walton</td>\n      <td>female</td>\n      <td>29.00</td>\n    </tr>\n    <tr>\n      <th>1</th>\n      <td>Allison, Master. Hudson Trevor</td>\n      <td>male</td>\n      <td>0.92</td>\n    </tr>\n    <tr>\n      <th>2</th>\n      <td>Allison, Miss. Helen Loraine</td>\n      <td>female</td>\n      <td>2.00</td>\n    </tr>\n    <tr>\n      <th>3</th>\n      <td>Allison, Mr. Hudson Joshua Creighton</td>\n      <td>male</td>\n      <td>30.00</td>\n    </tr>\n    <tr>\n      <th>4</th>\n      <td>Allison, Mrs. Hudson J C (Bessie Waldo Daniels)</td>\n      <td>female</td>\n      <td>25.00</td>\n    </tr>\n    <tr>\n      <th>...</th>\n      <td>...</td>\n      <td>...</td>\n      <td>...</td>\n    </tr>\n    <tr>\n      <th>1304</th>\n      <td>Zabour, Miss. Hileni</td>\n      <td>female</td>\n      <td>14.50</td>\n    </tr>\n    <tr>\n      <th>1305</th>\n      <td>Zabour, Miss. Thamine</td>\n      <td>female</td>\n      <td>NaN</td>\n    </tr>\n    <tr>\n      <th>1306</th>\n      <td>Zakarian, Mr. Mapriededer</td>\n      <td>male</td>\n      <td>26.50</td>\n    </tr>\n    <tr>\n      <th>1307</th>\n      <td>Zakarian, Mr. Ortin</td>\n      <td>male</td>\n      <td>27.00</td>\n    </tr>\n    <tr>\n      <th>1308</th>\n      <td>Zimmerman, Mr. Leo</td>\n      <td>male</td>\n      <td>29.00</td>\n    </tr>\n  </tbody>\n</table>\n<p>1309 rows × 3 columns</p>\n</div>"
     },
     "metadata": {},
     "execution_count": 97
    }
   ],
   "source": [
    "#your code\n",
    "middle_columns = df_titanic.loc[:,'name':'age']\n",
    "middle_columns"
   ]
  },
  {
   "cell_type": "markdown",
   "metadata": {},
   "source": [
    "8. Slice the columns from `'ticket'` to the end, call it `right_columns`"
   ]
  },
  {
   "cell_type": "code",
   "execution_count": 98,
   "metadata": {},
   "outputs": [
    {
     "output_type": "execute_result",
     "data": {
      "text/plain": [
       "      ticket      fare    cabin embarked boat   body  \\\n",
       "0      24160  211.3375       B5        S    2    NaN   \n",
       "1     113781  151.5500  C22 C26        S   11    NaN   \n",
       "2     113781  151.5500  C22 C26        S  NaN    NaN   \n",
       "3     113781  151.5500  C22 C26        S  NaN  135.0   \n",
       "4     113781  151.5500  C22 C26        S  NaN    NaN   \n",
       "...      ...       ...      ...      ...  ...    ...   \n",
       "1304    2665   14.4542      NaN        C  NaN  328.0   \n",
       "1305    2665   14.4542      NaN        C  NaN    NaN   \n",
       "1306    2656    7.2250      NaN        C  NaN  304.0   \n",
       "1307    2670    7.2250      NaN        C  NaN    NaN   \n",
       "1308  315082    7.8750      NaN        S  NaN    NaN   \n",
       "\n",
       "                            home.dest  \n",
       "0                        St Louis, MO  \n",
       "1     Montreal, PQ / Chesterville, ON  \n",
       "2     Montreal, PQ / Chesterville, ON  \n",
       "3     Montreal, PQ / Chesterville, ON  \n",
       "4     Montreal, PQ / Chesterville, ON  \n",
       "...                               ...  \n",
       "1304                              NaN  \n",
       "1305                              NaN  \n",
       "1306                              NaN  \n",
       "1307                              NaN  \n",
       "1308                              NaN  \n",
       "\n",
       "[1309 rows x 7 columns]"
      ],
      "text/html": "<div>\n<style scoped>\n    .dataframe tbody tr th:only-of-type {\n        vertical-align: middle;\n    }\n\n    .dataframe tbody tr th {\n        vertical-align: top;\n    }\n\n    .dataframe thead th {\n        text-align: right;\n    }\n</style>\n<table border=\"1\" class=\"dataframe\">\n  <thead>\n    <tr style=\"text-align: right;\">\n      <th></th>\n      <th>ticket</th>\n      <th>fare</th>\n      <th>cabin</th>\n      <th>embarked</th>\n      <th>boat</th>\n      <th>body</th>\n      <th>home.dest</th>\n    </tr>\n  </thead>\n  <tbody>\n    <tr>\n      <th>0</th>\n      <td>24160</td>\n      <td>211.3375</td>\n      <td>B5</td>\n      <td>S</td>\n      <td>2</td>\n      <td>NaN</td>\n      <td>St Louis, MO</td>\n    </tr>\n    <tr>\n      <th>1</th>\n      <td>113781</td>\n      <td>151.5500</td>\n      <td>C22 C26</td>\n      <td>S</td>\n      <td>11</td>\n      <td>NaN</td>\n      <td>Montreal, PQ / Chesterville, ON</td>\n    </tr>\n    <tr>\n      <th>2</th>\n      <td>113781</td>\n      <td>151.5500</td>\n      <td>C22 C26</td>\n      <td>S</td>\n      <td>NaN</td>\n      <td>NaN</td>\n      <td>Montreal, PQ / Chesterville, ON</td>\n    </tr>\n    <tr>\n      <th>3</th>\n      <td>113781</td>\n      <td>151.5500</td>\n      <td>C22 C26</td>\n      <td>S</td>\n      <td>NaN</td>\n      <td>135.0</td>\n      <td>Montreal, PQ / Chesterville, ON</td>\n    </tr>\n    <tr>\n      <th>4</th>\n      <td>113781</td>\n      <td>151.5500</td>\n      <td>C22 C26</td>\n      <td>S</td>\n      <td>NaN</td>\n      <td>NaN</td>\n      <td>Montreal, PQ / Chesterville, ON</td>\n    </tr>\n    <tr>\n      <th>...</th>\n      <td>...</td>\n      <td>...</td>\n      <td>...</td>\n      <td>...</td>\n      <td>...</td>\n      <td>...</td>\n      <td>...</td>\n    </tr>\n    <tr>\n      <th>1304</th>\n      <td>2665</td>\n      <td>14.4542</td>\n      <td>NaN</td>\n      <td>C</td>\n      <td>NaN</td>\n      <td>328.0</td>\n      <td>NaN</td>\n    </tr>\n    <tr>\n      <th>1305</th>\n      <td>2665</td>\n      <td>14.4542</td>\n      <td>NaN</td>\n      <td>C</td>\n      <td>NaN</td>\n      <td>NaN</td>\n      <td>NaN</td>\n    </tr>\n    <tr>\n      <th>1306</th>\n      <td>2656</td>\n      <td>7.2250</td>\n      <td>NaN</td>\n      <td>C</td>\n      <td>NaN</td>\n      <td>304.0</td>\n      <td>NaN</td>\n    </tr>\n    <tr>\n      <th>1307</th>\n      <td>2670</td>\n      <td>7.2250</td>\n      <td>NaN</td>\n      <td>C</td>\n      <td>NaN</td>\n      <td>NaN</td>\n      <td>NaN</td>\n    </tr>\n    <tr>\n      <th>1308</th>\n      <td>315082</td>\n      <td>7.8750</td>\n      <td>NaN</td>\n      <td>S</td>\n      <td>NaN</td>\n      <td>NaN</td>\n      <td>NaN</td>\n    </tr>\n  </tbody>\n</table>\n<p>1309 rows × 7 columns</p>\n</div>"
     },
     "metadata": {},
     "execution_count": 98
    }
   ],
   "source": [
    "#your code\n",
    "right_columns = df_titanic.loc[:,'ticket':]\n",
    "right_columns"
   ]
  },
  {
   "cell_type": "markdown",
   "metadata": {},
   "source": [
    "9. What is the name of the oldest person who died in the Titanic? Was he or she travelling alone or had any family travelling with them?  \n",
    "\n"
   ]
  },
  {
   "cell_type": "code",
   "execution_count": 99,
   "metadata": {},
   "outputs": [
    {
     "output_type": "execute_result",
     "data": {
      "text/plain": [
       "80.0"
      ]
     },
     "metadata": {},
     "execution_count": 99
    }
   ],
   "source": [
    "#your code\n",
    "middle_columns['age'].max()"
   ]
  },
  {
   "cell_type": "code",
   "execution_count": 100,
   "metadata": {},
   "outputs": [
    {
     "output_type": "execute_result",
     "data": {
      "text/plain": [
       "      pclass  survived                                               name  \\\n",
       "14         1         1               Barkworth, Mr. Algernon Henry Wilson   \n",
       "61         1         1  Cavendish, Mrs. Tyrell William (Julia Florence...   \n",
       "1235       3         0                                Svensson, Mr. Johan   \n",
       "135        1         0                          Goldschmidt, Mr. George B   \n",
       "9          1         0                            Artagaveytia, Mr. Ramon   \n",
       "...      ...       ...                                                ...   \n",
       "1293       3         0                  Williams, Mr. Howard Hugh \"Harry\"   \n",
       "1297       3         0                             Wiseman, Mr. Phillippe   \n",
       "1302       3         0                                  Yousif, Mr. Wazli   \n",
       "1303       3         0                              Yousseff, Mr. Gerious   \n",
       "1305       3         0                              Zabour, Miss. Thamine   \n",
       "\n",
       "         sex   age  sibsp  parch      ticket     fare cabin embarked boat  \\\n",
       "14      male  80.0      0      0       27042  30.0000   A23        S    B   \n",
       "61    female  76.0      1      0       19877  78.8500   C46        S    6   \n",
       "1235    male  74.0      0      0      347060   7.7750   NaN        S  NaN   \n",
       "135     male  71.0      0      0    PC 17754  34.6542    A5        C  NaN   \n",
       "9       male  71.0      0      0    PC 17609  49.5042   NaN        C  NaN   \n",
       "...      ...   ...    ...    ...         ...      ...   ...      ...  ...   \n",
       "1293    male   NaN      0      0    A/5 2466   8.0500   NaN        S  NaN   \n",
       "1297    male   NaN      0      0  A/4. 34244   7.2500   NaN        S  NaN   \n",
       "1302    male   NaN      0      0        2647   7.2250   NaN        C  NaN   \n",
       "1303    male   NaN      0      0        2627  14.4583   NaN        C  NaN   \n",
       "1305  female   NaN      1      0        2665  14.4542   NaN        C  NaN   \n",
       "\n",
       "      body                home.dest  \n",
       "14     NaN            Hessle, Yorks  \n",
       "61     NaN  Little Onn Hall, Staffs  \n",
       "1235   NaN                      NaN  \n",
       "135    NaN             New York, NY  \n",
       "9     22.0      Montevideo, Uruguay  \n",
       "...    ...                      ...  \n",
       "1293   NaN                      NaN  \n",
       "1297   NaN                      NaN  \n",
       "1302   NaN                      NaN  \n",
       "1303   NaN                      NaN  \n",
       "1305   NaN                      NaN  \n",
       "\n",
       "[1309 rows x 14 columns]"
      ],
      "text/html": "<div>\n<style scoped>\n    .dataframe tbody tr th:only-of-type {\n        vertical-align: middle;\n    }\n\n    .dataframe tbody tr th {\n        vertical-align: top;\n    }\n\n    .dataframe thead th {\n        text-align: right;\n    }\n</style>\n<table border=\"1\" class=\"dataframe\">\n  <thead>\n    <tr style=\"text-align: right;\">\n      <th></th>\n      <th>pclass</th>\n      <th>survived</th>\n      <th>name</th>\n      <th>sex</th>\n      <th>age</th>\n      <th>sibsp</th>\n      <th>parch</th>\n      <th>ticket</th>\n      <th>fare</th>\n      <th>cabin</th>\n      <th>embarked</th>\n      <th>boat</th>\n      <th>body</th>\n      <th>home.dest</th>\n    </tr>\n  </thead>\n  <tbody>\n    <tr>\n      <th>14</th>\n      <td>1</td>\n      <td>1</td>\n      <td>Barkworth, Mr. Algernon Henry Wilson</td>\n      <td>male</td>\n      <td>80.0</td>\n      <td>0</td>\n      <td>0</td>\n      <td>27042</td>\n      <td>30.0000</td>\n      <td>A23</td>\n      <td>S</td>\n      <td>B</td>\n      <td>NaN</td>\n      <td>Hessle, Yorks</td>\n    </tr>\n    <tr>\n      <th>61</th>\n      <td>1</td>\n      <td>1</td>\n      <td>Cavendish, Mrs. Tyrell William (Julia Florence...</td>\n      <td>female</td>\n      <td>76.0</td>\n      <td>1</td>\n      <td>0</td>\n      <td>19877</td>\n      <td>78.8500</td>\n      <td>C46</td>\n      <td>S</td>\n      <td>6</td>\n      <td>NaN</td>\n      <td>Little Onn Hall, Staffs</td>\n    </tr>\n    <tr>\n      <th>1235</th>\n      <td>3</td>\n      <td>0</td>\n      <td>Svensson, Mr. Johan</td>\n      <td>male</td>\n      <td>74.0</td>\n      <td>0</td>\n      <td>0</td>\n      <td>347060</td>\n      <td>7.7750</td>\n      <td>NaN</td>\n      <td>S</td>\n      <td>NaN</td>\n      <td>NaN</td>\n      <td>NaN</td>\n    </tr>\n    <tr>\n      <th>135</th>\n      <td>1</td>\n      <td>0</td>\n      <td>Goldschmidt, Mr. George B</td>\n      <td>male</td>\n      <td>71.0</td>\n      <td>0</td>\n      <td>0</td>\n      <td>PC 17754</td>\n      <td>34.6542</td>\n      <td>A5</td>\n      <td>C</td>\n      <td>NaN</td>\n      <td>NaN</td>\n      <td>New York, NY</td>\n    </tr>\n    <tr>\n      <th>9</th>\n      <td>1</td>\n      <td>0</td>\n      <td>Artagaveytia, Mr. Ramon</td>\n      <td>male</td>\n      <td>71.0</td>\n      <td>0</td>\n      <td>0</td>\n      <td>PC 17609</td>\n      <td>49.5042</td>\n      <td>NaN</td>\n      <td>C</td>\n      <td>NaN</td>\n      <td>22.0</td>\n      <td>Montevideo, Uruguay</td>\n    </tr>\n    <tr>\n      <th>...</th>\n      <td>...</td>\n      <td>...</td>\n      <td>...</td>\n      <td>...</td>\n      <td>...</td>\n      <td>...</td>\n      <td>...</td>\n      <td>...</td>\n      <td>...</td>\n      <td>...</td>\n      <td>...</td>\n      <td>...</td>\n      <td>...</td>\n      <td>...</td>\n    </tr>\n    <tr>\n      <th>1293</th>\n      <td>3</td>\n      <td>0</td>\n      <td>Williams, Mr. Howard Hugh \"Harry\"</td>\n      <td>male</td>\n      <td>NaN</td>\n      <td>0</td>\n      <td>0</td>\n      <td>A/5 2466</td>\n      <td>8.0500</td>\n      <td>NaN</td>\n      <td>S</td>\n      <td>NaN</td>\n      <td>NaN</td>\n      <td>NaN</td>\n    </tr>\n    <tr>\n      <th>1297</th>\n      <td>3</td>\n      <td>0</td>\n      <td>Wiseman, Mr. Phillippe</td>\n      <td>male</td>\n      <td>NaN</td>\n      <td>0</td>\n      <td>0</td>\n      <td>A/4. 34244</td>\n      <td>7.2500</td>\n      <td>NaN</td>\n      <td>S</td>\n      <td>NaN</td>\n      <td>NaN</td>\n      <td>NaN</td>\n    </tr>\n    <tr>\n      <th>1302</th>\n      <td>3</td>\n      <td>0</td>\n      <td>Yousif, Mr. Wazli</td>\n      <td>male</td>\n      <td>NaN</td>\n      <td>0</td>\n      <td>0</td>\n      <td>2647</td>\n      <td>7.2250</td>\n      <td>NaN</td>\n      <td>C</td>\n      <td>NaN</td>\n      <td>NaN</td>\n      <td>NaN</td>\n    </tr>\n    <tr>\n      <th>1303</th>\n      <td>3</td>\n      <td>0</td>\n      <td>Yousseff, Mr. Gerious</td>\n      <td>male</td>\n      <td>NaN</td>\n      <td>0</td>\n      <td>0</td>\n      <td>2627</td>\n      <td>14.4583</td>\n      <td>NaN</td>\n      <td>C</td>\n      <td>NaN</td>\n      <td>NaN</td>\n      <td>NaN</td>\n    </tr>\n    <tr>\n      <th>1305</th>\n      <td>3</td>\n      <td>0</td>\n      <td>Zabour, Miss. Thamine</td>\n      <td>female</td>\n      <td>NaN</td>\n      <td>1</td>\n      <td>0</td>\n      <td>2665</td>\n      <td>14.4542</td>\n      <td>NaN</td>\n      <td>C</td>\n      <td>NaN</td>\n      <td>NaN</td>\n      <td>NaN</td>\n    </tr>\n  </tbody>\n</table>\n<p>1309 rows × 14 columns</p>\n</div>"
     },
     "metadata": {},
     "execution_count": 100
    }
   ],
   "source": [
    "df_titanic = df_titanic.sort_values(by ='age', ascending=False )\n",
    "df_titanic"
   ]
  },
  {
   "cell_type": "markdown",
   "metadata": {},
   "source": [
    "In order to give an answer to the second question you should find out which columns give you that info. Usually part of your job as a Data Scientist will be get to know the dataset which you are working with. In this case the columns which give you that info are the following: \n",
    "        - 'sibsp' Number of Siblings/Spouses Aboard\n",
    "        - 'parch' Number of Parents/Children Aboard"
   ]
  },
  {
   "cell_type": "code",
   "execution_count": 101,
   "metadata": {},
   "outputs": [
    {
     "output_type": "stream",
     "name": "stdout",
     "text": [
      "sola\n"
     ]
    }
   ],
   "source": [
    "# your code\n",
    "if df_titanic.iloc[0,5] > 0 or df_titanic.iloc[0,6] > 0:\n",
    "    print('acompanada')\n",
    "else:\n",
    "    print('sola')"
   ]
  },
  {
   "cell_type": "markdown",
   "metadata": {},
   "source": [
    "10. Create the list of 5 random numbers of rows from 0 to the lenght of the dataframe, call it `rows`\n",
    "\n",
    "ex. `rows = [3,7,99,52,48]` use `random` library\n",
    "\n"
   ]
  },
  {
   "cell_type": "code",
   "execution_count": 102,
   "metadata": {},
   "outputs": [
    {
     "output_type": "execute_result",
     "data": {
      "text/plain": [
       "array([208, 535,  22, 495, 422])"
      ]
     },
     "metadata": {},
     "execution_count": 102
    }
   ],
   "source": [
    "#your code\n",
    "\n",
    "rows = np.random.randint(1, 1309, 5)\n",
    "rows"
   ]
  },
  {
   "cell_type": "markdown",
   "metadata": {},
   "source": [
    "This list of numbers are random, could be different.\n"
   ]
  },
  {
   "cell_type": "markdown",
   "metadata": {},
   "source": [
    "11. Create the list of three column labels, call it `cols`\n"
   ]
  },
  {
   "cell_type": "code",
   "execution_count": 103,
   "metadata": {},
   "outputs": [],
   "source": [
    "#your code\n",
    "cols = ['label1', 'label2','label3']"
   ]
  },
  {
   "cell_type": "markdown",
   "metadata": {},
   "source": [
    "12. Use both lists `rows` and `cols` to create a new dataframe"
   ]
  },
  {
   "cell_type": "code",
   "execution_count": 104,
   "metadata": {},
   "outputs": [
    {
     "output_type": "stream",
     "name": "stdout",
     "text": [
      "0     287\n1     853\n2     874\n3    1075\n4     594\ndtype: int32\n"
     ]
    }
   ],
   "source": [
    "#your code\n",
    "cols = ['label1', 'label2','label3']\n",
    "rows = np.random.randint(1, 1309, 5)\n",
    "\n",
    "new_df = pd.Series(rows)\n",
    "print(new_df)\n",
    "#no entiendo muy bien este ejercicio... Tengo 3 columnas pero 5 vaores."
   ]
  },
  {
   "cell_type": "markdown",
   "metadata": {},
   "source": [
    "13. Create a boolean array with the condition of being a woman or a man, using the `sex` column, where **female** is True. Call it `array_fe`"
   ]
  },
  {
   "cell_type": "code",
   "execution_count": 105,
   "metadata": {},
   "outputs": [
    {
     "output_type": "execute_result",
     "data": {
      "text/plain": [
       "14      False\n",
       "61       True\n",
       "1235    False\n",
       "135     False\n",
       "9       False\n",
       "        ...  \n",
       "1293    False\n",
       "1297    False\n",
       "1302    False\n",
       "1303    False\n",
       "1305     True\n",
       "Name: sex, Length: 1309, dtype: bool"
      ]
     },
     "metadata": {},
     "execution_count": 105
    }
   ],
   "source": [
    "array_fe = df_titanic['sex'].isin(['female'])\n",
    "array_fe"
   ]
  },
  {
   "cell_type": "markdown",
   "metadata": {},
   "source": [
    "Bonus: Rename the column `\"sex\"` to `\"gender\"`"
   ]
  },
  {
   "cell_type": "code",
   "execution_count": 106,
   "metadata": {},
   "outputs": [
    {
     "output_type": "execute_result",
     "data": {
      "text/plain": [
       "      pclass  survived                                               name  \\\n",
       "14         1         1               Barkworth, Mr. Algernon Henry Wilson   \n",
       "61         1         1  Cavendish, Mrs. Tyrell William (Julia Florence...   \n",
       "1235       3         0                                Svensson, Mr. Johan   \n",
       "135        1         0                          Goldschmidt, Mr. George B   \n",
       "9          1         0                            Artagaveytia, Mr. Ramon   \n",
       "...      ...       ...                                                ...   \n",
       "1293       3         0                  Williams, Mr. Howard Hugh \"Harry\"   \n",
       "1297       3         0                             Wiseman, Mr. Phillippe   \n",
       "1302       3         0                                  Yousif, Mr. Wazli   \n",
       "1303       3         0                              Yousseff, Mr. Gerious   \n",
       "1305       3         0                              Zabour, Miss. Thamine   \n",
       "\n",
       "      gender   age  sibsp  parch      ticket     fare cabin embarked boat  \\\n",
       "14      male  80.0      0      0       27042  30.0000   A23        S    B   \n",
       "61    female  76.0      1      0       19877  78.8500   C46        S    6   \n",
       "1235    male  74.0      0      0      347060   7.7750   NaN        S  NaN   \n",
       "135     male  71.0      0      0    PC 17754  34.6542    A5        C  NaN   \n",
       "9       male  71.0      0      0    PC 17609  49.5042   NaN        C  NaN   \n",
       "...      ...   ...    ...    ...         ...      ...   ...      ...  ...   \n",
       "1293    male   NaN      0      0    A/5 2466   8.0500   NaN        S  NaN   \n",
       "1297    male   NaN      0      0  A/4. 34244   7.2500   NaN        S  NaN   \n",
       "1302    male   NaN      0      0        2647   7.2250   NaN        C  NaN   \n",
       "1303    male   NaN      0      0        2627  14.4583   NaN        C  NaN   \n",
       "1305  female   NaN      1      0        2665  14.4542   NaN        C  NaN   \n",
       "\n",
       "      body                home.dest  \n",
       "14     NaN            Hessle, Yorks  \n",
       "61     NaN  Little Onn Hall, Staffs  \n",
       "1235   NaN                      NaN  \n",
       "135    NaN             New York, NY  \n",
       "9     22.0      Montevideo, Uruguay  \n",
       "...    ...                      ...  \n",
       "1293   NaN                      NaN  \n",
       "1297   NaN                      NaN  \n",
       "1302   NaN                      NaN  \n",
       "1303   NaN                      NaN  \n",
       "1305   NaN                      NaN  \n",
       "\n",
       "[1309 rows x 14 columns]"
      ],
      "text/html": "<div>\n<style scoped>\n    .dataframe tbody tr th:only-of-type {\n        vertical-align: middle;\n    }\n\n    .dataframe tbody tr th {\n        vertical-align: top;\n    }\n\n    .dataframe thead th {\n        text-align: right;\n    }\n</style>\n<table border=\"1\" class=\"dataframe\">\n  <thead>\n    <tr style=\"text-align: right;\">\n      <th></th>\n      <th>pclass</th>\n      <th>survived</th>\n      <th>name</th>\n      <th>gender</th>\n      <th>age</th>\n      <th>sibsp</th>\n      <th>parch</th>\n      <th>ticket</th>\n      <th>fare</th>\n      <th>cabin</th>\n      <th>embarked</th>\n      <th>boat</th>\n      <th>body</th>\n      <th>home.dest</th>\n    </tr>\n  </thead>\n  <tbody>\n    <tr>\n      <th>14</th>\n      <td>1</td>\n      <td>1</td>\n      <td>Barkworth, Mr. Algernon Henry Wilson</td>\n      <td>male</td>\n      <td>80.0</td>\n      <td>0</td>\n      <td>0</td>\n      <td>27042</td>\n      <td>30.0000</td>\n      <td>A23</td>\n      <td>S</td>\n      <td>B</td>\n      <td>NaN</td>\n      <td>Hessle, Yorks</td>\n    </tr>\n    <tr>\n      <th>61</th>\n      <td>1</td>\n      <td>1</td>\n      <td>Cavendish, Mrs. Tyrell William (Julia Florence...</td>\n      <td>female</td>\n      <td>76.0</td>\n      <td>1</td>\n      <td>0</td>\n      <td>19877</td>\n      <td>78.8500</td>\n      <td>C46</td>\n      <td>S</td>\n      <td>6</td>\n      <td>NaN</td>\n      <td>Little Onn Hall, Staffs</td>\n    </tr>\n    <tr>\n      <th>1235</th>\n      <td>3</td>\n      <td>0</td>\n      <td>Svensson, Mr. Johan</td>\n      <td>male</td>\n      <td>74.0</td>\n      <td>0</td>\n      <td>0</td>\n      <td>347060</td>\n      <td>7.7750</td>\n      <td>NaN</td>\n      <td>S</td>\n      <td>NaN</td>\n      <td>NaN</td>\n      <td>NaN</td>\n    </tr>\n    <tr>\n      <th>135</th>\n      <td>1</td>\n      <td>0</td>\n      <td>Goldschmidt, Mr. George B</td>\n      <td>male</td>\n      <td>71.0</td>\n      <td>0</td>\n      <td>0</td>\n      <td>PC 17754</td>\n      <td>34.6542</td>\n      <td>A5</td>\n      <td>C</td>\n      <td>NaN</td>\n      <td>NaN</td>\n      <td>New York, NY</td>\n    </tr>\n    <tr>\n      <th>9</th>\n      <td>1</td>\n      <td>0</td>\n      <td>Artagaveytia, Mr. Ramon</td>\n      <td>male</td>\n      <td>71.0</td>\n      <td>0</td>\n      <td>0</td>\n      <td>PC 17609</td>\n      <td>49.5042</td>\n      <td>NaN</td>\n      <td>C</td>\n      <td>NaN</td>\n      <td>22.0</td>\n      <td>Montevideo, Uruguay</td>\n    </tr>\n    <tr>\n      <th>...</th>\n      <td>...</td>\n      <td>...</td>\n      <td>...</td>\n      <td>...</td>\n      <td>...</td>\n      <td>...</td>\n      <td>...</td>\n      <td>...</td>\n      <td>...</td>\n      <td>...</td>\n      <td>...</td>\n      <td>...</td>\n      <td>...</td>\n      <td>...</td>\n    </tr>\n    <tr>\n      <th>1293</th>\n      <td>3</td>\n      <td>0</td>\n      <td>Williams, Mr. Howard Hugh \"Harry\"</td>\n      <td>male</td>\n      <td>NaN</td>\n      <td>0</td>\n      <td>0</td>\n      <td>A/5 2466</td>\n      <td>8.0500</td>\n      <td>NaN</td>\n      <td>S</td>\n      <td>NaN</td>\n      <td>NaN</td>\n      <td>NaN</td>\n    </tr>\n    <tr>\n      <th>1297</th>\n      <td>3</td>\n      <td>0</td>\n      <td>Wiseman, Mr. Phillippe</td>\n      <td>male</td>\n      <td>NaN</td>\n      <td>0</td>\n      <td>0</td>\n      <td>A/4. 34244</td>\n      <td>7.2500</td>\n      <td>NaN</td>\n      <td>S</td>\n      <td>NaN</td>\n      <td>NaN</td>\n      <td>NaN</td>\n    </tr>\n    <tr>\n      <th>1302</th>\n      <td>3</td>\n      <td>0</td>\n      <td>Yousif, Mr. Wazli</td>\n      <td>male</td>\n      <td>NaN</td>\n      <td>0</td>\n      <td>0</td>\n      <td>2647</td>\n      <td>7.2250</td>\n      <td>NaN</td>\n      <td>C</td>\n      <td>NaN</td>\n      <td>NaN</td>\n      <td>NaN</td>\n    </tr>\n    <tr>\n      <th>1303</th>\n      <td>3</td>\n      <td>0</td>\n      <td>Yousseff, Mr. Gerious</td>\n      <td>male</td>\n      <td>NaN</td>\n      <td>0</td>\n      <td>0</td>\n      <td>2627</td>\n      <td>14.4583</td>\n      <td>NaN</td>\n      <td>C</td>\n      <td>NaN</td>\n      <td>NaN</td>\n      <td>NaN</td>\n    </tr>\n    <tr>\n      <th>1305</th>\n      <td>3</td>\n      <td>0</td>\n      <td>Zabour, Miss. Thamine</td>\n      <td>female</td>\n      <td>NaN</td>\n      <td>1</td>\n      <td>0</td>\n      <td>2665</td>\n      <td>14.4542</td>\n      <td>NaN</td>\n      <td>C</td>\n      <td>NaN</td>\n      <td>NaN</td>\n      <td>NaN</td>\n    </tr>\n  </tbody>\n</table>\n<p>1309 rows × 14 columns</p>\n</div>"
     },
     "metadata": {},
     "execution_count": 106
    }
   ],
   "source": [
    "#your code\n",
    "df_titanic = df_titanic.rename(columns={'sex': 'gender'})\n",
    "df_titanic"
   ]
  },
  {
   "cell_type": "markdown",
   "metadata": {},
   "source": [
    "14. Filter the `titanic` dataframe with the boolean array, call it `woman_titanic`"
   ]
  },
  {
   "cell_type": "code",
   "execution_count": 126,
   "metadata": {},
   "outputs": [
    {
     "output_type": "execute_result",
     "data": {
      "text/plain": [
       "      pclass  survived                                               name  \\\n",
       "61         1         1  Cavendish, Mrs. Tyrell William (Julia Florence...   \n",
       "83         1         1  Crosby, Mrs. Edward Gifford (Catherine Elizabe...   \n",
       "78         1         1  Compton, Mrs. Alexander Taylor (Mary Eliza Ing...   \n",
       "6          1         1                  Andrews, Miss. Kornelia Theodosia   \n",
       "286        1         0             Straus, Mrs. Isidor (Rosalie Ida Blun)   \n",
       "...      ...       ...                                                ...   \n",
       "1180       3         0                     Sage, Mrs. John (Annie Bullen)   \n",
       "1198       3         1                         Shine, Miss. Ellen Natalia   \n",
       "1216       3         1                                 Smyth, Miss. Julia   \n",
       "1247       3         1  Thorneycroft, Mrs. Percival (Florence Kate White)   \n",
       "1305       3         0                              Zabour, Miss. Thamine   \n",
       "\n",
       "      gender   age  sibsp  parch    ticket      fare    cabin embarked boat  \\\n",
       "61    female  76.0      1      0     19877   78.8500      C46        S    6   \n",
       "83    female  64.0      1      1    112901   26.5500      B26        S    7   \n",
       "78    female  64.0      0      2  PC 17756   83.1583      E45        C   14   \n",
       "6     female  63.0      1      0     13502   77.9583       D7        S   10   \n",
       "286   female  63.0      1      0  PC 17483  221.7792  C55 C57        S  NaN   \n",
       "...      ...   ...    ...    ...       ...       ...      ...      ...  ...   \n",
       "1180  female   NaN      1      9  CA. 2343   69.5500      NaN        S  NaN   \n",
       "1198  female   NaN      0      0    330968    7.7792      NaN        Q  NaN   \n",
       "1216  female   NaN      0      0    335432    7.7333      NaN        Q   13   \n",
       "1247  female   NaN      1      0    376564   16.1000      NaN        S   10   \n",
       "1305  female   NaN      1      0      2665   14.4542      NaN        C  NaN   \n",
       "\n",
       "      body                home.dest  \n",
       "61     NaN  Little Onn Hall, Staffs  \n",
       "83     NaN            Milwaukee, WI  \n",
       "78     NaN             Lakewood, NJ  \n",
       "6      NaN               Hudson, NY  \n",
       "286    NaN             New York, NY  \n",
       "...    ...                      ...  \n",
       "1180   NaN                      NaN  \n",
       "1198   NaN                      NaN  \n",
       "1216   NaN                      NaN  \n",
       "1247   NaN                      NaN  \n",
       "1305   NaN                      NaN  \n",
       "\n",
       "[466 rows x 14 columns]"
      ],
      "text/html": "<div>\n<style scoped>\n    .dataframe tbody tr th:only-of-type {\n        vertical-align: middle;\n    }\n\n    .dataframe tbody tr th {\n        vertical-align: top;\n    }\n\n    .dataframe thead th {\n        text-align: right;\n    }\n</style>\n<table border=\"1\" class=\"dataframe\">\n  <thead>\n    <tr style=\"text-align: right;\">\n      <th></th>\n      <th>pclass</th>\n      <th>survived</th>\n      <th>name</th>\n      <th>gender</th>\n      <th>age</th>\n      <th>sibsp</th>\n      <th>parch</th>\n      <th>ticket</th>\n      <th>fare</th>\n      <th>cabin</th>\n      <th>embarked</th>\n      <th>boat</th>\n      <th>body</th>\n      <th>home.dest</th>\n    </tr>\n  </thead>\n  <tbody>\n    <tr>\n      <th>61</th>\n      <td>1</td>\n      <td>1</td>\n      <td>Cavendish, Mrs. Tyrell William (Julia Florence...</td>\n      <td>female</td>\n      <td>76.0</td>\n      <td>1</td>\n      <td>0</td>\n      <td>19877</td>\n      <td>78.8500</td>\n      <td>C46</td>\n      <td>S</td>\n      <td>6</td>\n      <td>NaN</td>\n      <td>Little Onn Hall, Staffs</td>\n    </tr>\n    <tr>\n      <th>83</th>\n      <td>1</td>\n      <td>1</td>\n      <td>Crosby, Mrs. Edward Gifford (Catherine Elizabe...</td>\n      <td>female</td>\n      <td>64.0</td>\n      <td>1</td>\n      <td>1</td>\n      <td>112901</td>\n      <td>26.5500</td>\n      <td>B26</td>\n      <td>S</td>\n      <td>7</td>\n      <td>NaN</td>\n      <td>Milwaukee, WI</td>\n    </tr>\n    <tr>\n      <th>78</th>\n      <td>1</td>\n      <td>1</td>\n      <td>Compton, Mrs. Alexander Taylor (Mary Eliza Ing...</td>\n      <td>female</td>\n      <td>64.0</td>\n      <td>0</td>\n      <td>2</td>\n      <td>PC 17756</td>\n      <td>83.1583</td>\n      <td>E45</td>\n      <td>C</td>\n      <td>14</td>\n      <td>NaN</td>\n      <td>Lakewood, NJ</td>\n    </tr>\n    <tr>\n      <th>6</th>\n      <td>1</td>\n      <td>1</td>\n      <td>Andrews, Miss. Kornelia Theodosia</td>\n      <td>female</td>\n      <td>63.0</td>\n      <td>1</td>\n      <td>0</td>\n      <td>13502</td>\n      <td>77.9583</td>\n      <td>D7</td>\n      <td>S</td>\n      <td>10</td>\n      <td>NaN</td>\n      <td>Hudson, NY</td>\n    </tr>\n    <tr>\n      <th>286</th>\n      <td>1</td>\n      <td>0</td>\n      <td>Straus, Mrs. Isidor (Rosalie Ida Blun)</td>\n      <td>female</td>\n      <td>63.0</td>\n      <td>1</td>\n      <td>0</td>\n      <td>PC 17483</td>\n      <td>221.7792</td>\n      <td>C55 C57</td>\n      <td>S</td>\n      <td>NaN</td>\n      <td>NaN</td>\n      <td>New York, NY</td>\n    </tr>\n    <tr>\n      <th>...</th>\n      <td>...</td>\n      <td>...</td>\n      <td>...</td>\n      <td>...</td>\n      <td>...</td>\n      <td>...</td>\n      <td>...</td>\n      <td>...</td>\n      <td>...</td>\n      <td>...</td>\n      <td>...</td>\n      <td>...</td>\n      <td>...</td>\n      <td>...</td>\n    </tr>\n    <tr>\n      <th>1180</th>\n      <td>3</td>\n      <td>0</td>\n      <td>Sage, Mrs. John (Annie Bullen)</td>\n      <td>female</td>\n      <td>NaN</td>\n      <td>1</td>\n      <td>9</td>\n      <td>CA. 2343</td>\n      <td>69.5500</td>\n      <td>NaN</td>\n      <td>S</td>\n      <td>NaN</td>\n      <td>NaN</td>\n      <td>NaN</td>\n    </tr>\n    <tr>\n      <th>1198</th>\n      <td>3</td>\n      <td>1</td>\n      <td>Shine, Miss. Ellen Natalia</td>\n      <td>female</td>\n      <td>NaN</td>\n      <td>0</td>\n      <td>0</td>\n      <td>330968</td>\n      <td>7.7792</td>\n      <td>NaN</td>\n      <td>Q</td>\n      <td>NaN</td>\n      <td>NaN</td>\n      <td>NaN</td>\n    </tr>\n    <tr>\n      <th>1216</th>\n      <td>3</td>\n      <td>1</td>\n      <td>Smyth, Miss. Julia</td>\n      <td>female</td>\n      <td>NaN</td>\n      <td>0</td>\n      <td>0</td>\n      <td>335432</td>\n      <td>7.7333</td>\n      <td>NaN</td>\n      <td>Q</td>\n      <td>13</td>\n      <td>NaN</td>\n      <td>NaN</td>\n    </tr>\n    <tr>\n      <th>1247</th>\n      <td>3</td>\n      <td>1</td>\n      <td>Thorneycroft, Mrs. Percival (Florence Kate White)</td>\n      <td>female</td>\n      <td>NaN</td>\n      <td>1</td>\n      <td>0</td>\n      <td>376564</td>\n      <td>16.1000</td>\n      <td>NaN</td>\n      <td>S</td>\n      <td>10</td>\n      <td>NaN</td>\n      <td>NaN</td>\n    </tr>\n    <tr>\n      <th>1305</th>\n      <td>3</td>\n      <td>0</td>\n      <td>Zabour, Miss. Thamine</td>\n      <td>female</td>\n      <td>NaN</td>\n      <td>1</td>\n      <td>0</td>\n      <td>2665</td>\n      <td>14.4542</td>\n      <td>NaN</td>\n      <td>C</td>\n      <td>NaN</td>\n      <td>NaN</td>\n      <td>NaN</td>\n    </tr>\n  </tbody>\n</table>\n<p>466 rows × 14 columns</p>\n</div>"
     },
     "metadata": {},
     "execution_count": 126
    }
   ],
   "source": [
    "#your code\n",
    "woman_titanic = df_titanic[array_fe]\n",
    "woman_titanic\n"
   ]
  },
  {
   "cell_type": "markdown",
   "metadata": {},
   "source": [
    "15. How many woman were younger than 18? Call the variable `minor_wo`"
   ]
  },
  {
   "cell_type": "code",
   "execution_count": 138,
   "metadata": {},
   "outputs": [
    {
     "output_type": "execute_result",
     "data": {
      "text/plain": [
       "      pclass  survived                                     name  gender  \\\n",
       "458        2         1                      Ilett, Miss. Bertha  female   \n",
       "841        3         0                     Hagardon, Miss. Kate  female   \n",
       "650        3         0                    Attalah, Miss. Malake  female   \n",
       "482        2         1                    Lehmann, Miss. Bertha  female   \n",
       "738        3         1                 Cribb, Miss. Laura Alice  female   \n",
       "...      ...       ...                                      ...     ...   \n",
       "1048       3         1              Nakid, Miss. Maria (\"Mary\")  female   \n",
       "590        2         1                    West, Miss. Barbara J  female   \n",
       "658        3         1            Baclini, Miss. Helene Barbara  female   \n",
       "657        3         1                   Baclini, Miss. Eugenie  female   \n",
       "763        3         1  Dean, Miss. Elizabeth Gladys \"Millvina\"  female   \n",
       "\n",
       "        age  sibsp  parch       ticket     fare cabin embarked boat  body  \\\n",
       "458   17.00      0      0   SO/C 14885  10.5000   NaN        S  NaN   NaN   \n",
       "841   17.00      0      0  AQ/3. 30631   7.7333   NaN        Q  NaN   NaN   \n",
       "650   17.00      0      0         2627  14.4583   NaN        C  NaN   NaN   \n",
       "482   17.00      0      0      SC 1748  12.0000   NaN        C   12   NaN   \n",
       "738   17.00      0      1       371362  16.1000   NaN        S   12   NaN   \n",
       "...     ...    ...    ...          ...      ...   ...      ...  ...   ...   \n",
       "1048   1.00      0      2         2653  15.7417   NaN        C    C   NaN   \n",
       "590    0.92      1      2   C.A. 34651  27.7500   NaN        S   10   NaN   \n",
       "658    0.75      2      1         2666  19.2583   NaN        C    C   NaN   \n",
       "657    0.75      2      1         2666  19.2583   NaN        C    C   NaN   \n",
       "763    0.17      1      2    C.A. 2315  20.5750   NaN        S   10   NaN   \n",
       "\n",
       "                                  home.dest  \n",
       "458                                Guernsey  \n",
       "841                                     NaN  \n",
       "650                                     NaN  \n",
       "482   Berne, Switzerland / Central City, IA  \n",
       "738         Bournemouth, England Newark, NJ  \n",
       "...                                     ...  \n",
       "1048                                    NaN  \n",
       "590                     Bournmouth, England  \n",
       "658                      Syria New York, NY  \n",
       "657                      Syria New York, NY  \n",
       "763              Devon, England Wichita, KS  \n",
       "\n",
       "[72 rows x 14 columns]"
      ],
      "text/html": "<div>\n<style scoped>\n    .dataframe tbody tr th:only-of-type {\n        vertical-align: middle;\n    }\n\n    .dataframe tbody tr th {\n        vertical-align: top;\n    }\n\n    .dataframe thead th {\n        text-align: right;\n    }\n</style>\n<table border=\"1\" class=\"dataframe\">\n  <thead>\n    <tr style=\"text-align: right;\">\n      <th></th>\n      <th>pclass</th>\n      <th>survived</th>\n      <th>name</th>\n      <th>gender</th>\n      <th>age</th>\n      <th>sibsp</th>\n      <th>parch</th>\n      <th>ticket</th>\n      <th>fare</th>\n      <th>cabin</th>\n      <th>embarked</th>\n      <th>boat</th>\n      <th>body</th>\n      <th>home.dest</th>\n    </tr>\n  </thead>\n  <tbody>\n    <tr>\n      <th>458</th>\n      <td>2</td>\n      <td>1</td>\n      <td>Ilett, Miss. Bertha</td>\n      <td>female</td>\n      <td>17.00</td>\n      <td>0</td>\n      <td>0</td>\n      <td>SO/C 14885</td>\n      <td>10.5000</td>\n      <td>NaN</td>\n      <td>S</td>\n      <td>NaN</td>\n      <td>NaN</td>\n      <td>Guernsey</td>\n    </tr>\n    <tr>\n      <th>841</th>\n      <td>3</td>\n      <td>0</td>\n      <td>Hagardon, Miss. Kate</td>\n      <td>female</td>\n      <td>17.00</td>\n      <td>0</td>\n      <td>0</td>\n      <td>AQ/3. 30631</td>\n      <td>7.7333</td>\n      <td>NaN</td>\n      <td>Q</td>\n      <td>NaN</td>\n      <td>NaN</td>\n      <td>NaN</td>\n    </tr>\n    <tr>\n      <th>650</th>\n      <td>3</td>\n      <td>0</td>\n      <td>Attalah, Miss. Malake</td>\n      <td>female</td>\n      <td>17.00</td>\n      <td>0</td>\n      <td>0</td>\n      <td>2627</td>\n      <td>14.4583</td>\n      <td>NaN</td>\n      <td>C</td>\n      <td>NaN</td>\n      <td>NaN</td>\n      <td>NaN</td>\n    </tr>\n    <tr>\n      <th>482</th>\n      <td>2</td>\n      <td>1</td>\n      <td>Lehmann, Miss. Bertha</td>\n      <td>female</td>\n      <td>17.00</td>\n      <td>0</td>\n      <td>0</td>\n      <td>SC 1748</td>\n      <td>12.0000</td>\n      <td>NaN</td>\n      <td>C</td>\n      <td>12</td>\n      <td>NaN</td>\n      <td>Berne, Switzerland / Central City, IA</td>\n    </tr>\n    <tr>\n      <th>738</th>\n      <td>3</td>\n      <td>1</td>\n      <td>Cribb, Miss. Laura Alice</td>\n      <td>female</td>\n      <td>17.00</td>\n      <td>0</td>\n      <td>1</td>\n      <td>371362</td>\n      <td>16.1000</td>\n      <td>NaN</td>\n      <td>S</td>\n      <td>12</td>\n      <td>NaN</td>\n      <td>Bournemouth, England Newark, NJ</td>\n    </tr>\n    <tr>\n      <th>...</th>\n      <td>...</td>\n      <td>...</td>\n      <td>...</td>\n      <td>...</td>\n      <td>...</td>\n      <td>...</td>\n      <td>...</td>\n      <td>...</td>\n      <td>...</td>\n      <td>...</td>\n      <td>...</td>\n      <td>...</td>\n      <td>...</td>\n      <td>...</td>\n    </tr>\n    <tr>\n      <th>1048</th>\n      <td>3</td>\n      <td>1</td>\n      <td>Nakid, Miss. Maria (\"Mary\")</td>\n      <td>female</td>\n      <td>1.00</td>\n      <td>0</td>\n      <td>2</td>\n      <td>2653</td>\n      <td>15.7417</td>\n      <td>NaN</td>\n      <td>C</td>\n      <td>C</td>\n      <td>NaN</td>\n      <td>NaN</td>\n    </tr>\n    <tr>\n      <th>590</th>\n      <td>2</td>\n      <td>1</td>\n      <td>West, Miss. Barbara J</td>\n      <td>female</td>\n      <td>0.92</td>\n      <td>1</td>\n      <td>2</td>\n      <td>C.A. 34651</td>\n      <td>27.7500</td>\n      <td>NaN</td>\n      <td>S</td>\n      <td>10</td>\n      <td>NaN</td>\n      <td>Bournmouth, England</td>\n    </tr>\n    <tr>\n      <th>658</th>\n      <td>3</td>\n      <td>1</td>\n      <td>Baclini, Miss. Helene Barbara</td>\n      <td>female</td>\n      <td>0.75</td>\n      <td>2</td>\n      <td>1</td>\n      <td>2666</td>\n      <td>19.2583</td>\n      <td>NaN</td>\n      <td>C</td>\n      <td>C</td>\n      <td>NaN</td>\n      <td>Syria New York, NY</td>\n    </tr>\n    <tr>\n      <th>657</th>\n      <td>3</td>\n      <td>1</td>\n      <td>Baclini, Miss. Eugenie</td>\n      <td>female</td>\n      <td>0.75</td>\n      <td>2</td>\n      <td>1</td>\n      <td>2666</td>\n      <td>19.2583</td>\n      <td>NaN</td>\n      <td>C</td>\n      <td>C</td>\n      <td>NaN</td>\n      <td>Syria New York, NY</td>\n    </tr>\n    <tr>\n      <th>763</th>\n      <td>3</td>\n      <td>1</td>\n      <td>Dean, Miss. Elizabeth Gladys \"Millvina\"</td>\n      <td>female</td>\n      <td>0.17</td>\n      <td>1</td>\n      <td>2</td>\n      <td>C.A. 2315</td>\n      <td>20.5750</td>\n      <td>NaN</td>\n      <td>S</td>\n      <td>10</td>\n      <td>NaN</td>\n      <td>Devon, England Wichita, KS</td>\n    </tr>\n  </tbody>\n</table>\n<p>72 rows × 14 columns</p>\n</div>"
     },
     "metadata": {},
     "execution_count": 138
    }
   ],
   "source": [
    "#your code\n",
    "minor_18 = woman_titanic['age'] < 18\n",
    "minor_wo = woman_titanic[minor_18]\n",
    "len(minor_wo)\n",
    "minor_wo"
   ]
  },
  {
   "cell_type": "markdown",
   "metadata": {},
   "source": [
    "16. How many woman that were less than 18 actually died? Call the variable `dead_wo`"
   ]
  },
  {
   "cell_type": "code",
   "execution_count": 146,
   "metadata": {},
   "outputs": [
    {
     "output_type": "stream",
     "name": "stdout",
     "text": [
      "50\n"
     ]
    },
    {
     "output_type": "execute_result",
     "data": {
      "text/plain": [
       "      pclass  survived                                               name  \\\n",
       "458        2         1                                Ilett, Miss. Bertha   \n",
       "482        2         1                              Lehmann, Miss. Bertha   \n",
       "738        3         1                           Cribb, Miss. Laura Alice   \n",
       "229        1         1  Penasco y Castellana, Mrs. Victor de Satode (M...   \n",
       "625        3         1                    Andersson, Miss. Erna Alexandra   \n",
       "92         1         1          Dick, Mrs. Albert Adrian (Vera Gillespie)   \n",
       "187        1         1                          Lines, Miss. Mary Conover   \n",
       "709        3         1                          Carr, Miss. Helen \"Ellen\"   \n",
       "159        1         1                       Hippach, Miss. Jean Gertrude   \n",
       "818        3         1                   Gilnagh, Miss. Katherine \"Katie\"   \n",
       "195        1         1                              Maioni, Miss. Roberta   \n",
       "1244       3         1          Thomas, Mrs. Alexander (Thamine \"Thelma\")   \n",
       "604        3         1                        Abelseth, Miss. Karen Marie   \n",
       "1047       3         1                   Najib, Miss. Adele Kiamie \"Jane\"   \n",
       "350        2         1                          Brown, Miss. Edith Eileen   \n",
       "1007       3         1                        McGowan, Miss. Anna \"Annie\"   \n",
       "193        1         1                  Madill, Miss. Georgette Alexandra   \n",
       "1300       3         1            Yasbeck, Mrs. Antoni (Selini Alexander)   \n",
       "55         1         1                          Carter, Miss. Lucile Polk   \n",
       "513        2         1                Nasser, Mrs. Nicholas (Adele Achem)   \n",
       "1057       3         1                        Nicola-Yarred, Miss. Jamila   \n",
       "653        3         1                               Ayoub, Miss. Banoura   \n",
       "501        2         1                  Mellinger, Miss. Madeleine Violet   \n",
       "582        2         1                               Watt, Miss. Bertha J   \n",
       "341        2         1                       Becker, Miss. Ruth Elizabeth   \n",
       "1257       3         1                         Touma, Miss. Maria Youssef   \n",
       "377        2         1                   Collyer, Miss. Marjorie \"Lottie\"   \n",
       "541        2         1                         Quick, Miss. Winifred Vera   \n",
       "434        2         1                             Hart, Miss. Eva Miriam   \n",
       "430        2         1                  Harper, Miss. Annie Jessie \"Nina\"   \n",
       "659        3         1                     Baclini, Miss. Marie Catherine   \n",
       "643        3         1                     Asplund, Miss. Lillian Gertrud   \n",
       "794        3         1                      Emanuel, Miss. Virginia Ethel   \n",
       "591        2         1                       West, Miss. Constance Mirium   \n",
       "1189       3         1                    Sandstrom, Miss. Marguerite Rut   \n",
       "916        3         1                                 Karun, Miss. Manca   \n",
       "340        2         1                        Becker, Miss. Marion Louise   \n",
       "934        3         1                Kink-Heilmann, Miss. Luise Gretchen   \n",
       "588        2         1                                  Wells, Miss. Joan   \n",
       "479        2         1           Laroche, Miss. Simonne Marie Anne Andree   \n",
       "866        3         1                           Hirvonen, Miss. Hildur E   \n",
       "540        2         1                           Quick, Miss. Phyllis May   \n",
       "1187       3         1                    Sandstrom, Miss. Beatrice Irene   \n",
       "478        2         1                              Laroche, Miss. Louise   \n",
       "895        3         1                       Johnson, Miss. Eleanor Ileen   \n",
       "1048       3         1                        Nakid, Miss. Maria (\"Mary\")   \n",
       "590        2         1                              West, Miss. Barbara J   \n",
       "658        3         1                      Baclini, Miss. Helene Barbara   \n",
       "657        3         1                             Baclini, Miss. Eugenie   \n",
       "763        3         1            Dean, Miss. Elizabeth Gladys \"Millvina\"   \n",
       "\n",
       "      gender    age  sibsp  parch         ticket      fare    cabin embarked  \\\n",
       "458   female  17.00      0      0     SO/C 14885   10.5000      NaN        S   \n",
       "482   female  17.00      0      0        SC 1748   12.0000      NaN        C   \n",
       "738   female  17.00      0      1         371362   16.1000      NaN        S   \n",
       "229   female  17.00      1      0       PC 17758  108.9000      C65        C   \n",
       "625   female  17.00      4      2        3101281    7.9250      NaN        S   \n",
       "92    female  17.00      1      0          17474   57.0000      B20        S   \n",
       "187   female  16.00      0      1       PC 17592   39.4000      D28        S   \n",
       "709   female  16.00      0      0         367231    7.7500      NaN        Q   \n",
       "159   female  16.00      0      1         111361   57.9792      B18        C   \n",
       "818   female  16.00      0      0          35851    7.7333      NaN        Q   \n",
       "195   female  16.00      0      0         110152   86.5000      B79        S   \n",
       "1244  female  16.00      1      1           2625    8.5167      NaN        C   \n",
       "604   female  16.00      0      0         348125    7.6500      NaN        S   \n",
       "1047  female  15.00      0      0           2667    7.2250      NaN        C   \n",
       "350   female  15.00      0      2          29750   39.0000      NaN        S   \n",
       "1007  female  15.00      0      0         330923    8.0292      NaN        Q   \n",
       "193   female  15.00      0      1          24160  211.3375       B5        S   \n",
       "1300  female  15.00      1      0           2659   14.4542      NaN        C   \n",
       "55    female  14.00      1      2         113760  120.0000  B96 B98        S   \n",
       "513   female  14.00      1      0         237736   30.0708      NaN        C   \n",
       "1057  female  14.00      1      0           2651   11.2417      NaN        C   \n",
       "653   female  13.00      0      0           2687    7.2292      NaN        C   \n",
       "501   female  13.00      0      1         250644   19.5000      NaN        S   \n",
       "582   female  12.00      0      0     C.A. 33595   15.7500      NaN        S   \n",
       "341   female  12.00      2      1         230136   39.0000       F4        S   \n",
       "1257  female   9.00      1      1           2650   15.2458      NaN        C   \n",
       "377   female   8.00      0      2     C.A. 31921   26.2500      NaN        S   \n",
       "541   female   8.00      1      1          26360   26.0000      NaN        S   \n",
       "434   female   7.00      0      2   F.C.C. 13529   26.2500      NaN        S   \n",
       "430   female   6.00      0      1         248727   33.0000      NaN        S   \n",
       "659   female   5.00      2      1           2666   19.2583      NaN        C   \n",
       "643   female   5.00      4      2         347077   31.3875      NaN        S   \n",
       "794   female   5.00      0      0         364516   12.4750      NaN        S   \n",
       "591   female   5.00      1      2     C.A. 34651   27.7500      NaN        S   \n",
       "1189  female   4.00      1      1        PP 9549   16.7000       G6        S   \n",
       "916   female   4.00      0      1         349256   13.4167      NaN        C   \n",
       "340   female   4.00      2      1         230136   39.0000       F4        S   \n",
       "934   female   4.00      0      2         315153   22.0250      NaN        S   \n",
       "588   female   4.00      1      1          29103   23.0000      NaN        S   \n",
       "479   female   3.00      1      2  SC/Paris 2123   41.5792      NaN        C   \n",
       "866   female   2.00      0      1        3101298   12.2875      NaN        S   \n",
       "540   female   2.00      1      1          26360   26.0000      NaN        S   \n",
       "1187  female   1.00      1      1        PP 9549   16.7000       G6        S   \n",
       "478   female   1.00      1      2  SC/Paris 2123   41.5792      NaN        C   \n",
       "895   female   1.00      1      1         347742   11.1333      NaN        S   \n",
       "1048  female   1.00      0      2           2653   15.7417      NaN        C   \n",
       "590   female   0.92      1      2     C.A. 34651   27.7500      NaN        S   \n",
       "658   female   0.75      2      1           2666   19.2583      NaN        C   \n",
       "657   female   0.75      2      1           2666   19.2583      NaN        C   \n",
       "763   female   0.17      1      2      C.A. 2315   20.5750      NaN        S   \n",
       "\n",
       "     boat  body                                home.dest  \n",
       "458   NaN   NaN                                 Guernsey  \n",
       "482    12   NaN    Berne, Switzerland / Central City, IA  \n",
       "738    12   NaN          Bournemouth, England Newark, NJ  \n",
       "229     8   NaN                            Madrid, Spain  \n",
       "625     D   NaN     Ruotsinphyhtaa, Finland New York, NY  \n",
       "92      3   NaN                              Calgary, AB  \n",
       "187     9   NaN                            Paris, France  \n",
       "709    16   NaN        Co Longford, Ireland New York, NY  \n",
       "159     4   NaN                              Chicago, IL  \n",
       "818    16   NaN        Co Longford, Ireland New York, NY  \n",
       "195     8   NaN                                      NaN  \n",
       "1244   14   NaN                                      NaN  \n",
       "604    16   NaN                   Norway Los Angeles, CA  \n",
       "1047    C   NaN                                      NaN  \n",
       "350    14   NaN    Cape Town, South Africa / Seattle, WA  \n",
       "1007  NaN   NaN                                      NaN  \n",
       "193     2   NaN                             St Louis, MO  \n",
       "1300  NaN   NaN                                      NaN  \n",
       "55      4   NaN                            Bryn Mawr, PA  \n",
       "513   NaN   NaN                             New York, NY  \n",
       "1057    C   NaN                                      NaN  \n",
       "653     C   NaN                     Syria Youngstown, OH  \n",
       "501    14   NaN                 England / Bennington, VT  \n",
       "582     9   NaN                  Aberdeen / Portland, OR  \n",
       "341    13   NaN       Guntur, India / Benton Harbour, MI  \n",
       "1257    C   NaN                                      NaN  \n",
       "377    14   NaN  Bishopstoke, Hants / Fayette Valley, ID  \n",
       "541    11   NaN            Plymouth, Devon / Detroit, MI  \n",
       "434    14   NaN             Ilford, Essex / Winnipeg, MB  \n",
       "430    11   NaN           Denmark Hill, Surrey / Chicago  \n",
       "659     C   NaN                       Syria New York, NY  \n",
       "643    15   NaN                     Sweden Worcester, MA  \n",
       "794    13   NaN                             New York, NY  \n",
       "591    10   NaN                      Bournmouth, England  \n",
       "1189   13   NaN                                      NaN  \n",
       "916    15   NaN                                      NaN  \n",
       "340    11   NaN       Guntur, India / Benton Harbour, MI  \n",
       "934     2   NaN                                      NaN  \n",
       "588    14   NaN                     Cornwall / Akron, OH  \n",
       "479    14   NaN                            Paris / Haiti  \n",
       "866    15   NaN                                      NaN  \n",
       "540    11   NaN            Plymouth, Devon / Detroit, MI  \n",
       "1187   13   NaN                                      NaN  \n",
       "478    14   NaN                            Paris / Haiti  \n",
       "895    15   NaN                                      NaN  \n",
       "1048    C   NaN                                      NaN  \n",
       "590    10   NaN                      Bournmouth, England  \n",
       "658     C   NaN                       Syria New York, NY  \n",
       "657     C   NaN                       Syria New York, NY  \n",
       "763    10   NaN               Devon, England Wichita, KS  "
      ],
      "text/html": "<div>\n<style scoped>\n    .dataframe tbody tr th:only-of-type {\n        vertical-align: middle;\n    }\n\n    .dataframe tbody tr th {\n        vertical-align: top;\n    }\n\n    .dataframe thead th {\n        text-align: right;\n    }\n</style>\n<table border=\"1\" class=\"dataframe\">\n  <thead>\n    <tr style=\"text-align: right;\">\n      <th></th>\n      <th>pclass</th>\n      <th>survived</th>\n      <th>name</th>\n      <th>gender</th>\n      <th>age</th>\n      <th>sibsp</th>\n      <th>parch</th>\n      <th>ticket</th>\n      <th>fare</th>\n      <th>cabin</th>\n      <th>embarked</th>\n      <th>boat</th>\n      <th>body</th>\n      <th>home.dest</th>\n    </tr>\n  </thead>\n  <tbody>\n    <tr>\n      <th>458</th>\n      <td>2</td>\n      <td>1</td>\n      <td>Ilett, Miss. Bertha</td>\n      <td>female</td>\n      <td>17.00</td>\n      <td>0</td>\n      <td>0</td>\n      <td>SO/C 14885</td>\n      <td>10.5000</td>\n      <td>NaN</td>\n      <td>S</td>\n      <td>NaN</td>\n      <td>NaN</td>\n      <td>Guernsey</td>\n    </tr>\n    <tr>\n      <th>482</th>\n      <td>2</td>\n      <td>1</td>\n      <td>Lehmann, Miss. Bertha</td>\n      <td>female</td>\n      <td>17.00</td>\n      <td>0</td>\n      <td>0</td>\n      <td>SC 1748</td>\n      <td>12.0000</td>\n      <td>NaN</td>\n      <td>C</td>\n      <td>12</td>\n      <td>NaN</td>\n      <td>Berne, Switzerland / Central City, IA</td>\n    </tr>\n    <tr>\n      <th>738</th>\n      <td>3</td>\n      <td>1</td>\n      <td>Cribb, Miss. Laura Alice</td>\n      <td>female</td>\n      <td>17.00</td>\n      <td>0</td>\n      <td>1</td>\n      <td>371362</td>\n      <td>16.1000</td>\n      <td>NaN</td>\n      <td>S</td>\n      <td>12</td>\n      <td>NaN</td>\n      <td>Bournemouth, England Newark, NJ</td>\n    </tr>\n    <tr>\n      <th>229</th>\n      <td>1</td>\n      <td>1</td>\n      <td>Penasco y Castellana, Mrs. Victor de Satode (M...</td>\n      <td>female</td>\n      <td>17.00</td>\n      <td>1</td>\n      <td>0</td>\n      <td>PC 17758</td>\n      <td>108.9000</td>\n      <td>C65</td>\n      <td>C</td>\n      <td>8</td>\n      <td>NaN</td>\n      <td>Madrid, Spain</td>\n    </tr>\n    <tr>\n      <th>625</th>\n      <td>3</td>\n      <td>1</td>\n      <td>Andersson, Miss. Erna Alexandra</td>\n      <td>female</td>\n      <td>17.00</td>\n      <td>4</td>\n      <td>2</td>\n      <td>3101281</td>\n      <td>7.9250</td>\n      <td>NaN</td>\n      <td>S</td>\n      <td>D</td>\n      <td>NaN</td>\n      <td>Ruotsinphyhtaa, Finland New York, NY</td>\n    </tr>\n    <tr>\n      <th>92</th>\n      <td>1</td>\n      <td>1</td>\n      <td>Dick, Mrs. Albert Adrian (Vera Gillespie)</td>\n      <td>female</td>\n      <td>17.00</td>\n      <td>1</td>\n      <td>0</td>\n      <td>17474</td>\n      <td>57.0000</td>\n      <td>B20</td>\n      <td>S</td>\n      <td>3</td>\n      <td>NaN</td>\n      <td>Calgary, AB</td>\n    </tr>\n    <tr>\n      <th>187</th>\n      <td>1</td>\n      <td>1</td>\n      <td>Lines, Miss. Mary Conover</td>\n      <td>female</td>\n      <td>16.00</td>\n      <td>0</td>\n      <td>1</td>\n      <td>PC 17592</td>\n      <td>39.4000</td>\n      <td>D28</td>\n      <td>S</td>\n      <td>9</td>\n      <td>NaN</td>\n      <td>Paris, France</td>\n    </tr>\n    <tr>\n      <th>709</th>\n      <td>3</td>\n      <td>1</td>\n      <td>Carr, Miss. Helen \"Ellen\"</td>\n      <td>female</td>\n      <td>16.00</td>\n      <td>0</td>\n      <td>0</td>\n      <td>367231</td>\n      <td>7.7500</td>\n      <td>NaN</td>\n      <td>Q</td>\n      <td>16</td>\n      <td>NaN</td>\n      <td>Co Longford, Ireland New York, NY</td>\n    </tr>\n    <tr>\n      <th>159</th>\n      <td>1</td>\n      <td>1</td>\n      <td>Hippach, Miss. Jean Gertrude</td>\n      <td>female</td>\n      <td>16.00</td>\n      <td>0</td>\n      <td>1</td>\n      <td>111361</td>\n      <td>57.9792</td>\n      <td>B18</td>\n      <td>C</td>\n      <td>4</td>\n      <td>NaN</td>\n      <td>Chicago, IL</td>\n    </tr>\n    <tr>\n      <th>818</th>\n      <td>3</td>\n      <td>1</td>\n      <td>Gilnagh, Miss. Katherine \"Katie\"</td>\n      <td>female</td>\n      <td>16.00</td>\n      <td>0</td>\n      <td>0</td>\n      <td>35851</td>\n      <td>7.7333</td>\n      <td>NaN</td>\n      <td>Q</td>\n      <td>16</td>\n      <td>NaN</td>\n      <td>Co Longford, Ireland New York, NY</td>\n    </tr>\n    <tr>\n      <th>195</th>\n      <td>1</td>\n      <td>1</td>\n      <td>Maioni, Miss. Roberta</td>\n      <td>female</td>\n      <td>16.00</td>\n      <td>0</td>\n      <td>0</td>\n      <td>110152</td>\n      <td>86.5000</td>\n      <td>B79</td>\n      <td>S</td>\n      <td>8</td>\n      <td>NaN</td>\n      <td>NaN</td>\n    </tr>\n    <tr>\n      <th>1244</th>\n      <td>3</td>\n      <td>1</td>\n      <td>Thomas, Mrs. Alexander (Thamine \"Thelma\")</td>\n      <td>female</td>\n      <td>16.00</td>\n      <td>1</td>\n      <td>1</td>\n      <td>2625</td>\n      <td>8.5167</td>\n      <td>NaN</td>\n      <td>C</td>\n      <td>14</td>\n      <td>NaN</td>\n      <td>NaN</td>\n    </tr>\n    <tr>\n      <th>604</th>\n      <td>3</td>\n      <td>1</td>\n      <td>Abelseth, Miss. Karen Marie</td>\n      <td>female</td>\n      <td>16.00</td>\n      <td>0</td>\n      <td>0</td>\n      <td>348125</td>\n      <td>7.6500</td>\n      <td>NaN</td>\n      <td>S</td>\n      <td>16</td>\n      <td>NaN</td>\n      <td>Norway Los Angeles, CA</td>\n    </tr>\n    <tr>\n      <th>1047</th>\n      <td>3</td>\n      <td>1</td>\n      <td>Najib, Miss. Adele Kiamie \"Jane\"</td>\n      <td>female</td>\n      <td>15.00</td>\n      <td>0</td>\n      <td>0</td>\n      <td>2667</td>\n      <td>7.2250</td>\n      <td>NaN</td>\n      <td>C</td>\n      <td>C</td>\n      <td>NaN</td>\n      <td>NaN</td>\n    </tr>\n    <tr>\n      <th>350</th>\n      <td>2</td>\n      <td>1</td>\n      <td>Brown, Miss. Edith Eileen</td>\n      <td>female</td>\n      <td>15.00</td>\n      <td>0</td>\n      <td>2</td>\n      <td>29750</td>\n      <td>39.0000</td>\n      <td>NaN</td>\n      <td>S</td>\n      <td>14</td>\n      <td>NaN</td>\n      <td>Cape Town, South Africa / Seattle, WA</td>\n    </tr>\n    <tr>\n      <th>1007</th>\n      <td>3</td>\n      <td>1</td>\n      <td>McGowan, Miss. Anna \"Annie\"</td>\n      <td>female</td>\n      <td>15.00</td>\n      <td>0</td>\n      <td>0</td>\n      <td>330923</td>\n      <td>8.0292</td>\n      <td>NaN</td>\n      <td>Q</td>\n      <td>NaN</td>\n      <td>NaN</td>\n      <td>NaN</td>\n    </tr>\n    <tr>\n      <th>193</th>\n      <td>1</td>\n      <td>1</td>\n      <td>Madill, Miss. Georgette Alexandra</td>\n      <td>female</td>\n      <td>15.00</td>\n      <td>0</td>\n      <td>1</td>\n      <td>24160</td>\n      <td>211.3375</td>\n      <td>B5</td>\n      <td>S</td>\n      <td>2</td>\n      <td>NaN</td>\n      <td>St Louis, MO</td>\n    </tr>\n    <tr>\n      <th>1300</th>\n      <td>3</td>\n      <td>1</td>\n      <td>Yasbeck, Mrs. Antoni (Selini Alexander)</td>\n      <td>female</td>\n      <td>15.00</td>\n      <td>1</td>\n      <td>0</td>\n      <td>2659</td>\n      <td>14.4542</td>\n      <td>NaN</td>\n      <td>C</td>\n      <td>NaN</td>\n      <td>NaN</td>\n      <td>NaN</td>\n    </tr>\n    <tr>\n      <th>55</th>\n      <td>1</td>\n      <td>1</td>\n      <td>Carter, Miss. Lucile Polk</td>\n      <td>female</td>\n      <td>14.00</td>\n      <td>1</td>\n      <td>2</td>\n      <td>113760</td>\n      <td>120.0000</td>\n      <td>B96 B98</td>\n      <td>S</td>\n      <td>4</td>\n      <td>NaN</td>\n      <td>Bryn Mawr, PA</td>\n    </tr>\n    <tr>\n      <th>513</th>\n      <td>2</td>\n      <td>1</td>\n      <td>Nasser, Mrs. Nicholas (Adele Achem)</td>\n      <td>female</td>\n      <td>14.00</td>\n      <td>1</td>\n      <td>0</td>\n      <td>237736</td>\n      <td>30.0708</td>\n      <td>NaN</td>\n      <td>C</td>\n      <td>NaN</td>\n      <td>NaN</td>\n      <td>New York, NY</td>\n    </tr>\n    <tr>\n      <th>1057</th>\n      <td>3</td>\n      <td>1</td>\n      <td>Nicola-Yarred, Miss. Jamila</td>\n      <td>female</td>\n      <td>14.00</td>\n      <td>1</td>\n      <td>0</td>\n      <td>2651</td>\n      <td>11.2417</td>\n      <td>NaN</td>\n      <td>C</td>\n      <td>C</td>\n      <td>NaN</td>\n      <td>NaN</td>\n    </tr>\n    <tr>\n      <th>653</th>\n      <td>3</td>\n      <td>1</td>\n      <td>Ayoub, Miss. Banoura</td>\n      <td>female</td>\n      <td>13.00</td>\n      <td>0</td>\n      <td>0</td>\n      <td>2687</td>\n      <td>7.2292</td>\n      <td>NaN</td>\n      <td>C</td>\n      <td>C</td>\n      <td>NaN</td>\n      <td>Syria Youngstown, OH</td>\n    </tr>\n    <tr>\n      <th>501</th>\n      <td>2</td>\n      <td>1</td>\n      <td>Mellinger, Miss. Madeleine Violet</td>\n      <td>female</td>\n      <td>13.00</td>\n      <td>0</td>\n      <td>1</td>\n      <td>250644</td>\n      <td>19.5000</td>\n      <td>NaN</td>\n      <td>S</td>\n      <td>14</td>\n      <td>NaN</td>\n      <td>England / Bennington, VT</td>\n    </tr>\n    <tr>\n      <th>582</th>\n      <td>2</td>\n      <td>1</td>\n      <td>Watt, Miss. Bertha J</td>\n      <td>female</td>\n      <td>12.00</td>\n      <td>0</td>\n      <td>0</td>\n      <td>C.A. 33595</td>\n      <td>15.7500</td>\n      <td>NaN</td>\n      <td>S</td>\n      <td>9</td>\n      <td>NaN</td>\n      <td>Aberdeen / Portland, OR</td>\n    </tr>\n    <tr>\n      <th>341</th>\n      <td>2</td>\n      <td>1</td>\n      <td>Becker, Miss. Ruth Elizabeth</td>\n      <td>female</td>\n      <td>12.00</td>\n      <td>2</td>\n      <td>1</td>\n      <td>230136</td>\n      <td>39.0000</td>\n      <td>F4</td>\n      <td>S</td>\n      <td>13</td>\n      <td>NaN</td>\n      <td>Guntur, India / Benton Harbour, MI</td>\n    </tr>\n    <tr>\n      <th>1257</th>\n      <td>3</td>\n      <td>1</td>\n      <td>Touma, Miss. Maria Youssef</td>\n      <td>female</td>\n      <td>9.00</td>\n      <td>1</td>\n      <td>1</td>\n      <td>2650</td>\n      <td>15.2458</td>\n      <td>NaN</td>\n      <td>C</td>\n      <td>C</td>\n      <td>NaN</td>\n      <td>NaN</td>\n    </tr>\n    <tr>\n      <th>377</th>\n      <td>2</td>\n      <td>1</td>\n      <td>Collyer, Miss. Marjorie \"Lottie\"</td>\n      <td>female</td>\n      <td>8.00</td>\n      <td>0</td>\n      <td>2</td>\n      <td>C.A. 31921</td>\n      <td>26.2500</td>\n      <td>NaN</td>\n      <td>S</td>\n      <td>14</td>\n      <td>NaN</td>\n      <td>Bishopstoke, Hants / Fayette Valley, ID</td>\n    </tr>\n    <tr>\n      <th>541</th>\n      <td>2</td>\n      <td>1</td>\n      <td>Quick, Miss. Winifred Vera</td>\n      <td>female</td>\n      <td>8.00</td>\n      <td>1</td>\n      <td>1</td>\n      <td>26360</td>\n      <td>26.0000</td>\n      <td>NaN</td>\n      <td>S</td>\n      <td>11</td>\n      <td>NaN</td>\n      <td>Plymouth, Devon / Detroit, MI</td>\n    </tr>\n    <tr>\n      <th>434</th>\n      <td>2</td>\n      <td>1</td>\n      <td>Hart, Miss. Eva Miriam</td>\n      <td>female</td>\n      <td>7.00</td>\n      <td>0</td>\n      <td>2</td>\n      <td>F.C.C. 13529</td>\n      <td>26.2500</td>\n      <td>NaN</td>\n      <td>S</td>\n      <td>14</td>\n      <td>NaN</td>\n      <td>Ilford, Essex / Winnipeg, MB</td>\n    </tr>\n    <tr>\n      <th>430</th>\n      <td>2</td>\n      <td>1</td>\n      <td>Harper, Miss. Annie Jessie \"Nina\"</td>\n      <td>female</td>\n      <td>6.00</td>\n      <td>0</td>\n      <td>1</td>\n      <td>248727</td>\n      <td>33.0000</td>\n      <td>NaN</td>\n      <td>S</td>\n      <td>11</td>\n      <td>NaN</td>\n      <td>Denmark Hill, Surrey / Chicago</td>\n    </tr>\n    <tr>\n      <th>659</th>\n      <td>3</td>\n      <td>1</td>\n      <td>Baclini, Miss. Marie Catherine</td>\n      <td>female</td>\n      <td>5.00</td>\n      <td>2</td>\n      <td>1</td>\n      <td>2666</td>\n      <td>19.2583</td>\n      <td>NaN</td>\n      <td>C</td>\n      <td>C</td>\n      <td>NaN</td>\n      <td>Syria New York, NY</td>\n    </tr>\n    <tr>\n      <th>643</th>\n      <td>3</td>\n      <td>1</td>\n      <td>Asplund, Miss. Lillian Gertrud</td>\n      <td>female</td>\n      <td>5.00</td>\n      <td>4</td>\n      <td>2</td>\n      <td>347077</td>\n      <td>31.3875</td>\n      <td>NaN</td>\n      <td>S</td>\n      <td>15</td>\n      <td>NaN</td>\n      <td>Sweden Worcester, MA</td>\n    </tr>\n    <tr>\n      <th>794</th>\n      <td>3</td>\n      <td>1</td>\n      <td>Emanuel, Miss. Virginia Ethel</td>\n      <td>female</td>\n      <td>5.00</td>\n      <td>0</td>\n      <td>0</td>\n      <td>364516</td>\n      <td>12.4750</td>\n      <td>NaN</td>\n      <td>S</td>\n      <td>13</td>\n      <td>NaN</td>\n      <td>New York, NY</td>\n    </tr>\n    <tr>\n      <th>591</th>\n      <td>2</td>\n      <td>1</td>\n      <td>West, Miss. Constance Mirium</td>\n      <td>female</td>\n      <td>5.00</td>\n      <td>1</td>\n      <td>2</td>\n      <td>C.A. 34651</td>\n      <td>27.7500</td>\n      <td>NaN</td>\n      <td>S</td>\n      <td>10</td>\n      <td>NaN</td>\n      <td>Bournmouth, England</td>\n    </tr>\n    <tr>\n      <th>1189</th>\n      <td>3</td>\n      <td>1</td>\n      <td>Sandstrom, Miss. Marguerite Rut</td>\n      <td>female</td>\n      <td>4.00</td>\n      <td>1</td>\n      <td>1</td>\n      <td>PP 9549</td>\n      <td>16.7000</td>\n      <td>G6</td>\n      <td>S</td>\n      <td>13</td>\n      <td>NaN</td>\n      <td>NaN</td>\n    </tr>\n    <tr>\n      <th>916</th>\n      <td>3</td>\n      <td>1</td>\n      <td>Karun, Miss. Manca</td>\n      <td>female</td>\n      <td>4.00</td>\n      <td>0</td>\n      <td>1</td>\n      <td>349256</td>\n      <td>13.4167</td>\n      <td>NaN</td>\n      <td>C</td>\n      <td>15</td>\n      <td>NaN</td>\n      <td>NaN</td>\n    </tr>\n    <tr>\n      <th>340</th>\n      <td>2</td>\n      <td>1</td>\n      <td>Becker, Miss. Marion Louise</td>\n      <td>female</td>\n      <td>4.00</td>\n      <td>2</td>\n      <td>1</td>\n      <td>230136</td>\n      <td>39.0000</td>\n      <td>F4</td>\n      <td>S</td>\n      <td>11</td>\n      <td>NaN</td>\n      <td>Guntur, India / Benton Harbour, MI</td>\n    </tr>\n    <tr>\n      <th>934</th>\n      <td>3</td>\n      <td>1</td>\n      <td>Kink-Heilmann, Miss. Luise Gretchen</td>\n      <td>female</td>\n      <td>4.00</td>\n      <td>0</td>\n      <td>2</td>\n      <td>315153</td>\n      <td>22.0250</td>\n      <td>NaN</td>\n      <td>S</td>\n      <td>2</td>\n      <td>NaN</td>\n      <td>NaN</td>\n    </tr>\n    <tr>\n      <th>588</th>\n      <td>2</td>\n      <td>1</td>\n      <td>Wells, Miss. Joan</td>\n      <td>female</td>\n      <td>4.00</td>\n      <td>1</td>\n      <td>1</td>\n      <td>29103</td>\n      <td>23.0000</td>\n      <td>NaN</td>\n      <td>S</td>\n      <td>14</td>\n      <td>NaN</td>\n      <td>Cornwall / Akron, OH</td>\n    </tr>\n    <tr>\n      <th>479</th>\n      <td>2</td>\n      <td>1</td>\n      <td>Laroche, Miss. Simonne Marie Anne Andree</td>\n      <td>female</td>\n      <td>3.00</td>\n      <td>1</td>\n      <td>2</td>\n      <td>SC/Paris 2123</td>\n      <td>41.5792</td>\n      <td>NaN</td>\n      <td>C</td>\n      <td>14</td>\n      <td>NaN</td>\n      <td>Paris / Haiti</td>\n    </tr>\n    <tr>\n      <th>866</th>\n      <td>3</td>\n      <td>1</td>\n      <td>Hirvonen, Miss. Hildur E</td>\n      <td>female</td>\n      <td>2.00</td>\n      <td>0</td>\n      <td>1</td>\n      <td>3101298</td>\n      <td>12.2875</td>\n      <td>NaN</td>\n      <td>S</td>\n      <td>15</td>\n      <td>NaN</td>\n      <td>NaN</td>\n    </tr>\n    <tr>\n      <th>540</th>\n      <td>2</td>\n      <td>1</td>\n      <td>Quick, Miss. Phyllis May</td>\n      <td>female</td>\n      <td>2.00</td>\n      <td>1</td>\n      <td>1</td>\n      <td>26360</td>\n      <td>26.0000</td>\n      <td>NaN</td>\n      <td>S</td>\n      <td>11</td>\n      <td>NaN</td>\n      <td>Plymouth, Devon / Detroit, MI</td>\n    </tr>\n    <tr>\n      <th>1187</th>\n      <td>3</td>\n      <td>1</td>\n      <td>Sandstrom, Miss. Beatrice Irene</td>\n      <td>female</td>\n      <td>1.00</td>\n      <td>1</td>\n      <td>1</td>\n      <td>PP 9549</td>\n      <td>16.7000</td>\n      <td>G6</td>\n      <td>S</td>\n      <td>13</td>\n      <td>NaN</td>\n      <td>NaN</td>\n    </tr>\n    <tr>\n      <th>478</th>\n      <td>2</td>\n      <td>1</td>\n      <td>Laroche, Miss. Louise</td>\n      <td>female</td>\n      <td>1.00</td>\n      <td>1</td>\n      <td>2</td>\n      <td>SC/Paris 2123</td>\n      <td>41.5792</td>\n      <td>NaN</td>\n      <td>C</td>\n      <td>14</td>\n      <td>NaN</td>\n      <td>Paris / Haiti</td>\n    </tr>\n    <tr>\n      <th>895</th>\n      <td>3</td>\n      <td>1</td>\n      <td>Johnson, Miss. Eleanor Ileen</td>\n      <td>female</td>\n      <td>1.00</td>\n      <td>1</td>\n      <td>1</td>\n      <td>347742</td>\n      <td>11.1333</td>\n      <td>NaN</td>\n      <td>S</td>\n      <td>15</td>\n      <td>NaN</td>\n      <td>NaN</td>\n    </tr>\n    <tr>\n      <th>1048</th>\n      <td>3</td>\n      <td>1</td>\n      <td>Nakid, Miss. Maria (\"Mary\")</td>\n      <td>female</td>\n      <td>1.00</td>\n      <td>0</td>\n      <td>2</td>\n      <td>2653</td>\n      <td>15.7417</td>\n      <td>NaN</td>\n      <td>C</td>\n      <td>C</td>\n      <td>NaN</td>\n      <td>NaN</td>\n    </tr>\n    <tr>\n      <th>590</th>\n      <td>2</td>\n      <td>1</td>\n      <td>West, Miss. Barbara J</td>\n      <td>female</td>\n      <td>0.92</td>\n      <td>1</td>\n      <td>2</td>\n      <td>C.A. 34651</td>\n      <td>27.7500</td>\n      <td>NaN</td>\n      <td>S</td>\n      <td>10</td>\n      <td>NaN</td>\n      <td>Bournmouth, England</td>\n    </tr>\n    <tr>\n      <th>658</th>\n      <td>3</td>\n      <td>1</td>\n      <td>Baclini, Miss. Helene Barbara</td>\n      <td>female</td>\n      <td>0.75</td>\n      <td>2</td>\n      <td>1</td>\n      <td>2666</td>\n      <td>19.2583</td>\n      <td>NaN</td>\n      <td>C</td>\n      <td>C</td>\n      <td>NaN</td>\n      <td>Syria New York, NY</td>\n    </tr>\n    <tr>\n      <th>657</th>\n      <td>3</td>\n      <td>1</td>\n      <td>Baclini, Miss. Eugenie</td>\n      <td>female</td>\n      <td>0.75</td>\n      <td>2</td>\n      <td>1</td>\n      <td>2666</td>\n      <td>19.2583</td>\n      <td>NaN</td>\n      <td>C</td>\n      <td>C</td>\n      <td>NaN</td>\n      <td>Syria New York, NY</td>\n    </tr>\n    <tr>\n      <th>763</th>\n      <td>3</td>\n      <td>1</td>\n      <td>Dean, Miss. Elizabeth Gladys \"Millvina\"</td>\n      <td>female</td>\n      <td>0.17</td>\n      <td>1</td>\n      <td>2</td>\n      <td>C.A. 2315</td>\n      <td>20.5750</td>\n      <td>NaN</td>\n      <td>S</td>\n      <td>10</td>\n      <td>NaN</td>\n      <td>Devon, England Wichita, KS</td>\n    </tr>\n  </tbody>\n</table>\n</div>"
     },
     "metadata": {},
     "execution_count": 146
    }
   ],
   "source": [
    "\n",
    "\n",
    "#your code\n",
    "dead_wo = minor_wo[minor_wo['survived']==1]\n",
    "print(len(dead_wo))\n",
    "dead_wo"
   ]
  },
  {
   "cell_type": "markdown",
   "metadata": {},
   "source": [
    "17. Drop rows with *Nan* in `titanic` with `how='any'` and print the shape\n",
    "\n"
   ]
  },
  {
   "cell_type": "code",
   "execution_count": 154,
   "metadata": {},
   "outputs": [
    {
     "output_type": "execute_result",
     "data": {
      "text/plain": [
       "(1309, 7)"
      ]
     },
     "metadata": {},
     "execution_count": 154
    }
   ],
   "source": [
    "#your code\n",
    "anymethod = df_titanic.dropna(axis=1, how='any')\n",
    "anymethod.shape"
   ]
  },
  {
   "cell_type": "markdown",
   "metadata": {},
   "source": [
    "18. Drop rows with *Nan* in `titanic` with `how='all'` and print the shape\n"
   ]
  },
  {
   "cell_type": "code",
   "execution_count": 153,
   "metadata": {},
   "outputs": [
    {
     "output_type": "execute_result",
     "data": {
      "text/plain": [
       "(1309, 14)"
      ]
     },
     "metadata": {},
     "execution_count": 153
    }
   ],
   "source": [
    "#your code\n",
    "all_method = df_titanic.dropna(axis=1, how='all')\n",
    "all_method.shape"
   ]
  },
  {
   "cell_type": "markdown",
   "metadata": {},
   "source": [
    "Check in [here](https://pandas.pydata.org/pandas-docs/stable/reference/api/pandas.DataFrame.dropna.html) why the shapes are different."
   ]
  },
  {
   "cell_type": "markdown",
   "metadata": {},
   "source": [
    "19. Drop columns in `titanic` with more than 1000 missing values and print the columns remaining"
   ]
  },
  {
   "cell_type": "code",
   "execution_count": 157,
   "metadata": {},
   "outputs": [
    {
     "output_type": "execute_result",
     "data": {
      "text/plain": [
       "Empty DataFrame\n",
       "Columns: [pclass, survived, name, sex, age, sibsp, parch, ticket, fare, cabin, embarked, boat, body, home.dest]\n",
       "Index: []"
      ],
      "text/html": "<div>\n<style scoped>\n    .dataframe tbody tr th:only-of-type {\n        vertical-align: middle;\n    }\n\n    .dataframe tbody tr th {\n        vertical-align: top;\n    }\n\n    .dataframe thead th {\n        text-align: right;\n    }\n</style>\n<table border=\"1\" class=\"dataframe\">\n  <thead>\n    <tr style=\"text-align: right;\">\n      <th></th>\n      <th>pclass</th>\n      <th>survived</th>\n      <th>name</th>\n      <th>sex</th>\n      <th>age</th>\n      <th>sibsp</th>\n      <th>parch</th>\n      <th>ticket</th>\n      <th>fare</th>\n      <th>cabin</th>\n      <th>embarked</th>\n      <th>boat</th>\n      <th>body</th>\n      <th>home.dest</th>\n    </tr>\n  </thead>\n  <tbody>\n  </tbody>\n</table>\n</div>"
     },
     "metadata": {},
     "execution_count": 157
    }
   ],
   "source": [
    "#your code\n",
    "limit1000 = df_titanic.dropna(thresh=1000)\n",
    "limit1000"
   ]
  },
  {
   "cell_type": "code",
   "execution_count": 113,
   "metadata": {},
   "outputs": [],
   "source": [
    "#your code"
   ]
  },
  {
   "cell_type": "markdown",
   "metadata": {},
   "source": [
    "20. Calculate the ratio of missing values at the `boat` column. "
   ]
  },
  {
   "cell_type": "code",
   "execution_count": 164,
   "metadata": {},
   "outputs": [
    {
     "output_type": "execute_result",
     "data": {
      "text/plain": [
       "0.3712757830404889"
      ]
     },
     "metadata": {},
     "execution_count": 164
    }
   ],
   "source": [
    "#your code\n",
    "ratio = sum(df_titanic['boat'].value_counts())/len(df_titanic)\n",
    "ratio\n",
    "#como yo lo entiendo, el count no tienen en cuenta los Nan values, entonces sumo cuantos valores no nan hay y lo divido por el total de valores incluyendo los nan. Mi duda es si debo compararlo no con el total de valors sino con los Nan solamente"
   ]
  },
  {
   "cell_type": "code",
   "execution_count": 165,
   "metadata": {},
   "outputs": [
    {
     "output_type": "execute_result",
     "data": {
      "text/plain": [
       "0.5905224787363305"
      ]
     },
     "metadata": {},
     "execution_count": 165
    }
   ],
   "source": [
    "ratio2 = sum(df_titanic['boat'].value_counts())/(len(df_titanic) - sum(df_titanic['boat'].value_counts()))\n",
    "ratio2"
   ]
  },
  {
   "cell_type": "markdown",
   "metadata": {},
   "source": [
    "21.  Group `titanic` by `'pclass'` and aggregate by the columns `age` & `fare`, by `max` and `median` --> `by_class`\n"
   ]
  },
  {
   "cell_type": "code",
   "execution_count": 175,
   "metadata": {},
   "outputs": [
    {
     "output_type": "stream",
     "name": "stdout",
     "text": [
      "         age             fare         \n         max median       max   median\npclass                                \n1       80.0   39.0  512.3292  60.0000\n2       70.0   29.0   73.5000  15.0458\n3       74.0   24.0   69.5500   8.0500\npclass\n1    80.0\n2    70.0\n3    74.0\nName: (age, max), dtype: float64\npclass\n1    60.0000\n2    15.0458\n3     8.0500\nName: (fare, median), dtype: float64\n"
     ]
    }
   ],
   "source": [
    "#your code\n",
    "\n",
    "by_class_group = df_titanic.groupby('pclass')\n",
    "\n",
    "by_class2 = by_class_group[['age','fare']]\n",
    "\n",
    "aggregar = by_class2.agg(['max','median'])\n",
    "print(aggregar)\n",
    "print(aggregar.loc[:, ('age','max')])\n",
    "print(aggregar.loc[:, ('fare','median')])\n"
   ]
  },
  {
   "cell_type": "markdown",
   "metadata": {},
   "source": [
    "22. Print the maximum age in each class from `by_class`"
   ]
  },
  {
   "cell_type": "code",
   "execution_count": 116,
   "metadata": {},
   "outputs": [],
   "source": [
    "#your code\n"
   ]
  },
  {
   "cell_type": "markdown",
   "metadata": {},
   "source": [
    "23. Print the median fare in each class from `by_class`"
   ]
  },
  {
   "cell_type": "code",
   "execution_count": 117,
   "metadata": {},
   "outputs": [],
   "source": [
    "#your code"
   ]
  },
  {
   "cell_type": "markdown",
   "metadata": {},
   "source": [
    "24. Using [`.pivot_table()`](https://pandas.pydata.org/pandas-docs/stable/reference/api/pandas.pivot_table.html) to count how many women or men survived by class, call it `counted`.\n",
    "\n",
    "Don't panic and read the documentation!\n",
    "\n",
    "\n"
   ]
  },
  {
   "cell_type": "code",
   "execution_count": 176,
   "metadata": {},
   "outputs": [
    {
     "output_type": "execute_result",
     "data": {
      "text/plain": [
       "        survived\n",
       "sex             \n",
       "female  0.727468\n",
       "male    0.190985"
      ],
      "text/html": "<div>\n<style scoped>\n    .dataframe tbody tr th:only-of-type {\n        vertical-align: middle;\n    }\n\n    .dataframe tbody tr th {\n        vertical-align: top;\n    }\n\n    .dataframe thead th {\n        text-align: right;\n    }\n</style>\n<table border=\"1\" class=\"dataframe\">\n  <thead>\n    <tr style=\"text-align: right;\">\n      <th></th>\n      <th>survived</th>\n    </tr>\n    <tr>\n      <th>sex</th>\n      <th></th>\n    </tr>\n  </thead>\n  <tbody>\n    <tr>\n      <th>female</th>\n      <td>0.727468</td>\n    </tr>\n    <tr>\n      <th>male</th>\n      <td>0.190985</td>\n    </tr>\n  </tbody>\n</table>\n</div>"
     },
     "metadata": {},
     "execution_count": 176
    }
   ],
   "source": [
    "#your code\n",
    "df_titanic.groupby('sex')[['survived']].mean()"
   ]
  },
  {
   "cell_type": "code",
   "execution_count": 178,
   "metadata": {},
   "outputs": [
    {
     "output_type": "execute_result",
     "data": {
      "text/plain": [
       "pclass         1         2         3\n",
       "sex                                 \n",
       "female  0.965278  0.886792  0.490741\n",
       "male    0.340782  0.146199  0.152130"
      ],
      "text/html": "<div>\n<style scoped>\n    .dataframe tbody tr th:only-of-type {\n        vertical-align: middle;\n    }\n\n    .dataframe tbody tr th {\n        vertical-align: top;\n    }\n\n    .dataframe thead th {\n        text-align: right;\n    }\n</style>\n<table border=\"1\" class=\"dataframe\">\n  <thead>\n    <tr style=\"text-align: right;\">\n      <th>pclass</th>\n      <th>1</th>\n      <th>2</th>\n      <th>3</th>\n    </tr>\n    <tr>\n      <th>sex</th>\n      <th></th>\n      <th></th>\n      <th></th>\n    </tr>\n  </thead>\n  <tbody>\n    <tr>\n      <th>female</th>\n      <td>0.965278</td>\n      <td>0.886792</td>\n      <td>0.490741</td>\n    </tr>\n    <tr>\n      <th>male</th>\n      <td>0.340782</td>\n      <td>0.146199</td>\n      <td>0.152130</td>\n    </tr>\n  </tbody>\n</table>\n</div>"
     },
     "metadata": {},
     "execution_count": 178
    }
   ],
   "source": [
    "df_titanic.pivot_table('survived', index='sex', columns='pclass')"
   ]
  },
  {
   "cell_type": "markdown",
   "metadata": {},
   "source": [
    "25. Add a new column with the sum of survived men and women, call it `counted['total']` \n"
   ]
  },
  {
   "cell_type": "code",
   "execution_count": 187,
   "metadata": {},
   "outputs": [
    {
     "output_type": "execute_result",
     "data": {
      "text/plain": [
       "pclass    1   2    3\n",
       "sex                 \n",
       "female  139  94  106\n",
       "male     61  25   75"
      ],
      "text/html": "<div>\n<style scoped>\n    .dataframe tbody tr th:only-of-type {\n        vertical-align: middle;\n    }\n\n    .dataframe tbody tr th {\n        vertical-align: top;\n    }\n\n    .dataframe thead th {\n        text-align: right;\n    }\n</style>\n<table border=\"1\" class=\"dataframe\">\n  <thead>\n    <tr style=\"text-align: right;\">\n      <th>pclass</th>\n      <th>1</th>\n      <th>2</th>\n      <th>3</th>\n    </tr>\n    <tr>\n      <th>sex</th>\n      <th></th>\n      <th></th>\n      <th></th>\n    </tr>\n  </thead>\n  <tbody>\n    <tr>\n      <th>female</th>\n      <td>139</td>\n      <td>94</td>\n      <td>106</td>\n    </tr>\n    <tr>\n      <th>male</th>\n      <td>61</td>\n      <td>25</td>\n      <td>75</td>\n    </tr>\n  </tbody>\n</table>\n</div>"
     },
     "metadata": {},
     "execution_count": 187
    }
   ],
   "source": [
    "#your code\n",
    "counted = df_titanic.pivot_table('survived', index='sex', columns='pclass', aggfunc='sum')\n",
    "counted"
   ]
  },
  {
   "cell_type": "markdown",
   "metadata": {},
   "source": [
    "26. Sort `counted` by the `'total'` column. In which class the people survived the more?"
   ]
  },
  {
   "cell_type": "code",
   "execution_count": 120,
   "metadata": {},
   "outputs": [],
   "source": [
    "#your code"
   ]
  },
  {
   "cell_type": "markdown",
   "metadata": {},
   "source": [
    "27. Please, show only the rows using a mask with the following conditions: \n",
    "    - They are woman\n",
    "    - From third class\n",
    "    - Younger than 30\n",
    "    - They survived\n",
    "    \n",
    "    ¿How many rows fulfill the condition?"
   ]
  },
  {
   "cell_type": "code",
   "execution_count": 121,
   "metadata": {},
   "outputs": [],
   "source": [
    "#your code"
   ]
  },
  {
   "cell_type": "markdown",
   "metadata": {},
   "source": [
    "28. Now, show only the rows using `.loc` with the following conditions: \n",
    "    - They are man\n",
    "    - From first class\n",
    "    - Older than 50\n",
    "    - They died\n",
    "    \n",
    "    ¿How many rows fulfill the condition?"
   ]
  },
  {
   "cell_type": "code",
   "execution_count": 122,
   "metadata": {},
   "outputs": [],
   "source": [
    "#your code"
   ]
  },
  {
   "cell_type": "markdown",
   "metadata": {},
   "source": [
    "29. Print the uniques values at the column `'name'`"
   ]
  },
  {
   "cell_type": "code",
   "execution_count": 123,
   "metadata": {},
   "outputs": [],
   "source": [
    "#your code"
   ]
  },
  {
   "cell_type": "markdown",
   "metadata": {},
   "source": [
    "30. Find if was there any `name` repeated at the Titanic?\n",
    "\n",
    "Hint: There were two people with the same name, who?"
   ]
  },
  {
   "cell_type": "code",
   "execution_count": 124,
   "metadata": {},
   "outputs": [],
   "source": [
    "#your code"
   ]
  },
  {
   "cell_type": "markdown",
   "metadata": {},
   "source": [
    "31. Well done! You did it! I can tell you are a real master with Pandas. Please, now save the dataframe as a `.csv` since you will use it in a future exercise `Titanic-Visualisation`. The name of the `.csv` you'll generate should be `titanic_cleaned.csv`.\n",
    "\n",
    "Use for that aim the following pandas's method: https://pandas.pydata.org/pandas-docs/stable/reference/api/pandas.DataFrame.to_csv.html\n",
    "\n",
    "Make sure you use the argument `index = False`."
   ]
  },
  {
   "cell_type": "code",
   "execution_count": 125,
   "metadata": {},
   "outputs": [],
   "source": [
    "#your code"
   ]
  }
 ],
 "metadata": {
  "kernelspec": {
   "name": "python374jvsc74a57bd0021d9f4f6a0c9e23e32c4246ac82593951ffad9baab3e58c0c69e8a8c06b339b",
   "display_name": "Python 3.7.4 64-bit"
  },
  "language_info": {
   "codemirror_mode": {
    "name": "ipython",
    "version": 3
   },
   "file_extension": ".py",
   "mimetype": "text/x-python",
   "name": "python",
   "nbconvert_exporter": "python",
   "pygments_lexer": "ipython3",
   "version": "3.7.4"
  },
  "metadata": {
   "interpreter": {
    "hash": "021d9f4f6a0c9e23e32c4246ac82593951ffad9baab3e58c0c69e8a8c06b339b"
   }
  }
 },
 "nbformat": 4,
 "nbformat_minor": 4
}