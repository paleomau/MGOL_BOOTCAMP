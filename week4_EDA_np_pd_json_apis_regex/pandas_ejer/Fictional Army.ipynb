{
 "cells": [
  {
   "cell_type": "markdown",
   "metadata": {},
   "source": [
    "# 02 - Filtering and Sorting Data"
   ]
  },
  {
   "cell_type": "markdown",
   "metadata": {},
   "source": [
    "### Step 1. Import the necessary libraries"
   ]
  },
  {
   "cell_type": "code",
   "execution_count": 2,
   "metadata": {},
   "outputs": [],
   "source": [
    "import pandas as pd"
   ]
  },
  {
   "cell_type": "markdown",
   "metadata": {},
   "source": [
    "### Step 2. This is the data given as a dictionary"
   ]
  },
  {
   "cell_type": "code",
   "execution_count": 4,
   "metadata": {},
   "outputs": [],
   "source": [
    "# Create an example dataframe about a fictional army\n",
    "raw_data = {'regiment': ['Nighthawks', 'Nighthawks', 'Nighthawks', 'Nighthawks', 'Dragoons', 'Dragoons', 'Dragoons', 'Dragoons', 'Scouts', 'Scouts', 'Scouts', 'Scouts'],\n",
    "            'company': ['1st', '1st', '2nd', '2nd', '1st', '1st', '2nd', '2nd','1st', '1st', '2nd', '2nd'],\n",
    "            'deaths': [523, 52, 25, 616, 43, 234, 523, 62, 62, 73, 37, 35],\n",
    "            'battles': [5, 42, 2, 2, 4, 7, 8, 3, 4, 7, 8, 9],\n",
    "            'size': [1045, 957, 1099, 1400, 1592, 1006, 987, 849, 973, 1005, 1099, 1523],\n",
    "            'veterans': [1, 5, 62, 26, 73, 37, 949, 48, 48, 435, 63, 345],\n",
    "            'readiness': [1, 2, 3, 3, 2, 1, 2, 3, 2, 1, 2, 3],\n",
    "            'armored': [1, 0, 1, 1, 0, 1, 0, 1, 0, 0, 1, 1],\n",
    "            'deserters': [4, 24, 31, 2, 3, 4, 24, 31, 2, 3, 2, 3],\n",
    "            'origin': ['Arizona', 'California', 'Texas', 'Florida', 'Maine', 'Iowa', 'Alaska', 'Washington', 'Oregon', 'Wyoming', 'Louisana', 'Georgia']}"
   ]
  },
  {
   "cell_type": "markdown",
   "metadata": {},
   "source": [
    "### Step 3. Create a dataframe and assign it to a variable called army. \n",
    "\n",
    "_**Don't forget to include the columns names in the order presented in the dictionary ('regiment', 'company', 'deaths'...) so that the column index order is consistent with the solutions. If omitted, pandas will order the columns alphabetically.**_"
   ]
  },
  {
   "cell_type": "code",
   "execution_count": 5,
   "metadata": {},
   "outputs": [
    {
     "output_type": "execute_result",
     "data": {
      "text/plain": [
       "      regiment company  deaths  battles  size  veterans  readiness  armored  \\\n",
       "0   Nighthawks     1st     523        5  1045         1          1        1   \n",
       "1   Nighthawks     1st      52       42   957         5          2        0   \n",
       "2   Nighthawks     2nd      25        2  1099        62          3        1   \n",
       "3   Nighthawks     2nd     616        2  1400        26          3        1   \n",
       "4     Dragoons     1st      43        4  1592        73          2        0   \n",
       "5     Dragoons     1st     234        7  1006        37          1        1   \n",
       "6     Dragoons     2nd     523        8   987       949          2        0   \n",
       "7     Dragoons     2nd      62        3   849        48          3        1   \n",
       "8       Scouts     1st      62        4   973        48          2        0   \n",
       "9       Scouts     1st      73        7  1005       435          1        0   \n",
       "10      Scouts     2nd      37        8  1099        63          2        1   \n",
       "11      Scouts     2nd      35        9  1523       345          3        1   \n",
       "\n",
       "    deserters      origin  \n",
       "0           4     Arizona  \n",
       "1          24  California  \n",
       "2          31       Texas  \n",
       "3           2     Florida  \n",
       "4           3       Maine  \n",
       "5           4        Iowa  \n",
       "6          24      Alaska  \n",
       "7          31  Washington  \n",
       "8           2      Oregon  \n",
       "9           3     Wyoming  \n",
       "10          2    Louisana  \n",
       "11          3     Georgia  "
      ],
      "text/html": "<div>\n<style scoped>\n    .dataframe tbody tr th:only-of-type {\n        vertical-align: middle;\n    }\n\n    .dataframe tbody tr th {\n        vertical-align: top;\n    }\n\n    .dataframe thead th {\n        text-align: right;\n    }\n</style>\n<table border=\"1\" class=\"dataframe\">\n  <thead>\n    <tr style=\"text-align: right;\">\n      <th></th>\n      <th>regiment</th>\n      <th>company</th>\n      <th>deaths</th>\n      <th>battles</th>\n      <th>size</th>\n      <th>veterans</th>\n      <th>readiness</th>\n      <th>armored</th>\n      <th>deserters</th>\n      <th>origin</th>\n    </tr>\n  </thead>\n  <tbody>\n    <tr>\n      <th>0</th>\n      <td>Nighthawks</td>\n      <td>1st</td>\n      <td>523</td>\n      <td>5</td>\n      <td>1045</td>\n      <td>1</td>\n      <td>1</td>\n      <td>1</td>\n      <td>4</td>\n      <td>Arizona</td>\n    </tr>\n    <tr>\n      <th>1</th>\n      <td>Nighthawks</td>\n      <td>1st</td>\n      <td>52</td>\n      <td>42</td>\n      <td>957</td>\n      <td>5</td>\n      <td>2</td>\n      <td>0</td>\n      <td>24</td>\n      <td>California</td>\n    </tr>\n    <tr>\n      <th>2</th>\n      <td>Nighthawks</td>\n      <td>2nd</td>\n      <td>25</td>\n      <td>2</td>\n      <td>1099</td>\n      <td>62</td>\n      <td>3</td>\n      <td>1</td>\n      <td>31</td>\n      <td>Texas</td>\n    </tr>\n    <tr>\n      <th>3</th>\n      <td>Nighthawks</td>\n      <td>2nd</td>\n      <td>616</td>\n      <td>2</td>\n      <td>1400</td>\n      <td>26</td>\n      <td>3</td>\n      <td>1</td>\n      <td>2</td>\n      <td>Florida</td>\n    </tr>\n    <tr>\n      <th>4</th>\n      <td>Dragoons</td>\n      <td>1st</td>\n      <td>43</td>\n      <td>4</td>\n      <td>1592</td>\n      <td>73</td>\n      <td>2</td>\n      <td>0</td>\n      <td>3</td>\n      <td>Maine</td>\n    </tr>\n    <tr>\n      <th>5</th>\n      <td>Dragoons</td>\n      <td>1st</td>\n      <td>234</td>\n      <td>7</td>\n      <td>1006</td>\n      <td>37</td>\n      <td>1</td>\n      <td>1</td>\n      <td>4</td>\n      <td>Iowa</td>\n    </tr>\n    <tr>\n      <th>6</th>\n      <td>Dragoons</td>\n      <td>2nd</td>\n      <td>523</td>\n      <td>8</td>\n      <td>987</td>\n      <td>949</td>\n      <td>2</td>\n      <td>0</td>\n      <td>24</td>\n      <td>Alaska</td>\n    </tr>\n    <tr>\n      <th>7</th>\n      <td>Dragoons</td>\n      <td>2nd</td>\n      <td>62</td>\n      <td>3</td>\n      <td>849</td>\n      <td>48</td>\n      <td>3</td>\n      <td>1</td>\n      <td>31</td>\n      <td>Washington</td>\n    </tr>\n    <tr>\n      <th>8</th>\n      <td>Scouts</td>\n      <td>1st</td>\n      <td>62</td>\n      <td>4</td>\n      <td>973</td>\n      <td>48</td>\n      <td>2</td>\n      <td>0</td>\n      <td>2</td>\n      <td>Oregon</td>\n    </tr>\n    <tr>\n      <th>9</th>\n      <td>Scouts</td>\n      <td>1st</td>\n      <td>73</td>\n      <td>7</td>\n      <td>1005</td>\n      <td>435</td>\n      <td>1</td>\n      <td>0</td>\n      <td>3</td>\n      <td>Wyoming</td>\n    </tr>\n    <tr>\n      <th>10</th>\n      <td>Scouts</td>\n      <td>2nd</td>\n      <td>37</td>\n      <td>8</td>\n      <td>1099</td>\n      <td>63</td>\n      <td>2</td>\n      <td>1</td>\n      <td>2</td>\n      <td>Louisana</td>\n    </tr>\n    <tr>\n      <th>11</th>\n      <td>Scouts</td>\n      <td>2nd</td>\n      <td>35</td>\n      <td>9</td>\n      <td>1523</td>\n      <td>345</td>\n      <td>3</td>\n      <td>1</td>\n      <td>3</td>\n      <td>Georgia</td>\n    </tr>\n  </tbody>\n</table>\n</div>"
     },
     "metadata": {},
     "execution_count": 5
    }
   ],
   "source": [
    "army = pd.DataFrame(raw_data)\n",
    "army"
   ]
  },
  {
   "source": [
    "### Step 4. Set the 'origin' colum as the index of the dataframe"
   ],
   "cell_type": "code",
   "metadata": {},
   "execution_count": null,
   "outputs": []
  },
  {
   "cell_type": "code",
   "execution_count": 6,
   "metadata": {},
   "outputs": [
    {
     "output_type": "execute_result",
     "data": {
      "text/plain": [
       "              regiment company  deaths  battles  size  veterans  readiness  \\\n",
       "origin                                                                       \n",
       "Arizona     Nighthawks     1st     523        5  1045         1          1   \n",
       "California  Nighthawks     1st      52       42   957         5          2   \n",
       "Texas       Nighthawks     2nd      25        2  1099        62          3   \n",
       "Florida     Nighthawks     2nd     616        2  1400        26          3   \n",
       "Maine         Dragoons     1st      43        4  1592        73          2   \n",
       "Iowa          Dragoons     1st     234        7  1006        37          1   \n",
       "Alaska        Dragoons     2nd     523        8   987       949          2   \n",
       "Washington    Dragoons     2nd      62        3   849        48          3   \n",
       "Oregon          Scouts     1st      62        4   973        48          2   \n",
       "Wyoming         Scouts     1st      73        7  1005       435          1   \n",
       "Louisana        Scouts     2nd      37        8  1099        63          2   \n",
       "Georgia         Scouts     2nd      35        9  1523       345          3   \n",
       "\n",
       "            armored  deserters  \n",
       "origin                          \n",
       "Arizona           1          4  \n",
       "California        0         24  \n",
       "Texas             1         31  \n",
       "Florida           1          2  \n",
       "Maine             0          3  \n",
       "Iowa              1          4  \n",
       "Alaska            0         24  \n",
       "Washington        1         31  \n",
       "Oregon            0          2  \n",
       "Wyoming           0          3  \n",
       "Louisana          1          2  \n",
       "Georgia           1          3  "
      ],
      "text/html": "<div>\n<style scoped>\n    .dataframe tbody tr th:only-of-type {\n        vertical-align: middle;\n    }\n\n    .dataframe tbody tr th {\n        vertical-align: top;\n    }\n\n    .dataframe thead th {\n        text-align: right;\n    }\n</style>\n<table border=\"1\" class=\"dataframe\">\n  <thead>\n    <tr style=\"text-align: right;\">\n      <th></th>\n      <th>regiment</th>\n      <th>company</th>\n      <th>deaths</th>\n      <th>battles</th>\n      <th>size</th>\n      <th>veterans</th>\n      <th>readiness</th>\n      <th>armored</th>\n      <th>deserters</th>\n    </tr>\n    <tr>\n      <th>origin</th>\n      <th></th>\n      <th></th>\n      <th></th>\n      <th></th>\n      <th></th>\n      <th></th>\n      <th></th>\n      <th></th>\n      <th></th>\n    </tr>\n  </thead>\n  <tbody>\n    <tr>\n      <th>Arizona</th>\n      <td>Nighthawks</td>\n      <td>1st</td>\n      <td>523</td>\n      <td>5</td>\n      <td>1045</td>\n      <td>1</td>\n      <td>1</td>\n      <td>1</td>\n      <td>4</td>\n    </tr>\n    <tr>\n      <th>California</th>\n      <td>Nighthawks</td>\n      <td>1st</td>\n      <td>52</td>\n      <td>42</td>\n      <td>957</td>\n      <td>5</td>\n      <td>2</td>\n      <td>0</td>\n      <td>24</td>\n    </tr>\n    <tr>\n      <th>Texas</th>\n      <td>Nighthawks</td>\n      <td>2nd</td>\n      <td>25</td>\n      <td>2</td>\n      <td>1099</td>\n      <td>62</td>\n      <td>3</td>\n      <td>1</td>\n      <td>31</td>\n    </tr>\n    <tr>\n      <th>Florida</th>\n      <td>Nighthawks</td>\n      <td>2nd</td>\n      <td>616</td>\n      <td>2</td>\n      <td>1400</td>\n      <td>26</td>\n      <td>3</td>\n      <td>1</td>\n      <td>2</td>\n    </tr>\n    <tr>\n      <th>Maine</th>\n      <td>Dragoons</td>\n      <td>1st</td>\n      <td>43</td>\n      <td>4</td>\n      <td>1592</td>\n      <td>73</td>\n      <td>2</td>\n      <td>0</td>\n      <td>3</td>\n    </tr>\n    <tr>\n      <th>Iowa</th>\n      <td>Dragoons</td>\n      <td>1st</td>\n      <td>234</td>\n      <td>7</td>\n      <td>1006</td>\n      <td>37</td>\n      <td>1</td>\n      <td>1</td>\n      <td>4</td>\n    </tr>\n    <tr>\n      <th>Alaska</th>\n      <td>Dragoons</td>\n      <td>2nd</td>\n      <td>523</td>\n      <td>8</td>\n      <td>987</td>\n      <td>949</td>\n      <td>2</td>\n      <td>0</td>\n      <td>24</td>\n    </tr>\n    <tr>\n      <th>Washington</th>\n      <td>Dragoons</td>\n      <td>2nd</td>\n      <td>62</td>\n      <td>3</td>\n      <td>849</td>\n      <td>48</td>\n      <td>3</td>\n      <td>1</td>\n      <td>31</td>\n    </tr>\n    <tr>\n      <th>Oregon</th>\n      <td>Scouts</td>\n      <td>1st</td>\n      <td>62</td>\n      <td>4</td>\n      <td>973</td>\n      <td>48</td>\n      <td>2</td>\n      <td>0</td>\n      <td>2</td>\n    </tr>\n    <tr>\n      <th>Wyoming</th>\n      <td>Scouts</td>\n      <td>1st</td>\n      <td>73</td>\n      <td>7</td>\n      <td>1005</td>\n      <td>435</td>\n      <td>1</td>\n      <td>0</td>\n      <td>3</td>\n    </tr>\n    <tr>\n      <th>Louisana</th>\n      <td>Scouts</td>\n      <td>2nd</td>\n      <td>37</td>\n      <td>8</td>\n      <td>1099</td>\n      <td>63</td>\n      <td>2</td>\n      <td>1</td>\n      <td>2</td>\n    </tr>\n    <tr>\n      <th>Georgia</th>\n      <td>Scouts</td>\n      <td>2nd</td>\n      <td>35</td>\n      <td>9</td>\n      <td>1523</td>\n      <td>345</td>\n      <td>3</td>\n      <td>1</td>\n      <td>3</td>\n    </tr>\n  </tbody>\n</table>\n</div>"
     },
     "metadata": {},
     "execution_count": 6
    }
   ],
   "source": [
    "army.set_index('origin') "
   ]
  },
  {
   "cell_type": "markdown",
   "metadata": {},
   "source": [
    "### Step 5. Print only the column veterans"
   ]
  },
  {
   "cell_type": "code",
   "execution_count": 7,
   "metadata": {},
   "outputs": [
    {
     "output_type": "execute_result",
     "data": {
      "text/plain": [
       "    veterans\n",
       "0          1\n",
       "1          5\n",
       "2         62\n",
       "3         26\n",
       "4         73\n",
       "5         37\n",
       "6        949\n",
       "7         48\n",
       "8         48\n",
       "9        435\n",
       "10        63\n",
       "11       345"
      ],
      "text/html": "<div>\n<style scoped>\n    .dataframe tbody tr th:only-of-type {\n        vertical-align: middle;\n    }\n\n    .dataframe tbody tr th {\n        vertical-align: top;\n    }\n\n    .dataframe thead th {\n        text-align: right;\n    }\n</style>\n<table border=\"1\" class=\"dataframe\">\n  <thead>\n    <tr style=\"text-align: right;\">\n      <th></th>\n      <th>veterans</th>\n    </tr>\n  </thead>\n  <tbody>\n    <tr>\n      <th>0</th>\n      <td>1</td>\n    </tr>\n    <tr>\n      <th>1</th>\n      <td>5</td>\n    </tr>\n    <tr>\n      <th>2</th>\n      <td>62</td>\n    </tr>\n    <tr>\n      <th>3</th>\n      <td>26</td>\n    </tr>\n    <tr>\n      <th>4</th>\n      <td>73</td>\n    </tr>\n    <tr>\n      <th>5</th>\n      <td>37</td>\n    </tr>\n    <tr>\n      <th>6</th>\n      <td>949</td>\n    </tr>\n    <tr>\n      <th>7</th>\n      <td>48</td>\n    </tr>\n    <tr>\n      <th>8</th>\n      <td>48</td>\n    </tr>\n    <tr>\n      <th>9</th>\n      <td>435</td>\n    </tr>\n    <tr>\n      <th>10</th>\n      <td>63</td>\n    </tr>\n    <tr>\n      <th>11</th>\n      <td>345</td>\n    </tr>\n  </tbody>\n</table>\n</div>"
     },
     "metadata": {},
     "execution_count": 7
    }
   ],
   "source": [
    "army[['veterans']]\n"
   ]
  },
  {
   "cell_type": "markdown",
   "metadata": {},
   "source": [
    "### Step 6. Print the columns 'veterans' and 'deaths'"
   ]
  },
  {
   "cell_type": "code",
   "execution_count": 9,
   "metadata": {},
   "outputs": [
    {
     "output_type": "execute_result",
     "data": {
      "text/plain": [
       "    veterans  deaths\n",
       "0          1     523\n",
       "1          5      52\n",
       "2         62      25\n",
       "3         26     616\n",
       "4         73      43\n",
       "5         37     234\n",
       "6        949     523\n",
       "7         48      62\n",
       "8         48      62\n",
       "9        435      73\n",
       "10        63      37\n",
       "11       345      35"
      ],
      "text/html": "<div>\n<style scoped>\n    .dataframe tbody tr th:only-of-type {\n        vertical-align: middle;\n    }\n\n    .dataframe tbody tr th {\n        vertical-align: top;\n    }\n\n    .dataframe thead th {\n        text-align: right;\n    }\n</style>\n<table border=\"1\" class=\"dataframe\">\n  <thead>\n    <tr style=\"text-align: right;\">\n      <th></th>\n      <th>veterans</th>\n      <th>deaths</th>\n    </tr>\n  </thead>\n  <tbody>\n    <tr>\n      <th>0</th>\n      <td>1</td>\n      <td>523</td>\n    </tr>\n    <tr>\n      <th>1</th>\n      <td>5</td>\n      <td>52</td>\n    </tr>\n    <tr>\n      <th>2</th>\n      <td>62</td>\n      <td>25</td>\n    </tr>\n    <tr>\n      <th>3</th>\n      <td>26</td>\n      <td>616</td>\n    </tr>\n    <tr>\n      <th>4</th>\n      <td>73</td>\n      <td>43</td>\n    </tr>\n    <tr>\n      <th>5</th>\n      <td>37</td>\n      <td>234</td>\n    </tr>\n    <tr>\n      <th>6</th>\n      <td>949</td>\n      <td>523</td>\n    </tr>\n    <tr>\n      <th>7</th>\n      <td>48</td>\n      <td>62</td>\n    </tr>\n    <tr>\n      <th>8</th>\n      <td>48</td>\n      <td>62</td>\n    </tr>\n    <tr>\n      <th>9</th>\n      <td>435</td>\n      <td>73</td>\n    </tr>\n    <tr>\n      <th>10</th>\n      <td>63</td>\n      <td>37</td>\n    </tr>\n    <tr>\n      <th>11</th>\n      <td>345</td>\n      <td>35</td>\n    </tr>\n  </tbody>\n</table>\n</div>"
     },
     "metadata": {},
     "execution_count": 9
    }
   ],
   "source": [
    "army[['veterans', 'deaths']]"
   ]
  },
  {
   "cell_type": "markdown",
   "metadata": {},
   "source": [
    "### Step 7. Print the name of all the columns"
   ]
  },
  {
   "cell_type": "code",
   "execution_count": 10,
   "metadata": {},
   "outputs": [
    {
     "output_type": "execute_result",
     "data": {
      "text/plain": [
       "['regiment',\n",
       " 'company',\n",
       " 'deaths',\n",
       " 'battles',\n",
       " 'size',\n",
       " 'veterans',\n",
       " 'readiness',\n",
       " 'armored',\n",
       " 'deserters',\n",
       " 'origin']"
      ]
     },
     "metadata": {},
     "execution_count": 10
    }
   ],
   "source": [
    "list(army.columns.values)"
   ]
  },
  {
   "cell_type": "markdown",
   "metadata": {},
   "source": [
    "### Step 8. Select the 'deaths', 'size' and 'deserters' columns from Maine and Alaska"
   ]
  },
  {
   "cell_type": "code",
   "execution_count": null,
   "metadata": {},
   "outputs": [],
   "source": [
    "#ya me sucedio en otro ejercico, esto no me sale no se por que. El iloc lo entiendo mucho mejor"
   ]
  },
  {
   "cell_type": "markdown",
   "metadata": {},
   "source": [
    "### Step 9. Select the rows 3 to 7 and the columns 3 to 6"
   ]
  },
  {
   "cell_type": "code",
   "execution_count": 11,
   "metadata": {},
   "outputs": [
    {
     "output_type": "execute_result",
     "data": {
      "text/plain": [
       "   battles  size  veterans  readiness\n",
       "3        2  1400        26          3\n",
       "4        4  1592        73          2\n",
       "5        7  1006        37          1\n",
       "6        8   987       949          2\n",
       "7        3   849        48          3"
      ],
      "text/html": "<div>\n<style scoped>\n    .dataframe tbody tr th:only-of-type {\n        vertical-align: middle;\n    }\n\n    .dataframe tbody tr th {\n        vertical-align: top;\n    }\n\n    .dataframe thead th {\n        text-align: right;\n    }\n</style>\n<table border=\"1\" class=\"dataframe\">\n  <thead>\n    <tr style=\"text-align: right;\">\n      <th></th>\n      <th>battles</th>\n      <th>size</th>\n      <th>veterans</th>\n      <th>readiness</th>\n    </tr>\n  </thead>\n  <tbody>\n    <tr>\n      <th>3</th>\n      <td>2</td>\n      <td>1400</td>\n      <td>26</td>\n      <td>3</td>\n    </tr>\n    <tr>\n      <th>4</th>\n      <td>4</td>\n      <td>1592</td>\n      <td>73</td>\n      <td>2</td>\n    </tr>\n    <tr>\n      <th>5</th>\n      <td>7</td>\n      <td>1006</td>\n      <td>37</td>\n      <td>1</td>\n    </tr>\n    <tr>\n      <th>6</th>\n      <td>8</td>\n      <td>987</td>\n      <td>949</td>\n      <td>2</td>\n    </tr>\n    <tr>\n      <th>7</th>\n      <td>3</td>\n      <td>849</td>\n      <td>48</td>\n      <td>3</td>\n    </tr>\n  </tbody>\n</table>\n</div>"
     },
     "metadata": {},
     "execution_count": 11
    }
   ],
   "source": [
    "army.iloc[3:8,3:7]"
   ]
  },
  {
   "cell_type": "markdown",
   "metadata": {},
   "source": [
    "### Step 10. Select every row after the fourth row and all columns"
   ]
  },
  {
   "cell_type": "code",
   "execution_count": 13,
   "metadata": {},
   "outputs": [
    {
     "output_type": "execute_result",
     "data": {
      "text/plain": [
       "    regiment company  deaths  battles  size  veterans  readiness  armored  \\\n",
       "5   Dragoons     1st     234        7  1006        37          1        1   \n",
       "6   Dragoons     2nd     523        8   987       949          2        0   \n",
       "7   Dragoons     2nd      62        3   849        48          3        1   \n",
       "8     Scouts     1st      62        4   973        48          2        0   \n",
       "9     Scouts     1st      73        7  1005       435          1        0   \n",
       "10    Scouts     2nd      37        8  1099        63          2        1   \n",
       "11    Scouts     2nd      35        9  1523       345          3        1   \n",
       "\n",
       "    deserters      origin  \n",
       "5           4        Iowa  \n",
       "6          24      Alaska  \n",
       "7          31  Washington  \n",
       "8           2      Oregon  \n",
       "9           3     Wyoming  \n",
       "10          2    Louisana  \n",
       "11          3     Georgia  "
      ],
      "text/html": "<div>\n<style scoped>\n    .dataframe tbody tr th:only-of-type {\n        vertical-align: middle;\n    }\n\n    .dataframe tbody tr th {\n        vertical-align: top;\n    }\n\n    .dataframe thead th {\n        text-align: right;\n    }\n</style>\n<table border=\"1\" class=\"dataframe\">\n  <thead>\n    <tr style=\"text-align: right;\">\n      <th></th>\n      <th>regiment</th>\n      <th>company</th>\n      <th>deaths</th>\n      <th>battles</th>\n      <th>size</th>\n      <th>veterans</th>\n      <th>readiness</th>\n      <th>armored</th>\n      <th>deserters</th>\n      <th>origin</th>\n    </tr>\n  </thead>\n  <tbody>\n    <tr>\n      <th>5</th>\n      <td>Dragoons</td>\n      <td>1st</td>\n      <td>234</td>\n      <td>7</td>\n      <td>1006</td>\n      <td>37</td>\n      <td>1</td>\n      <td>1</td>\n      <td>4</td>\n      <td>Iowa</td>\n    </tr>\n    <tr>\n      <th>6</th>\n      <td>Dragoons</td>\n      <td>2nd</td>\n      <td>523</td>\n      <td>8</td>\n      <td>987</td>\n      <td>949</td>\n      <td>2</td>\n      <td>0</td>\n      <td>24</td>\n      <td>Alaska</td>\n    </tr>\n    <tr>\n      <th>7</th>\n      <td>Dragoons</td>\n      <td>2nd</td>\n      <td>62</td>\n      <td>3</td>\n      <td>849</td>\n      <td>48</td>\n      <td>3</td>\n      <td>1</td>\n      <td>31</td>\n      <td>Washington</td>\n    </tr>\n    <tr>\n      <th>8</th>\n      <td>Scouts</td>\n      <td>1st</td>\n      <td>62</td>\n      <td>4</td>\n      <td>973</td>\n      <td>48</td>\n      <td>2</td>\n      <td>0</td>\n      <td>2</td>\n      <td>Oregon</td>\n    </tr>\n    <tr>\n      <th>9</th>\n      <td>Scouts</td>\n      <td>1st</td>\n      <td>73</td>\n      <td>7</td>\n      <td>1005</td>\n      <td>435</td>\n      <td>1</td>\n      <td>0</td>\n      <td>3</td>\n      <td>Wyoming</td>\n    </tr>\n    <tr>\n      <th>10</th>\n      <td>Scouts</td>\n      <td>2nd</td>\n      <td>37</td>\n      <td>8</td>\n      <td>1099</td>\n      <td>63</td>\n      <td>2</td>\n      <td>1</td>\n      <td>2</td>\n      <td>Louisana</td>\n    </tr>\n    <tr>\n      <th>11</th>\n      <td>Scouts</td>\n      <td>2nd</td>\n      <td>35</td>\n      <td>9</td>\n      <td>1523</td>\n      <td>345</td>\n      <td>3</td>\n      <td>1</td>\n      <td>3</td>\n      <td>Georgia</td>\n    </tr>\n  </tbody>\n</table>\n</div>"
     },
     "metadata": {},
     "execution_count": 13
    }
   ],
   "source": [
    "army.iloc[5:,:]"
   ]
  },
  {
   "cell_type": "markdown",
   "metadata": {},
   "source": [
    "### Step 11. Select every row up to the 4th row and all columns"
   ]
  },
  {
   "cell_type": "code",
   "execution_count": 15,
   "metadata": {},
   "outputs": [
    {
     "output_type": "execute_result",
     "data": {
      "text/plain": [
       "     regiment company  deaths  battles  size  veterans  readiness  armored  \\\n",
       "0  Nighthawks     1st     523        5  1045         1          1        1   \n",
       "1  Nighthawks     1st      52       42   957         5          2        0   \n",
       "2  Nighthawks     2nd      25        2  1099        62          3        1   \n",
       "3  Nighthawks     2nd     616        2  1400        26          3        1   \n",
       "\n",
       "   deserters      origin  \n",
       "0          4     Arizona  \n",
       "1         24  California  \n",
       "2         31       Texas  \n",
       "3          2     Florida  "
      ],
      "text/html": "<div>\n<style scoped>\n    .dataframe tbody tr th:only-of-type {\n        vertical-align: middle;\n    }\n\n    .dataframe tbody tr th {\n        vertical-align: top;\n    }\n\n    .dataframe thead th {\n        text-align: right;\n    }\n</style>\n<table border=\"1\" class=\"dataframe\">\n  <thead>\n    <tr style=\"text-align: right;\">\n      <th></th>\n      <th>regiment</th>\n      <th>company</th>\n      <th>deaths</th>\n      <th>battles</th>\n      <th>size</th>\n      <th>veterans</th>\n      <th>readiness</th>\n      <th>armored</th>\n      <th>deserters</th>\n      <th>origin</th>\n    </tr>\n  </thead>\n  <tbody>\n    <tr>\n      <th>0</th>\n      <td>Nighthawks</td>\n      <td>1st</td>\n      <td>523</td>\n      <td>5</td>\n      <td>1045</td>\n      <td>1</td>\n      <td>1</td>\n      <td>1</td>\n      <td>4</td>\n      <td>Arizona</td>\n    </tr>\n    <tr>\n      <th>1</th>\n      <td>Nighthawks</td>\n      <td>1st</td>\n      <td>52</td>\n      <td>42</td>\n      <td>957</td>\n      <td>5</td>\n      <td>2</td>\n      <td>0</td>\n      <td>24</td>\n      <td>California</td>\n    </tr>\n    <tr>\n      <th>2</th>\n      <td>Nighthawks</td>\n      <td>2nd</td>\n      <td>25</td>\n      <td>2</td>\n      <td>1099</td>\n      <td>62</td>\n      <td>3</td>\n      <td>1</td>\n      <td>31</td>\n      <td>Texas</td>\n    </tr>\n    <tr>\n      <th>3</th>\n      <td>Nighthawks</td>\n      <td>2nd</td>\n      <td>616</td>\n      <td>2</td>\n      <td>1400</td>\n      <td>26</td>\n      <td>3</td>\n      <td>1</td>\n      <td>2</td>\n      <td>Florida</td>\n    </tr>\n  </tbody>\n</table>\n</div>"
     },
     "metadata": {},
     "execution_count": 15
    }
   ],
   "source": [
    "army.iloc[:4,:]"
   ]
  },
  {
   "cell_type": "markdown",
   "metadata": {},
   "source": [
    "### Step 12. Select the 3rd column up to the 7th column"
   ]
  },
  {
   "cell_type": "code",
   "execution_count": 16,
   "metadata": {},
   "outputs": [
    {
     "output_type": "execute_result",
     "data": {
      "text/plain": [
       "    battles  size  veterans  readiness  armored\n",
       "0         5  1045         1          1        1\n",
       "1        42   957         5          2        0\n",
       "2         2  1099        62          3        1\n",
       "3         2  1400        26          3        1\n",
       "4         4  1592        73          2        0\n",
       "5         7  1006        37          1        1\n",
       "6         8   987       949          2        0\n",
       "7         3   849        48          3        1\n",
       "8         4   973        48          2        0\n",
       "9         7  1005       435          1        0\n",
       "10        8  1099        63          2        1\n",
       "11        9  1523       345          3        1"
      ],
      "text/html": "<div>\n<style scoped>\n    .dataframe tbody tr th:only-of-type {\n        vertical-align: middle;\n    }\n\n    .dataframe tbody tr th {\n        vertical-align: top;\n    }\n\n    .dataframe thead th {\n        text-align: right;\n    }\n</style>\n<table border=\"1\" class=\"dataframe\">\n  <thead>\n    <tr style=\"text-align: right;\">\n      <th></th>\n      <th>battles</th>\n      <th>size</th>\n      <th>veterans</th>\n      <th>readiness</th>\n      <th>armored</th>\n    </tr>\n  </thead>\n  <tbody>\n    <tr>\n      <th>0</th>\n      <td>5</td>\n      <td>1045</td>\n      <td>1</td>\n      <td>1</td>\n      <td>1</td>\n    </tr>\n    <tr>\n      <th>1</th>\n      <td>42</td>\n      <td>957</td>\n      <td>5</td>\n      <td>2</td>\n      <td>0</td>\n    </tr>\n    <tr>\n      <th>2</th>\n      <td>2</td>\n      <td>1099</td>\n      <td>62</td>\n      <td>3</td>\n      <td>1</td>\n    </tr>\n    <tr>\n      <th>3</th>\n      <td>2</td>\n      <td>1400</td>\n      <td>26</td>\n      <td>3</td>\n      <td>1</td>\n    </tr>\n    <tr>\n      <th>4</th>\n      <td>4</td>\n      <td>1592</td>\n      <td>73</td>\n      <td>2</td>\n      <td>0</td>\n    </tr>\n    <tr>\n      <th>5</th>\n      <td>7</td>\n      <td>1006</td>\n      <td>37</td>\n      <td>1</td>\n      <td>1</td>\n    </tr>\n    <tr>\n      <th>6</th>\n      <td>8</td>\n      <td>987</td>\n      <td>949</td>\n      <td>2</td>\n      <td>0</td>\n    </tr>\n    <tr>\n      <th>7</th>\n      <td>3</td>\n      <td>849</td>\n      <td>48</td>\n      <td>3</td>\n      <td>1</td>\n    </tr>\n    <tr>\n      <th>8</th>\n      <td>4</td>\n      <td>973</td>\n      <td>48</td>\n      <td>2</td>\n      <td>0</td>\n    </tr>\n    <tr>\n      <th>9</th>\n      <td>7</td>\n      <td>1005</td>\n      <td>435</td>\n      <td>1</td>\n      <td>0</td>\n    </tr>\n    <tr>\n      <th>10</th>\n      <td>8</td>\n      <td>1099</td>\n      <td>63</td>\n      <td>2</td>\n      <td>1</td>\n    </tr>\n    <tr>\n      <th>11</th>\n      <td>9</td>\n      <td>1523</td>\n      <td>345</td>\n      <td>3</td>\n      <td>1</td>\n    </tr>\n  </tbody>\n</table>\n</div>"
     },
     "metadata": {},
     "execution_count": 16
    }
   ],
   "source": [
    "army.iloc[:,3:8]"
   ]
  },
  {
   "cell_type": "markdown",
   "metadata": {},
   "source": [
    "### Step 13. Select rows where df.deaths is greater than 50"
   ]
  },
  {
   "cell_type": "code",
   "execution_count": 22,
   "metadata": {},
   "outputs": [
    {
     "output_type": "execute_result",
     "data": {
      "text/plain": [
       "     regiment company  deaths  battles  size  veterans  readiness  armored  \\\n",
       "0  Nighthawks     1st     523        5  1045         1          1        1   \n",
       "1  Nighthawks     1st      52       42   957         5          2        0   \n",
       "3  Nighthawks     2nd     616        2  1400        26          3        1   \n",
       "5    Dragoons     1st     234        7  1006        37          1        1   \n",
       "6    Dragoons     2nd     523        8   987       949          2        0   \n",
       "7    Dragoons     2nd      62        3   849        48          3        1   \n",
       "8      Scouts     1st      62        4   973        48          2        0   \n",
       "9      Scouts     1st      73        7  1005       435          1        0   \n",
       "\n",
       "   deserters      origin  \n",
       "0          4     Arizona  \n",
       "1         24  California  \n",
       "3          2     Florida  \n",
       "5          4        Iowa  \n",
       "6         24      Alaska  \n",
       "7         31  Washington  \n",
       "8          2      Oregon  \n",
       "9          3     Wyoming  "
      ],
      "text/html": "<div>\n<style scoped>\n    .dataframe tbody tr th:only-of-type {\n        vertical-align: middle;\n    }\n\n    .dataframe tbody tr th {\n        vertical-align: top;\n    }\n\n    .dataframe thead th {\n        text-align: right;\n    }\n</style>\n<table border=\"1\" class=\"dataframe\">\n  <thead>\n    <tr style=\"text-align: right;\">\n      <th></th>\n      <th>regiment</th>\n      <th>company</th>\n      <th>deaths</th>\n      <th>battles</th>\n      <th>size</th>\n      <th>veterans</th>\n      <th>readiness</th>\n      <th>armored</th>\n      <th>deserters</th>\n      <th>origin</th>\n    </tr>\n  </thead>\n  <tbody>\n    <tr>\n      <th>0</th>\n      <td>Nighthawks</td>\n      <td>1st</td>\n      <td>523</td>\n      <td>5</td>\n      <td>1045</td>\n      <td>1</td>\n      <td>1</td>\n      <td>1</td>\n      <td>4</td>\n      <td>Arizona</td>\n    </tr>\n    <tr>\n      <th>1</th>\n      <td>Nighthawks</td>\n      <td>1st</td>\n      <td>52</td>\n      <td>42</td>\n      <td>957</td>\n      <td>5</td>\n      <td>2</td>\n      <td>0</td>\n      <td>24</td>\n      <td>California</td>\n    </tr>\n    <tr>\n      <th>3</th>\n      <td>Nighthawks</td>\n      <td>2nd</td>\n      <td>616</td>\n      <td>2</td>\n      <td>1400</td>\n      <td>26</td>\n      <td>3</td>\n      <td>1</td>\n      <td>2</td>\n      <td>Florida</td>\n    </tr>\n    <tr>\n      <th>5</th>\n      <td>Dragoons</td>\n      <td>1st</td>\n      <td>234</td>\n      <td>7</td>\n      <td>1006</td>\n      <td>37</td>\n      <td>1</td>\n      <td>1</td>\n      <td>4</td>\n      <td>Iowa</td>\n    </tr>\n    <tr>\n      <th>6</th>\n      <td>Dragoons</td>\n      <td>2nd</td>\n      <td>523</td>\n      <td>8</td>\n      <td>987</td>\n      <td>949</td>\n      <td>2</td>\n      <td>0</td>\n      <td>24</td>\n      <td>Alaska</td>\n    </tr>\n    <tr>\n      <th>7</th>\n      <td>Dragoons</td>\n      <td>2nd</td>\n      <td>62</td>\n      <td>3</td>\n      <td>849</td>\n      <td>48</td>\n      <td>3</td>\n      <td>1</td>\n      <td>31</td>\n      <td>Washington</td>\n    </tr>\n    <tr>\n      <th>8</th>\n      <td>Scouts</td>\n      <td>1st</td>\n      <td>62</td>\n      <td>4</td>\n      <td>973</td>\n      <td>48</td>\n      <td>2</td>\n      <td>0</td>\n      <td>2</td>\n      <td>Oregon</td>\n    </tr>\n    <tr>\n      <th>9</th>\n      <td>Scouts</td>\n      <td>1st</td>\n      <td>73</td>\n      <td>7</td>\n      <td>1005</td>\n      <td>435</td>\n      <td>1</td>\n      <td>0</td>\n      <td>3</td>\n      <td>Wyoming</td>\n    </tr>\n  </tbody>\n</table>\n</div>"
     },
     "metadata": {},
     "execution_count": 22
    }
   ],
   "source": [
    "army[army.deaths > 50]"
   ]
  },
  {
   "cell_type": "markdown",
   "metadata": {},
   "source": [
    "### Step 14. Select rows where df.deaths is greater than 500 or less than 50"
   ]
  },
  {
   "cell_type": "code",
   "execution_count": 25,
   "metadata": {},
   "outputs": [
    {
     "output_type": "error",
     "ename": "ValueError",
     "evalue": "Item wrong length 1 instead of 12.",
     "traceback": [
      "\u001b[1;31m---------------------------------------------------------------------------\u001b[0m",
      "\u001b[1;31mValueError\u001b[0m                                Traceback (most recent call last)",
      "\u001b[1;32m<ipython-input-25-d811de4315d3>\u001b[0m in \u001b[0;36m<module>\u001b[1;34m\u001b[0m\n\u001b[1;32m----> 1\u001b[1;33m \u001b[0marmy\u001b[0m\u001b[1;33m[\u001b[0m\u001b[1;33m[\u001b[0m\u001b[0marmy\u001b[0m\u001b[1;33m.\u001b[0m\u001b[0mdeaths\u001b[0m \u001b[1;33m>\u001b[0m \u001b[1;36m500\u001b[0m\u001b[1;33m]\u001b[0m \u001b[1;32mor\u001b[0m \u001b[1;33m[\u001b[0m\u001b[0marmy\u001b[0m\u001b[1;33m.\u001b[0m\u001b[0mdeaths\u001b[0m \u001b[1;33m<\u001b[0m \u001b[1;36m50\u001b[0m\u001b[1;33m]\u001b[0m\u001b[1;33m]\u001b[0m\u001b[1;33m\u001b[0m\u001b[1;33m\u001b[0m\u001b[0m\n\u001b[0m",
      "\u001b[1;32m~\\AppData\\Local\\Programs\\Python\\Python37\\lib\\site-packages\\pandas\\core\\frame.py\u001b[0m in \u001b[0;36m__getitem__\u001b[1;34m(self, key)\u001b[0m\n\u001b[0;32m   3013\u001b[0m         \u001b[1;31m# Do we have a (boolean) 1d indexer?\u001b[0m\u001b[1;33m\u001b[0m\u001b[1;33m\u001b[0m\u001b[1;33m\u001b[0m\u001b[0m\n\u001b[0;32m   3014\u001b[0m         \u001b[1;32mif\u001b[0m \u001b[0mcom\u001b[0m\u001b[1;33m.\u001b[0m\u001b[0mis_bool_indexer\u001b[0m\u001b[1;33m(\u001b[0m\u001b[0mkey\u001b[0m\u001b[1;33m)\u001b[0m\u001b[1;33m:\u001b[0m\u001b[1;33m\u001b[0m\u001b[1;33m\u001b[0m\u001b[0m\n\u001b[1;32m-> 3015\u001b[1;33m             \u001b[1;32mreturn\u001b[0m \u001b[0mself\u001b[0m\u001b[1;33m.\u001b[0m\u001b[0m_getitem_bool_array\u001b[0m\u001b[1;33m(\u001b[0m\u001b[0mkey\u001b[0m\u001b[1;33m)\u001b[0m\u001b[1;33m\u001b[0m\u001b[1;33m\u001b[0m\u001b[0m\n\u001b[0m\u001b[0;32m   3016\u001b[0m \u001b[1;33m\u001b[0m\u001b[0m\n\u001b[0;32m   3017\u001b[0m         \u001b[1;31m# We are left with two options: a single key, and a collection of keys,\u001b[0m\u001b[1;33m\u001b[0m\u001b[1;33m\u001b[0m\u001b[1;33m\u001b[0m\u001b[0m\n",
      "\u001b[1;32m~\\AppData\\Local\\Programs\\Python\\Python37\\lib\\site-packages\\pandas\\core\\frame.py\u001b[0m in \u001b[0;36m_getitem_bool_array\u001b[1;34m(self, key)\u001b[0m\n\u001b[0;32m   3061\u001b[0m         \u001b[1;32melif\u001b[0m \u001b[0mlen\u001b[0m\u001b[1;33m(\u001b[0m\u001b[0mkey\u001b[0m\u001b[1;33m)\u001b[0m \u001b[1;33m!=\u001b[0m \u001b[0mlen\u001b[0m\u001b[1;33m(\u001b[0m\u001b[0mself\u001b[0m\u001b[1;33m.\u001b[0m\u001b[0mindex\u001b[0m\u001b[1;33m)\u001b[0m\u001b[1;33m:\u001b[0m\u001b[1;33m\u001b[0m\u001b[1;33m\u001b[0m\u001b[0m\n\u001b[0;32m   3062\u001b[0m             raise ValueError(\n\u001b[1;32m-> 3063\u001b[1;33m                 \u001b[1;34mf\"Item wrong length {len(key)} instead of {len(self.index)}.\"\u001b[0m\u001b[1;33m\u001b[0m\u001b[1;33m\u001b[0m\u001b[0m\n\u001b[0m\u001b[0;32m   3064\u001b[0m             )\n\u001b[0;32m   3065\u001b[0m \u001b[1;33m\u001b[0m\u001b[0m\n",
      "\u001b[1;31mValueError\u001b[0m: Item wrong length 1 instead of 12."
     ]
    }
   ],
   "source": [
    "army[[army.deaths > 500] or [army.deaths < 50]]"
   ]
  },
  {
   "cell_type": "code",
   "execution_count": 29,
   "metadata": {},
   "outputs": [
    {
     "output_type": "error",
     "ename": "ValueError",
     "evalue": "The truth value of a DataFrame is ambiguous. Use a.empty, a.bool(), a.item(), a.any() or a.all().",
     "traceback": [
      "\u001b[1;31m---------------------------------------------------------------------------\u001b[0m",
      "\u001b[1;31mValueError\u001b[0m                                Traceback (most recent call last)",
      "\u001b[1;32m<ipython-input-29-d89d5d0e3fbe>\u001b[0m in \u001b[0;36m<module>\u001b[1;34m\u001b[0m\n\u001b[1;32m----> 1\u001b[1;33m \u001b[0mlist\u001b[0m\u001b[1;33m(\u001b[0m\u001b[0marmy\u001b[0m\u001b[1;33m[\u001b[0m\u001b[0marmy\u001b[0m\u001b[1;33m[\u001b[0m\u001b[1;34m'deaths'\u001b[0m\u001b[1;33m]\u001b[0m \u001b[1;33m>\u001b[0m \u001b[1;36m500\u001b[0m\u001b[1;33m]\u001b[0m \u001b[1;32mor\u001b[0m \u001b[0marmy\u001b[0m\u001b[1;33m[\u001b[0m\u001b[0marmy\u001b[0m\u001b[1;33m[\u001b[0m\u001b[1;34m'deaths'\u001b[0m\u001b[1;33m]\u001b[0m \u001b[1;33m<\u001b[0m \u001b[1;36m50\u001b[0m\u001b[1;33m]\u001b[0m\u001b[1;33m)\u001b[0m\u001b[1;33m\u001b[0m\u001b[1;33m\u001b[0m\u001b[0m\n\u001b[0m",
      "\u001b[1;32m~\\AppData\\Local\\Programs\\Python\\Python37\\lib\\site-packages\\pandas\\core\\generic.py\u001b[0m in \u001b[0;36m__nonzero__\u001b[1;34m(self)\u001b[0m\n\u001b[0;32m   1441\u001b[0m     \u001b[1;32mdef\u001b[0m \u001b[0m__nonzero__\u001b[0m\u001b[1;33m(\u001b[0m\u001b[0mself\u001b[0m\u001b[1;33m)\u001b[0m\u001b[1;33m:\u001b[0m\u001b[1;33m\u001b[0m\u001b[1;33m\u001b[0m\u001b[0m\n\u001b[0;32m   1442\u001b[0m         raise ValueError(\n\u001b[1;32m-> 1443\u001b[1;33m             \u001b[1;34mf\"The truth value of a {type(self).__name__} is ambiguous. \"\u001b[0m\u001b[1;33m\u001b[0m\u001b[1;33m\u001b[0m\u001b[0m\n\u001b[0m\u001b[0;32m   1444\u001b[0m             \u001b[1;34m\"Use a.empty, a.bool(), a.item(), a.any() or a.all().\"\u001b[0m\u001b[1;33m\u001b[0m\u001b[1;33m\u001b[0m\u001b[0m\n\u001b[0;32m   1445\u001b[0m         )\n",
      "\u001b[1;31mValueError\u001b[0m: The truth value of a DataFrame is ambiguous. Use a.empty, a.bool(), a.item(), a.any() or a.all()."
     ]
    }
   ],
   "source": [
    "list(army[army['deaths'] > 500] or army[army['deaths'] < 50])"
   ]
  },
  {
   "cell_type": "markdown",
   "metadata": {},
   "source": [
    "### Step 15. Select all the regiments not named \"Dragoons\""
   ]
  },
  {
   "cell_type": "code",
   "execution_count": 30,
   "metadata": {},
   "outputs": [
    {
     "output_type": "execute_result",
     "data": {
      "text/plain": [
       "   regiment company  deaths  battles  size  veterans  readiness  armored  \\\n",
       "4  Dragoons     1st      43        4  1592        73          2        0   \n",
       "5  Dragoons     1st     234        7  1006        37          1        1   \n",
       "6  Dragoons     2nd     523        8   987       949          2        0   \n",
       "7  Dragoons     2nd      62        3   849        48          3        1   \n",
       "\n",
       "   deserters      origin  \n",
       "4          3       Maine  \n",
       "5          4        Iowa  \n",
       "6         24      Alaska  \n",
       "7         31  Washington  "
      ],
      "text/html": "<div>\n<style scoped>\n    .dataframe tbody tr th:only-of-type {\n        vertical-align: middle;\n    }\n\n    .dataframe tbody tr th {\n        vertical-align: top;\n    }\n\n    .dataframe thead th {\n        text-align: right;\n    }\n</style>\n<table border=\"1\" class=\"dataframe\">\n  <thead>\n    <tr style=\"text-align: right;\">\n      <th></th>\n      <th>regiment</th>\n      <th>company</th>\n      <th>deaths</th>\n      <th>battles</th>\n      <th>size</th>\n      <th>veterans</th>\n      <th>readiness</th>\n      <th>armored</th>\n      <th>deserters</th>\n      <th>origin</th>\n    </tr>\n  </thead>\n  <tbody>\n    <tr>\n      <th>4</th>\n      <td>Dragoons</td>\n      <td>1st</td>\n      <td>43</td>\n      <td>4</td>\n      <td>1592</td>\n      <td>73</td>\n      <td>2</td>\n      <td>0</td>\n      <td>3</td>\n      <td>Maine</td>\n    </tr>\n    <tr>\n      <th>5</th>\n      <td>Dragoons</td>\n      <td>1st</td>\n      <td>234</td>\n      <td>7</td>\n      <td>1006</td>\n      <td>37</td>\n      <td>1</td>\n      <td>1</td>\n      <td>4</td>\n      <td>Iowa</td>\n    </tr>\n    <tr>\n      <th>6</th>\n      <td>Dragoons</td>\n      <td>2nd</td>\n      <td>523</td>\n      <td>8</td>\n      <td>987</td>\n      <td>949</td>\n      <td>2</td>\n      <td>0</td>\n      <td>24</td>\n      <td>Alaska</td>\n    </tr>\n    <tr>\n      <th>7</th>\n      <td>Dragoons</td>\n      <td>2nd</td>\n      <td>62</td>\n      <td>3</td>\n      <td>849</td>\n      <td>48</td>\n      <td>3</td>\n      <td>1</td>\n      <td>31</td>\n      <td>Washington</td>\n    </tr>\n  </tbody>\n</table>\n</div>"
     },
     "metadata": {},
     "execution_count": 30
    }
   ],
   "source": [
    "army.loc[army['regiment'] == 'Dragoons']"
   ]
  },
  {
   "cell_type": "markdown",
   "metadata": {},
   "source": [
    "### Step 16. Select the rows called Texas and Arizona"
   ]
  },
  {
   "cell_type": "code",
   "execution_count": 41,
   "metadata": {},
   "outputs": [
    {
     "output_type": "error",
     "ename": "TypeError",
     "evalue": "string indices must be integers",
     "traceback": [
      "\u001b[1;31m---------------------------------------------------------------------------\u001b[0m",
      "\u001b[1;31mTypeError\u001b[0m                                 Traceback (most recent call last)",
      "\u001b[1;32m<ipython-input-41-27f9b4315678>\u001b[0m in \u001b[0;36m<module>\u001b[1;34m\u001b[0m\n\u001b[1;32m----> 1\u001b[1;33m \u001b[0marmy\u001b[0m\u001b[1;33m.\u001b[0m\u001b[0mloc\u001b[0m\u001b[1;33m[\u001b[0m\u001b[1;34m'origin'\u001b[0m\u001b[1;33m[\u001b[0m\u001b[1;34m'Texas'\u001b[0m\u001b[1;33m,\u001b[0m \u001b[1;34m'Arizona'\u001b[0m\u001b[1;33m]\u001b[0m\u001b[1;33m]\u001b[0m\u001b[1;33m\u001b[0m\u001b[1;33m\u001b[0m\u001b[0m\n\u001b[0m\u001b[0;32m      2\u001b[0m \u001b[1;31m#no se hacer esto\u001b[0m\u001b[1;33m\u001b[0m\u001b[1;33m\u001b[0m\u001b[1;33m\u001b[0m\u001b[0m\n",
      "\u001b[1;31mTypeError\u001b[0m: string indices must be integers"
     ]
    }
   ],
   "source": [
    "army.loc['origin'['Texas', 'Arizona']]\n",
    "#no se hacer esto"
   ]
  },
  {
   "cell_type": "markdown",
   "metadata": {},
   "source": [
    "### Step 17. Select the third cell in the row named Arizona"
   ]
  },
  {
   "cell_type": "code",
   "execution_count": 36,
   "metadata": {},
   "outputs": [],
   "source": [
    "#no se hacer esto. es como mezclar loc (busqueda por nombre) con iloc (busqueda por posicion)???"
   ]
  },
  {
   "cell_type": "markdown",
   "metadata": {},
   "source": [
    "### Step 18. Select the third cell down in the column named deaths"
   ]
  },
  {
   "cell_type": "code",
   "execution_count": 37,
   "metadata": {},
   "outputs": [],
   "source": [
    "#no se hacer esto. es como mezclar loc (busqueda por nombre) con iloc (busqueda por posicion)???"
   ]
  },
  {
   "cell_type": "code",
   "execution_count": null,
   "metadata": {},
   "outputs": [],
   "source": []
  }
 ],
 "metadata": {
  "kernelspec": {
   "name": "python374jvsc74a57bd0021d9f4f6a0c9e23e32c4246ac82593951ffad9baab3e58c0c69e8a8c06b339b",
   "display_name": "Python 3.7.4 64-bit"
  },
  "language_info": {
   "codemirror_mode": {
    "name": "ipython",
    "version": 3
   },
   "file_extension": ".py",
   "mimetype": "text/x-python",
   "name": "python",
   "nbconvert_exporter": "python",
   "pygments_lexer": "ipython3",
   "version": "3.7.4"
  },
  "metadata": {
   "interpreter": {
    "hash": "021d9f4f6a0c9e23e32c4246ac82593951ffad9baab3e58c0c69e8a8c06b339b"
   }
  }
 },
 "nbformat": 4,
 "nbformat_minor": 4
}