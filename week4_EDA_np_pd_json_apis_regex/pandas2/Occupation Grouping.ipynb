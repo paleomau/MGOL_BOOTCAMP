{
 "cells": [
  {
   "cell_type": "markdown",
   "metadata": {},
   "source": [
    "# 04 - Grouping"
   ]
  },
  {
   "cell_type": "markdown",
   "metadata": {},
   "source": [
    "### Step 1. Import the necessary libraries"
   ]
  },
  {
   "cell_type": "code",
   "execution_count": 2,
   "metadata": {},
   "outputs": [],
   "source": [
    "import pandas as pd"
   ]
  },
  {
   "cell_type": "markdown",
   "metadata": {},
   "source": [
    "### Step 2. Import the dataset from this [address](https://raw.githubusercontent.com/justmarkham/DAT8/master/data/u.user). "
   ]
  },
  {
   "cell_type": "markdown",
   "metadata": {},
   "source": [
    "### Step 3. Assign it to a variable called users."
   ]
  },
  {
   "cell_type": "code",
   "execution_count": 3,
   "metadata": {},
   "outputs": [
    {
     "output_type": "execute_result",
     "data": {
      "text/plain": [
       "         age gender     occupation zip_code\n",
       "user_id                                    \n",
       "1         24      M     technician    85711\n",
       "2         53      F          other    94043\n",
       "3         23      M         writer    32067\n",
       "4         24      M     technician    43537\n",
       "5         33      F          other    15213\n",
       "...      ...    ...            ...      ...\n",
       "939       26      F        student    33319\n",
       "940       32      M  administrator    02215\n",
       "941       20      M        student    97229\n",
       "942       48      F      librarian    78209\n",
       "943       22      M        student    77841\n",
       "\n",
       "[943 rows x 4 columns]"
      ],
      "text/html": "<div>\n<style scoped>\n    .dataframe tbody tr th:only-of-type {\n        vertical-align: middle;\n    }\n\n    .dataframe tbody tr th {\n        vertical-align: top;\n    }\n\n    .dataframe thead th {\n        text-align: right;\n    }\n</style>\n<table border=\"1\" class=\"dataframe\">\n  <thead>\n    <tr style=\"text-align: right;\">\n      <th></th>\n      <th>age</th>\n      <th>gender</th>\n      <th>occupation</th>\n      <th>zip_code</th>\n    </tr>\n    <tr>\n      <th>user_id</th>\n      <th></th>\n      <th></th>\n      <th></th>\n      <th></th>\n    </tr>\n  </thead>\n  <tbody>\n    <tr>\n      <th>1</th>\n      <td>24</td>\n      <td>M</td>\n      <td>technician</td>\n      <td>85711</td>\n    </tr>\n    <tr>\n      <th>2</th>\n      <td>53</td>\n      <td>F</td>\n      <td>other</td>\n      <td>94043</td>\n    </tr>\n    <tr>\n      <th>3</th>\n      <td>23</td>\n      <td>M</td>\n      <td>writer</td>\n      <td>32067</td>\n    </tr>\n    <tr>\n      <th>4</th>\n      <td>24</td>\n      <td>M</td>\n      <td>technician</td>\n      <td>43537</td>\n    </tr>\n    <tr>\n      <th>5</th>\n      <td>33</td>\n      <td>F</td>\n      <td>other</td>\n      <td>15213</td>\n    </tr>\n    <tr>\n      <th>...</th>\n      <td>...</td>\n      <td>...</td>\n      <td>...</td>\n      <td>...</td>\n    </tr>\n    <tr>\n      <th>939</th>\n      <td>26</td>\n      <td>F</td>\n      <td>student</td>\n      <td>33319</td>\n    </tr>\n    <tr>\n      <th>940</th>\n      <td>32</td>\n      <td>M</td>\n      <td>administrator</td>\n      <td>02215</td>\n    </tr>\n    <tr>\n      <th>941</th>\n      <td>20</td>\n      <td>M</td>\n      <td>student</td>\n      <td>97229</td>\n    </tr>\n    <tr>\n      <th>942</th>\n      <td>48</td>\n      <td>F</td>\n      <td>librarian</td>\n      <td>78209</td>\n    </tr>\n    <tr>\n      <th>943</th>\n      <td>22</td>\n      <td>M</td>\n      <td>student</td>\n      <td>77841</td>\n    </tr>\n  </tbody>\n</table>\n<p>943 rows × 4 columns</p>\n</div>"
     },
     "metadata": {},
     "execution_count": 3
    }
   ],
   "source": [
    "users = pd.read_table('https://raw.githubusercontent.com/justmarkham/DAT8/master/data/u.user', \n",
    "                      sep='|', index_col='user_id')\n",
    "users"
   ]
  },
  {
   "cell_type": "markdown",
   "metadata": {},
   "source": [
    "### Step 4. Discover what is the mean age per occupation"
   ]
  },
  {
   "cell_type": "code",
   "execution_count": 4,
   "metadata": {},
   "outputs": [
    {
     "output_type": "execute_result",
     "data": {
      "text/plain": [
       "occupation\n",
       "administrator    38.746835\n",
       "artist           31.392857\n",
       "doctor           43.571429\n",
       "educator         42.010526\n",
       "engineer         36.388060\n",
       "entertainment    29.222222\n",
       "executive        38.718750\n",
       "healthcare       41.562500\n",
       "homemaker        32.571429\n",
       "lawyer           36.750000\n",
       "librarian        40.000000\n",
       "marketing        37.615385\n",
       "none             26.555556\n",
       "other            34.523810\n",
       "programmer       33.121212\n",
       "retired          63.071429\n",
       "salesman         35.666667\n",
       "scientist        35.548387\n",
       "student          22.081633\n",
       "technician       33.148148\n",
       "writer           36.311111\n",
       "Name: age, dtype: float64"
      ]
     },
     "metadata": {},
     "execution_count": 4
    }
   ],
   "source": [
    "users.groupby('occupation')['age'].mean()"
   ]
  },
  {
   "cell_type": "markdown",
   "metadata": {},
   "source": [
    "### Step 5. Discover the Male ratio per occupation and sort it from the most to the least"
   ]
  },
  {
   "cell_type": "code",
   "execution_count": null,
   "metadata": {},
   "outputs": [],
   "source": []
  },
  {
   "source": [
    "### Step 6. For each occupation, calculate the minimum and maximum ages"
   ],
   "cell_type": "code",
   "metadata": {},
   "execution_count": null,
   "outputs": []
  },
  {
   "cell_type": "code",
   "execution_count": 13,
   "metadata": {
    "jupyter": {
     "outputs_hidden": false
    }
   },
   "outputs": [
    {
     "output_type": "execute_result",
     "data": {
      "text/plain": [
       "               age\n",
       "occupation        \n",
       "administrator   21\n",
       "artist          19\n",
       "doctor          28\n",
       "educator        23\n",
       "engineer        22\n",
       "entertainment   15\n",
       "executive       22\n",
       "healthcare      22\n",
       "homemaker       20\n",
       "lawyer          21\n",
       "librarian       23\n",
       "marketing       24\n",
       "none            11\n",
       "other           13\n",
       "programmer      20\n",
       "retired         51\n",
       "salesman        18\n",
       "scientist       23\n",
       "student          7\n",
       "technician      21\n",
       "writer          18"
      ],
      "text/html": "<div>\n<style scoped>\n    .dataframe tbody tr th:only-of-type {\n        vertical-align: middle;\n    }\n\n    .dataframe tbody tr th {\n        vertical-align: top;\n    }\n\n    .dataframe thead th {\n        text-align: right;\n    }\n</style>\n<table border=\"1\" class=\"dataframe\">\n  <thead>\n    <tr style=\"text-align: right;\">\n      <th></th>\n      <th>age</th>\n    </tr>\n    <tr>\n      <th>occupation</th>\n      <th></th>\n    </tr>\n  </thead>\n  <tbody>\n    <tr>\n      <th>administrator</th>\n      <td>21</td>\n    </tr>\n    <tr>\n      <th>artist</th>\n      <td>19</td>\n    </tr>\n    <tr>\n      <th>doctor</th>\n      <td>28</td>\n    </tr>\n    <tr>\n      <th>educator</th>\n      <td>23</td>\n    </tr>\n    <tr>\n      <th>engineer</th>\n      <td>22</td>\n    </tr>\n    <tr>\n      <th>entertainment</th>\n      <td>15</td>\n    </tr>\n    <tr>\n      <th>executive</th>\n      <td>22</td>\n    </tr>\n    <tr>\n      <th>healthcare</th>\n      <td>22</td>\n    </tr>\n    <tr>\n      <th>homemaker</th>\n      <td>20</td>\n    </tr>\n    <tr>\n      <th>lawyer</th>\n      <td>21</td>\n    </tr>\n    <tr>\n      <th>librarian</th>\n      <td>23</td>\n    </tr>\n    <tr>\n      <th>marketing</th>\n      <td>24</td>\n    </tr>\n    <tr>\n      <th>none</th>\n      <td>11</td>\n    </tr>\n    <tr>\n      <th>other</th>\n      <td>13</td>\n    </tr>\n    <tr>\n      <th>programmer</th>\n      <td>20</td>\n    </tr>\n    <tr>\n      <th>retired</th>\n      <td>51</td>\n    </tr>\n    <tr>\n      <th>salesman</th>\n      <td>18</td>\n    </tr>\n    <tr>\n      <th>scientist</th>\n      <td>23</td>\n    </tr>\n    <tr>\n      <th>student</th>\n      <td>7</td>\n    </tr>\n    <tr>\n      <th>technician</th>\n      <td>21</td>\n    </tr>\n    <tr>\n      <th>writer</th>\n      <td>18</td>\n    </tr>\n  </tbody>\n</table>\n</div>"
     },
     "metadata": {},
     "execution_count": 13
    }
   ],
   "source": [
    "users.groupby('occupation').aggregate('min', 'max') #no se por que no sale el max aqui\n"
   ]
  },
  {
   "cell_type": "code",
   "execution_count": 10,
   "metadata": {},
   "outputs": [
    {
     "output_type": "execute_result",
     "data": {
      "text/plain": [
       "               count       mean        std   min    25%   50%    75%   max\n",
       "occupation                                                                \n",
       "administrator   79.0  38.746835  11.123397  21.0  30.00  37.0  48.00  70.0\n",
       "artist          28.0  31.392857   8.668116  19.0  25.00  30.0  39.00  48.0\n",
       "doctor           7.0  43.571429  12.501428  28.0  35.50  45.0  48.50  64.0\n",
       "educator        95.0  42.010526  10.413264  23.0  33.00  42.0  50.00  63.0\n",
       "engineer        67.0  36.388060  11.199236  22.0  28.00  36.0  43.00  70.0\n",
       "entertainment   18.0  29.222222  10.056052  15.0  23.00  25.0  33.00  50.0\n",
       "executive       32.0  38.718750  10.608075  22.0  31.00  38.5  46.00  69.0\n",
       "healthcare      16.0  41.562500  11.313524  22.0  30.50  44.5  49.25  62.0\n",
       "homemaker        7.0  32.571429  10.737119  20.0  24.50  32.0  38.50  50.0\n",
       "lawyer          12.0  36.750000  10.830303  21.0  28.75  34.0  47.75  53.0\n",
       "librarian       51.0  40.000000  11.023611  23.0  30.00  39.0  49.00  69.0\n",
       "marketing       26.0  37.615385   9.474500  24.0  30.25  36.0  42.50  55.0\n",
       "none             9.0  26.555556  13.757826  11.0  16.00  26.0  33.00  55.0\n",
       "other          105.0  34.523810  10.738227  13.0  26.00  32.0  44.00  64.0\n",
       "programmer      66.0  33.121212   9.624512  20.0  27.00  30.0  38.00  63.0\n",
       "retired         14.0  63.071429   5.757461  51.0  60.00  63.0  67.25  73.0\n",
       "salesman        12.0  35.666667  14.079859  18.0  28.25  34.0  38.25  66.0\n",
       "scientist       31.0  35.548387   7.392964  23.0  30.00  37.0  40.00  55.0\n",
       "student        196.0  22.081633   5.284081   7.0  19.00  21.0  25.00  42.0\n",
       "technician      27.0  33.148148   9.867210  21.0  24.00  30.0  40.00  55.0\n",
       "writer          45.0  36.311111  11.423306  18.0  26.00  36.0  48.00  60.0"
      ],
      "text/html": "<div>\n<style scoped>\n    .dataframe tbody tr th:only-of-type {\n        vertical-align: middle;\n    }\n\n    .dataframe tbody tr th {\n        vertical-align: top;\n    }\n\n    .dataframe thead th {\n        text-align: right;\n    }\n</style>\n<table border=\"1\" class=\"dataframe\">\n  <thead>\n    <tr style=\"text-align: right;\">\n      <th></th>\n      <th>count</th>\n      <th>mean</th>\n      <th>std</th>\n      <th>min</th>\n      <th>25%</th>\n      <th>50%</th>\n      <th>75%</th>\n      <th>max</th>\n    </tr>\n    <tr>\n      <th>occupation</th>\n      <th></th>\n      <th></th>\n      <th></th>\n      <th></th>\n      <th></th>\n      <th></th>\n      <th></th>\n      <th></th>\n    </tr>\n  </thead>\n  <tbody>\n    <tr>\n      <th>administrator</th>\n      <td>79.0</td>\n      <td>38.746835</td>\n      <td>11.123397</td>\n      <td>21.0</td>\n      <td>30.00</td>\n      <td>37.0</td>\n      <td>48.00</td>\n      <td>70.0</td>\n    </tr>\n    <tr>\n      <th>artist</th>\n      <td>28.0</td>\n      <td>31.392857</td>\n      <td>8.668116</td>\n      <td>19.0</td>\n      <td>25.00</td>\n      <td>30.0</td>\n      <td>39.00</td>\n      <td>48.0</td>\n    </tr>\n    <tr>\n      <th>doctor</th>\n      <td>7.0</td>\n      <td>43.571429</td>\n      <td>12.501428</td>\n      <td>28.0</td>\n      <td>35.50</td>\n      <td>45.0</td>\n      <td>48.50</td>\n      <td>64.0</td>\n    </tr>\n    <tr>\n      <th>educator</th>\n      <td>95.0</td>\n      <td>42.010526</td>\n      <td>10.413264</td>\n      <td>23.0</td>\n      <td>33.00</td>\n      <td>42.0</td>\n      <td>50.00</td>\n      <td>63.0</td>\n    </tr>\n    <tr>\n      <th>engineer</th>\n      <td>67.0</td>\n      <td>36.388060</td>\n      <td>11.199236</td>\n      <td>22.0</td>\n      <td>28.00</td>\n      <td>36.0</td>\n      <td>43.00</td>\n      <td>70.0</td>\n    </tr>\n    <tr>\n      <th>entertainment</th>\n      <td>18.0</td>\n      <td>29.222222</td>\n      <td>10.056052</td>\n      <td>15.0</td>\n      <td>23.00</td>\n      <td>25.0</td>\n      <td>33.00</td>\n      <td>50.0</td>\n    </tr>\n    <tr>\n      <th>executive</th>\n      <td>32.0</td>\n      <td>38.718750</td>\n      <td>10.608075</td>\n      <td>22.0</td>\n      <td>31.00</td>\n      <td>38.5</td>\n      <td>46.00</td>\n      <td>69.0</td>\n    </tr>\n    <tr>\n      <th>healthcare</th>\n      <td>16.0</td>\n      <td>41.562500</td>\n      <td>11.313524</td>\n      <td>22.0</td>\n      <td>30.50</td>\n      <td>44.5</td>\n      <td>49.25</td>\n      <td>62.0</td>\n    </tr>\n    <tr>\n      <th>homemaker</th>\n      <td>7.0</td>\n      <td>32.571429</td>\n      <td>10.737119</td>\n      <td>20.0</td>\n      <td>24.50</td>\n      <td>32.0</td>\n      <td>38.50</td>\n      <td>50.0</td>\n    </tr>\n    <tr>\n      <th>lawyer</th>\n      <td>12.0</td>\n      <td>36.750000</td>\n      <td>10.830303</td>\n      <td>21.0</td>\n      <td>28.75</td>\n      <td>34.0</td>\n      <td>47.75</td>\n      <td>53.0</td>\n    </tr>\n    <tr>\n      <th>librarian</th>\n      <td>51.0</td>\n      <td>40.000000</td>\n      <td>11.023611</td>\n      <td>23.0</td>\n      <td>30.00</td>\n      <td>39.0</td>\n      <td>49.00</td>\n      <td>69.0</td>\n    </tr>\n    <tr>\n      <th>marketing</th>\n      <td>26.0</td>\n      <td>37.615385</td>\n      <td>9.474500</td>\n      <td>24.0</td>\n      <td>30.25</td>\n      <td>36.0</td>\n      <td>42.50</td>\n      <td>55.0</td>\n    </tr>\n    <tr>\n      <th>none</th>\n      <td>9.0</td>\n      <td>26.555556</td>\n      <td>13.757826</td>\n      <td>11.0</td>\n      <td>16.00</td>\n      <td>26.0</td>\n      <td>33.00</td>\n      <td>55.0</td>\n    </tr>\n    <tr>\n      <th>other</th>\n      <td>105.0</td>\n      <td>34.523810</td>\n      <td>10.738227</td>\n      <td>13.0</td>\n      <td>26.00</td>\n      <td>32.0</td>\n      <td>44.00</td>\n      <td>64.0</td>\n    </tr>\n    <tr>\n      <th>programmer</th>\n      <td>66.0</td>\n      <td>33.121212</td>\n      <td>9.624512</td>\n      <td>20.0</td>\n      <td>27.00</td>\n      <td>30.0</td>\n      <td>38.00</td>\n      <td>63.0</td>\n    </tr>\n    <tr>\n      <th>retired</th>\n      <td>14.0</td>\n      <td>63.071429</td>\n      <td>5.757461</td>\n      <td>51.0</td>\n      <td>60.00</td>\n      <td>63.0</td>\n      <td>67.25</td>\n      <td>73.0</td>\n    </tr>\n    <tr>\n      <th>salesman</th>\n      <td>12.0</td>\n      <td>35.666667</td>\n      <td>14.079859</td>\n      <td>18.0</td>\n      <td>28.25</td>\n      <td>34.0</td>\n      <td>38.25</td>\n      <td>66.0</td>\n    </tr>\n    <tr>\n      <th>scientist</th>\n      <td>31.0</td>\n      <td>35.548387</td>\n      <td>7.392964</td>\n      <td>23.0</td>\n      <td>30.00</td>\n      <td>37.0</td>\n      <td>40.00</td>\n      <td>55.0</td>\n    </tr>\n    <tr>\n      <th>student</th>\n      <td>196.0</td>\n      <td>22.081633</td>\n      <td>5.284081</td>\n      <td>7.0</td>\n      <td>19.00</td>\n      <td>21.0</td>\n      <td>25.00</td>\n      <td>42.0</td>\n    </tr>\n    <tr>\n      <th>technician</th>\n      <td>27.0</td>\n      <td>33.148148</td>\n      <td>9.867210</td>\n      <td>21.0</td>\n      <td>24.00</td>\n      <td>30.0</td>\n      <td>40.00</td>\n      <td>55.0</td>\n    </tr>\n    <tr>\n      <th>writer</th>\n      <td>45.0</td>\n      <td>36.311111</td>\n      <td>11.423306</td>\n      <td>18.0</td>\n      <td>26.00</td>\n      <td>36.0</td>\n      <td>48.00</td>\n      <td>60.0</td>\n    </tr>\n  </tbody>\n</table>\n</div>"
     },
     "metadata": {},
     "execution_count": 10
    }
   ],
   "source": [
    "users.groupby('occupation')['age'].describe()"
   ]
  },
  {
   "cell_type": "markdown",
   "metadata": {},
   "source": [
    "### Step 7. For each combination of occupation and gender, calculate the mean age"
   ]
  },
  {
   "cell_type": "code",
   "execution_count": 4,
   "metadata": {},
   "outputs": [
    {
     "output_type": "execute_result",
     "data": {
      "text/plain": [
       "occupation     gender\n",
       "administrator  F         40.638889\n",
       "               M         37.162791\n",
       "artist         F         30.307692\n",
       "               M         32.333333\n",
       "doctor         M         43.571429\n",
       "educator       F         39.115385\n",
       "               M         43.101449\n",
       "engineer       F         29.500000\n",
       "               M         36.600000\n",
       "entertainment  F         31.000000\n",
       "               M         29.000000\n",
       "executive      F         44.000000\n",
       "               M         38.172414\n",
       "healthcare     F         39.818182\n",
       "               M         45.400000\n",
       "homemaker      F         34.166667\n",
       "               M         23.000000\n",
       "lawyer         F         39.500000\n",
       "               M         36.200000\n",
       "librarian      F         40.000000\n",
       "               M         40.000000\n",
       "marketing      F         37.200000\n",
       "               M         37.875000\n",
       "none           F         36.500000\n",
       "               M         18.600000\n",
       "other          F         35.472222\n",
       "               M         34.028986\n",
       "programmer     F         32.166667\n",
       "               M         33.216667\n",
       "retired        F         70.000000\n",
       "               M         62.538462\n",
       "salesman       F         27.000000\n",
       "               M         38.555556\n",
       "scientist      F         28.333333\n",
       "               M         36.321429\n",
       "student        F         20.750000\n",
       "               M         22.669118\n",
       "technician     F         38.000000\n",
       "               M         32.961538\n",
       "writer         F         37.631579\n",
       "               M         35.346154\n",
       "Name: age, dtype: float64"
      ]
     },
     "metadata": {},
     "execution_count": 4
    }
   ],
   "source": [
    "users.groupby(['occupation', 'gender'])['age'].mean()"
   ]
  },
  {
   "cell_type": "markdown",
   "metadata": {},
   "source": [
    "### Step 8.  For each occupation present the percentage of women and men"
   ]
  },
  {
   "cell_type": "code",
   "execution_count": 20,
   "metadata": {},
   "outputs": [
    {
     "output_type": "execute_result",
     "data": {
      "text/plain": [
       "<pandas.core.groupby.generic.SeriesGroupBy object at 0x000001711C210988>"
      ]
     },
     "metadata": {},
     "execution_count": 20
    }
   ],
   "source": [
    "users.groupby('occupation')['gender']"
   ]
  },
  {
   "cell_type": "code",
   "execution_count": null,
   "metadata": {},
   "outputs": [],
   "source": []
  }
 ],
 "metadata": {
  "kernelspec": {
   "name": "python374jvsc74a57bd0021d9f4f6a0c9e23e32c4246ac82593951ffad9baab3e58c0c69e8a8c06b339b",
   "display_name": "Python 3.7.4 64-bit"
  },
  "language_info": {
   "codemirror_mode": {
    "name": "ipython",
    "version": 3
   },
   "file_extension": ".py",
   "mimetype": "text/x-python",
   "name": "python",
   "nbconvert_exporter": "python",
   "pygments_lexer": "ipython3",
   "version": "3.7.4"
  },
  "metadata": {
   "interpreter": {
    "hash": "021d9f4f6a0c9e23e32c4246ac82593951ffad9baab3e58c0c69e8a8c06b339b"
   }
  }
 },
 "nbformat": 4,
 "nbformat_minor": 4
}